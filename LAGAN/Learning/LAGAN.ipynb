{
  "nbformat": 4,
  "nbformat_minor": 0,
  "metadata": {
    "colab": {
      "name": "LAGAN",
      "provenance": [],
      "collapsed_sections": []
    },
    "kernelspec": {
      "name": "python3",
      "display_name": "Python 3"
    }
  },
  "cells": [
    {
      "cell_type": "markdown",
      "metadata": {
        "id": "fWD81FyPPHRA",
        "colab_type": "text"
      },
      "source": [
        "# Location Aware Generative Advesarial Network"
      ]
    },
    {
      "cell_type": "code",
      "metadata": {
        "id": "ux9gUtZsPLTW",
        "colab_type": "code",
        "colab": {}
      },
      "source": [
        "import torch.nn as nn\n",
        "import torch.nn.functional as F\n",
        "import torch\n",
        "\n",
        "from torch.utils.data import DataLoader\n",
        "from torchvision import datasets\n",
        "from torch.autograd import Variable\n",
        "\n",
        "import torchvision.transforms as transforms\n",
        "from torchvision.utils import save_image"
      ],
      "execution_count": 0,
      "outputs": []
    },
    {
      "cell_type": "code",
      "metadata": {
        "id": "P1D4IvbKhrhr",
        "colab_type": "code",
        "colab": {}
      },
      "source": [
        "import nn_local as nn_"
      ],
      "execution_count": 0,
      "outputs": []
    },
    {
      "cell_type": "markdown",
      "metadata": {
        "id": "JSzd0sxLvFDz",
        "colab_type": "text"
      },
      "source": [
        "### Discriminator"
      ]
    },
    {
      "cell_type": "code",
      "metadata": {
        "id": "74XzvfWXPwSi",
        "colab_type": "code",
        "colab": {}
      },
      "source": [
        "class Discriminator(nn.Module):\n",
        "    def __init__(self, ngpu=1):\n",
        "        super(Discriminator, self).__init__()\n",
        "        self.ngpu = ngpu\n",
        "        self.model = nn.Sequential(\n",
        "                    # Block I\n",
        "                    nn.Conv2d(in_channels=1, out_channels=32, kernel_size=5, padding=2),\n",
        "                    nn.LeakyReLU(negative_slope=0.3, inplace=True),\n",
        "                    nn.Dropout(p=0.2, inplace=True),\n",
        "\n",
        "                    # Block II\n",
        "                    nn.ZeroPad2d(padding=2),\n",
        "                    nn_.Conv2dLocal(in_height=29, in_width=29, in_channels=32, out_channels=8, kernel_size=5, stride=2),\n",
        "                    nn.LeakyReLU(negative_slope=0.3, inplace=True),\n",
        "                    nn.BatchNorm2d(num_features=8, momentum=0.99, eps=1e-3),\n",
        "                    nn.Dropout(p=0.2, inplace=True),\n",
        "\n",
        "                    # Block III\n",
        "                    nn.ZeroPad2d(padding=2),\n",
        "                    nn_.Conv2dLocal(in_height=17, in_width=17, in_channels=8, out_channels=8, kernel_size=5, stride=1),\n",
        "                    nn.LeakyReLU(negative_slope=0.3, inplace=True),\n",
        "                    nn.BatchNorm2d(num_features=8, momentum=0.99, eps=1e-3),\n",
        "                    nn.Dropout(p=0.2, inplace=True),\n",
        "\n",
        "                    # Block IV\n",
        "                    nn.ZeroPad2d(padding=2),\n",
        "                    nn_.Conv2dLocal(in_height=17, in_width=17, in_channels=8, out_channels=8, kernel_size=5, stride=2),\n",
        "                    nn.LeakyReLU(negative_slope=0.3, inplace=True),\n",
        "                    nn.BatchNorm2d(num_features=8, momentum=0.99, eps=1e-3),\n",
        "                    nn.Dropout(p=0.2, inplace=True),\n",
        "\n",
        "                    # Block V\n",
        "                    nn.AvgPool2d(kernel_size=2),\n",
        "                    nn.Flatten()\n",
        "                  )\n",
        "        \n",
        "    def forward(self, input):\n",
        "        if input.is_cuda and self.ngpu > 1:\n",
        "            output = nn.parallel.data_parallel(self.main, input, range(self.ngpu))\n",
        "        else:\n",
        "            output = self.main(input)\n",
        "        return output.view(-1, 1).squeeze(1)"
      ],
      "execution_count": 0,
      "outputs": []
    },
    {
      "cell_type": "code",
      "metadata": {
        "id": "abEt751Ct8hG",
        "colab_type": "code",
        "colab": {}
      },
      "source": [
        ""
      ],
      "execution_count": 0,
      "outputs": []
    }
  ]
}