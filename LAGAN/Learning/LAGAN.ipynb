{
 "cells": [
  {
   "cell_type": "markdown",
   "metadata": {
    "colab_type": "text",
    "id": "fWD81FyPPHRA"
   },
   "source": [
    "# Location Aware Generative Advesarial Network"
   ]
  },
  {
   "cell_type": "code",
   "execution_count": 0,
   "metadata": {
    "colab": {},
    "colab_type": "code",
    "id": "ux9gUtZsPLTW"
   },
   "outputs": [],
   "source": [
    "import torch.nn as nn\n",
    "import torch.nn.functional as F\n",
    "import torch\n",
    "\n",
    "from torch.utils.data import DataLoader\n",
    "from torchvision import datasets\n",
    "from torch.autograd import Variable\n",
    "from torchgan.layers import MinibatchDiscrimination1d\n",
    "\n",
    "import torchvision.transforms as transforms\n",
    "from torchvision.utils import save_image"
   ]
  },
  {
   "cell_type": "code",
   "execution_count": 0,
   "metadata": {
    "colab": {},
    "colab_type": "code",
    "id": "P1D4IvbKhrhr"
   },
   "outputs": [],
   "source": [
    "import nn_local as nn_"
   ]
  },
  {
   "cell_type": "markdown",
   "metadata": {
    "colab_type": "text",
    "id": "JSzd0sxLvFDz"
   },
   "source": [
    "## Discriminator\n",
    "\n",
    "The Discriminator network described in the paper is as follow:<br>\n",
    "<img src=\"Images/Discriminator.PNG\" width=800/>"
   ]
  },
  {
   "cell_type": "code",
   "execution_count": 0,
   "metadata": {
    "colab": {},
    "colab_type": "code",
    "id": "74XzvfWXPwSi"
   },
   "outputs": [],
   "source": [
    "class Discriminator(nn.Module):\n",
    "    def __init__(self, ngpu=1):\n",
    "        super(Discriminator, self).__init__()\n",
    "        \n",
    "        # Base Deep Neural Network\n",
    "        self.common = nn.Sequential(\n",
    "                    # Block I\n",
    "                    nn.Conv2d(in_channels=1, out_channels=32, kernel_size=5, padding=2),\n",
    "                    nn.LeakyReLU(negative_slope=0.3, inplace=True),\n",
    "                    nn.Dropout(p=0.2, inplace=True),\n",
    "\n",
    "                    # Block II\n",
    "                    nn.ZeroPad2d(padding=2),\n",
    "                    nn_.Conv2dLocal(in_height=29, in_width=29, in_channels=32, out_channels=8, kernel_size=5, stride=2),\n",
    "                    nn.LeakyReLU(negative_slope=0.3, inplace=True),\n",
    "                    nn.BatchNorm2d(num_features=8, momentum=0.99, eps=1e-3),\n",
    "                    nn.Dropout(p=0.2, inplace=True),\n",
    "\n",
    "                    # Block III\n",
    "                    nn.ZeroPad2d(padding=2),\n",
    "                    nn_.Conv2dLocal(in_height=17, in_width=17, in_channels=8, out_channels=8, kernel_size=5, stride=1),\n",
    "                    nn.LeakyReLU(negative_slope=0.3, inplace=True),\n",
    "                    nn.BatchNorm2d(num_features=8, momentum=0.99, eps=1e-3),\n",
    "                    nn.Dropout(p=0.2, inplace=True),\n",
    "\n",
    "                    # Block IV\n",
    "                    nn.ZeroPad2d(padding=2),\n",
    "                    nn_.Conv2dLocal(in_height=17, in_width=17, in_channels=8, out_channels=8, kernel_size=5, stride=2),\n",
    "                    nn.LeakyReLU(negative_slope=0.3, inplace=True),\n",
    "                    nn.BatchNorm2d(num_features=8, momentum=0.99, eps=1e-3),\n",
    "                    nn.Dropout(p=0.2, inplace=True),\n",
    "\n",
    "                    # Block V\n",
    "                    nn.AvgPool2d(kernel_size=2),\n",
    "                    nn.Flatten(),\n",
    "\n",
    "                    # Block VI [MinBatchDiscrimination for Mode Collapse Detection]\n",
    "                    MinibatchDiscrimination1d(in_features=72, out_features=20)\n",
    "                  )\n",
    "        \n",
    "        # Auxillary Output\n",
    "        self.auxo = nn.Sequential(\n",
    "                    nn.Linear(in_features=92, out_features=1),\n",
    "                    nn.Sigmoid()\n",
    "                  )\n",
    "        \n",
    "        # Prime Output\n",
    "        self.prim = nn.Sequential(\n",
    "                    nn.Linear(in_features=92, out_features=1),\n",
    "                    nn.Sigmoid()\n",
    "                  )\n",
    "\n",
    "    def forward(self, input):\n",
    "        output = self.common(input)\n",
    "        output = torch.cat([self.prim(output), self.auxo(output)], axis=-1)\n",
    "        return output.squeeze(1)"
   ]
  },
  {
   "cell_type": "markdown",
   "metadata": {
    "colab": {},
    "colab_type": "code",
    "id": "xyGo-DTRiyxo"
   },
   "source": [
    "## Generator\n",
    "\n",
    "The Generator network described in the paper is as follow:<br>\n",
    "<img src=\"Images/Generator.PNG\" width=800/>"
   ]
  },
  {
   "cell_type": "code",
   "execution_count": null,
   "metadata": {},
   "outputs": [],
   "source": [
    "class Generator(nn.Module):\n",
    "    def __init__(self, latent_dim):\n",
    "        super(Generator, self).__init__()\n",
    "\n",
    "        # Base Upscaler Deep Neural Netowrk\n",
    "        self.mstem = nn.Sequential(\n",
    "                      # DCGAN Style Project and Reshaping\n",
    "                      nn.Linear(in_features=latent_dim, out_features=6272),\n",
    "                      nn_Reshape(-1, 128, 7, 7),\n",
    "       \n",
    "                      # Block I\n",
    "                      nn.Conv2d(in_channels=128, out_channels=64, kernel_size=5, padding=2),\n",
    "                      nn.LeakyReLU(negative_slope=0.3, inplace=True),\n",
    "                      nn.BatchNorm2d(num_features=64, momentum=0.99, eps=1e-3),\n",
    "                      nn.UpsamplingNearest2d(scale_factor=2),\n",
    "        \n",
    "                      # Block II\n",
    "                      nn.ZeroPad2d(padding=2),\n",
    "                      nn_.Conv2dLocal(in_height=18, in_width=18, in_channels=64, out_channels=6, kernel_size=5, stride=1),\n",
    "                      nn.LeakyReLU(negative_slope=0.3, inplace=True),\n",
    "                      nn.BatchNorm2d(num_features=6, momentum=0.99, eps=1e-3),\n",
    "                      nn.UpsamplingNearest2d(scale_factor=2),\n",
    "\n",
    "                      # Block III\n",
    "                      nn_.Conv2dLocal(in_height=28, in_width=28, in_channels=6, out_channels=6, kernel_size=3, stride=1),\n",
    "                      nn.LeakyReLU(negative_slope=0.3, inplace=True),\n",
    "\n",
    "                      # Block IV\n",
    "                      nn_.Conv2dLocal(in_height=26, in_width=26, in_channels=6, out_channels=1, kernel_size=2, stride=1),\n",
    "                      nn.ReLU(inplace=True)\n",
    "                  )\n",
    "\n",
    "    def forward(self, input):\n",
    "        return self.mstem(input)"
   ]
  }
 ],
 "metadata": {
  "colab": {
   "collapsed_sections": [],
   "name": "LAGAN",
   "provenance": []
  },
  "kernelspec": {
   "display_name": "Python 3",
   "language": "python",
   "name": "python3"
  },
  "language_info": {
   "codemirror_mode": {
    "name": "ipython",
    "version": 3
   },
   "file_extension": ".py",
   "mimetype": "text/x-python",
   "name": "python",
   "nbconvert_exporter": "python",
   "pygments_lexer": "ipython3",
   "version": "3.6.6"
  }
 },
 "nbformat": 4,
 "nbformat_minor": 1
}
