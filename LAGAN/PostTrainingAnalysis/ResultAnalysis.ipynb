{
 "cells": [
  {
   "cell_type": "markdown",
   "metadata": {
    "colab_type": "text",
    "id": "S7hvFP1xp9Sm"
   },
   "source": [
    "# Post Result Analysis"
   ]
  },
  {
   "cell_type": "code",
   "execution_count": 1,
   "metadata": {
    "colab": {},
    "colab_type": "code",
    "id": "9tl7i_1mp-ft"
   },
   "outputs": [],
   "source": [
    "import numpy as np\n",
    "import matplotlib.pyplot as plt\n",
    "\n",
    "%matplotlib inline"
   ]
  },
  {
   "cell_type": "markdown",
   "metadata": {},
   "source": [
    "**Original Paper's last paragraph of page 8 and the first paragraph of page 9** [here](https://arxiv.org/pdf/1701.05927.pdf#8).<br><br>\n",
    "One of the unique properties of high energy particle physics is that we have a library of useful jet observables that are physically motivated functions $f : \\mathbb{R}^{25×25} → \\mathbb{R}$ whose features are qualitatively (and in some cases, quantitatively) well understood. We can use the distributions of these observables to assess the abilty of the GAN to mimic Pythia. Three such features of a jet image ***$I$*** are the mass ***$m$***, transverse momentum ***$p_{T}$***, and n-subjettiness ***$\\tau_{21}$***:\n",
    "\n",
    "$$p^2_T(I) = \\sum_{i}(I_icos(\\phi_i))^2 + \\sum_{i}(I_isin(\\phi_i))^2$$\n",
    "$$m^2(I) = \\sum_{i}(I_i)^2 - p^2_T(I) - \\sum_{i}(I_isinh(\\eta_i))^2$$\n",
    "$$\\tau_n(I) \\propto \\sum_{i}(I_i)min_i(\\sqrt{(\\eta_i-\\eta_a)^2-(\\phi_i-\\phi_a)^2})$$\n",
    "$$\\tau_{21}(I) = \\frac{\\tau_2(I)}{\\tau_1(I)}$$\n",
    "\n",
    "where ***$I_i$***, ***$\\eta_i$***, and ***$\\phi_i$*** are the pixel intensity, pseudorapidity, and azimuthal angle, respectively. The sums run over the entire image. The quantities $\\eta_a$ and $\\phi_a$ are axis values determined with the one-pass $k_t$ axis selection using the winner-take-all combination scheme."
   ]
  },
  {
   "cell_type": "markdown",
   "metadata": {
    "colab_type": "text",
    "id": "lDYl3YGQqbe0"
   },
   "source": [
    "### Discrete Mass\n",
    "\n",
    "Calculation of the Jet Mass from a Pixelated Jet Image"
   ]
  },
  {
   "cell_type": "code",
   "execution_count": null,
   "metadata": {},
   "outputs": [],
   "source": []
  },
  {
   "cell_type": "markdown",
   "metadata": {
    "colab_type": "text",
    "id": "JrscpNXvqbh-"
   },
   "source": [
    "### Discrete Momentum\n",
    "Calculation of the Jet Momentum from a Pixelated Jet Image"
   ]
  },
  {
   "cell_type": "code",
   "execution_count": null,
   "metadata": {},
   "outputs": [],
   "source": []
  },
  {
   "cell_type": "markdown",
   "metadata": {},
   "source": [
    "### N-subjettiness\n",
    "\n",
    "Calculation of N-subjettiness which is a jet shape designed to identify boosted hadronic objects such as top quarks.[here](https://arxiv.org/abs/1108.2701)"
   ]
  },
  {
   "cell_type": "code",
   "execution_count": null,
   "metadata": {},
   "outputs": [],
   "source": []
  }
 ],
 "metadata": {
  "colab": {
   "name": "ResultAnalysis",
   "provenance": []
  },
  "kernelspec": {
   "display_name": "Python 3",
   "language": "python",
   "name": "python3"
  },
  "language_info": {
   "codemirror_mode": {
    "name": "ipython",
    "version": 3
   },
   "file_extension": ".py",
   "mimetype": "text/x-python",
   "name": "python",
   "nbconvert_exporter": "python",
   "pygments_lexer": "ipython3",
   "version": "3.6.6"
  }
 },
 "nbformat": 4,
 "nbformat_minor": 1
}
