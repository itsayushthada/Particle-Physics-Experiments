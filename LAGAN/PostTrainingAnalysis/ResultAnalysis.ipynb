{
 "cells": [
  {
   "cell_type": "markdown",
   "metadata": {
    "colab_type": "text",
    "id": "S7hvFP1xp9Sm"
   },
   "source": [
    "# Post Result Analysis"
   ]
  },
  {
   "cell_type": "code",
   "execution_count": 1,
   "metadata": {
    "colab": {},
    "colab_type": "code",
    "id": "9tl7i_1mp-ft"
   },
   "outputs": [],
   "source": [
    "import numpy as np\n",
    "from itertools import combinations\n",
    "import matplotlib.pyplot as plt\n",
    "\n",
    "%matplotlib inline"
   ]
  },
  {
   "cell_type": "markdown",
   "metadata": {},
   "source": [
    "**Original Paper's last paragraph of page 8 and the first paragraph of page 9** [here](https://arxiv.org/pdf/1701.05927.pdf#8).<br><br>\n",
    "One of the unique properties of high energy particle physics is that we have a library of useful jet observables that are physically motivated functions $f : \\mathbb{R}^{25×25} → \\mathbb{R}$ whose features are qualitatively (and in some cases, quantitatively) well understood. We can use the distributions of these observables to assess the abilty of the GAN to mimic Pythia. Three such features of a jet image ***$I$*** are the mass ***$m$***, transverse momentum ***$p_{T}$***, and n-subjettiness ***$\\tau_{21}$***:\n",
    "\n",
    "$$p^2_T(I) = (\\sum_{i}I_icos(\\phi_i))^2 + (\\sum_{i}I_isin(\\phi_i))^2$$\n",
    "$$m^2(I) = (\\sum_{i}I_icosh(\\eta_i))^2 - p^2_T(I) - (\\sum_{i}I_isinh(\\eta_i))^2$$\n",
    "$$\\tau_n(I) \\propto \\sum_{i}argmin_a(I_i)*(\\sqrt{(\\eta_i-\\eta_a)^2-(\\phi_i-\\phi_a)^2})$$\n",
    "$$\\tau_{21}(I) = \\frac{\\tau_2(I)}{\\tau_1(I)}$$\n",
    "\n",
    "where ***$I_i$***, ***$\\eta_i$***, and ***$\\phi_i$*** are the pixel intensity, pseudorapidity, and azimuthal angle, respectively. The sums run over the entire image. The quantities $\\eta_a$ and $\\phi_a$ are axis values determined with the one-pass $k_t$ axis selection using the winner-take-all combination scheme."
   ]
  },
  {
   "cell_type": "code",
   "execution_count": 2,
   "metadata": {},
   "outputs": [],
   "source": [
    "grid = 0.5*np.linspace(-1.25, 1.25, 26)[:-1] + np.linspace(-1.25, 1.25, 26)[1:]\n",
    "eta = np.tile(grid, (25, 1))\n",
    "phi = np.tile(grid[::-1].reshape(-1, 1), (1, 25))"
   ]
  },
  {
   "cell_type": "code",
   "execution_count": 3,
   "metadata": {},
   "outputs": [],
   "source": [
    "image = np.abs(np.random.randn(25, 25))"
   ]
  },
  {
   "cell_type": "markdown",
   "metadata": {
    "colab_type": "text",
    "id": "lDYl3YGQqbe0"
   },
   "source": [
    "### Discrete Momentum\n",
    "\n",
    "Calculation of the Jet Momentum from a Pixelated Jet Image"
   ]
  },
  {
   "cell_type": "code",
   "execution_count": 4,
   "metadata": {},
   "outputs": [],
   "source": [
    "def discrete_momentum(img):\n",
    "    '''\n",
    "    Calculates the jet transverse momentum from a pixelated jet image\n",
    "    \n",
    "    Args:\n",
    "    - img: Jet Images in shape (None, 25, 25)\n",
    "    Returns:\n",
    "    - pt_2: Jet Transverse Momentum\n",
    "    '''\n",
    "    P_x = np.sum(img * np.cos(phi), axis=(1, 2))\n",
    "    P_y = np.sum(img * np.sin(phi), axis=(1, 2))\n",
    "    return np.sqrt(np.square(P_x) + np.square(P_y))"
   ]
  },
  {
   "cell_type": "markdown",
   "metadata": {
    "colab_type": "text",
    "id": "JrscpNXvqbh-"
   },
   "source": [
    "### Discrete Mass\n",
    "Calculation of the Jet Mass from a Pixelated Jet Image"
   ]
  },
  {
   "cell_type": "code",
   "execution_count": 5,
   "metadata": {},
   "outputs": [],
   "source": [
    "def discrete_mass(img):\n",
    "    '''\n",
    "    Calculates the jet mass from a pixelated jet image\n",
    "    \n",
    "    Args:\n",
    "    - img: Jet Images in shape (None, 25, 25)\n",
    "    Returns:\n",
    "    - M: Jet Mass\n",
    "    '''\n",
    "    P_x = np.sum(img * np.cos(phi), axis=(1, 2))\n",
    "    P_y = np.sum(img * np.sin(phi), axis=(1, 2))\n",
    "    P_z = np.sum(img * np.sinh(eta), axis=(1, 2))\n",
    "    E   = np.sum(img * np.cosh(eta), axis=(1, 2))\n",
    "    \n",
    "    P_t2 = np.square(P_x) + np.square(P_y)\n",
    "    M_2  = np.square(E) - (P_t2 + np.square(P_z))\n",
    "    \n",
    "    return np.sqrt(M_2)"
   ]
  },
  {
   "cell_type": "markdown",
   "metadata": {},
   "source": [
    "### N-subjettiness\n",
    "\n",
    "Calculation of N-subjettiness which is a jet shape designed to identify boosted hadronic objects such as top quarks.[here](https://arxiv.org/abs/1108.2701)"
   ]
  },
  {
   "cell_type": "code",
   "execution_count": 6,
   "metadata": {},
   "outputs": [],
   "source": [
    "def tau_1(img):\n",
    "    '''\n",
    "    Calculates the normalized Tau_1 from a Pixelated Jet Image\n",
    "    \n",
    "    Args:\n",
    "    - img: Jet Images in shape (None, 25, 25)\n",
    "    Returns:\n",
    "    - Tau: Normalized Jet Tau1\n",
    "    '''\n",
    "    # find coordinate of most energetic pixel\n",
    "    tau1_axis_eta = eta.ravel()[np.argmax(img)]\n",
    "    tau1_axis_phi = phi.ravel()[np.argmax(img)]\n",
    "    \n",
    "    tau1 = np.sum(img * np.sqrt(\n",
    "                                np.square(tau1_axis_eta - eta) +\n",
    "                                np.square(tau1_axis_phi - phi)\n",
    "                               )\n",
    "                  )\n",
    "    return tau1 / np.sum(img, axis=(1,2))"
   ]
  },
  {
   "cell_type": "code",
   "execution_count": 7,
   "metadata": {},
   "outputs": [],
   "source": [
    "def tau_2(img):   \n",
    "    '''\n",
    "    Calculates the normalized Tau_2 from a Pixelated Jet Image\n",
    "    \n",
    "    Args:\n",
    "    - img: Jet Images in shape (None, 25, 25)\n",
    "    Returns:\n",
    "    - Tau: Normalized Jet Tau2\n",
    "    '''\n",
    "    \n",
    "    def tau_2_unit(img):\n",
    "        idx = (img != 0)\n",
    "        proto = np.stack([img[idx], eta[idx], phi[idx]], axis=-1)\n",
    "\n",
    "        while proto.shape[0] > 2:\n",
    "            pair_idx = np.array(list(combinations(range(proto.shape[0]), 2)))\n",
    "\n",
    "            pt__1 = proto[pair_idx[:,0], 0]\n",
    "            eta_1 = proto[pair_idx[:,0], 1]\n",
    "            phi_1 = proto[pair_idx[:,0], 2]\n",
    "\n",
    "            pt__2 = proto[pair_idx[:,1], 0]\n",
    "            eta_2 = proto[pair_idx[:,1], 1]\n",
    "            phi_2 = proto[pair_idx[:,1], 2]\n",
    "\n",
    "            value = np.min([pt__1, pt__2], axis=0) * ((eta_1 - eta_2)**2 + (phi_1 - phi_2)**2)\n",
    "            idx1, idx2 = np.sort(pair_idx[np.argmin(value)])\n",
    "\n",
    "            pt1, eta1, phi1 = proto[idx1]\n",
    "            pt2, eta2, phi2 = proto[idx2]\n",
    "\n",
    "            e1, e2 = (pt1 / np.cosh(eta1)), (pt2 / np.cosh(eta2))\n",
    "            eta_add, pt_add = ((eta1, phi1) if e1 > e2 else (eta2, phi2))\n",
    "            phi_add = (e1 + e2) * np.cosh(eta_add)\n",
    "            proto[idx1] = (pt_add, eta_add, phi_add)\n",
    "\n",
    "            proto = np.delete(proto, idx2, axis=0)\n",
    "\n",
    "        eta1, eta2 = proto[:, 1].tolist()\n",
    "        phi1, phi2 = proto[:, 2].tolist()\n",
    "\n",
    "        grid = np.min([np.sqrt(np.square(eta - eta1) + np.square(phi - phi1)), \n",
    "                       np.sqrt(np.square(eta - eta1) + np.square(phi - phi1))], \n",
    "                      axis=0)\n",
    "\n",
    "        return np.sum(img * grid) / np.sum(img)\n",
    "    \n",
    "    return np.array(list(map(lambda x: tau_2_unit(x), img)))"
   ]
  },
  {
   "cell_type": "code",
   "execution_count": 8,
   "metadata": {},
   "outputs": [],
   "source": [
    "def n_subjettiness(img):   \n",
    "    tau1 = tau_1(img)\n",
    "    tau2 = tau_2(img) + 1e-60\n",
    "    \n",
    "    return tau1/tau2"
   ]
  },
  {
   "cell_type": "code",
   "execution_count": null,
   "metadata": {},
   "outputs": [],
   "source": []
  }
 ],
 "metadata": {
  "@webio": {
   "lastCommId": null,
   "lastKernelId": null
  },
  "colab": {
   "name": "ResultAnalysis",
   "provenance": []
  },
  "kernelspec": {
   "display_name": "Python 3",
   "language": "python",
   "name": "python3"
  },
  "language_info": {
   "codemirror_mode": {
    "name": "ipython",
    "version": 3
   },
   "file_extension": ".py",
   "mimetype": "text/x-python",
   "name": "python",
   "nbconvert_exporter": "python",
   "pygments_lexer": "ipython3",
   "version": "3.6.6"
  }
 },
 "nbformat": 4,
 "nbformat_minor": 1
}
