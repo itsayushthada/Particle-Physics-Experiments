{
  "nbformat": 4,
  "nbformat_minor": 0,
  "metadata": {
    "colab": {
      "name": "EDA.ipynb",
      "provenance": []
    },
    "kernelspec": {
      "name": "python3",
      "display_name": "Python 3"
    }
  },
  "cells": [
    {
      "cell_type": "markdown",
      "metadata": {
        "id": "JR11bCY7mlkX",
        "colab_type": "text"
      },
      "source": [
        "# Download Data"
      ]
    },
    {
      "cell_type": "markdown",
      "metadata": {
        "id": "9CwB1Si9_1jd",
        "colab_type": "text"
      },
      "source": [
        "**Reference Paper** for this project is [here](https://arxiv.org/pdf/1701.05927.pdf.\n",
        "<br>\n",
        "**Data** is available [here](https://zenodo.org/record/269622#.Xkq0-jIzapq)."
      ]
    },
    {
      "cell_type": "code",
      "metadata": {
        "id": "n1FZ1etgmoUW",
        "colab_type": "code",
        "outputId": "923c0eb1-b7b8-4f2f-9091-5ecbfdb1b94c",
        "colab": {
          "base_uri": "https://localhost:8080/",
          "height": 201
        }
      },
      "source": [
        "! wget https://zenodo.org/record/269622/files/jet-images_Mass60-100_pT250-300_R1.25_Pix25.hdf5"
      ],
      "execution_count": 0,
      "outputs": [
        {
          "output_type": "stream",
          "text": [
            "--2020-02-17 14:44:24--  https://zenodo.org/record/269622/files/jet-images_Mass60-100_pT250-300_R1.25_Pix25.hdf5\n",
            "Resolving zenodo.org (zenodo.org)... 188.184.95.95\n",
            "Connecting to zenodo.org (zenodo.org)|188.184.95.95|:443... connected.\n",
            "HTTP request sent, awaiting response... 200 OK\n",
            "Length: 2220068544 (2.1G) [application/octet-stream]\n",
            "Saving to: ‘jet-images_Mass60-100_pT250-300_R1.25_Pix25.hdf5’\n",
            "\n",
            "jet-images_Mass60-1 100%[===================>]   2.07G  9.18MB/s    in 5m 4s   \n",
            "\n",
            "2020-02-17 14:49:30 (6.96 MB/s) - ‘jet-images_Mass60-100_pT250-300_R1.25_Pix25.hdf5’ saved [2220068544/2220068544]\n",
            "\n"
          ],
          "name": "stdout"
        }
      ]
    },
    {
      "cell_type": "markdown",
      "metadata": {
        "id": "-wdU0XHDmorl",
        "colab_type": "text"
      },
      "source": [
        "# Load Data and Libraries\n"
      ]
    },
    {
      "cell_type": "code",
      "metadata": {
        "id": "xfIZ3iI4mo2w",
        "colab_type": "code",
        "colab": {}
      },
      "source": [
        "import numpy as np\n",
        "import pandas as pd\n",
        "import matplotlib.pyplot as plt\n",
        "import h5py"
      ],
      "execution_count": 0,
      "outputs": []
    },
    {
      "cell_type": "code",
      "metadata": {
        "id": "2P_pT473xV9Z",
        "colab_type": "code",
        "colab": {}
      },
      "source": [
        "filename = 'jet-images_Mass60-100_pT250-300_R1.25_Pix25.hdf5'\n",
        "\n",
        "images = 0\n",
        "df = {}\n",
        "\n",
        "with h5py.File(name=filename, mode=\"r\") as f:\n",
        "    for key in f.keys():\n",
        "      if key != \"image\":\n",
        "          df[key] = np.array(f[key])\n",
        "      else:\n",
        "          images = np.array(f[key])\n",
        "f.close()\n",
        "del f"
      ],
      "execution_count": 0,
      "outputs": []
    },
    {
      "cell_type": "markdown",
      "metadata": {
        "id": "p1hX08iI9Bxy",
        "colab_type": "text"
      },
      "source": [
        "Attribute of the dataset are as follow:\n",
        "* **image** : array of dim (872666, 25, 25), contains the pixel intensities of each 25x25 image\n",
        "* **signal** : binary array to identify signal (1, i.e. W boson) vs background (0, i.e. QCD)\n",
        "* **jet_eta**: eta coordinate per jet\n",
        "* **jet_phi**: phi coordinate per jet\n",
        "* **jet_mass**: mass per jet\n",
        "* **jet_pt**: transverse momentum per jet\n",
        "* **jet_delta_R**: distance between leading and subleading subjets if 2 subjets present, else 0\n",
        "* **tau_1, tau_2, tau_3**: substructure variables per jet (a.k.a. n-subjettiness, where n=1, 2, 3)\n",
        "* **tau_21**: tau2/tau1 per jet\n",
        "* **tau_32**: tau3/tau2 per jet\n",
        "\n",
        "Information is taken from [here](https://zenodo.org/record/269622#.Xkq0-jIzapq)."
      ]
    },
    {
      "cell_type": "markdown",
      "metadata": {
        "id": "bnUCNdiR7Wcz",
        "colab_type": "text"
      },
      "source": [
        "# Data Distribution"
      ]
    },
    {
      "cell_type": "code",
      "metadata": {
        "id": "VojYrnbp7jxx",
        "colab_type": "code",
        "colab": {
          "base_uri": "https://localhost:8080/",
          "height": 201
        },
        "outputId": "6c423fb2-5284-4cf3-fb0e-0caa844600d8"
      },
      "source": [
        "# List of Keys of Dataset\n",
        "\n",
        "list(df.keys())"
      ],
      "execution_count": 4,
      "outputs": [
        {
          "output_type": "execute_result",
          "data": {
            "text/plain": [
              "['jet_delta_R',\n",
              " 'jet_eta',\n",
              " 'jet_mass',\n",
              " 'jet_phi',\n",
              " 'jet_pt',\n",
              " 'signal',\n",
              " 'tau_1',\n",
              " 'tau_2',\n",
              " 'tau_21',\n",
              " 'tau_3',\n",
              " 'tau_32']"
            ]
          },
          "metadata": {
            "tags": []
          },
          "execution_count": 4
        }
      ]
    },
    {
      "cell_type": "code",
      "metadata": {
        "id": "Og9vbG2SBv5L",
        "colab_type": "code",
        "colab": {
          "base_uri": "https://localhost:8080/",
          "height": 33
        },
        "outputId": "59bb2834-f1f2-4c6c-9fc3-0a32901e27a2"
      },
      "source": [
        "df[\"tau_1\"].shape"
      ],
      "execution_count": 13,
      "outputs": [
        {
          "output_type": "execute_result",
          "data": {
            "text/plain": [
              "(872666,)"
            ]
          },
          "metadata": {
            "tags": []
          },
          "execution_count": 13
        }
      ]
    },
    {
      "cell_type": "code",
      "metadata": {
        "id": "evJAI28S5ZyS",
        "colab_type": "code",
        "colab": {
          "base_uri": "https://localhost:8080/",
          "height": 716
        },
        "outputId": "0ae16446-a60f-40a1-8bed-b12fa99c0cfa"
      },
      "source": [
        "plt.rcParams[\"figure.figsize\"] = 16, 12\n",
        "plt.subplots_adjust(wspace=0.3, hspace=0.3)\n",
        "weights = np.ones_like(df[\"tau_1\"])/float(len(df[\"tau_1\"]))\n",
        "\n",
        "for idx, key in enumerate(df.keys()):\n",
        "    plt.subplot(4, 3, idx+1)\n",
        "    plt.hist(df[key], weights=weights, bins=20)\n",
        "    plt.title(key.replace(\"_\", \" \").capitalize())\n",
        "plt.show()"
      ],
      "execution_count": 14,
      "outputs": [
        {
          "output_type": "display_data",
          "data": {
            "image/png": "[encoded data removed]",
            "text/plain": [
              "<Figure size 1152x864 with 11 Axes>"
            ]
          },
          "metadata": {
            "tags": []
          }
        }
      ]
    }
  ]
}