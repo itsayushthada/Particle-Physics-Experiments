{
 "cells": [
  {
   "cell_type": "code",
   "execution_count": 1,
   "metadata": {
    "ExecuteTime": {
     "end_time": "2018-05-25T10:37:39.932736Z",
     "start_time": "2018-05-25T10:37:39.920767Z"
    },
    "colab": {},
    "colab_type": "code",
    "id": "UIbfV6292_nr"
   },
   "outputs": [
    {
     "name": "stderr",
     "output_type": "stream",
     "text": [
      "c:\\users\\lenovo\\appdata\\local\\programs\\python\\python36\\lib\\site-packages\\statsmodels\\tools\\_testing.py:19: FutureWarning: pandas.util.testing is deprecated. Use the functions in the public API at pandas.testing instead.\n",
      "  import pandas.util.testing as tm\n"
     ]
    }
   ],
   "source": [
    "import numpy as np\n",
    "import pandas as pd\n",
    "import seaborn as sns\n",
    "import scipy\n",
    "import tables as tb\n",
    "from mpl_toolkits.mplot3d import Axes3D\n",
    "import matplotlib.pyplot as plt\n",
    "\n",
    "%matplotlib inline"
   ]
  },
  {
   "cell_type": "markdown",
   "metadata": {
    "colab_type": "text",
    "id": "UlaZAr522_n1"
   },
   "source": [
    "# Load Datasets"
   ]
  },
  {
   "cell_type": "code",
   "execution_count": null,
   "metadata": {},
   "outputs": [],
   "source": [
    "test_data = pd.read_csv(\"testing_data_transform.csv.gz\", compression=\"gzip\")\n",
    "test_data.head()"
   ]
  },
  {
   "cell_type": "code",
   "execution_count": null,
   "metadata": {},
   "outputs": [],
   "source": [
    "training_data = pd.read_csv(\"training_data_transform.csv.gz\", compression=\"gzip\")\n",
    "training_data.head()"
   ]
  },
  {
   "cell_type": "markdown",
   "metadata": {},
   "source": [
    "# Training Data"
   ]
  },
  {
   "cell_type": "code",
   "execution_count": null,
   "metadata": {},
   "outputs": [],
   "source": [
    "vars = list(set(test_data.columns) - {\"data_ind\", \"index\"})\n",
    "vars"
   ]
  },
  {
   "cell_type": "code",
   "execution_count": 0,
   "metadata": {
    "colab": {},
    "colab_type": "code",
    "id": "Or0YWe0vM1jx"
   },
   "outputs": [],
   "source": [
    "from sklearn.model_selection import train_test_split"
   ]
  },
  {
   "cell_type": "code",
   "execution_count": 0,
   "metadata": {
    "colab": {},
    "colab_type": "code",
    "id": "qU2LTdaVM0_c"
   },
   "outputs": [],
   "source": [
    "X_train, X_valid, y_train, y_valid = train_test_split(train_data[varaibles],\n",
    "                                                        train_data.signal, \n",
    "                                                        test_size=0.10, \n",
    "                                                        random_state=42)"
   ]
  },
  {
   "cell_type": "code",
   "execution_count": null,
   "metadata": {},
   "outputs": [],
   "source": [
    "idx = ~X_train.TX_pair.isna()\n",
    "X_train.loc[~idx, list(set(X_train.columns) - {\"TX\", \"TY\", \"X\", \"Y\", \"Z\"})] = np.random.normal(size=(27876, 10))\n",
    "\n",
    "idx = ~X_valid.TX_pair.isna()\n",
    "X_valid.loc[~idx, list(set(X_valid.columns) - {\"TX\", \"TY\", \"X\", \"Y\", \"Z\"})] = np.random.normal(size=(3208, 10))\n",
    "\n",
    "del idx"
   ]
  },
  {
   "cell_type": "markdown",
   "metadata": {
    "colab_type": "text",
    "id": "JtD_F2p82_o6"
   },
   "source": [
    "# XGBoost Model"
   ]
  },
  {
   "cell_type": "code",
   "execution_count": 0,
   "metadata": {
    "ExecuteTime": {
     "end_time": "2018-05-25T10:42:03.387503Z",
     "start_time": "2018-05-25T10:42:03.231843Z"
    },
    "colab": {},
    "colab_type": "code",
    "id": "uap8SSOi2_o-"
   },
   "outputs": [],
   "source": [
    "import xgboost as xg\n",
    "from xgboost import XGBClassifier\n",
    "from sklearn.model_selection import StratifiedKFold, GridSearchCV"
   ]
  },
  {
   "cell_type": "code",
   "execution_count": 0,
   "metadata": {
    "ExecuteTime": {
     "end_time": "2018-05-25T10:43:30.933842Z",
     "start_time": "2018-05-25T10:43:30.923813Z"
    },
    "colab": {},
    "colab_type": "code",
    "id": "Fco13gac2_pC"
   },
   "outputs": [],
   "source": [
    "param_grid = {\n",
    "        'n_estimators':[10, 20], \n",
    "        'max_depth':[15],\n",
    "}\n",
    "\n",
    "class XGBClassifier_tmp(XGBClassifier):\n",
    "    def predict(self, X):\n",
    "        return XGBClassifier.predict_proba(self, X)[:, 1]\n",
    "\n",
    "clf = GridSearchCV(XGBClassifier_tmp(learning_rate=0.05, \n",
    "                                     subsample=0.8,\n",
    "                                     colsample_bytree=0.8, \n",
    "                                     n_jobs=-1, \n",
    "                                     tree_method='gpu_hist', \n",
    "                                     gpu_id=0,\n",
    "                                     warm_start=True), \n",
    "                   param_grid=param_grid, \n",
    "                   n_jobs=-1,\n",
    "                   scoring='roc_auc',\n",
    "                   verbose=7)"
   ]
  },
  {
   "cell_type": "code",
   "execution_count": 27,
   "metadata": {
    "ExecuteTime": {
     "end_time": "2018-05-25T11:16:11.829817Z",
     "start_time": "2018-05-25T10:43:52.059216Z"
    },
    "colab": {
     "base_uri": "https://localhost:8080/",
     "height": 452
    },
    "colab_type": "code",
    "id": "hnDYBGEO2_pG",
    "outputId": "c4b744e1-a50a-47e2-b255-f7fd57e49916"
   },
   "outputs": [
    {
     "name": "stdout",
     "output_type": "stream",
     "text": [
      "Fitting 5 folds for each of 2 candidates, totalling 10 fits\n"
     ]
    },
    {
     "name": "stderr",
     "output_type": "stream",
     "text": [
      "[Parallel(n_jobs=-1)]: Using backend LokyBackend with 4 concurrent workers.\n",
      "[Parallel(n_jobs=-1)]: Done   5 out of  10 | elapsed: 22.4min remaining: 22.4min\n",
      "[Parallel(n_jobs=-1)]: Done   7 out of  10 | elapsed: 33.2min remaining: 14.2min\n",
      "[Parallel(n_jobs=-1)]: Done  10 out of  10 | elapsed: 43.1min finished\n"
     ]
    },
    {
     "name": "stdout",
     "output_type": "stream",
     "text": [
      "CPU times: user 6min 50s, sys: 4min 39s, total: 11min 29s\n",
      "Wall time: 54min 35s\n"
     ]
    },
    {
     "data": {
      "text/plain": [
       "GridSearchCV(cv=None, error_score=nan,\n",
       "             estimator=XGBClassifier_tmp(base_score=0.5, booster='gbtree',\n",
       "                                         colsample_bylevel=1,\n",
       "                                         colsample_bynode=1,\n",
       "                                         colsample_bytree=0.8, gamma=0,\n",
       "                                         gpu_id=0, learning_rate=0.05,\n",
       "                                         max_delta_step=0, max_depth=3,\n",
       "                                         min_child_weight=1, missing=None,\n",
       "                                         n_estimators=100, n_jobs=-1,\n",
       "                                         nthread=None,\n",
       "                                         objective='binary:logistic',\n",
       "                                         random_state=0, reg_alpha=0,\n",
       "                                         reg_lambda=1, scale_pos_weight=1,\n",
       "                                         seed=None, silent=None, subsample=0.8,\n",
       "                                         tree_method='gpu_hist', verbosity=1),\n",
       "             iid='deprecated', n_jobs=-1,\n",
       "             param_grid={'max_depth': [15], 'n_estimators': [10, 20]},\n",
       "             pre_dispatch='2*n_jobs', refit=True, return_train_score=False,\n",
       "             scoring='roc_auc', verbose=7)"
      ]
     },
     "execution_count": 27,
     "metadata": {
      "tags": []
     },
     "output_type": "execute_result"
    }
   ],
   "source": [
    "%%time\n",
    "\n",
    "clf.fit(X_train, y_train)"
   ]
  },
  {
   "cell_type": "code",
   "execution_count": 28,
   "metadata": {
    "ExecuteTime": {
     "end_time": "2018-05-25T12:55:12.882488Z",
     "start_time": "2018-05-25T12:55:12.874512Z"
    },
    "colab": {
     "base_uri": "https://localhost:8080/",
     "height": 150
    },
    "colab_type": "code",
    "id": "o6dkOioI2_pN",
    "outputId": "bb1a9a23-a20e-498a-b4f4-f29323cad379"
   },
   "outputs": [
    {
     "data": {
      "text/plain": [
       "XGBClassifier_tmp(base_score=0.5, booster='gbtree', colsample_bylevel=1,\n",
       "                  colsample_bynode=1, colsample_bytree=0.8, gamma=0, gpu_id=0,\n",
       "                  learning_rate=0.05, max_delta_step=0, max_depth=15,\n",
       "                  min_child_weight=1, missing=None, n_estimators=20, n_jobs=-1,\n",
       "                  nthread=None, objective='binary:logistic', random_state=0,\n",
       "                  reg_alpha=0, reg_lambda=1, scale_pos_weight=1, seed=None,\n",
       "                  silent=None, subsample=0.8, tree_method='gpu_hist',\n",
       "                  verbosity=1)"
      ]
     },
     "execution_count": 28,
     "metadata": {
      "tags": []
     },
     "output_type": "execute_result"
    }
   ],
   "source": [
    "clf.best_estimator_"
   ]
  },
  {
   "cell_type": "code",
   "execution_count": 0,
   "metadata": {
    "ExecuteTime": {
     "end_time": "2018-05-25T12:55:29.964705Z",
     "start_time": "2018-05-25T12:55:29.952738Z"
    },
    "colab": {},
    "colab_type": "code",
    "id": "VdVBQt312_pS"
   },
   "outputs": [],
   "source": [
    "xgb_class = XGBClassifier_tmp(base_score=0.5, \n",
    "                              booster='gbtree', \n",
    "                              tree_method='gpu_hist', \n",
    "                              gpu_id=0,\n",
    "                              colsample_bylevel=1,\n",
    "                              colsample_bytree=0.8, \n",
    "                              gamma=0, \n",
    "                              learning_rate=0.05,\n",
    "                              max_delta_step=0, \n",
    "                              max_depth=15, \n",
    "                              min_child_weight=1, \n",
    "                              missing=None,\n",
    "                              n_estimators=100, \n",
    "                              nthread=None,\n",
    "                              objective='binary:logistic', \n",
    "                              random_state=0, \n",
    "                              reg_alpha=0,\n",
    "                              reg_lambda=1, \n",
    "                              scale_pos_weight=1, \n",
    "                              seed=None, \n",
    "                              silent=True,\n",
    "                              subsample=0.8, \n",
    "                              n_jobs=-1)"
   ]
  },
  {
   "cell_type": "markdown",
   "metadata": {
    "colab_type": "text",
    "id": "A-RQoVNON4uo"
   },
   "source": [
    "### Validation"
   ]
  },
  {
   "cell_type": "code",
   "execution_count": 0,
   "metadata": {
    "colab": {},
    "colab_type": "code",
    "id": "F5tB1WNyKVpO"
   },
   "outputs": [],
   "source": [
    "import numpy as np\n",
    "import matplotlib.pyplot as plt\n",
    "\n",
    "from sklearn.metrics import accuracy_score, precision_score, recall_score\n",
    "from scikitplot.metrics import plot_confusion_matrix, plot_roc\n",
    "\n",
    "def evaluate_performace(y_true, y_pred, threshold=0.5):\n",
    "    y_probs = np.hstack([1-y_pred.reshape(-1, 1), y_pred.reshape(-1, 1)])\n",
    "    y_pred = y_pred >= threshold\n",
    "    print(\"Accuracy Score: \", accuracy_score(y_true, y_pred))\n",
    "    print(\"Precision Score: \", precision_score(y_true, y_pred))\n",
    "    print(\"Recall Score: \", recall_score(y_true, y_pred))\n",
    "\n",
    "    plot_confusion_matrix(y_true, y_pred, normalize=True, cmap=\"winter\")\n",
    "    plot_roc(y_true, y_probs, classes_to_plot=[0], plot_macro=False, plot_micro=False)\n",
    "    plt.show()"
   ]
  },
  {
   "cell_type": "code",
   "execution_count": 0,
   "metadata": {
    "colab": {},
    "colab_type": "code",
    "id": "femCHZNZJrsh"
   },
   "outputs": [],
   "source": [
    "y_pred = clf.predict(X_valid)"
   ]
  },
  {
   "cell_type": "code",
   "execution_count": 31,
   "metadata": {
    "colab": {
     "base_uri": "https://localhost:8080/",
     "height": 623
    },
    "colab_type": "code",
    "id": "YlsmQVgVYc5z",
    "outputId": "63be7970-2d80-4050-88b5-b77afcc6ba50"
   },
   "outputs": [
    {
     "name": "stdout",
     "output_type": "stream",
     "text": [
      "Accuracy Score:  0.8354126485637042\n",
      "Precision Score:  0.8394096648259574\n",
      "Recall Score:  0.8294819922198015\n"
     ]
    },
    {
     "data": {
      "image/png": "[encoded data removed]",
      "text/plain": [
       "<Figure size 432x288 with 2 Axes>"
      ]
     },
     "metadata": {
      "tags": []
     },
     "output_type": "display_data"
    },
    {
     "data": {
      "image/png": "[encoded data removed]",
      "text/plain": [
       "<Figure size 432x288 with 1 Axes>"
      ]
     },
     "metadata": {
      "tags": []
     },
     "output_type": "display_data"
    }
   ],
   "source": [
    "evaluate_performace(y_valid, y_pred, threshold=0.5)"
   ]
  },
  {
   "cell_type": "markdown",
   "metadata": {
    "colab_type": "text",
    "id": "hAtP2vQl2_pX"
   },
   "source": [
    "# Final Prediction"
   ]
  },
  {
   "cell_type": "code",
   "execution_count": 0,
   "metadata": {
    "colab": {},
    "colab_type": "code",
    "id": "T5Gp7R2DFDgb"
   },
   "outputs": [],
   "source": [
    "clf.fit(X_valid, y_valid)"
   ]
  },
  {
   "cell_type": "code",
   "execution_count": 32,
   "metadata": {
    "ExecuteTime": {
     "end_time": "2018-05-25T12:45:09.640512Z",
     "start_time": "2018-05-25T12:44:32.284005Z"
    },
    "colab": {
     "base_uri": "https://localhost:8080/",
     "height": 204
    },
    "colab_type": "code",
    "id": "3bxfS1Os2_pY",
    "outputId": "88b3cd28-3024-4349-fbe4-80028314419e"
   },
   "outputs": [
    {
     "name": "stderr",
     "output_type": "stream",
     "text": [
      "100%|██████████| 11/11 [00:43<00:00,  3.93s/it]\n",
      "/usr/local/lib/python3.6/dist-packages/ipykernel_launcher.py:26: FutureWarning: Sorting because non-concatenation axis is not aligned. A future version\n",
      "of pandas will change to not sort by default.\n",
      "\n",
      "To accept the future behavior, pass 'sort=False'.\n",
      "\n",
      "To retain the current behavior and silence the warning, pass 'sort=True'.\n",
      "\n"
     ]
    },
    {
     "name": "stdout",
     "output_type": "stream",
     "text": [
      "CPU times: user 49.3 s, sys: 713 ms, total: 50.1 s\n",
      "Wall time: 50 s\n"
     ]
    }
   ],
   "source": [
    "X_test = test_data[vars]"
   ]
  },
  {
   "cell_type": "code",
   "execution_count": 0,
   "metadata": {
    "ExecuteTime": {
     "end_time": "2018-05-25T13:22:37.558756Z",
     "start_time": "2018-05-25T12:56:28.242410Z"
    },
    "colab": {},
    "colab_type": "code",
    "id": "si12cboF2_ph"
   },
   "outputs": [],
   "source": [
    "idx = ~X_test.TX_pair.isna()\n",
    "X_test.loc[~idx, list(set(X_test.columns) - {\"TX\", \"TY\", \"X\", \"Y\", \"Z\"})] = np.random.normal(size=(128639, 10))"
   ]
  },
  {
   "cell_type": "code",
   "execution_count": 0,
   "metadata": {
    "colab": {},
    "colab_type": "code",
    "id": "C-7-2VyuCvcd"
   },
   "outputs": [],
   "source": [
    "probas = clf.predict(X_test, batch_size=5000)"
   ]
  },
  {
   "cell_type": "code",
   "execution_count": 0,
   "metadata": {
    "ExecuteTime": {
     "end_time": "2018-05-25T13:22:41.085261Z",
     "start_time": "2018-05-25T13:22:38.250204Z"
    },
    "colab": {},
    "colab_type": "code",
    "id": "pW30coRF2_pn"
   },
   "outputs": [],
   "source": [
    "df = pd.DataFrame({'id': test_data[\"index\"], 'signal': probas.reshape(-1)}).groupby('id')\n",
    "agg = df.aggregate(('mean')).loc[:, ['signal']]"
   ]
  },
  {
   "cell_type": "code",
   "execution_count": 0,
   "metadata": {
    "ExecuteTime": {
     "end_time": "2018-05-25T13:23:04.590432Z",
     "start_time": "2018-05-25T13:22:42.997011Z"
    },
    "colab": {},
    "colab_type": "code",
    "id": "AMLvD6B82_p2"
   },
   "outputs": [],
   "source": [
    "agg.to_csv('submission.csv.gz', index=True, compression='gzip')"
   ]
  },
  {
   "cell_type": "code",
   "execution_count": null,
   "metadata": {},
   "outputs": [],
   "source": [
    "agg"
   ]
  }
 ],
 "metadata": {
  "accelerator": "GPU",
  "colab": {
   "collapsed_sections": [],
   "machine_shape": "hm",
   "name": "index.ipynb",
   "provenance": [],
   "toc_visible": true
  },
  "hide_input": false,
  "kernelspec": {
   "display_name": "Python 3",
   "language": "python",
   "name": "python3"
  },
  "language_info": {
   "codemirror_mode": {
    "name": "ipython",
    "version": 3
   },
   "file_extension": ".py",
   "mimetype": "text/x-python",
   "name": "python",
   "nbconvert_exporter": "python",
   "pygments_lexer": "ipython3",
   "version": "3.6.6"
  },
  "nbTranslate": {
   "displayLangs": [
    "*"
   ],
   "hotkey": "alt-t",
   "langInMainMenu": true,
   "sourceLang": "en",
   "targetLang": "fr",
   "useGoogleTranslate": true
  },
  "toc": {
   "nav_menu": {},
   "number_sections": true,
   "sideBar": true,
   "skip_h1_title": false,
   "toc_cell": false,
   "toc_position": {},
   "toc_section_display": "block",
   "toc_window_display": false
  },
  "varInspector": {
   "cols": {
    "lenName": 16,
    "lenType": 16,
    "lenVar": 40
   },
   "kernels_config": {
    "python": {
     "delete_cmd_postfix": "",
     "delete_cmd_prefix": "del ",
     "library": "var_list.py",
     "varRefreshCmd": "print(var_dic_list())"
    },
    "r": {
     "delete_cmd_postfix": ") ",
     "delete_cmd_prefix": "rm(",
     "library": "var_list.r",
     "varRefreshCmd": "cat(var_dic_list()) "
    }
   },
   "oldHeight": 122.222222,
   "position": {
    "height": "40px",
    "left": "1362.89px",
    "right": "20px",
    "top": "120px",
    "width": "251px"
   },
   "types_to_exclude": [
    "module",
    "function",
    "builtin_function_or_method",
    "instance",
    "_Feature"
   ],
   "varInspector_section_display": "none",
   "window_display": true
  }
 },
 "nbformat": 4,
 "nbformat_minor": 1
}
