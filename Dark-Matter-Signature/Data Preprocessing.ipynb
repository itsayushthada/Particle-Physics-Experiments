{
 "cells": [
  {
   "cell_type": "code",
   "execution_count": 1,
   "metadata": {
    "ExecuteTime": {
     "end_time": "2018-05-25T10:37:39.932736Z",
     "start_time": "2018-05-25T10:37:39.920767Z"
    },
    "colab": {},
    "colab_type": "code",
    "id": "UIbfV6292_nr"
   },
   "outputs": [],
   "source": [
    "import numpy as np\n",
    "import pandas as pd\n",
    "import tables as tb\n",
    "from sklearn.neighbors import BallTree, KDTree, DistanceMetric\n",
    "from tqdm import tqdm\n",
    "import glob\n",
    "\n",
    "%matplotlib inline"
   ]
  },
  {
   "cell_type": "code",
   "execution_count": 2,
   "metadata": {},
   "outputs": [],
   "source": [
    "import tarfile\n",
    "import gzip\n",
    "import os"
   ]
  },
  {
   "cell_type": "code",
   "execution_count": 3,
   "metadata": {
    "colab": {},
    "colab_type": "code",
    "id": "9oYrdyte4qop"
   },
   "outputs": [],
   "source": [
    "if not os.path.isdir(\"data/training\"):\n",
    "    my_tar = tarfile.open('data/training/training.tgz')\n",
    "    my_tar.extractall('data/') # specify which folder to extract to\n",
    "    my_tar.close()\n",
    "    \n",
    "if not os.path.isdir(\"data/testing\"):\n",
    "    os.system(\"gunzip data/testing/testing.h5.gz - data/testing/testing.h5\")"
   ]
  },
  {
   "cell_type": "markdown",
   "metadata": {},
   "source": [
    "# Grouping Close Tracks from Neighbour Plates into Pairs"
   ]
  },
  {
   "cell_type": "code",
   "execution_count": 4,
   "metadata": {},
   "outputs": [],
   "source": [
    "def add_neighbours(df, k, metric='minkowski'):\n",
    "    res = []\n",
    "    \n",
    "    for data_ind in tqdm(np.unique(df.data_ind)):\n",
    "        ind = df.loc[df.data_ind == data_ind].copy()\n",
    "        # 1293 is the distance between slices along Z.\n",
    "        ind[['TX', 'TY']] *= 1293\n",
    "        values = np.unique(ind.Z)\n",
    "        \n",
    "        for j in range(1, len(values)):\n",
    "            z, z_next = (ind.loc[ind.Z == values[j-1]].copy(),\n",
    "                         ind.loc[ind.Z == values[j]].copy())\n",
    "            \n",
    "            b_tree = BallTree(z_next[feat_XY], metric=metric)\n",
    "            d, i = b_tree.query(z[feat_XY], k=min(k, len(z_next)))\n",
    "            \n",
    "            for m in range(i.shape[1]):\n",
    "                data = z_next.iloc[i[:, m]]\n",
    "                z_copy = z.copy()\n",
    "                for col in feat_XY + ['Z']:\n",
    "                    z_copy[col + '_pair'] = data[col].values\n",
    "                res.append(z_copy)\n",
    "            \n",
    "        res.append(z_next)\n",
    "        \n",
    "    res = pd.concat(res)\n",
    "    for col in feat_XY + ['Z']:\n",
    "        res['d' + col] = res[col].values - res[col + '_pair'].values\n",
    "    return res\n",
    "\n",
    "def balance_train(df, k):\n",
    "    data = add_neighbours(df, k=k)\n",
    "    noise = data.event_id == -999\n",
    "    signal, not_signal = data.loc[np.logical_not(noise)], data.loc[noise]\n",
    "    noise_part = not_signal.sample(len(signal))\n",
    "    return pd.concat([signal, noise_part]).reset_index(drop=True)"
   ]
  },
  {
   "cell_type": "code",
   "execution_count": 5,
   "metadata": {},
   "outputs": [],
   "source": [
    "n_cluster = 3"
   ]
  },
  {
   "cell_type": "code",
   "execution_count": 6,
   "metadata": {},
   "outputs": [],
   "source": [
    "feat_XY = ['TX', 'TY', 'X', 'Y']"
   ]
  },
  {
   "cell_type": "markdown",
   "metadata": {
    "colab_type": "text",
    "id": "UlaZAr522_n1"
   },
   "source": [
    "# Load Datasets"
   ]
  },
  {
   "cell_type": "markdown",
   "metadata": {},
   "source": [
    "### Train Data"
   ]
  },
  {
   "cell_type": "code",
   "execution_count": 7,
   "metadata": {
    "ExecuteTime": {
     "end_time": "2018-05-25T12:31:54.135415Z",
     "start_time": "2018-05-25T12:31:52.494634Z"
    },
    "colab": {},
    "colab_type": "code",
    "id": "5lCM7MEo2_n2"
   },
   "outputs": [
    {
     "name": "stderr",
     "output_type": "stream",
     "text": [
      "100%|█████████████████████████████████████████████████████████████████████████████| 10/10 [01:01<00:00,  6.13s/it]\n",
      "100%|█████████████████████████████████████████████████████████████████████████████| 10/10 [00:55<00:00,  5.58s/it]\n",
      "100%|█████████████████████████████████████████████████████████████████████████████| 10/10 [00:55<00:00,  5.56s/it]\n",
      "100%|█████████████████████████████████████████████████████████████████████████████| 10/10 [00:57<00:00,  5.76s/it]\n",
      "100%|█████████████████████████████████████████████████████████████████████████████| 10/10 [00:56<00:00,  5.67s/it]\n",
      "100%|█████████████████████████████████████████████████████████████████████████████| 10/10 [00:54<00:00,  5.41s/it]\n",
      "100%|█████████████████████████████████████████████████████████████████████████████| 10/10 [00:58<00:00,  5.86s/it]\n",
      "100%|█████████████████████████████████████████████████████████████████████████████| 10/10 [00:56<00:00,  5.62s/it]\n",
      "100%|█████████████████████████████████████████████████████████████████████████████| 10/10 [00:54<00:00,  5.47s/it]\n",
      "100%|█████████████████████████████████████████████████████████████████████████████| 10/10 [01:00<00:00,  6.07s/it]\n"
     ]
    }
   ],
   "source": [
    "train_data = []\n",
    "for file in glob.glob('data/training/open*.h5'):\n",
    "    train_data.append(balance_train(pd.read_hdf(file), k = n_cluster))\n",
    "\n",
    "train_data = pd.concat(train_data)"
   ]
  },
  {
   "cell_type": "code",
   "execution_count": 8,
   "metadata": {},
   "outputs": [],
   "source": [
    "columns = ['TX', 'TY', 'X', 'Y', 'Z', 'event_id', 'signal',\n",
    "           'data_ind', 'TX_pair', 'TY_pair', 'X_pair', 'Y_pair', \n",
    "           'Z_pair', 'dTX', 'dTY', 'dX', 'dY', 'dZ']\n",
    "\n",
    "train_data = train_data[columns]"
   ]
  },
  {
   "cell_type": "code",
   "execution_count": 9,
   "metadata": {},
   "outputs": [
    {
     "data": {
      "text/html": [
       "<div>\n",
       "<style scoped>\n",
       "    .dataframe tbody tr th:only-of-type {\n",
       "        vertical-align: middle;\n",
       "    }\n",
       "\n",
       "    .dataframe tbody tr th {\n",
       "        vertical-align: top;\n",
       "    }\n",
       "\n",
       "    .dataframe thead th {\n",
       "        text-align: right;\n",
       "    }\n",
       "</style>\n",
       "<table border=\"1\" class=\"dataframe\">\n",
       "  <thead>\n",
       "    <tr style=\"text-align: right;\">\n",
       "      <th></th>\n",
       "      <th>TX</th>\n",
       "      <th>TY</th>\n",
       "      <th>X</th>\n",
       "      <th>Y</th>\n",
       "      <th>Z</th>\n",
       "      <th>event_id</th>\n",
       "      <th>signal</th>\n",
       "      <th>data_ind</th>\n",
       "      <th>TX_pair</th>\n",
       "      <th>TY_pair</th>\n",
       "      <th>X_pair</th>\n",
       "      <th>Y_pair</th>\n",
       "      <th>Z_pair</th>\n",
       "      <th>dTX</th>\n",
       "      <th>dTY</th>\n",
       "      <th>dX</th>\n",
       "      <th>dY</th>\n",
       "      <th>dZ</th>\n",
       "    </tr>\n",
       "  </thead>\n",
       "  <tbody>\n",
       "    <tr>\n",
       "      <th>0</th>\n",
       "      <td>-86.840851</td>\n",
       "      <td>92.664032</td>\n",
       "      <td>47257.558594</td>\n",
       "      <td>11238.640625</td>\n",
       "      <td>5172.000000</td>\n",
       "      <td>183825.0</td>\n",
       "      <td>1.0</td>\n",
       "      <td>261</td>\n",
       "      <td>-94.468147</td>\n",
       "      <td>123.360336</td>\n",
       "      <td>47264.585938</td>\n",
       "      <td>11231.140625</td>\n",
       "      <td>5426.527344</td>\n",
       "      <td>7.627296</td>\n",
       "      <td>-30.696304</td>\n",
       "      <td>-7.027344</td>\n",
       "      <td>7.500000</td>\n",
       "      <td>-254.527344</td>\n",
       "    </tr>\n",
       "    <tr>\n",
       "      <th>1</th>\n",
       "      <td>-94.468147</td>\n",
       "      <td>123.360336</td>\n",
       "      <td>47264.585938</td>\n",
       "      <td>11231.140625</td>\n",
       "      <td>5426.527344</td>\n",
       "      <td>183825.0</td>\n",
       "      <td>1.0</td>\n",
       "      <td>261</td>\n",
       "      <td>-89.869354</td>\n",
       "      <td>99.934273</td>\n",
       "      <td>47168.984375</td>\n",
       "      <td>11332.085938</td>\n",
       "      <td>6465.000000</td>\n",
       "      <td>-4.598793</td>\n",
       "      <td>23.426064</td>\n",
       "      <td>95.601562</td>\n",
       "      <td>-100.945312</td>\n",
       "      <td>-1038.472656</td>\n",
       "    </tr>\n",
       "    <tr>\n",
       "      <th>2</th>\n",
       "      <td>-94.468147</td>\n",
       "      <td>123.360336</td>\n",
       "      <td>47264.585938</td>\n",
       "      <td>11231.140625</td>\n",
       "      <td>5426.527344</td>\n",
       "      <td>183825.0</td>\n",
       "      <td>1.0</td>\n",
       "      <td>261</td>\n",
       "      <td>339.412476</td>\n",
       "      <td>69.291908</td>\n",
       "      <td>47322.609375</td>\n",
       "      <td>11128.431641</td>\n",
       "      <td>6465.000000</td>\n",
       "      <td>-433.880615</td>\n",
       "      <td>54.068428</td>\n",
       "      <td>-58.023438</td>\n",
       "      <td>102.708984</td>\n",
       "      <td>-1038.472656</td>\n",
       "    </tr>\n",
       "    <tr>\n",
       "      <th>3</th>\n",
       "      <td>-94.468147</td>\n",
       "      <td>123.360336</td>\n",
       "      <td>47264.585938</td>\n",
       "      <td>11231.140625</td>\n",
       "      <td>5426.527344</td>\n",
       "      <td>183825.0</td>\n",
       "      <td>1.0</td>\n",
       "      <td>261</td>\n",
       "      <td>275.844818</td>\n",
       "      <td>159.851212</td>\n",
       "      <td>46879.843750</td>\n",
       "      <td>11431.775391</td>\n",
       "      <td>6465.000000</td>\n",
       "      <td>-370.312958</td>\n",
       "      <td>-36.490875</td>\n",
       "      <td>384.742188</td>\n",
       "      <td>-200.634766</td>\n",
       "      <td>-1038.472656</td>\n",
       "    </tr>\n",
       "    <tr>\n",
       "      <th>4</th>\n",
       "      <td>-89.869354</td>\n",
       "      <td>99.934273</td>\n",
       "      <td>47168.984375</td>\n",
       "      <td>11332.085938</td>\n",
       "      <td>6465.000000</td>\n",
       "      <td>183825.0</td>\n",
       "      <td>1.0</td>\n",
       "      <td>261</td>\n",
       "      <td>-70.092018</td>\n",
       "      <td>84.584602</td>\n",
       "      <td>47085.210938</td>\n",
       "      <td>11426.468750</td>\n",
       "      <td>7758.000000</td>\n",
       "      <td>-19.777336</td>\n",
       "      <td>15.349670</td>\n",
       "      <td>83.773438</td>\n",
       "      <td>-94.382812</td>\n",
       "      <td>-1293.000000</td>\n",
       "    </tr>\n",
       "  </tbody>\n",
       "</table>\n",
       "</div>"
      ],
      "text/plain": [
       "          TX          TY             X             Y            Z  event_id  \\\n",
       "0 -86.840851   92.664032  47257.558594  11238.640625  5172.000000  183825.0   \n",
       "1 -94.468147  123.360336  47264.585938  11231.140625  5426.527344  183825.0   \n",
       "2 -94.468147  123.360336  47264.585938  11231.140625  5426.527344  183825.0   \n",
       "3 -94.468147  123.360336  47264.585938  11231.140625  5426.527344  183825.0   \n",
       "4 -89.869354   99.934273  47168.984375  11332.085938  6465.000000  183825.0   \n",
       "\n",
       "   signal  data_ind     TX_pair     TY_pair        X_pair        Y_pair  \\\n",
       "0     1.0       261  -94.468147  123.360336  47264.585938  11231.140625   \n",
       "1     1.0       261  -89.869354   99.934273  47168.984375  11332.085938   \n",
       "2     1.0       261  339.412476   69.291908  47322.609375  11128.431641   \n",
       "3     1.0       261  275.844818  159.851212  46879.843750  11431.775391   \n",
       "4     1.0       261  -70.092018   84.584602  47085.210938  11426.468750   \n",
       "\n",
       "        Z_pair         dTX        dTY          dX          dY           dZ  \n",
       "0  5426.527344    7.627296 -30.696304   -7.027344    7.500000  -254.527344  \n",
       "1  6465.000000   -4.598793  23.426064   95.601562 -100.945312 -1038.472656  \n",
       "2  6465.000000 -433.880615  54.068428  -58.023438  102.708984 -1038.472656  \n",
       "3  6465.000000 -370.312958 -36.490875  384.742188 -200.634766 -1038.472656  \n",
       "4  7758.000000  -19.777336  15.349670   83.773438  -94.382812 -1293.000000  "
      ]
     },
     "execution_count": 9,
     "metadata": {},
     "output_type": "execute_result"
    }
   ],
   "source": [
    "train_data.head()"
   ]
  },
  {
   "cell_type": "code",
   "execution_count": 10,
   "metadata": {},
   "outputs": [
    {
     "data": {
      "text/plain": [
       "(9490034, 18)"
      ]
     },
     "execution_count": 10,
     "metadata": {},
     "output_type": "execute_result"
    }
   ],
   "source": [
    "train_data.shape"
   ]
  },
  {
   "cell_type": "code",
   "execution_count": 11,
   "metadata": {},
   "outputs": [],
   "source": [
    "train_data.to_csv(\"prepared_train.csv\", compression=\"gzip\", index=False)"
   ]
  },
  {
   "cell_type": "markdown",
   "metadata": {},
   "source": [
    "### Test Data"
   ]
  },
  {
   "cell_type": "code",
   "execution_count": 12,
   "metadata": {},
   "outputs": [
    {
     "name": "stderr",
     "output_type": "stream",
     "text": [
      "100%|█████████████████████████████████████████████████████████████████████████████| 11/11 [00:52<00:00,  4.74s/it]\n"
     ]
    }
   ],
   "source": [
    "test_data = pd.read_hdf('data/testing/test.h5')\n",
    "test_data = test_data.reset_index(drop=True)\n",
    "test_data = add_neighbours(test_data, k=n_cluster)\n",
    "test_data['index'] = test_data.index"
   ]
  },
  {
   "cell_type": "code",
   "execution_count": 13,
   "metadata": {},
   "outputs": [
    {
     "data": {
      "text/html": [
       "<div>\n",
       "<style scoped>\n",
       "    .dataframe tbody tr th:only-of-type {\n",
       "        vertical-align: middle;\n",
       "    }\n",
       "\n",
       "    .dataframe tbody tr th {\n",
       "        vertical-align: top;\n",
       "    }\n",
       "\n",
       "    .dataframe thead th {\n",
       "        text-align: right;\n",
       "    }\n",
       "</style>\n",
       "<table border=\"1\" class=\"dataframe\">\n",
       "  <thead>\n",
       "    <tr style=\"text-align: right;\">\n",
       "      <th></th>\n",
       "      <th>TX</th>\n",
       "      <th>TY</th>\n",
       "      <th>X</th>\n",
       "      <th>Y</th>\n",
       "      <th>Z</th>\n",
       "      <th>data_ind</th>\n",
       "      <th>TX_pair</th>\n",
       "      <th>TY_pair</th>\n",
       "      <th>X_pair</th>\n",
       "      <th>Y_pair</th>\n",
       "      <th>Z_pair</th>\n",
       "      <th>dTX</th>\n",
       "      <th>dTY</th>\n",
       "      <th>dX</th>\n",
       "      <th>dY</th>\n",
       "      <th>dZ</th>\n",
       "      <th>index</th>\n",
       "    </tr>\n",
       "  </thead>\n",
       "  <tbody>\n",
       "    <tr>\n",
       "      <th>6</th>\n",
       "      <td>-193.084152</td>\n",
       "      <td>623.975891</td>\n",
       "      <td>37949.000000</td>\n",
       "      <td>24967.570312</td>\n",
       "      <td>0.0</td>\n",
       "      <td>0</td>\n",
       "      <td>-350.331818</td>\n",
       "      <td>437.505890</td>\n",
       "      <td>38081.851562</td>\n",
       "      <td>24522.312500</td>\n",
       "      <td>1293.0</td>\n",
       "      <td>157.247665</td>\n",
       "      <td>186.470001</td>\n",
       "      <td>-132.851562</td>\n",
       "      <td>445.257812</td>\n",
       "      <td>-1293.0</td>\n",
       "      <td>6</td>\n",
       "    </tr>\n",
       "    <tr>\n",
       "      <th>224</th>\n",
       "      <td>-225.433212</td>\n",
       "      <td>-367.239899</td>\n",
       "      <td>39335.953125</td>\n",
       "      <td>49094.968750</td>\n",
       "      <td>0.0</td>\n",
       "      <td>0</td>\n",
       "      <td>-380.564331</td>\n",
       "      <td>458.562836</td>\n",
       "      <td>39409.578125</td>\n",
       "      <td>49534.917969</td>\n",
       "      <td>1293.0</td>\n",
       "      <td>155.131119</td>\n",
       "      <td>-825.802734</td>\n",
       "      <td>-73.625000</td>\n",
       "      <td>-439.949219</td>\n",
       "      <td>-1293.0</td>\n",
       "      <td>224</td>\n",
       "    </tr>\n",
       "    <tr>\n",
       "      <th>292</th>\n",
       "      <td>-288.543915</td>\n",
       "      <td>744.821838</td>\n",
       "      <td>51992.125000</td>\n",
       "      <td>74045.695312</td>\n",
       "      <td>0.0</td>\n",
       "      <td>0</td>\n",
       "      <td>-166.982605</td>\n",
       "      <td>638.900269</td>\n",
       "      <td>51851.539062</td>\n",
       "      <td>73873.390625</td>\n",
       "      <td>1293.0</td>\n",
       "      <td>-121.561310</td>\n",
       "      <td>105.921570</td>\n",
       "      <td>140.585938</td>\n",
       "      <td>172.304688</td>\n",
       "      <td>-1293.0</td>\n",
       "      <td>292</td>\n",
       "    </tr>\n",
       "    <tr>\n",
       "      <th>325</th>\n",
       "      <td>-131.043716</td>\n",
       "      <td>-389.968414</td>\n",
       "      <td>29508.035156</td>\n",
       "      <td>67410.984375</td>\n",
       "      <td>0.0</td>\n",
       "      <td>0</td>\n",
       "      <td>-486.173767</td>\n",
       "      <td>107.317078</td>\n",
       "      <td>29299.156250</td>\n",
       "      <td>67238.296875</td>\n",
       "      <td>1293.0</td>\n",
       "      <td>355.130066</td>\n",
       "      <td>-497.285492</td>\n",
       "      <td>208.878906</td>\n",
       "      <td>172.687500</td>\n",
       "      <td>-1293.0</td>\n",
       "      <td>325</td>\n",
       "    </tr>\n",
       "    <tr>\n",
       "      <th>548</th>\n",
       "      <td>-233.201782</td>\n",
       "      <td>573.095337</td>\n",
       "      <td>67685.781250</td>\n",
       "      <td>75164.359375</td>\n",
       "      <td>0.0</td>\n",
       "      <td>0</td>\n",
       "      <td>135.409042</td>\n",
       "      <td>775.318970</td>\n",
       "      <td>67272.015625</td>\n",
       "      <td>75664.359375</td>\n",
       "      <td>1293.0</td>\n",
       "      <td>-368.610840</td>\n",
       "      <td>-202.223633</td>\n",
       "      <td>413.765625</td>\n",
       "      <td>-500.000000</td>\n",
       "      <td>-1293.0</td>\n",
       "      <td>548</td>\n",
       "    </tr>\n",
       "  </tbody>\n",
       "</table>\n",
       "</div>"
      ],
      "text/plain": [
       "             TX          TY             X             Y    Z  data_ind  \\\n",
       "6   -193.084152  623.975891  37949.000000  24967.570312  0.0         0   \n",
       "224 -225.433212 -367.239899  39335.953125  49094.968750  0.0         0   \n",
       "292 -288.543915  744.821838  51992.125000  74045.695312  0.0         0   \n",
       "325 -131.043716 -389.968414  29508.035156  67410.984375  0.0         0   \n",
       "548 -233.201782  573.095337  67685.781250  75164.359375  0.0         0   \n",
       "\n",
       "        TX_pair     TY_pair        X_pair        Y_pair  Z_pair         dTX  \\\n",
       "6   -350.331818  437.505890  38081.851562  24522.312500  1293.0  157.247665   \n",
       "224 -380.564331  458.562836  39409.578125  49534.917969  1293.0  155.131119   \n",
       "292 -166.982605  638.900269  51851.539062  73873.390625  1293.0 -121.561310   \n",
       "325 -486.173767  107.317078  29299.156250  67238.296875  1293.0  355.130066   \n",
       "548  135.409042  775.318970  67272.015625  75664.359375  1293.0 -368.610840   \n",
       "\n",
       "            dTY          dX          dY      dZ  index  \n",
       "6    186.470001 -132.851562  445.257812 -1293.0      6  \n",
       "224 -825.802734  -73.625000 -439.949219 -1293.0    224  \n",
       "292  105.921570  140.585938  172.304688 -1293.0    292  \n",
       "325 -497.285492  208.878906  172.687500 -1293.0    325  \n",
       "548 -202.223633  413.765625 -500.000000 -1293.0    548  "
      ]
     },
     "execution_count": 13,
     "metadata": {},
     "output_type": "execute_result"
    }
   ],
   "source": [
    "test_data.head()"
   ]
  },
  {
   "cell_type": "code",
   "execution_count": 14,
   "metadata": {},
   "outputs": [
    {
     "data": {
      "text/plain": [
       "(20179459, 17)"
      ]
     },
     "execution_count": 14,
     "metadata": {},
     "output_type": "execute_result"
    }
   ],
   "source": [
    "test_data.shape"
   ]
  },
  {
   "cell_type": "code",
   "execution_count": 15,
   "metadata": {},
   "outputs": [],
   "source": [
    "test_data.to_csv(\"prepared_test.csv.gz\", compression=\"gzip\", index=False)"
   ]
  }
 ],
 "metadata": {
  "@webio": {
   "lastCommId": null,
   "lastKernelId": null
  },
  "accelerator": "GPU",
  "colab": {
   "collapsed_sections": [],
   "machine_shape": "hm",
   "name": "index.ipynb",
   "provenance": [],
   "toc_visible": true
  },
  "hide_input": false,
  "kernelspec": {
   "display_name": "Python 3",
   "language": "python",
   "name": "python3"
  },
  "language_info": {
   "codemirror_mode": {
    "name": "ipython",
    "version": 3
   },
   "file_extension": ".py",
   "mimetype": "text/x-python",
   "name": "python",
   "nbconvert_exporter": "python",
   "pygments_lexer": "ipython3",
   "version": "3.6.6"
  },
  "nbTranslate": {
   "displayLangs": [
    "*"
   ],
   "hotkey": "alt-t",
   "langInMainMenu": true,
   "sourceLang": "en",
   "targetLang": "fr",
   "useGoogleTranslate": true
  },
  "toc": {
   "nav_menu": {},
   "number_sections": true,
   "sideBar": true,
   "skip_h1_title": false,
   "toc_cell": false,
   "toc_position": {},
   "toc_section_display": "block",
   "toc_window_display": false
  },
  "varInspector": {
   "cols": {
    "lenName": 16,
    "lenType": 16,
    "lenVar": 40
   },
   "kernels_config": {
    "python": {
     "delete_cmd_postfix": "",
     "delete_cmd_prefix": "del ",
     "library": "var_list.py",
     "varRefreshCmd": "print(var_dic_list())"
    },
    "r": {
     "delete_cmd_postfix": ") ",
     "delete_cmd_prefix": "rm(",
     "library": "var_list.r",
     "varRefreshCmd": "cat(var_dic_list()) "
    }
   },
   "oldHeight": 122.222222,
   "position": {
    "height": "40px",
    "left": "1362.89px",
    "right": "20px",
    "top": "120px",
    "width": "251px"
   },
   "types_to_exclude": [
    "module",
    "function",
    "builtin_function_or_method",
    "instance",
    "_Feature"
   ],
   "varInspector_section_display": "none",
   "window_display": true
  }
 },
 "nbformat": 4,
 "nbformat_minor": 1
}
