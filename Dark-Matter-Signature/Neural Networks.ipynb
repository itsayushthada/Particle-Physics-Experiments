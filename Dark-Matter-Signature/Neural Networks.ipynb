{
 "cells": [
  {
   "cell_type": "code",
   "execution_count": 0,
   "metadata": {
    "ExecuteTime": {
     "end_time": "2018-05-25T10:37:39.932736Z",
     "start_time": "2018-05-25T10:37:39.920767Z"
    },
    "colab": {},
    "colab_type": "code",
    "id": "UIbfV6292_nr"
   },
   "outputs": [],
   "source": [
    "import numpy as np\n",
    "import pandas as pd\n",
    "import scipy\n",
    "import tables as tb\n",
    "import matplotlib.pyplot as plt\n",
    "\n",
    "%matplotlib inline"
   ]
  },
  {
   "cell_type": "markdown",
   "metadata": {
    "colab_type": "text",
    "id": "UlaZAr522_n1"
   },
   "source": [
    "# Load Datasets"
   ]
  },
  {
   "cell_type": "code",
   "execution_count": 4,
   "metadata": {
    "ExecuteTime": {
     "end_time": "2018-05-25T12:34:50.724235Z",
     "start_time": "2018-05-25T12:34:50.714263Z"
    },
    "colab": {
     "base_uri": "https://localhost:8080/",
     "height": 215
    },
    "colab_type": "code",
    "id": "QrsQbG1B2_n_",
    "outputId": "5f6a92a3-3e0d-4dd2-c2dd-8e2650537bfe"
   },
   "outputs": [
    {
     "data": {
      "text/html": [
       "<div>\n",
       "<style scoped>\n",
       "    .dataframe tbody tr th:only-of-type {\n",
       "        vertical-align: middle;\n",
       "    }\n",
       "\n",
       "    .dataframe tbody tr th {\n",
       "        vertical-align: top;\n",
       "    }\n",
       "\n",
       "    .dataframe thead th {\n",
       "        text-align: right;\n",
       "    }\n",
       "</style>\n",
       "<table border=\"1\" class=\"dataframe\">\n",
       "  <thead>\n",
       "    <tr style=\"text-align: right;\">\n",
       "      <th></th>\n",
       "      <th>TX</th>\n",
       "      <th>TX_pair</th>\n",
       "      <th>TY</th>\n",
       "      <th>TY_pair</th>\n",
       "      <th>X</th>\n",
       "      <th>X_pair</th>\n",
       "      <th>Y</th>\n",
       "      <th>Y_pair</th>\n",
       "      <th>Z</th>\n",
       "      <th>Z_pair</th>\n",
       "      <th>data_ind</th>\n",
       "      <th>dTX</th>\n",
       "      <th>dTY</th>\n",
       "      <th>dX</th>\n",
       "      <th>dY</th>\n",
       "      <th>dZ</th>\n",
       "      <th>index</th>\n",
       "    </tr>\n",
       "  </thead>\n",
       "  <tbody>\n",
       "    <tr>\n",
       "      <th>0</th>\n",
       "      <td>-0.472267</td>\n",
       "      <td>-0.985011</td>\n",
       "      <td>1.540099</td>\n",
       "      <td>1.203301</td>\n",
       "      <td>-0.979604</td>\n",
       "      <td>-0.994099</td>\n",
       "      <td>-1.405361</td>\n",
       "      <td>-1.435668</td>\n",
       "      <td>-1.684675</td>\n",
       "      <td>-1.675682</td>\n",
       "      <td>0</td>\n",
       "      <td>0.417640</td>\n",
       "      <td>0.483572</td>\n",
       "      <td>0.005153</td>\n",
       "      <td>0.062526</td>\n",
       "      <td>-0.264372</td>\n",
       "      <td>6</td>\n",
       "    </tr>\n",
       "    <tr>\n",
       "      <th>1</th>\n",
       "      <td>-0.555871</td>\n",
       "      <td>-1.072531</td>\n",
       "      <td>-0.857212</td>\n",
       "      <td>1.259451</td>\n",
       "      <td>-0.908789</td>\n",
       "      <td>-0.926525</td>\n",
       "      <td>-0.135574</td>\n",
       "      <td>-0.105191</td>\n",
       "      <td>-1.684675</td>\n",
       "      <td>-1.675682</td>\n",
       "      <td>0</td>\n",
       "      <td>0.412036</td>\n",
       "      <td>-2.103896</td>\n",
       "      <td>0.012493</td>\n",
       "      <td>-0.074174</td>\n",
       "      <td>-0.264372</td>\n",
       "      <td>224</td>\n",
       "    </tr>\n",
       "    <tr>\n",
       "      <th>2</th>\n",
       "      <td>-0.718977</td>\n",
       "      <td>-0.454492</td>\n",
       "      <td>1.828926</td>\n",
       "      <td>1.739853</td>\n",
       "      <td>-0.298686</td>\n",
       "      <td>-0.326450</td>\n",
       "      <td>1.225259</td>\n",
       "      <td>1.226549</td>\n",
       "      <td>-1.684675</td>\n",
       "      <td>-1.675682</td>\n",
       "      <td>0</td>\n",
       "      <td>-0.319884</td>\n",
       "      <td>0.275478</td>\n",
       "      <td>0.039112</td>\n",
       "      <td>0.020436</td>\n",
       "      <td>-0.264372</td>\n",
       "      <td>292</td>\n",
       "    </tr>\n",
       "    <tr>\n",
       "      <th>3</th>\n",
       "      <td>-0.311927</td>\n",
       "      <td>-1.378341</td>\n",
       "      <td>-0.912874</td>\n",
       "      <td>0.320704</td>\n",
       "      <td>-1.422800</td>\n",
       "      <td>-1.453486</td>\n",
       "      <td>0.859933</td>\n",
       "      <td>0.860855</td>\n",
       "      <td>-1.684675</td>\n",
       "      <td>-1.675682</td>\n",
       "      <td>0</td>\n",
       "      <td>0.941885</td>\n",
       "      <td>-1.269050</td>\n",
       "      <td>0.047621</td>\n",
       "      <td>0.020495</td>\n",
       "      <td>-0.264372</td>\n",
       "      <td>325</td>\n",
       "    </tr>\n",
       "    <tr>\n",
       "      <th>4</th>\n",
       "      <td>-0.575948</td>\n",
       "      <td>0.419041</td>\n",
       "      <td>1.418348</td>\n",
       "      <td>2.102758</td>\n",
       "      <td>0.368806</td>\n",
       "      <td>0.334592</td>\n",
       "      <td>1.287055</td>\n",
       "      <td>1.325532</td>\n",
       "      <td>-1.684675</td>\n",
       "      <td>-1.675682</td>\n",
       "      <td>0</td>\n",
       "      <td>-0.972278</td>\n",
       "      <td>-0.516129</td>\n",
       "      <td>0.073215</td>\n",
       "      <td>-0.083468</td>\n",
       "      <td>-0.264372</td>\n",
       "      <td>548</td>\n",
       "    </tr>\n",
       "  </tbody>\n",
       "</table>\n",
       "</div>"
      ],
      "text/plain": [
       "         TX   TX_pair        TY   TY_pair  ...        dX        dY        dZ  index\n",
       "0 -0.472267 -0.985011  1.540099  1.203301  ...  0.005153  0.062526 -0.264372      6\n",
       "1 -0.555871 -1.072531 -0.857212  1.259451  ...  0.012493 -0.074174 -0.264372    224\n",
       "2 -0.718977 -0.454492  1.828926  1.739853  ...  0.039112  0.020436 -0.264372    292\n",
       "3 -0.311927 -1.378341 -0.912874  0.320704  ...  0.047621  0.020495 -0.264372    325\n",
       "4 -0.575948  0.419041  1.418348  2.102758  ...  0.073215 -0.083468 -0.264372    548\n",
       "\n",
       "[5 rows x 17 columns]"
      ]
     },
     "execution_count": 4,
     "metadata": {
      "tags": []
     },
     "output_type": "execute_result"
    }
   ],
   "source": [
    "test_data = pd.read_csv(\"testing_data_transform.csv.gz\", compression=\"gzip\")\n",
    "test_data.head()"
   ]
  },
  {
   "cell_type": "code",
   "execution_count": 5,
   "metadata": {
    "ExecuteTime": {
     "end_time": "2018-05-25T10:37:16.362812Z",
     "start_time": "2018-05-25T10:37:16.348850Z"
    },
    "colab": {
     "base_uri": "https://localhost:8080/",
     "height": 215
    },
    "colab_type": "code",
    "id": "9FknwQFs2_oF",
    "outputId": "ba479807-6304-4a5c-fb9f-d1f39f02a14e"
   },
   "outputs": [
    {
     "data": {
      "text/html": [
       "<div>\n",
       "<style scoped>\n",
       "    .dataframe tbody tr th:only-of-type {\n",
       "        vertical-align: middle;\n",
       "    }\n",
       "\n",
       "    .dataframe tbody tr th {\n",
       "        vertical-align: top;\n",
       "    }\n",
       "\n",
       "    .dataframe thead th {\n",
       "        text-align: right;\n",
       "    }\n",
       "</style>\n",
       "<table border=\"1\" class=\"dataframe\">\n",
       "  <thead>\n",
       "    <tr style=\"text-align: right;\">\n",
       "      <th></th>\n",
       "      <th>TX</th>\n",
       "      <th>TY</th>\n",
       "      <th>X</th>\n",
       "      <th>Y</th>\n",
       "      <th>Z</th>\n",
       "      <th>event_id</th>\n",
       "      <th>signal</th>\n",
       "      <th>data_ind</th>\n",
       "      <th>TX_pair</th>\n",
       "      <th>TY_pair</th>\n",
       "      <th>X_pair</th>\n",
       "      <th>Y_pair</th>\n",
       "      <th>Z_pair</th>\n",
       "      <th>dTX</th>\n",
       "      <th>dTY</th>\n",
       "      <th>dX</th>\n",
       "      <th>dY</th>\n",
       "      <th>dZ</th>\n",
       "    </tr>\n",
       "  </thead>\n",
       "  <tbody>\n",
       "    <tr>\n",
       "      <th>0</th>\n",
       "      <td>0.136213</td>\n",
       "      <td>0.982262</td>\n",
       "      <td>0.940725</td>\n",
       "      <td>1.129038</td>\n",
       "      <td>-1.786271</td>\n",
       "      <td>187859.0</td>\n",
       "      <td>1.0</td>\n",
       "      <td>301</td>\n",
       "      <td>0.230556</td>\n",
       "      <td>1.513868</td>\n",
       "      <td>0.948656</td>\n",
       "      <td>1.135756</td>\n",
       "      <td>-1.809173</td>\n",
       "      <td>-0.046579</td>\n",
       "      <td>-0.192817</td>\n",
       "      <td>-0.001082</td>\n",
       "      <td>-0.001473</td>\n",
       "      <td>4.941839</td>\n",
       "    </tr>\n",
       "    <tr>\n",
       "      <th>1</th>\n",
       "      <td>0.175867</td>\n",
       "      <td>1.138619</td>\n",
       "      <td>0.940470</td>\n",
       "      <td>1.127298</td>\n",
       "      <td>-1.778574</td>\n",
       "      <td>185036.0</td>\n",
       "      <td>1.0</td>\n",
       "      <td>301</td>\n",
       "      <td>0.185982</td>\n",
       "      <td>1.367235</td>\n",
       "      <td>0.952505</td>\n",
       "      <td>1.158975</td>\n",
       "      <td>-1.780745</td>\n",
       "      <td>0.039858</td>\n",
       "      <td>0.109276</td>\n",
       "      <td>-0.016471</td>\n",
       "      <td>-0.080512</td>\n",
       "      <td>4.941839</td>\n",
       "    </tr>\n",
       "    <tr>\n",
       "      <th>2</th>\n",
       "      <td>0.175867</td>\n",
       "      <td>1.138619</td>\n",
       "      <td>0.940470</td>\n",
       "      <td>1.127298</td>\n",
       "      <td>-1.778574</td>\n",
       "      <td>185036.0</td>\n",
       "      <td>1.0</td>\n",
       "      <td>301</td>\n",
       "      <td>0.169861</td>\n",
       "      <td>1.353573</td>\n",
       "      <td>0.951945</td>\n",
       "      <td>1.159273</td>\n",
       "      <td>-1.780745</td>\n",
       "      <td>0.054398</td>\n",
       "      <td>0.120970</td>\n",
       "      <td>-0.014372</td>\n",
       "      <td>-0.081458</td>\n",
       "      <td>4.941839</td>\n",
       "    </tr>\n",
       "    <tr>\n",
       "      <th>3</th>\n",
       "      <td>0.175867</td>\n",
       "      <td>1.138619</td>\n",
       "      <td>0.940470</td>\n",
       "      <td>1.127298</td>\n",
       "      <td>-1.778574</td>\n",
       "      <td>185036.0</td>\n",
       "      <td>1.0</td>\n",
       "      <td>301</td>\n",
       "      <td>0.149277</td>\n",
       "      <td>1.327949</td>\n",
       "      <td>0.951178</td>\n",
       "      <td>1.159764</td>\n",
       "      <td>-1.780745</td>\n",
       "      <td>0.072958</td>\n",
       "      <td>0.142917</td>\n",
       "      <td>-0.011498</td>\n",
       "      <td>-0.083015</td>\n",
       "      <td>4.941839</td>\n",
       "    </tr>\n",
       "    <tr>\n",
       "      <th>4</th>\n",
       "      <td>0.112946</td>\n",
       "      <td>0.998724</td>\n",
       "      <td>0.942977</td>\n",
       "      <td>1.151288</td>\n",
       "      <td>-1.749689</td>\n",
       "      <td>187859.0</td>\n",
       "      <td>1.0</td>\n",
       "      <td>301</td>\n",
       "      <td>0.685547</td>\n",
       "      <td>1.614336</td>\n",
       "      <td>0.950178</td>\n",
       "      <td>1.171854</td>\n",
       "      <td>-1.744307</td>\n",
       "      <td>-0.485537</td>\n",
       "      <td>-0.259300</td>\n",
       "      <td>0.001708</td>\n",
       "      <td>-0.045185</td>\n",
       "      <td>-0.204209</td>\n",
       "    </tr>\n",
       "  </tbody>\n",
       "</table>\n",
       "</div>"
      ],
      "text/plain": [
       "         TX        TY         X  ...        dX        dY        dZ\n",
       "0  0.136213  0.982262  0.940725  ... -0.001082 -0.001473  4.941839\n",
       "1  0.175867  1.138619  0.940470  ... -0.016471 -0.080512  4.941839\n",
       "2  0.175867  1.138619  0.940470  ... -0.014372 -0.081458  4.941839\n",
       "3  0.175867  1.138619  0.940470  ... -0.011498 -0.083015  4.941839\n",
       "4  0.112946  0.998724  0.942977  ...  0.001708 -0.045185 -0.204209\n",
       "\n",
       "[5 rows x 18 columns]"
      ]
     },
     "execution_count": 5,
     "metadata": {
      "tags": []
     },
     "output_type": "execute_result"
    }
   ],
   "source": [
    "training_data = pd.read_csv(\"training_data_transform.csv.gz\", compression=\"gzip\")\n",
    "training_data.head()"
   ]
  },
  {
   "cell_type": "markdown",
   "metadata": {
    "colab_type": "text",
    "id": "CNTraHv1D8yZ"
   },
   "source": [
    "# Training Data"
   ]
  },
  {
   "cell_type": "code",
   "execution_count": 11,
   "metadata": {
    "colab": {
     "base_uri": "https://localhost:8080/",
     "height": 269
    },
    "colab_type": "code",
    "id": "hE2Nxv0KSf6e",
    "outputId": "799bd062-7d77-47f5-b54d-2f8e992c4668"
   },
   "outputs": [
    {
     "data": {
      "text/plain": [
       "['Y_pair',\n",
       " 'dZ',\n",
       " 'TX_pair',\n",
       " 'Z',\n",
       " 'TY',\n",
       " 'dTY',\n",
       " 'dX',\n",
       " 'X',\n",
       " 'Y',\n",
       " 'X_pair',\n",
       " 'TX',\n",
       " 'dTX',\n",
       " 'TY_pair',\n",
       " 'Z_pair',\n",
       " 'dY']"
      ]
     },
     "execution_count": 11,
     "metadata": {
      "tags": []
     },
     "output_type": "execute_result"
    }
   ],
   "source": [
    "vars = list(set(test_data.columns) - {\"data_ind\", \"index\"})\n",
    "vars"
   ]
  },
  {
   "cell_type": "code",
   "execution_count": 0,
   "metadata": {
    "colab": {},
    "colab_type": "code",
    "id": "Or0YWe0vM1jx"
   },
   "outputs": [],
   "source": [
    "from sklearn.model_selection import train_test_split"
   ]
  },
  {
   "cell_type": "code",
   "execution_count": 0,
   "metadata": {
    "colab": {},
    "colab_type": "code",
    "id": "qU2LTdaVM0_c"
   },
   "outputs": [],
   "source": [
    "X_train, X_valid, y_train, y_valid = train_test_split(training_data[vars],\n",
    "                                                      training_data[\"signal\"], \n",
    "                                                      test_size=0.10, \n",
    "                                                      random_state=42)"
   ]
  },
  {
   "cell_type": "code",
   "execution_count": 0,
   "metadata": {
    "colab": {},
    "colab_type": "code",
    "id": "nOY7AnW-06Wl"
   },
   "outputs": [],
   "source": [
    "idx = ~X_train.TX_pair.isna()\n",
    "X_train.loc[~idx, list(set(X_train.columns) - {\"TX\", \"TY\", \"X\", \"Y\", \"Z\"})] = np.random.normal(size=(27876, 10))\n",
    "\n",
    "idx = ~X_valid.TX_pair.isna()\n",
    "X_valid.loc[~idx, list(set(X_valid.columns) - {\"TX\", \"TY\", \"X\", \"Y\", \"Z\"})] = np.random.normal(size=(3208, 10))\n",
    "\n",
    "del idx"
   ]
  },
  {
   "cell_type": "markdown",
   "metadata": {
    "colab_type": "text",
    "id": "A-RQoVNON4uo"
   },
   "source": [
    "### Validation"
   ]
  },
  {
   "cell_type": "code",
   "execution_count": 0,
   "metadata": {
    "colab": {},
    "colab_type": "code",
    "id": "F5tB1WNyKVpO"
   },
   "outputs": [],
   "source": [
    "import numpy as np\n",
    "import matplotlib.pyplot as plt\n",
    "\n",
    "from sklearn.metrics import accuracy_score, precision_score, recall_score\n",
    "from scikitplot.metrics import plot_confusion_matrix, plot_roc\n",
    "\n",
    "def evaluate_performace(y_true, y_pred, threshold=0.5):\n",
    "    y_probs = np.hstack([1-y_pred.reshape(-1, 1), y_pred.reshape(-1, 1)])\n",
    "    y_pred = y_pred >= threshold\n",
    "    print(\"Accuracy Score: \", accuracy_score(y_true, y_pred))\n",
    "    print(\"Precision Score: \", precision_score(y_true, y_pred))\n",
    "    print(\"Recall Score: \", recall_score(y_true, y_pred))\n",
    "\n",
    "    plot_confusion_matrix(y_true, y_pred, normalize=True, cmap=\"winter\")\n",
    "    plot_roc(y_true, y_probs, classes_to_plot=[0], plot_macro=False, plot_micro=False)\n",
    "    plt.show()"
   ]
  },
  {
   "cell_type": "markdown",
   "metadata": {
    "colab_type": "text",
    "id": "SOfthKXWPbr_"
   },
   "source": [
    "# Neural Networks"
   ]
  },
  {
   "cell_type": "code",
   "execution_count": 31,
   "metadata": {
    "colab": {
     "base_uri": "https://localhost:8080/",
     "height": 79
    },
    "colab_type": "code",
    "id": "jT45uIjjPZ1r",
    "outputId": "61e1de00-1179-49d0-f437-4ccc5854a1ee"
   },
   "outputs": [
    {
     "name": "stderr",
     "output_type": "stream",
     "text": [
      "Using TensorFlow backend.\n"
     ]
    },
    {
     "data": {
      "text/html": [
       "<p style=\"color: red;\">\n",
       "The default version of TensorFlow in Colab will soon switch to TensorFlow 2.x.<br>\n",
       "We recommend you <a href=\"https://www.tensorflow.org/guide/migrate\" target=\"_blank\">upgrade</a> now \n",
       "or ensure your notebook will continue to use TensorFlow 1.x via the <code>%tensorflow_version 1.x</code> magic:\n",
       "<a href=\"https://colab.research.google.com/notebooks/tensorflow_version.ipynb\" target=\"_blank\">more info</a>.</p>\n"
      ],
      "text/plain": [
       "<IPython.core.display.HTML object>"
      ]
     },
     "metadata": {
      "tags": []
     },
     "output_type": "display_data"
    }
   ],
   "source": [
    "from keras.models import Sequential\n",
    "from keras.layers import Dense, InputLayer, LeakyReLU, ReLU, BatchNormalization, Dropout, Activation\n",
    "from keras import optimizers\n",
    "from sklearn.metrics import roc_auc_score\n",
    "import tensorflow as tf"
   ]
  },
  {
   "cell_type": "code",
   "execution_count": 0,
   "metadata": {
    "colab": {},
    "colab_type": "code",
    "id": "VEDtDonWU30f"
   },
   "outputs": [],
   "source": [
    "def auroc(y_true, y_pred):\n",
    "    return tf.py_function (roc_auc_score, (y_true, y_pred), tf.double)"
   ]
  },
  {
   "cell_type": "code",
   "execution_count": 0,
   "metadata": {
    "colab": {},
    "colab_type": "code",
    "id": "gJlSmD5HSZwe"
   },
   "outputs": [],
   "source": [
    "def NN(input_dim):\n",
    "    model = Sequential()\n",
    "    model.add(InputLayer(input_shape=(input_dim,)))\n",
    "\n",
    "    model.add(Dense(256, activation=\"relu\"))\n",
    "    model.add(BatchNormalization())\n",
    "    model.add(Dropout(0.5))\n",
    "\n",
    "    model.add(Dense(256, activation=\"relu\"))\n",
    "    model.add(BatchNormalization())\n",
    "    model.add(Dropout(0.5))\n",
    "\n",
    "    model.add(Dense(256, activation=\"relu\"))\n",
    "    model.add(BatchNormalization())\n",
    "    model.add(Dropout(0.5))\n",
    "\n",
    "    model.add(Dense(256, activation=\"relu\"))\n",
    "    model.add(BatchNormalization())\n",
    "    model.add(Dropout(0.5))\n",
    "\n",
    "    model.add(Dense(1, activation=\"sigmoid\"))\n",
    "\n",
    "    model.compile(loss = 'binary_crossentropy',\n",
    "                  optimizer = optimizers.Adam(),\n",
    "                  metrics = [auroc])\n",
    "    \n",
    "    return model"
   ]
  },
  {
   "cell_type": "code",
   "execution_count": 34,
   "metadata": {
    "colab": {
     "base_uri": "https://localhost:8080/",
     "height": 910
    },
    "colab_type": "code",
    "id": "tRdhZwzfTguk",
    "outputId": "2b71ab66-f01b-4ae0-e2fa-51233b658d8e"
   },
   "outputs": [
    {
     "name": "stdout",
     "output_type": "stream",
     "text": [
      "WARNING:tensorflow:From /usr/local/lib/python3.6/dist-packages/keras/backend/tensorflow_backend.py:66: The name tf.get_default_graph is deprecated. Please use tf.compat.v1.get_default_graph instead.\n",
      "\n",
      "WARNING:tensorflow:From /usr/local/lib/python3.6/dist-packages/keras/backend/tensorflow_backend.py:541: The name tf.placeholder is deprecated. Please use tf.compat.v1.placeholder instead.\n",
      "\n",
      "WARNING:tensorflow:From /usr/local/lib/python3.6/dist-packages/keras/backend/tensorflow_backend.py:4432: The name tf.random_uniform is deprecated. Please use tf.random.uniform instead.\n",
      "\n",
      "WARNING:tensorflow:From /usr/local/lib/python3.6/dist-packages/keras/backend/tensorflow_backend.py:148: The name tf.placeholder_with_default is deprecated. Please use tf.compat.v1.placeholder_with_default instead.\n",
      "\n",
      "WARNING:tensorflow:From /usr/local/lib/python3.6/dist-packages/keras/backend/tensorflow_backend.py:3733: calling dropout (from tensorflow.python.ops.nn_ops) with keep_prob is deprecated and will be removed in a future version.\n",
      "Instructions for updating:\n",
      "Please use `rate` instead of `keep_prob`. Rate should be set to `rate = 1 - keep_prob`.\n",
      "WARNING:tensorflow:From /usr/local/lib/python3.6/dist-packages/keras/optimizers.py:793: The name tf.train.Optimizer is deprecated. Please use tf.compat.v1.train.Optimizer instead.\n",
      "\n",
      "WARNING:tensorflow:From /usr/local/lib/python3.6/dist-packages/keras/backend/tensorflow_backend.py:3657: The name tf.log is deprecated. Please use tf.math.log instead.\n",
      "\n",
      "WARNING:tensorflow:From /usr/local/lib/python3.6/dist-packages/tensorflow_core/python/ops/nn_impl.py:183: where (from tensorflow.python.ops.array_ops) is deprecated and will be removed in a future version.\n",
      "Instructions for updating:\n",
      "Use tf.where in 2.0, which has the same broadcast rule as np.where\n",
      "Model: \"sequential_1\"\n",
      "_________________________________________________________________\n",
      "Layer (type)                 Output Shape              Param #   \n",
      "=================================================================\n",
      "dense_1 (Dense)              (None, 256)               4096      \n",
      "_________________________________________________________________\n",
      "batch_normalization_1 (Batch (None, 256)               1024      \n",
      "_________________________________________________________________\n",
      "dropout_1 (Dropout)          (None, 256)               0         \n",
      "_________________________________________________________________\n",
      "dense_2 (Dense)              (None, 256)               65792     \n",
      "_________________________________________________________________\n",
      "batch_normalization_2 (Batch (None, 256)               1024      \n",
      "_________________________________________________________________\n",
      "dropout_2 (Dropout)          (None, 256)               0         \n",
      "_________________________________________________________________\n",
      "dense_3 (Dense)              (None, 256)               65792     \n",
      "_________________________________________________________________\n",
      "batch_normalization_3 (Batch (None, 256)               1024      \n",
      "_________________________________________________________________\n",
      "dropout_3 (Dropout)          (None, 256)               0         \n",
      "_________________________________________________________________\n",
      "dense_4 (Dense)              (None, 256)               65792     \n",
      "_________________________________________________________________\n",
      "batch_normalization_4 (Batch (None, 256)               1024      \n",
      "_________________________________________________________________\n",
      "dropout_4 (Dropout)          (None, 256)               0         \n",
      "_________________________________________________________________\n",
      "dense_5 (Dense)              (None, 1)                 257       \n",
      "=================================================================\n",
      "Total params: 205,825\n",
      "Trainable params: 203,777\n",
      "Non-trainable params: 2,048\n",
      "_________________________________________________________________\n"
     ]
    }
   ],
   "source": [
    "model = NN(X_train.shape[1])\n",
    "model.summary()"
   ]
  },
  {
   "cell_type": "code",
   "execution_count": 35,
   "metadata": {
    "colab": {
     "base_uri": "https://localhost:8080/",
     "height": 507
    },
    "colab_type": "code",
    "id": "6_hJqVEqTg0R",
    "outputId": "a3466316-52ff-4f9d-d936-75df7f1ac738"
   },
   "outputs": [
    {
     "name": "stdout",
     "output_type": "stream",
     "text": [
      "WARNING:tensorflow:From /usr/local/lib/python3.6/dist-packages/keras/backend/tensorflow_backend.py:1033: The name tf.assign_add is deprecated. Please use tf.compat.v1.assign_add instead.\n",
      "\n",
      "WARNING:tensorflow:From /usr/local/lib/python3.6/dist-packages/keras/backend/tensorflow_backend.py:1020: The name tf.assign is deprecated. Please use tf.compat.v1.assign instead.\n",
      "\n",
      "WARNING:tensorflow:From /usr/local/lib/python3.6/dist-packages/keras/backend/tensorflow_backend.py:3005: The name tf.Session is deprecated. Please use tf.compat.v1.Session instead.\n",
      "\n",
      "Train on 7686927 samples, validate on 854103 samples\n",
      "Epoch 1/5\n",
      "WARNING:tensorflow:From /usr/local/lib/python3.6/dist-packages/keras/backend/tensorflow_backend.py:190: The name tf.get_default_session is deprecated. Please use tf.compat.v1.get_default_session instead.\n",
      "\n",
      "WARNING:tensorflow:From /usr/local/lib/python3.6/dist-packages/keras/backend/tensorflow_backend.py:197: The name tf.ConfigProto is deprecated. Please use tf.compat.v1.ConfigProto instead.\n",
      "\n",
      "WARNING:tensorflow:From /usr/local/lib/python3.6/dist-packages/keras/backend/tensorflow_backend.py:207: The name tf.global_variables is deprecated. Please use tf.compat.v1.global_variables instead.\n",
      "\n",
      "WARNING:tensorflow:From /usr/local/lib/python3.6/dist-packages/keras/backend/tensorflow_backend.py:216: The name tf.is_variable_initialized is deprecated. Please use tf.compat.v1.is_variable_initialized instead.\n",
      "\n",
      "WARNING:tensorflow:From /usr/local/lib/python3.6/dist-packages/keras/backend/tensorflow_backend.py:223: The name tf.variables_initializer is deprecated. Please use tf.compat.v1.variables_initializer instead.\n",
      "\n",
      "7686927/7686927 [==============================] - 55s 7us/step - loss: 0.4623 - auroc: 0.8587 - val_loss: 0.3783 - val_auroc: 0.9103\n",
      "Epoch 2/5\n",
      "7686927/7686927 [==============================] - 46s 6us/step - loss: 0.3918 - auroc: 0.9017 - val_loss: 0.3569 - val_auroc: 0.9197\n",
      "Epoch 3/5\n",
      "7686927/7686927 [==============================] - 45s 6us/step - loss: 0.3785 - auroc: 0.9088 - val_loss: 0.3538 - val_auroc: 0.9211\n",
      "Epoch 4/5\n",
      "7686927/7686927 [==============================] - 46s 6us/step - loss: 0.3744 - auroc: 0.9109 - val_loss: 0.3538 - val_auroc: 0.9223\n",
      "Epoch 5/5\n",
      "7686927/7686927 [==============================] - 45s 6us/step - loss: 0.3719 - auroc: 0.9121 - val_loss: 0.3515 - val_auroc: 0.9229\n"
     ]
    },
    {
     "data": {
      "text/plain": [
       "<keras.callbacks.History at 0x7f49b5fd3748>"
      ]
     },
     "execution_count": 35,
     "metadata": {
      "tags": []
     },
     "output_type": "execute_result"
    }
   ],
   "source": [
    "model.fit(x = X_train,\n",
    "          y = y_train,\n",
    "          batch_size = 5000,\n",
    "          epochs = 5,\n",
    "          validation_split = 0.1)"
   ]
  },
  {
   "cell_type": "code",
   "execution_count": 36,
   "metadata": {
    "colab": {
     "base_uri": "https://localhost:8080/",
     "height": 623
    },
    "colab_type": "code",
    "id": "2lR1f4fgTg8G",
    "outputId": "17d1d007-7a82-461c-cbbf-cc7d81c61dc8"
   },
   "outputs": [
    {
     "name": "stdout",
     "output_type": "stream",
     "text": [
      "Accuracy Score:  0.834449591361048\n",
      "Precision Score:  0.8192080412665075\n",
      "Recall Score:  0.8588217463515058\n"
     ]
    },
    {
     "data": {
      "image/png": "[encoded data removed]",
      "text/plain": [
       "<Figure size 432x288 with 2 Axes>"
      ]
     },
     "metadata": {
      "tags": []
     },
     "output_type": "display_data"
    },
    {
     "data": {
      "image/png": "[encoded data removed]",
      "text/plain": [
       "<Figure size 432x288 with 1 Axes>"
      ]
     },
     "metadata": {
      "tags": []
     },
     "output_type": "display_data"
    }
   ],
   "source": [
    "y_pred = model.predict(X_valid)\n",
    "evaluate_performace(y_valid, y_pred, threshold=0.5)"
   ]
  },
  {
   "cell_type": "markdown",
   "metadata": {
    "colab_type": "text",
    "id": "hAtP2vQl2_pX"
   },
   "source": [
    "# Final Prediction"
   ]
  },
  {
   "cell_type": "code",
   "execution_count": 0,
   "metadata": {
    "ExecuteTime": {
     "end_time": "2018-05-25T12:45:09.640512Z",
     "start_time": "2018-05-25T12:44:32.284005Z"
    },
    "colab": {},
    "colab_type": "code",
    "id": "3bxfS1Os2_pY"
   },
   "outputs": [],
   "source": [
    "model.fit(x = X_valid,\n",
    "          y = y_valid,\n",
    "          batch_size = 5000,\n",
    "          epochs = 5)"
   ]
  },
  {
   "cell_type": "code",
   "execution_count": 0,
   "metadata": {
    "colab": {},
    "colab_type": "code",
    "id": "NzAwTF5sWVO2"
   },
   "outputs": [],
   "source": [
    "X_test = test_data[vars]"
   ]
  },
  {
   "cell_type": "code",
   "execution_count": 41,
   "metadata": {
    "colab": {
     "base_uri": "https://localhost:8080/",
     "height": 185
    },
    "colab_type": "code",
    "id": "RvPhbv_0eqRf",
    "outputId": "1e9f9a79-3d8e-4c90-9bf7-cd61839bd667"
   },
   "outputs": [
    {
     "name": "stderr",
     "output_type": "stream",
     "text": [
      "/usr/local/lib/python3.6/dist-packages/pandas/core/indexing.py:205: SettingWithCopyWarning: \n",
      "A value is trying to be set on a copy of a slice from a DataFrame\n",
      "\n",
      "See the caveats in the documentation: http://pandas.pydata.org/pandas-docs/stable/user_guide/indexing.html#returning-a-view-versus-a-copy\n",
      "  self._setitem_with_indexer(indexer, value)\n",
      "/usr/local/lib/python3.6/dist-packages/ipykernel_launcher.py:2: SettingWithCopyWarning: \n",
      "A value is trying to be set on a copy of a slice from a DataFrame\n",
      "\n",
      "See the caveats in the documentation: http://pandas.pydata.org/pandas-docs/stable/user_guide/indexing.html#returning-a-view-versus-a-copy\n",
      "  \n"
     ]
    }
   ],
   "source": [
    "idx = ~X_test.TX_pair.isna()\n",
    "X_test.loc[~idx, list(set(X_test.columns) - {\"TX\", \"TY\", \"X\", \"Y\", \"Z\"})] = np.random.normal(size=(128639, 10))"
   ]
  },
  {
   "cell_type": "code",
   "execution_count": 0,
   "metadata": {
    "colab": {},
    "colab_type": "code",
    "id": "C-7-2VyuCvcd"
   },
   "outputs": [],
   "source": [
    "probas = model.predict(X_test, batch_size=5000)"
   ]
  },
  {
   "cell_type": "code",
   "execution_count": 0,
   "metadata": {
    "ExecuteTime": {
     "end_time": "2018-05-25T13:22:41.085261Z",
     "start_time": "2018-05-25T13:22:38.250204Z"
    },
    "colab": {},
    "colab_type": "code",
    "id": "pW30coRF2_pn"
   },
   "outputs": [],
   "source": [
    "df = pd.DataFrame({'id': test_data[\"index\"], 'signal': probas.reshape(-1)}).groupby('id')\n",
    "agg = df.aggregate(('mean')).loc[:, ['signal']]"
   ]
  },
  {
   "cell_type": "code",
   "execution_count": 0,
   "metadata": {
    "ExecuteTime": {
     "end_time": "2018-05-25T13:23:04.590432Z",
     "start_time": "2018-05-25T13:22:42.997011Z"
    },
    "colab": {},
    "colab_type": "code",
    "id": "AMLvD6B82_p2"
   },
   "outputs": [],
   "source": [
    "agg.to_csv('submission.csv.gz', index=True, compression='gzip')"
   ]
  },
  {
   "cell_type": "code",
   "execution_count": 0,
   "metadata": {
    "colab": {},
    "colab_type": "code",
    "id": "ktq2qrtS2_p4"
   },
   "outputs": [],
   "source": [
    "del df, agg"
   ]
  }
 ],
 "metadata": {
  "accelerator": "GPU",
  "colab": {
   "collapsed_sections": [],
   "machine_shape": "hm",
   "name": "index.ipynb",
   "provenance": []
  },
  "hide_input": false,
  "kernelspec": {
   "display_name": "Python 3",
   "language": "python",
   "name": "python3"
  },
  "language_info": {
   "codemirror_mode": {
    "name": "ipython",
    "version": 3
   },
   "file_extension": ".py",
   "mimetype": "text/x-python",
   "name": "python",
   "nbconvert_exporter": "python",
   "pygments_lexer": "ipython3",
   "version": "3.6.6"
  },
  "nbTranslate": {
   "displayLangs": [
    "*"
   ],
   "hotkey": "alt-t",
   "langInMainMenu": true,
   "sourceLang": "en",
   "targetLang": "fr",
   "useGoogleTranslate": true
  },
  "toc": {
   "nav_menu": {},
   "number_sections": true,
   "sideBar": true,
   "skip_h1_title": false,
   "toc_cell": false,
   "toc_position": {},
   "toc_section_display": "block",
   "toc_window_display": false
  },
  "varInspector": {
   "cols": {
    "lenName": 16,
    "lenType": 16,
    "lenVar": 40
   },
   "kernels_config": {
    "python": {
     "delete_cmd_postfix": "",
     "delete_cmd_prefix": "del ",
     "library": "var_list.py",
     "varRefreshCmd": "print(var_dic_list())"
    },
    "r": {
     "delete_cmd_postfix": ") ",
     "delete_cmd_prefix": "rm(",
     "library": "var_list.r",
     "varRefreshCmd": "cat(var_dic_list()) "
    }
   },
   "oldHeight": 122.222222,
   "position": {
    "height": "40px",
    "left": "1362.89px",
    "right": "20px",
    "top": "120px",
    "width": "251px"
   },
   "types_to_exclude": [
    "module",
    "function",
    "builtin_function_or_method",
    "instance",
    "_Feature"
   ],
   "varInspector_section_display": "none",
   "window_display": true
  }
 },
 "nbformat": 4,
 "nbformat_minor": 1
}
