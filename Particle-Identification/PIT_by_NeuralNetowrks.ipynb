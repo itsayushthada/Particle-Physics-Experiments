{
 "cells": [
  {
   "cell_type": "markdown",
   "metadata": {
    "colab_type": "text",
    "id": "h_lv-_Z2Km7L"
   },
   "source": [
    "# Particle Identification Task Using Neural Networks"
   ]
  },
  {
   "cell_type": "markdown",
   "metadata": {
    "colab_type": "text",
    "id": "7W-zGRxpKm7N"
   },
   "source": [
    "In this project, I will train a classifier to identify type of a particle. There are six particle types: electron, proton, muon, kaon, pion and ghost. Ghost is a particle with other type than the first five or a detector noise. \n",
    "\n",
    "Different particle types remain different responses in the detector systems or subdetectors. Thre are five systems: tracking system, ring imaging Cherenkov detector (RICH), electromagnetic and hadron calorimeters, and muon system.\n",
    "\n",
    "![pid](Images/pid.jpg)\n",
    "\n",
    "My aim is to identify a particle type using the responses in the detector systems. "
   ]
  },
  {
   "cell_type": "code",
   "execution_count": 0,
   "metadata": {
    "colab": {},
    "colab_type": "code",
    "id": "TfBf1fKLKm7P"
   },
   "outputs": [],
   "source": [
    "%matplotlib inline\n",
    "import matplotlib.pyplot as plt\n",
    "import pandas\n",
    "import numpy as np\n",
    "from sklearn.model_selection import train_test_split\n",
    "from sklearn.metrics import log_loss\n",
    "import utils"
   ]
  },
  {
   "cell_type": "markdown",
   "metadata": {
    "colab_type": "text",
    "id": "kLm12l4kKm7T"
   },
   "source": [
    "# Read Data File"
   ]
  },
  {
   "cell_type": "code",
   "execution_count": 0,
   "metadata": {
    "colab": {},
    "colab_type": "code",
    "id": "Vv61twKgKm7U"
   },
   "outputs": [],
   "source": [
    "data = pandas.read_csv('Data/training.csv.gz')"
   ]
  },
  {
   "cell_type": "code",
   "execution_count": 5,
   "metadata": {
    "colab": {
     "base_uri": "https://localhost:8080/",
     "height": 216
    },
    "colab_type": "code",
    "id": "vS__6ZDGKm7Y",
    "outputId": "95a22a26-1d25-494d-f5f6-a1d466563789"
   },
   "outputs": [
    {
     "data": {
      "text/html": [
       "<div>\n",
       "<style scoped>\n",
       "    .dataframe tbody tr th:only-of-type {\n",
       "        vertical-align: middle;\n",
       "    }\n",
       "\n",
       "    .dataframe tbody tr th {\n",
       "        vertical-align: top;\n",
       "    }\n",
       "\n",
       "    .dataframe thead th {\n",
       "        text-align: right;\n",
       "    }\n",
       "</style>\n",
       "<table border=\"1\" class=\"dataframe\">\n",
       "  <thead>\n",
       "    <tr style=\"text-align: right;\">\n",
       "      <th></th>\n",
       "      <th>TrackP</th>\n",
       "      <th>TrackNDoFSubdetector2</th>\n",
       "      <th>BremDLLbeElectron</th>\n",
       "      <th>MuonLooseFlag</th>\n",
       "      <th>FlagSpd</th>\n",
       "      <th>SpdE</th>\n",
       "      <th>EcalDLLbeElectron</th>\n",
       "      <th>DLLmuon</th>\n",
       "      <th>RICHpFlagElectron</th>\n",
       "      <th>EcalDLLbeMuon</th>\n",
       "      <th>TrackQualitySubdetector2</th>\n",
       "      <th>FlagPrs</th>\n",
       "      <th>DLLelectron</th>\n",
       "      <th>DLLkaon</th>\n",
       "      <th>EcalE</th>\n",
       "      <th>TrackQualityPerNDoF</th>\n",
       "      <th>DLLproton</th>\n",
       "      <th>PrsDLLbeElectron</th>\n",
       "      <th>FlagRICH1</th>\n",
       "      <th>MuonLLbeBCK</th>\n",
       "      <th>FlagHcal</th>\n",
       "      <th>EcalShowerLongitudinalParameter</th>\n",
       "      <th>Calo2dFitQuality</th>\n",
       "      <th>TrackPt</th>\n",
       "      <th>TrackDistanceToZ</th>\n",
       "      <th>RICHpFlagPion</th>\n",
       "      <th>HcalDLLbeElectron</th>\n",
       "      <th>Calo3dFitQuality</th>\n",
       "      <th>FlagEcal</th>\n",
       "      <th>MuonLLbeMuon</th>\n",
       "      <th>TrackNDoFSubdetector1</th>\n",
       "      <th>RICHpFlagProton</th>\n",
       "      <th>RICHpFlagKaon</th>\n",
       "      <th>GhostProbability</th>\n",
       "      <th>TrackQualitySubdetector1</th>\n",
       "      <th>Label</th>\n",
       "      <th>RICH_DLLbeBCK</th>\n",
       "      <th>FlagRICH2</th>\n",
       "      <th>FlagBrem</th>\n",
       "      <th>HcalDLLbeMuon</th>\n",
       "      <th>TrackNDoF</th>\n",
       "      <th>RICHpFlagMuon</th>\n",
       "      <th>RICH_DLLbeKaon</th>\n",
       "      <th>RICH_DLLbeElectron</th>\n",
       "      <th>HcalE</th>\n",
       "      <th>MuonFlag</th>\n",
       "      <th>FlagMuon</th>\n",
       "      <th>PrsE</th>\n",
       "      <th>RICH_DLLbeMuon</th>\n",
       "      <th>RICH_DLLbeProton</th>\n",
       "    </tr>\n",
       "  </thead>\n",
       "  <tbody>\n",
       "    <tr>\n",
       "      <th>0</th>\n",
       "      <td>74791.156263</td>\n",
       "      <td>15.0</td>\n",
       "      <td>0.232275</td>\n",
       "      <td>1.0</td>\n",
       "      <td>1.0</td>\n",
       "      <td>3.2</td>\n",
       "      <td>-2.505719</td>\n",
       "      <td>6.604153</td>\n",
       "      <td>1.0</td>\n",
       "      <td>1.929960</td>\n",
       "      <td>17.585680</td>\n",
       "      <td>1.0</td>\n",
       "      <td>-6.411697</td>\n",
       "      <td>-7.213295</td>\n",
       "      <td>0.000001</td>\n",
       "      <td>1.467550</td>\n",
       "      <td>-26.667494</td>\n",
       "      <td>-2.730674</td>\n",
       "      <td>1.0</td>\n",
       "      <td>-5.152923</td>\n",
       "      <td>1.0</td>\n",
       "      <td>-999.000000</td>\n",
       "      <td>19.954819</td>\n",
       "      <td>3141.930677</td>\n",
       "      <td>0.613640</td>\n",
       "      <td>1.0</td>\n",
       "      <td>-0.909544</td>\n",
       "      <td>-999.000000</td>\n",
       "      <td>1.0</td>\n",
       "      <td>-0.661823</td>\n",
       "      <td>4.0</td>\n",
       "      <td>1.0</td>\n",
       "      <td>1.0</td>\n",
       "      <td>0.018913</td>\n",
       "      <td>5.366212</td>\n",
       "      <td>Muon</td>\n",
       "      <td>-21.913000</td>\n",
       "      <td>1.0</td>\n",
       "      <td>1.0</td>\n",
       "      <td>1.015345</td>\n",
       "      <td>28.0</td>\n",
       "      <td>1.0</td>\n",
       "      <td>-7.213300</td>\n",
       "      <td>-0.280200</td>\n",
       "      <td>5586.589846</td>\n",
       "      <td>1.0</td>\n",
       "      <td>1.0</td>\n",
       "      <td>10.422315</td>\n",
       "      <td>-2.081143e-07</td>\n",
       "      <td>-24.824400</td>\n",
       "    </tr>\n",
       "    <tr>\n",
       "      <th>1</th>\n",
       "      <td>2738.489989</td>\n",
       "      <td>15.0</td>\n",
       "      <td>-0.357748</td>\n",
       "      <td>0.0</td>\n",
       "      <td>1.0</td>\n",
       "      <td>3.2</td>\n",
       "      <td>1.864351</td>\n",
       "      <td>0.263651</td>\n",
       "      <td>1.0</td>\n",
       "      <td>-2.061959</td>\n",
       "      <td>20.230680</td>\n",
       "      <td>1.0</td>\n",
       "      <td>5.453014</td>\n",
       "      <td>0.000006</td>\n",
       "      <td>1531.542000</td>\n",
       "      <td>3.570540</td>\n",
       "      <td>-0.711194</td>\n",
       "      <td>1.773806</td>\n",
       "      <td>1.0</td>\n",
       "      <td>-999.000000</td>\n",
       "      <td>0.0</td>\n",
       "      <td>33.187644</td>\n",
       "      <td>0.037601</td>\n",
       "      <td>199.573653</td>\n",
       "      <td>0.465480</td>\n",
       "      <td>1.0</td>\n",
       "      <td>0.434909</td>\n",
       "      <td>13.667366</td>\n",
       "      <td>1.0</td>\n",
       "      <td>-999.000000</td>\n",
       "      <td>10.0</td>\n",
       "      <td>0.0</td>\n",
       "      <td>0.0</td>\n",
       "      <td>0.351206</td>\n",
       "      <td>9.144749</td>\n",
       "      <td>Ghost</td>\n",
       "      <td>-0.703617</td>\n",
       "      <td>0.0</td>\n",
       "      <td>1.0</td>\n",
       "      <td>-2.394644</td>\n",
       "      <td>32.0</td>\n",
       "      <td>1.0</td>\n",
       "      <td>-0.324317</td>\n",
       "      <td>1.707283</td>\n",
       "      <td>-0.000007</td>\n",
       "      <td>0.0</td>\n",
       "      <td>1.0</td>\n",
       "      <td>43.334935</td>\n",
       "      <td>2.771583e+00</td>\n",
       "      <td>-0.648017</td>\n",
       "    </tr>\n",
       "    <tr>\n",
       "      <th>2</th>\n",
       "      <td>2161.409908</td>\n",
       "      <td>17.0</td>\n",
       "      <td>-999.000000</td>\n",
       "      <td>0.0</td>\n",
       "      <td>0.0</td>\n",
       "      <td>-999.0</td>\n",
       "      <td>-999.000000</td>\n",
       "      <td>-999.000000</td>\n",
       "      <td>0.0</td>\n",
       "      <td>-999.000000</td>\n",
       "      <td>11.619878</td>\n",
       "      <td>0.0</td>\n",
       "      <td>-999.000000</td>\n",
       "      <td>-999.000000</td>\n",
       "      <td>-999.000000</td>\n",
       "      <td>0.826442</td>\n",
       "      <td>-999.000000</td>\n",
       "      <td>-999.000000</td>\n",
       "      <td>0.0</td>\n",
       "      <td>-999.000000</td>\n",
       "      <td>0.0</td>\n",
       "      <td>-999.000000</td>\n",
       "      <td>-999.000000</td>\n",
       "      <td>94.829418</td>\n",
       "      <td>0.241891</td>\n",
       "      <td>0.0</td>\n",
       "      <td>-999.000000</td>\n",
       "      <td>-999.000000</td>\n",
       "      <td>0.0</td>\n",
       "      <td>-999.000000</td>\n",
       "      <td>5.0</td>\n",
       "      <td>0.0</td>\n",
       "      <td>0.0</td>\n",
       "      <td>0.195717</td>\n",
       "      <td>1.459992</td>\n",
       "      <td>Ghost</td>\n",
       "      <td>-999.000000</td>\n",
       "      <td>0.0</td>\n",
       "      <td>0.0</td>\n",
       "      <td>-999.000000</td>\n",
       "      <td>27.0</td>\n",
       "      <td>0.0</td>\n",
       "      <td>-999.000000</td>\n",
       "      <td>-999.000000</td>\n",
       "      <td>-999.000000</td>\n",
       "      <td>0.0</td>\n",
       "      <td>0.0</td>\n",
       "      <td>-999.000000</td>\n",
       "      <td>-9.990000e+02</td>\n",
       "      <td>-999.000000</td>\n",
       "    </tr>\n",
       "    <tr>\n",
       "      <th>3</th>\n",
       "      <td>15277.730490</td>\n",
       "      <td>20.0</td>\n",
       "      <td>-0.638984</td>\n",
       "      <td>0.0</td>\n",
       "      <td>1.0</td>\n",
       "      <td>3.2</td>\n",
       "      <td>-2.533918</td>\n",
       "      <td>-8.724949</td>\n",
       "      <td>1.0</td>\n",
       "      <td>-3.253981</td>\n",
       "      <td>15.336305</td>\n",
       "      <td>1.0</td>\n",
       "      <td>-10.616585</td>\n",
       "      <td>-39.447507</td>\n",
       "      <td>4385.688000</td>\n",
       "      <td>1.076721</td>\n",
       "      <td>-29.291509</td>\n",
       "      <td>-3.053104</td>\n",
       "      <td>1.0</td>\n",
       "      <td>-999.000000</td>\n",
       "      <td>1.0</td>\n",
       "      <td>231.190351</td>\n",
       "      <td>2.839508</td>\n",
       "      <td>808.631064</td>\n",
       "      <td>0.680705</td>\n",
       "      <td>1.0</td>\n",
       "      <td>-1.504160</td>\n",
       "      <td>1939.259641</td>\n",
       "      <td>1.0</td>\n",
       "      <td>-999.000000</td>\n",
       "      <td>9.0</td>\n",
       "      <td>0.0</td>\n",
       "      <td>1.0</td>\n",
       "      <td>0.003972</td>\n",
       "      <td>22.950573</td>\n",
       "      <td>Pion</td>\n",
       "      <td>-47.223118</td>\n",
       "      <td>1.0</td>\n",
       "      <td>1.0</td>\n",
       "      <td>-0.321242</td>\n",
       "      <td>36.0</td>\n",
       "      <td>1.0</td>\n",
       "      <td>-35.202221</td>\n",
       "      <td>-14.742319</td>\n",
       "      <td>4482.803707</td>\n",
       "      <td>0.0</td>\n",
       "      <td>1.0</td>\n",
       "      <td>2.194175</td>\n",
       "      <td>-3.070819e+00</td>\n",
       "      <td>-29.291519</td>\n",
       "    </tr>\n",
       "    <tr>\n",
       "      <th>4</th>\n",
       "      <td>7563.700195</td>\n",
       "      <td>19.0</td>\n",
       "      <td>-0.638962</td>\n",
       "      <td>0.0</td>\n",
       "      <td>1.0</td>\n",
       "      <td>3.2</td>\n",
       "      <td>-2.087146</td>\n",
       "      <td>-7.060422</td>\n",
       "      <td>1.0</td>\n",
       "      <td>-0.995816</td>\n",
       "      <td>10.954629</td>\n",
       "      <td>1.0</td>\n",
       "      <td>-8.144945</td>\n",
       "      <td>26.050386</td>\n",
       "      <td>1220.930044</td>\n",
       "      <td>0.439767</td>\n",
       "      <td>21.386587</td>\n",
       "      <td>-2.730648</td>\n",
       "      <td>1.0</td>\n",
       "      <td>-999.000000</td>\n",
       "      <td>1.0</td>\n",
       "      <td>-794.866475</td>\n",
       "      <td>1.209193</td>\n",
       "      <td>1422.569214</td>\n",
       "      <td>0.575066</td>\n",
       "      <td>1.0</td>\n",
       "      <td>-1.576249</td>\n",
       "      <td>1867.165142</td>\n",
       "      <td>1.0</td>\n",
       "      <td>-999.000000</td>\n",
       "      <td>5.0</td>\n",
       "      <td>0.0</td>\n",
       "      <td>0.0</td>\n",
       "      <td>0.015232</td>\n",
       "      <td>3.516173</td>\n",
       "      <td>Proton</td>\n",
       "      <td>15.304688</td>\n",
       "      <td>0.0</td>\n",
       "      <td>1.0</td>\n",
       "      <td>-1.038026</td>\n",
       "      <td>33.0</td>\n",
       "      <td>1.0</td>\n",
       "      <td>25.084287</td>\n",
       "      <td>-10.272412</td>\n",
       "      <td>5107.554680</td>\n",
       "      <td>0.0</td>\n",
       "      <td>1.0</td>\n",
       "      <td>0.000015</td>\n",
       "      <td>-5.373712e+00</td>\n",
       "      <td>23.653087</td>\n",
       "    </tr>\n",
       "  </tbody>\n",
       "</table>\n",
       "</div>"
      ],
      "text/plain": [
       "         TrackP  TrackNDoFSubdetector2  ...  RICH_DLLbeMuon  RICH_DLLbeProton\n",
       "0  74791.156263                   15.0  ...   -2.081143e-07        -24.824400\n",
       "1   2738.489989                   15.0  ...    2.771583e+00         -0.648017\n",
       "2   2161.409908                   17.0  ...   -9.990000e+02       -999.000000\n",
       "3  15277.730490                   20.0  ...   -3.070819e+00        -29.291519\n",
       "4   7563.700195                   19.0  ...   -5.373712e+00         23.653087\n",
       "\n",
       "[5 rows x 50 columns]"
      ]
     },
     "execution_count": 5,
     "metadata": {
      "tags": []
     },
     "output_type": "execute_result"
    }
   ],
   "source": [
    "data.head()"
   ]
  },
  {
   "cell_type": "markdown",
   "metadata": {
    "colab_type": "text",
    "id": "vQmgJYqNKm7b"
   },
   "source": [
    "### Domain Information\n",
    "\n",
    "Following quantities stands for\n",
    "+ **Spd** : Scintillating Pad Detector\n",
    "+ **Prs** : Preshower\n",
    "+ **Ecal** : Electromagnetic Calorimeter\n",
    "+ **Hcal** : Hadronic Calorimeter\n",
    "+ **Brem** : Denotes traces of the Particles that were deflected by Detector."
   ]
  },
  {
   "cell_type": "markdown",
   "metadata": {
    "colab_type": "text",
    "id": "jjFz_eAxKm7c"
   },
   "source": [
    "Column Descripions are as follows:\n",
    "\n",
    "- ***ID*** : id value for tracks (presents only in the test file for the submitting purposes)\n",
    "- ***Label*** : string valued observable denoting particle types. Can take values \"Electron\", \"Muon\", \"Kaon\", \"Proton\", \"Pion\" and \"Ghost\". This column is absent in the test file.\n",
    "- ***FlagSpd*** : flag (0 or 1), if reconstructed track passes through Spd\n",
    "- ***FlagPrs*** : flag (0 or 1), if reconstructed track passes through Prs\n",
    "- ***FlagBrem*** : flag (0 or 1), if reconstructed track passes through Brem\n",
    "- ***FlagEcal*** : flag (0 or 1), if reconstructed track passes through Ecal\n",
    "- ***FlagHcal*** : flag (0 or 1), if reconstructed track passes through Hcal\n",
    "- ***FlagRICH1*** : flag (0 or 1), if reconstructed track passes through the first RICH detector\n",
    "- ***FlagRICH2*** : flag (0 or 1), if reconstructed track passes through the second RICH detector\n",
    "- ***FlagMuon*** : flag (0 or 1), if reconstructed track passes through muon stations (Muon)\n",
    "- ***SpdE*** : energy deposit associated to the track in the Spd\n",
    "- ***PrsE*** : energy deposit associated to the track in the Prs\n",
    "- ***EcalE*** : energy deposit associated to the track in the Hcal\n",
    "- ***HcalE*** : energy deposit associated to the track in the Hcal\n",
    "- ***PrsDLLbeElectron*** : delta log-likelihood for a particle candidate to be electron using information from Prs\n",
    "- ***BremDLLbeElectron*** : delta log-likelihood for a particle candidate to be electron using information from Brem\n",
    "- ***TrackP*** : particle momentum\n",
    "- ***TrackPt*** : particle transverse momentum\n",
    "- ***TrackNDoFSubdetector1*** : number of degrees of freedom for track fit using hits in the tracking sub-detector1\n",
    "- ***TrackQualitySubdetector1*** : chi2 quality of the track fit using hits in the tracking sub-detector1\n",
    "- ***TrackNDoFSubdetector2*** : number of degrees of freedom for track fit using hits in the tracking sub-detector2\n",
    "- ***TrackQualitySubdetector2*** : chi2 quality of the track fit using hits in the  tracking sub-detector2\n",
    "- ***TrackNDoF*** : number of degrees of freedom for track fit using hits in all tracking sub-detectors\n",
    "- ***TrackQualityPerNDoF*** : chi2 quality of the track fit per degree of freedom\n",
    "- ***TrackDistanceToZ*** : distance between track and z-axis (beam axis)\n",
    "- ***Calo2dFitQuality*** : quality of the 2d fit of the clusters in the calorimeter \n",
    "- ***Calo3dFitQuality*** : quality of the 3d fit in the calorimeter with assumption that particle was electron\n",
    "- ***EcalDLLbeElectron*** : delta log-likelihood for a particle candidate to be electron using information from Ecal\n",
    "- ***EcalDLLbeMuon*** : delta log-likelihood for a particle candidate to be muon using information from Ecal\n",
    "- ***EcalShowerLongitudinalParameter*** : longitudinal parameter of Ecal shower\n",
    "- ***HcalDLLbeElectron*** : delta log-likelihood for a particle candidate to be electron using information from Hcal\n",
    "- ***HcalDLLbeMuon*** : delta log-likelihood for a particle candidate to be using information from Hcal\n",
    "- ***RICHpFlagElectron*** : flag (0 or 1) if momentum is greater than threshold for electrons to produce Cherenkov light\n",
    "- ***RICHpFlagProton*** : flag (0 or 1) if momentum is greater than threshold for protons to produce Cherenkov light\n",
    "- ***RICHpFlagPion*** : flag (0 or 1) if momentum is greater than threshold for pions to produce Cherenkov light\n",
    "- ***RICHpFlagKaon*** : flag (0 or 1) if momentum is greater than threshold for kaons to produce Cherenkov light\n",
    "- ***RICHpFlagMuon*** : flag (0 or 1) if momentum is greater than threshold for muons to produce Cherenkov light\n",
    "- ***RICH_DLLbeBCK *** : delta log-likelihood for a particle candidate to be background using information from RICH\n",
    "- ***RICH_DLLbeKaon*** : delta log-likelihood for a particle candidate to be kaon using information from RICH\n",
    "- ***RICH_DLLbeElectron*** : delta log-likelihood for a particle candidate to be electron using information from RICH\n",
    "- ***RICH_DLLbeMuon*** : delta log-likelihood for a particle candidate to be muon using information from RICH\n",
    "- ***RICH_DLLbeProton*** : delta log-likelihood for a particle candidate to be proton using information from RICH\n",
    "- ***MuonFlag*** : muon flag (is this track muon) which is determined from muon stations\n",
    "- ***MuonLooseFlag*** : muon flag (is this track muon) which is determined from muon stations using looser criteria\n",
    "- ***MuonLLbeBCK*** : log-likelihood for a particle candidate to be not muon using information from muon stations\n",
    "- ***MuonLLbeMuon*** : log-likelihood for a particle candidate to be muon using information from muon stations\n",
    "- ***DLLelectron*** : delta log-likelihood for a particle candidate to be electron using information from all subdetectors\n",
    "- ***DLLmuon*** : delta log-likelihood for a particle candidate to be muon using information from all subdetectors\n",
    "- ***DLLkaon*** : delta log-likelihood for a particle candidate to be kaon using information from all subdetectors\n",
    "- ***DLLproton*** : delta log-likelihood for a particle candidate to be proton using information from all subdetectors\n",
    "- ***GhostProbability*** : probability for a particle candidate to be ghost track. This variable is an output of classification model used in the tracking algorithm."
   ]
  },
  {
   "cell_type": "markdown",
   "metadata": {
    "colab_type": "text",
    "id": "kjSLkYlJKm7e"
   },
   "source": [
    "Delta log-likelihood in the features descriptions means the difference between log-likelihood for the mass hypothesis that a given track is left by some particle (for example, electron) and log-likelihood for the mass hypothesis that a given track is left by a pion (so, DLLpion = 0 and thus we don't have these columns). This is done since most tracks (~80%) are left by pions and in practice we actually need to discriminate other particles from pions. In other words, the null hypothesis is that particle is a pion."
   ]
  },
  {
   "cell_type": "code",
   "execution_count": 6,
   "metadata": {
    "colab": {
     "base_uri": "https://localhost:8080/",
     "height": 33
    },
    "colab_type": "code",
    "id": "bSUynztOKm7f",
    "outputId": "ae5d5d35-f099-4124-9a69-eea0d88bf3a4"
   },
   "outputs": [
    {
     "data": {
      "text/plain": [
       "{'Electron', 'Ghost', 'Kaon', 'Muon', 'Pion', 'Proton'}"
      ]
     },
     "execution_count": 6,
     "metadata": {
      "tags": []
     },
     "output_type": "execute_result"
    }
   ],
   "source": [
    "# Classification Labels\n",
    "\n",
    "set(data.Label)"
   ]
  },
  {
   "cell_type": "code",
   "execution_count": 7,
   "metadata": {
    "colab": {
     "base_uri": "https://localhost:8080/",
     "height": 33
    },
    "colab_type": "code",
    "id": "zV0NWrTiKm7k",
    "outputId": "4ae37f49-bed6-4044-9f62-47e7699f9848"
   },
   "outputs": [
    {
     "data": {
      "text/plain": [
       "{0, 1, 2, 3, 4, 5}"
      ]
     },
     "execution_count": 7,
     "metadata": {
      "tags": []
     },
     "output_type": "execute_result"
    }
   ],
   "source": [
    "# Converting Labels into Numerical Factor\n",
    "\n",
    "data['Class'] = utils.get_class_ids(data.Label.values)\n",
    "set(data.Class)"
   ]
  },
  {
   "cell_type": "markdown",
   "metadata": {
    "colab_type": "text",
    "id": "l26yG1PyKm7o"
   },
   "source": [
    "### Training Features\n",
    "\n",
    "The following set of features describe particle responses in the detector systems:\n",
    "\n",
    "![features](Images/features.jpeg)\n",
    "\n",
    "Also there are several combined features. The full list is following."
   ]
  },
  {
   "cell_type": "code",
   "execution_count": 8,
   "metadata": {
    "colab": {
     "base_uri": "https://localhost:8080/",
     "height": 836
    },
    "colab_type": "code",
    "id": "gHF_Xy-zKm7p",
    "outputId": "717a5b4b-bb2c-4b97-b09b-80ca96362527"
   },
   "outputs": [
    {
     "data": {
      "text/plain": [
       "['FlagMuon',\n",
       " 'MuonFlag',\n",
       " 'RICH_DLLbeBCK',\n",
       " 'TrackQualitySubdetector1',\n",
       " 'BremDLLbeElectron',\n",
       " 'TrackNDoFSubdetector1',\n",
       " 'DLLmuon',\n",
       " 'HcalE',\n",
       " 'Calo3dFitQuality',\n",
       " 'DLLelectron',\n",
       " 'DLLproton',\n",
       " 'FlagBrem',\n",
       " 'RICHpFlagProton',\n",
       " 'MuonLLbeMuon',\n",
       " 'TrackNDoF',\n",
       " 'FlagRICH1',\n",
       " 'EcalDLLbeElectron',\n",
       " 'FlagRICH2',\n",
       " 'EcalDLLbeMuon',\n",
       " 'DLLkaon',\n",
       " 'FlagSpd',\n",
       " 'EcalE',\n",
       " 'TrackQualityPerNDoF',\n",
       " 'PrsDLLbeElectron',\n",
       " 'RICHpFlagPion',\n",
       " 'RICH_DLLbeElectron',\n",
       " 'MuonLLbeBCK',\n",
       " 'TrackPt',\n",
       " 'RICHpFlagMuon',\n",
       " 'RICH_DLLbeKaon',\n",
       " 'PrsE',\n",
       " 'HcalDLLbeElectron',\n",
       " 'HcalDLLbeMuon',\n",
       " 'RICH_DLLbeMuon',\n",
       " 'FlagEcal',\n",
       " 'FlagHcal',\n",
       " 'RICH_DLLbeProton',\n",
       " 'TrackP',\n",
       " 'TrackQualitySubdetector2',\n",
       " 'Calo2dFitQuality',\n",
       " 'GhostProbability',\n",
       " 'TrackDistanceToZ',\n",
       " 'TrackNDoFSubdetector2',\n",
       " 'RICHpFlagElectron',\n",
       " 'EcalShowerLongitudinalParameter',\n",
       " 'MuonLooseFlag',\n",
       " 'SpdE',\n",
       " 'RICHpFlagKaon',\n",
       " 'FlagPrs']"
      ]
     },
     "execution_count": 8,
     "metadata": {
      "tags": []
     },
     "output_type": "execute_result"
    }
   ],
   "source": [
    "features = list(set(data.columns) - {'Label', 'Class'})\n",
    "features"
   ]
  },
  {
   "cell_type": "markdown",
   "metadata": {
    "colab_type": "text",
    "id": "xwkEXnIEKm7s"
   },
   "source": [
    "### Feature Engineering"
   ]
  },
  {
   "cell_type": "code",
   "execution_count": 0,
   "metadata": {
    "colab": {},
    "colab_type": "code",
    "id": "zpFAdZdwKm7t"
   },
   "outputs": [],
   "source": [
    "from sklearn.preprocessing import MinMaxScaler\n",
    "from itertools import combinations"
   ]
  },
  {
   "cell_type": "code",
   "execution_count": 0,
   "metadata": {
    "colab": {},
    "colab_type": "code",
    "id": "xNawGmBiKm7x"
   },
   "outputs": [],
   "source": [
    "# Adding New Features\n",
    "\n",
    "def add_features(data):\n",
    "    trans = MinMaxScaler()\n",
    "    data[\"TRACK\"] = (1e-20 + trans.fit_transform(data[[x for x in data.columns if \"track\" in x.lower()]])).prod(axis=1)\n",
    "    data[\"RICH\"] = (1e-20 + trans.fit_transform(data[[x for x in data.columns if \"rich\" in x.lower()]])).prod(axis=1)\n",
    "    data[\"ELECTRO\"] = (1e-20 + trans.fit_transform(data[[x for x in data.columns if \"ecal\" in x.lower()]])).prod(axis=1)\n",
    "    data[\"HADRON\"] = (1e-20 + trans.fit_transform(data[[x for x in data.columns if \"hcal\" in x.lower()]])).prod(axis=1)\n",
    "    data[\"MUON\"] = (1e-20 + trans.fit_transform(data[[x for x in data.columns if \"muon\" in x.lower() and \n",
    "                                                                                 \"rich\" not in x.lower() and \n",
    "                                                                                 \"ecal\" not in x.lower()]])).prod(axis=1)\n",
    "    \n",
    "    for a,b in combinations([\"TRACK\", \"RICH\", \"ELECTRO\", \"HADRON\", \"MUON\"], 2):\n",
    "        data[\"{}__X__{}\".format(a.lower(), b.lower())] = data[a] * data[b]\n",
    "\n",
    "    mask_df = 1 * (data[ data.columns[data.min() == -999] ] != -999)\n",
    "    mask_df.columns = [x+\"_mask\" for x in mask_df.columns]\n",
    "\n",
    "    square_df = 0\n",
    "    if \"Label\" in data.columns:\n",
    "        square_df = data.drop(\"Label\", axis=1) **2\n",
    "    else:\n",
    "        square_df = data**2\n",
    "    square_df.columns = [x+\"_sq\" for x in square_df.columns]\n",
    "\n",
    "    data = pandas.concat([data, mask_df, square_df], axis=1)\n",
    "\n",
    "    return data"
   ]
  },
  {
   "cell_type": "code",
   "execution_count": 0,
   "metadata": {
    "colab": {},
    "colab_type": "code",
    "id": "8jjGE86cKm71"
   },
   "outputs": [],
   "source": [
    "# Update the Features list\n",
    "\n",
    "features = list(set(data.columns) - {'Label', 'Class'})"
   ]
  },
  {
   "cell_type": "markdown",
   "metadata": {
    "colab_type": "text",
    "id": "zJd3q757Km74"
   },
   "source": [
    "# Data Splits"
   ]
  },
  {
   "cell_type": "code",
   "execution_count": 0,
   "metadata": {
    "colab": {},
    "colab_type": "code",
    "id": "DfWvPKddKm76"
   },
   "outputs": [],
   "source": [
    "training_data, validation_data = train_test_split(data, random_state=11, train_size=0.90)"
   ]
  },
  {
   "cell_type": "code",
   "execution_count": 13,
   "metadata": {
    "colab": {
     "base_uri": "https://localhost:8080/",
     "height": 33
    },
    "colab_type": "code",
    "id": "X1hj0fL8Km79",
    "outputId": "6edca367-9ed3-4c03-ac96-46c017145e4a"
   },
   "outputs": [
    {
     "data": {
      "text/plain": [
       "(1080000, 120000)"
      ]
     },
     "execution_count": 13,
     "metadata": {
      "tags": []
     },
     "output_type": "execute_result"
    }
   ],
   "source": [
    "len(training_data), len(validation_data)"
   ]
  },
  {
   "cell_type": "markdown",
   "metadata": {
    "colab_type": "text",
    "id": "eRs5TxppKm8A"
   },
   "source": [
    "# Neural Network Classifier"
   ]
  },
  {
   "cell_type": "code",
   "execution_count": 14,
   "metadata": {
    "colab": {
     "base_uri": "https://localhost:8080/",
     "height": 79
    },
    "colab_type": "code",
    "id": "ilFlzzgqKm8B",
    "outputId": "da244e2d-6e67-49e5-ce61-f3d7d9ed520f"
   },
   "outputs": [
    {
     "name": "stderr",
     "output_type": "stream",
     "text": [
      "Using TensorFlow backend.\n"
     ]
    },
    {
     "data": {
      "text/html": [
       "<p style=\"color: red;\">\n",
       "The default version of TensorFlow in Colab will soon switch to TensorFlow 2.x.<br>\n",
       "We recommend you <a href=\"https://www.tensorflow.org/guide/migrate\" target=\"_blank\">upgrade</a> now \n",
       "or ensure your notebook will continue to use TensorFlow 1.x via the <code>%tensorflow_version 1.x</code> magic:\n",
       "<a href=\"https://colab.research.google.com/notebooks/tensorflow_version.ipynb\" target=\"_blank\">more info</a>.</p>\n"
      ],
      "text/plain": [
       "<IPython.core.display.HTML object>"
      ]
     },
     "metadata": {
      "tags": []
     },
     "output_type": "display_data"
    }
   ],
   "source": [
    "from keras.layers.core import Dense, Activation, Dropout, Reshape\n",
    "from keras.layers.advanced_activations import LeakyReLU, PReLU, ReLU, Softmax\n",
    "from keras.layers.normalization import BatchNormalization\n",
    "from keras.layers import Input, Embedding, multiply\n",
    "import keras.initializers as inits\n",
    "from keras.models import Sequential, Model\n",
    "from keras.optimizers import Adam\n",
    "from keras.utils import np_utils"
   ]
  },
  {
   "cell_type": "code",
   "execution_count": 0,
   "metadata": {
    "colab": {},
    "colab_type": "code",
    "id": "jcFgs-CvKm8G"
   },
   "outputs": [],
   "source": [
    "def classifier(input_dim):\n",
    "    model = Sequential()\n",
    "    model.add(Dense(100, input_dim=input_dim, kernel_initializer=inits.glorot_normal()))\n",
    "    model.add(BatchNormalization())\n",
    "    model.add(ReLU())\n",
    "    \n",
    "    model.add(Dense(100, kernel_initializer=inits.glorot_normal()))\n",
    "    model.add(BatchNormalization())\n",
    "    model.add(ReLU())\n",
    "\n",
    "    model.add(Dense(6, kernel_initializer=inits.glorot_normal()))\n",
    "    model.add(Softmax())\n",
    "\n",
    "    model.compile(loss='categorical_crossentropy', optimizer=Adam())\n",
    "    return model"
   ]
  },
  {
   "cell_type": "markdown",
   "metadata": {
    "colab_type": "text",
    "id": "mDT0ZtLMKm8K"
   },
   "source": [
    "### Data Preprocessing"
   ]
  },
  {
   "cell_type": "code",
   "execution_count": 0,
   "metadata": {
    "colab": {},
    "colab_type": "code",
    "id": "Gu6OvRv4Km8L"
   },
   "outputs": [],
   "source": [
    "from sklearn.preprocessing import StandardScaler"
   ]
  },
  {
   "cell_type": "code",
   "execution_count": 0,
   "metadata": {
    "colab": {},
    "colab_type": "code",
    "id": "MUYBT8r6Km8O"
   },
   "outputs": [],
   "source": [
    "sd_obj = StandardScaler()\n",
    "sd_obj.fit(training_data[features].values)\n",
    "\n",
    "X_train = sd_obj.transform(training_data[features].values)"
   ]
  },
  {
   "cell_type": "markdown",
   "metadata": {
    "colab_type": "text",
    "id": "oA8DEq13Km8R"
   },
   "source": [
    "### Training"
   ]
  },
  {
   "cell_type": "code",
   "execution_count": 96,
   "metadata": {
    "colab": {
     "base_uri": "https://localhost:8080/",
     "height": 503
    },
    "colab_type": "code",
    "id": "mXVTrDstKm8S",
    "outputId": "fd3ab3c5-8983-4fdc-a2e0-eae4a689a63a"
   },
   "outputs": [
    {
     "name": "stdout",
     "output_type": "stream",
     "text": [
      "Epoch 1/10\n",
      "1080000/1080000 [==============================] - 24s 22us/step - loss: 0.7319\n",
      "Epoch 2/10\n",
      "1080000/1080000 [==============================] - 24s 22us/step - loss: 0.6474\n",
      "Epoch 3/10\n",
      "1080000/1080000 [==============================] - 23s 21us/step - loss: 0.6374\n",
      "Epoch 4/10\n",
      "1080000/1080000 [==============================] - 24s 22us/step - loss: 0.6312\n",
      "Epoch 5/10\n",
      " 755456/1080000 [===================>..........] - ETA: 7s - loss: 0.6278"
     ]
    },
    {
     "ename": "KeyboardInterrupt",
     "evalue": "ignored",
     "output_type": "error",
     "traceback": [
      "\u001b[0;31m---------------------------------------------------------------------------\u001b[0m",
      "\u001b[0;31mKeyboardInterrupt\u001b[0m                         Traceback (most recent call last)",
      "\u001b[0;32m<ipython-input-96-670c382341fc>\u001b[0m in \u001b[0;36m<module>\u001b[0;34m()\u001b[0m\n\u001b[1;32m      5\u001b[0m       \u001b[0mverbose\u001b[0m\u001b[0;34m=\u001b[0m\u001b[0;36m1\u001b[0m\u001b[0;34m,\u001b[0m\u001b[0;34m\u001b[0m\u001b[0;34m\u001b[0m\u001b[0m\n\u001b[1;32m      6\u001b[0m       \u001b[0mepochs\u001b[0m\u001b[0;34m=\u001b[0m\u001b[0;36m10\u001b[0m\u001b[0;34m,\u001b[0m\u001b[0;34m\u001b[0m\u001b[0;34m\u001b[0m\u001b[0m\n\u001b[0;32m----> 7\u001b[0;31m       batch_size=256)\n\u001b[0m",
      "\u001b[0;32m/usr/local/lib/python3.6/dist-packages/keras/engine/training.py\u001b[0m in \u001b[0;36mfit\u001b[0;34m(self, x, y, batch_size, epochs, verbose, callbacks, validation_split, validation_data, shuffle, class_weight, sample_weight, initial_epoch, steps_per_epoch, validation_steps, validation_freq, max_queue_size, workers, use_multiprocessing, **kwargs)\u001b[0m\n\u001b[1;32m   1176\u001b[0m                                         \u001b[0msteps_per_epoch\u001b[0m\u001b[0;34m=\u001b[0m\u001b[0msteps_per_epoch\u001b[0m\u001b[0;34m,\u001b[0m\u001b[0;34m\u001b[0m\u001b[0;34m\u001b[0m\u001b[0m\n\u001b[1;32m   1177\u001b[0m                                         \u001b[0mvalidation_steps\u001b[0m\u001b[0;34m=\u001b[0m\u001b[0mvalidation_steps\u001b[0m\u001b[0;34m,\u001b[0m\u001b[0;34m\u001b[0m\u001b[0;34m\u001b[0m\u001b[0m\n\u001b[0;32m-> 1178\u001b[0;31m                                         validation_freq=validation_freq)\n\u001b[0m\u001b[1;32m   1179\u001b[0m \u001b[0;34m\u001b[0m\u001b[0m\n\u001b[1;32m   1180\u001b[0m     def evaluate(self,\n",
      "\u001b[0;32m/usr/local/lib/python3.6/dist-packages/keras/engine/training_arrays.py\u001b[0m in \u001b[0;36mfit_loop\u001b[0;34m(model, fit_function, fit_inputs, out_labels, batch_size, epochs, verbose, callbacks, val_function, val_inputs, shuffle, callback_metrics, initial_epoch, steps_per_epoch, validation_steps, validation_freq)\u001b[0m\n\u001b[1;32m    202\u001b[0m                     \u001b[0mins_batch\u001b[0m\u001b[0;34m[\u001b[0m\u001b[0mi\u001b[0m\u001b[0;34m]\u001b[0m \u001b[0;34m=\u001b[0m \u001b[0mins_batch\u001b[0m\u001b[0;34m[\u001b[0m\u001b[0mi\u001b[0m\u001b[0;34m]\u001b[0m\u001b[0;34m.\u001b[0m\u001b[0mtoarray\u001b[0m\u001b[0;34m(\u001b[0m\u001b[0;34m)\u001b[0m\u001b[0;34m\u001b[0m\u001b[0;34m\u001b[0m\u001b[0m\n\u001b[1;32m    203\u001b[0m \u001b[0;34m\u001b[0m\u001b[0m\n\u001b[0;32m--> 204\u001b[0;31m                 \u001b[0mouts\u001b[0m \u001b[0;34m=\u001b[0m \u001b[0mfit_function\u001b[0m\u001b[0;34m(\u001b[0m\u001b[0mins_batch\u001b[0m\u001b[0;34m)\u001b[0m\u001b[0;34m\u001b[0m\u001b[0;34m\u001b[0m\u001b[0m\n\u001b[0m\u001b[1;32m    205\u001b[0m                 \u001b[0mouts\u001b[0m \u001b[0;34m=\u001b[0m \u001b[0mto_list\u001b[0m\u001b[0;34m(\u001b[0m\u001b[0mouts\u001b[0m\u001b[0;34m)\u001b[0m\u001b[0;34m\u001b[0m\u001b[0;34m\u001b[0m\u001b[0m\n\u001b[1;32m    206\u001b[0m                 \u001b[0;32mfor\u001b[0m \u001b[0ml\u001b[0m\u001b[0;34m,\u001b[0m \u001b[0mo\u001b[0m \u001b[0;32min\u001b[0m \u001b[0mzip\u001b[0m\u001b[0;34m(\u001b[0m\u001b[0mout_labels\u001b[0m\u001b[0;34m,\u001b[0m \u001b[0mouts\u001b[0m\u001b[0;34m)\u001b[0m\u001b[0;34m:\u001b[0m\u001b[0;34m\u001b[0m\u001b[0;34m\u001b[0m\u001b[0m\n",
      "\u001b[0;32m/usr/local/lib/python3.6/dist-packages/keras/backend/tensorflow_backend.py\u001b[0m in \u001b[0;36m__call__\u001b[0;34m(self, inputs)\u001b[0m\n\u001b[1;32m   2977\u001b[0m                     \u001b[0;32mreturn\u001b[0m \u001b[0mself\u001b[0m\u001b[0;34m.\u001b[0m\u001b[0m_legacy_call\u001b[0m\u001b[0;34m(\u001b[0m\u001b[0minputs\u001b[0m\u001b[0;34m)\u001b[0m\u001b[0;34m\u001b[0m\u001b[0;34m\u001b[0m\u001b[0m\n\u001b[1;32m   2978\u001b[0m \u001b[0;34m\u001b[0m\u001b[0m\n\u001b[0;32m-> 2979\u001b[0;31m             \u001b[0;32mreturn\u001b[0m \u001b[0mself\u001b[0m\u001b[0;34m.\u001b[0m\u001b[0m_call\u001b[0m\u001b[0;34m(\u001b[0m\u001b[0minputs\u001b[0m\u001b[0;34m)\u001b[0m\u001b[0;34m\u001b[0m\u001b[0;34m\u001b[0m\u001b[0m\n\u001b[0m\u001b[1;32m   2980\u001b[0m         \u001b[0;32melse\u001b[0m\u001b[0;34m:\u001b[0m\u001b[0;34m\u001b[0m\u001b[0;34m\u001b[0m\u001b[0m\n\u001b[1;32m   2981\u001b[0m             \u001b[0;32mif\u001b[0m \u001b[0mpy_any\u001b[0m\u001b[0;34m(\u001b[0m\u001b[0mis_tensor\u001b[0m\u001b[0;34m(\u001b[0m\u001b[0mx\u001b[0m\u001b[0;34m)\u001b[0m \u001b[0;32mfor\u001b[0m \u001b[0mx\u001b[0m \u001b[0;32min\u001b[0m \u001b[0minputs\u001b[0m\u001b[0;34m)\u001b[0m\u001b[0;34m:\u001b[0m\u001b[0;34m\u001b[0m\u001b[0;34m\u001b[0m\u001b[0m\n",
      "\u001b[0;32m/usr/local/lib/python3.6/dist-packages/keras/backend/tensorflow_backend.py\u001b[0m in \u001b[0;36m_call\u001b[0;34m(self, inputs)\u001b[0m\n\u001b[1;32m   2935\u001b[0m             \u001b[0mfetched\u001b[0m \u001b[0;34m=\u001b[0m \u001b[0mself\u001b[0m\u001b[0;34m.\u001b[0m\u001b[0m_callable_fn\u001b[0m\u001b[0;34m(\u001b[0m\u001b[0;34m*\u001b[0m\u001b[0marray_vals\u001b[0m\u001b[0;34m,\u001b[0m \u001b[0mrun_metadata\u001b[0m\u001b[0;34m=\u001b[0m\u001b[0mself\u001b[0m\u001b[0;34m.\u001b[0m\u001b[0mrun_metadata\u001b[0m\u001b[0;34m)\u001b[0m\u001b[0;34m\u001b[0m\u001b[0;34m\u001b[0m\u001b[0m\n\u001b[1;32m   2936\u001b[0m         \u001b[0;32melse\u001b[0m\u001b[0;34m:\u001b[0m\u001b[0;34m\u001b[0m\u001b[0;34m\u001b[0m\u001b[0m\n\u001b[0;32m-> 2937\u001b[0;31m             \u001b[0mfetched\u001b[0m \u001b[0;34m=\u001b[0m \u001b[0mself\u001b[0m\u001b[0;34m.\u001b[0m\u001b[0m_callable_fn\u001b[0m\u001b[0;34m(\u001b[0m\u001b[0;34m*\u001b[0m\u001b[0marray_vals\u001b[0m\u001b[0;34m)\u001b[0m\u001b[0;34m\u001b[0m\u001b[0;34m\u001b[0m\u001b[0m\n\u001b[0m\u001b[1;32m   2938\u001b[0m         \u001b[0;32mreturn\u001b[0m \u001b[0mfetched\u001b[0m\u001b[0;34m[\u001b[0m\u001b[0;34m:\u001b[0m\u001b[0mlen\u001b[0m\u001b[0;34m(\u001b[0m\u001b[0mself\u001b[0m\u001b[0;34m.\u001b[0m\u001b[0moutputs\u001b[0m\u001b[0;34m)\u001b[0m\u001b[0;34m]\u001b[0m\u001b[0;34m\u001b[0m\u001b[0;34m\u001b[0m\u001b[0m\n\u001b[1;32m   2939\u001b[0m \u001b[0;34m\u001b[0m\u001b[0m\n",
      "\u001b[0;32m/usr/local/lib/python3.6/dist-packages/tensorflow_core/python/client/session.py\u001b[0m in \u001b[0;36m__call__\u001b[0;34m(self, *args, **kwargs)\u001b[0m\n\u001b[1;32m   1470\u001b[0m         ret = tf_session.TF_SessionRunCallable(self._session._session,\n\u001b[1;32m   1471\u001b[0m                                                \u001b[0mself\u001b[0m\u001b[0;34m.\u001b[0m\u001b[0m_handle\u001b[0m\u001b[0;34m,\u001b[0m \u001b[0margs\u001b[0m\u001b[0;34m,\u001b[0m\u001b[0;34m\u001b[0m\u001b[0;34m\u001b[0m\u001b[0m\n\u001b[0;32m-> 1472\u001b[0;31m                                                run_metadata_ptr)\n\u001b[0m\u001b[1;32m   1473\u001b[0m         \u001b[0;32mif\u001b[0m \u001b[0mrun_metadata\u001b[0m\u001b[0;34m:\u001b[0m\u001b[0;34m\u001b[0m\u001b[0;34m\u001b[0m\u001b[0m\n\u001b[1;32m   1474\u001b[0m           \u001b[0mproto_data\u001b[0m \u001b[0;34m=\u001b[0m \u001b[0mtf_session\u001b[0m\u001b[0;34m.\u001b[0m\u001b[0mTF_GetBuffer\u001b[0m\u001b[0;34m(\u001b[0m\u001b[0mrun_metadata_ptr\u001b[0m\u001b[0;34m)\u001b[0m\u001b[0;34m\u001b[0m\u001b[0;34m\u001b[0m\u001b[0m\n",
      "\u001b[0;31mKeyboardInterrupt\u001b[0m: "
     ]
    }
   ],
   "source": [
    "nn = classifier(X_train.shape[1])\n",
    "\n",
    "nn.fit(X_train, \n",
    "      np_utils.to_categorical(training_data.Class.values), \n",
    "      verbose=1, \n",
    "      epochs=10, \n",
    "      batch_size=256)"
   ]
  },
  {
   "cell_type": "markdown",
   "metadata": {
    "colab_type": "text",
    "id": "6GciYIo1Km8V"
   },
   "source": [
    "### Log Loss on the Validation sample"
   ]
  },
  {
   "cell_type": "code",
   "execution_count": 0,
   "metadata": {
    "colab": {},
    "colab_type": "code",
    "id": "lb1I2qLZKm8X"
   },
   "outputs": [],
   "source": [
    "X_valid = sd_obj.transform(validation_data[features].values)"
   ]
  },
  {
   "cell_type": "code",
   "execution_count": 20,
   "metadata": {
    "colab": {
     "base_uri": "https://localhost:8080/",
     "height": 33
    },
    "colab_type": "code",
    "id": "Tor4sJiDKm8a",
    "outputId": "b48fe07e-620e-4009-f268-74d15af7b728"
   },
   "outputs": [
    {
     "data": {
      "text/plain": [
       "0.5781813828448518"
      ]
     },
     "execution_count": 20,
     "metadata": {
      "tags": []
     },
     "output_type": "execute_result"
    }
   ],
   "source": [
    "# Prediction for each Track [Aim: Hit lower than or equal to 0.525]\n",
    "\n",
    "proba_nn = nn.predict_proba(X_valid)\n",
    "log_loss(validation_data.Class.values, proba_nn)"
   ]
  },
  {
   "cell_type": "markdown",
   "metadata": {
    "colab_type": "text",
    "id": "iEZ1r0cTKm8e"
   },
   "source": [
    "### Quality Metrics\n",
    "\n",
    "Plotting ROC curves and signal efficiency dependece from particle mometum and transverse momentum values."
   ]
  },
  {
   "cell_type": "code",
   "execution_count": 0,
   "metadata": {
    "colab": {},
    "colab_type": "code",
    "id": "2vRzOM_TKm8f"
   },
   "outputs": [],
   "source": [
    "proba = proba_nn"
   ]
  },
  {
   "cell_type": "code",
   "execution_count": 22,
   "metadata": {
    "colab": {
     "base_uri": "https://localhost:8080/",
     "height": 416
    },
    "colab_type": "code",
    "id": "R5IkkebsKm8j",
    "outputId": "2108363b-06c0-47a6-e24c-3e0d5df6031e"
   },
   "outputs": [
    {
     "data": {
      "image/png": "[encoded data removed]",
      "text/plain": [
       "<Figure size 648x432 with 1 Axes>"
      ]
     },
     "metadata": {
      "tags": []
     },
     "output_type": "display_data"
    }
   ],
   "source": [
    "utils.plot_roc_curves(proba, validation_data.Class.values)"
   ]
  },
  {
   "cell_type": "code",
   "execution_count": 23,
   "metadata": {
    "colab": {
     "base_uri": "https://localhost:8080/",
     "height": 765
    },
    "colab_type": "code",
    "id": "Z_K0iadJKm8n",
    "outputId": "e9a268e2-a049-4f9d-daf8-139cd69b6268"
   },
   "outputs": [
    {
     "data": {
      "image/png": "[encoded data removed]",
      "text/plain": [
       "<Figure size 792x756 with 6 Axes>"
      ]
     },
     "metadata": {
      "tags": []
     },
     "output_type": "display_data"
    }
   ],
   "source": [
    "utils.plot_signal_efficiency_on_p(proba, validation_data.Class.values, validation_data.TrackP.values, 60, 50)\n",
    "plt.show()"
   ]
  },
  {
   "cell_type": "code",
   "execution_count": 24,
   "metadata": {
    "colab": {
     "base_uri": "https://localhost:8080/",
     "height": 765
    },
    "colab_type": "code",
    "id": "w0QMRE57Km8r",
    "outputId": "306c9eb0-1f6b-499c-8619-608df39f7ee7"
   },
   "outputs": [
    {
     "data": {
      "image/png": "[encoded data removed]",
      "text/plain": [
       "<Figure size 792x756 with 6 Axes>"
      ]
     },
     "metadata": {
      "tags": []
     },
     "output_type": "display_data"
    }
   ],
   "source": [
    "utils.plot_signal_efficiency_on_pt(proba, validation_data.Class.values, validation_data.TrackPt.values, 60, 50)\n",
    "plt.show()"
   ]
  },
  {
   "cell_type": "markdown",
   "metadata": {
    "colab_type": "text",
    "id": "XnjP-4sqKm8u"
   },
   "source": [
    "# Decorrelation Using Adversarial Neural Network"
   ]
  },
  {
   "cell_type": "code",
   "execution_count": 0,
   "metadata": {
    "colab": {},
    "colab_type": "code",
    "id": "bDjW1UG2ePYO"
   },
   "outputs": [],
   "source": [
    "from keras.utils.generic_utils import Progbar\n",
    "from collections import defaultdict"
   ]
  },
  {
   "cell_type": "code",
   "execution_count": 0,
   "metadata": {
    "colab": {},
    "colab_type": "code",
    "id": "WYol6HfxsEmI"
   },
   "outputs": [],
   "source": [
    "def classifier(input_dim):\n",
    "    model = Sequential()\n",
    "    model.add(Dense(100, kernel_initializer=inits.glorot_normal()))\n",
    "    model.add(BatchNormalization())\n",
    "    model.add(ReLU())\n",
    "    model.add(Dense(100, kernel_initializer=inits.glorot_normal()))\n",
    "    model.add(BatchNormalization())\n",
    "    model.add(ReLU())\n",
    "    \n",
    "    particle = Input(shape=(input_dim,))\n",
    "    features = model(particle)\n",
    "\n",
    "    # first output (name=generation) is whether or not the discriminator\n",
    "    # thinks the image that is being shown is fake, and the second output\n",
    "    # (name=auxiliary) is the class that the discriminator thinks the image\n",
    "    # belongs to.\n",
    "    fake = Dense(1, activation='sigmoid', name='generation', kernel_initializer=inits.glorot_normal())(features)\n",
    "    aux = Dense(num_classes, activation='softmax', name='auxiliary', kernel_initializer=inits.glorot_normal())(features)\n",
    "\n",
    "    return Model(particle, [fake, aux])"
   ]
  },
  {
   "cell_type": "code",
   "execution_count": 0,
   "metadata": {
    "colab": {},
    "colab_type": "code",
    "id": "X4XRQUagKm8v"
   },
   "outputs": [],
   "source": [
    "def adversary(latent_size, input_dim, num_classes):\n",
    "    model = Sequential()\n",
    "    model.add(Dense(100, kernel_initializer=inits.glorot_normal()))\n",
    "    model.add(BatchNormalization())\n",
    "    model.add(LeakyReLU())\n",
    "    model.add(Dense(100, kernel_initializer=inits.glorot_normal()))\n",
    "    model.add(BatchNormalization())\n",
    "    model.add(LeakyReLU())\n",
    "    model.add(Dense(input_dim, kernel_initializer=inits.glorot_normal()))\n",
    "\n",
    "    # Z Space\n",
    "    latent = Input(shape=(latent_size, ))\n",
    "\n",
    "    # Label\n",
    "    particle_class = Input(shape=(1,), dtype='int32')\n",
    "\n",
    "    cls = Embedding(num_classes, latent_size, embeddings_initializer='glorot_normal')(particle_class)\n",
    "\n",
    "    # Hadamard Product between z-space and a Class Conditional Embedding\n",
    "    h = multiply([latent, cls])\n",
    "    h = Reshape((latent_size,))(h)\n",
    "    fake_data = model(h)\n",
    "\n",
    "    return Model([latent, particle_class], fake_data)"
   ]
  },
  {
   "cell_type": "code",
   "execution_count": 0,
   "metadata": {
    "colab": {},
    "colab_type": "code",
    "id": "i7tJhkj6zuII"
   },
   "outputs": [],
   "source": [
    "temp = adversary(100, 49, 6)\n",
    "res = temp.predict([np.random.randn(4,100), np.random.randint(0,6,4)])"
   ]
  },
  {
   "cell_type": "code",
   "execution_count": 0,
   "metadata": {
    "colab": {},
    "colab_type": "code",
    "id": "IzbPGekONMe4"
   },
   "outputs": [],
   "source": [
    "latent_size = 100\n",
    "num_classes = 6"
   ]
  },
  {
   "cell_type": "code",
   "execution_count": 175,
   "metadata": {
    "colab": {
     "base_uri": "https://localhost:8080/",
     "height": 284
    },
    "colab_type": "code",
    "id": "jYlDugY_Km83",
    "outputId": "853dd838-5266-470b-94aa-a535d471874c"
   },
   "outputs": [
    {
     "name": "stdout",
     "output_type": "stream",
     "text": [
      "Model: \"model_22\"\n",
      "__________________________________________________________________________________________________\n",
      "Layer (type)                    Output Shape         Param #     Connected to                     \n",
      "==================================================================================================\n",
      "input_39 (InputLayer)           (None, 49)           0                                            \n",
      "__________________________________________________________________________________________________\n",
      "sequential_22 (Sequential)      (None, 100)          15900       input_39[0][0]                   \n",
      "__________________________________________________________________________________________________\n",
      "generation (Dense)              (None, 1)            101         sequential_22[1][0]              \n",
      "__________________________________________________________________________________________________\n",
      "auxiliary (Dense)               (None, 6)            606         sequential_22[1][0]              \n",
      "==================================================================================================\n",
      "Total params: 16,607\n",
      "Trainable params: 16,207\n",
      "Non-trainable params: 400\n",
      "__________________________________________________________________________________________________\n"
     ]
    }
   ],
   "source": [
    "# build the discriminator\n",
    "discriminator = classifier(X_train.shape[1])\n",
    "discriminator.compile(\n",
    "        optimizer=Adam(),\n",
    "        loss=['binary_crossentropy', 'categorical_crossentropy']\n",
    "    )\n",
    "discriminator.summary()"
   ]
  },
  {
   "cell_type": "code",
   "execution_count": 182,
   "metadata": {
    "colab": {
     "base_uri": "https://localhost:8080/",
     "height": 301
    },
    "colab_type": "code",
    "id": "qq9CFzXqtpZ6",
    "outputId": "3620d33c-2f97-4d4e-dd3c-a2b90a198fea"
   },
   "outputs": [
    {
     "name": "stdout",
     "output_type": "stream",
     "text": [
      "Model: \"model_26\"\n",
      "__________________________________________________________________________________________________\n",
      "Layer (type)                    Output Shape         Param #     Connected to                     \n",
      "==================================================================================================\n",
      "input_46 (InputLayer)           (None, 100)          0                                            \n",
      "__________________________________________________________________________________________________\n",
      "input_4 (InputLayer)            (None, 1)            0                                            \n",
      "__________________________________________________________________________________________________\n",
      "model_25 (Model)                (None, 49)           26549       input_46[0][0]                   \n",
      "                                                                 input_4[0][0]                    \n",
      "__________________________________________________________________________________________________\n",
      "model_22 (Model)                [(None, 1), (None, 6 16607       model_25[1][0]                   \n",
      "==================================================================================================\n",
      "Total params: 43,156\n",
      "Trainable params: 26,149\n",
      "Non-trainable params: 17,007\n",
      "__________________________________________________________________________________________________\n"
     ]
    }
   ],
   "source": [
    "# build the generator\n",
    "generator = adversary(latent_size, len(features), num_classes)\n",
    "\n",
    "latent = Input(shape=(latent_size, ))\n",
    "particle_class = Input(shape=(1,), dtype='int32')\n",
    "\n",
    "# get a fake image\n",
    "fake = generator([latent, image_class])\n",
    "\n",
    "# we only want to be able to train generation for the combined model\n",
    "discriminator.trainable = False\n",
    "fake, aux = discriminator(fake)\n",
    "combined = Model([latent, image_class], [fake, aux])\n",
    "\n",
    "combined.compile(\n",
    "    optimizer=Adam(),\n",
    "    loss=['binary_crossentropy', 'categorical_crossentropy']\n",
    ")\n",
    "combined.summary()"
   ]
  },
  {
   "cell_type": "markdown",
   "metadata": {
    "colab_type": "text",
    "id": "vsK_ti8gKm9A"
   },
   "source": [
    "### Training"
   ]
  },
  {
   "cell_type": "code",
   "execution_count": 0,
   "metadata": {
    "colab": {},
    "colab_type": "code",
    "id": "rNImyw_9Km9B"
   },
   "outputs": [],
   "source": [
    "epochs = 10\n",
    "batch_size = 256"
   ]
  },
  {
   "cell_type": "code",
   "execution_count": 0,
   "metadata": {
    "colab": {},
    "colab_type": "code",
    "id": "YeraHZRqfvEl"
   },
   "outputs": [],
   "source": [
    "X_train = training_data[features].values\n",
    "y_train = training_data.Class.values\n",
    "\n",
    "X_test = validation_data[features].values\n",
    "y_test = validation_data.Class.values"
   ]
  },
  {
   "cell_type": "code",
   "execution_count": 0,
   "metadata": {
    "colab": {},
    "colab_type": "code",
    "id": "VU5CEFfmyObk"
   },
   "outputs": [],
   "source": [
    "num_train, num_test = X_train.shape[0], X_test.shape[0]\n",
    "\n",
    "train_history = defaultdict(list)\n",
    "test_history = defaultdict(list)"
   ]
  },
  {
   "cell_type": "code",
   "execution_count": 0,
   "metadata": {
    "colab": {
     "base_uri": "https://localhost:8080/",
     "height": 438
    },
    "colab_type": "code",
    "id": "gmjQHgwoVDZm",
    "outputId": "9686b085-b438-44b6-db63-aa065bccf16d"
   },
   "outputs": [
    {
     "name": "stdout",
     "output_type": "stream",
     "text": [
      "Epoch 1/10\n"
     ]
    },
    {
     "name": "stderr",
     "output_type": "stream",
     "text": [
      "/usr/local/lib/python3.6/dist-packages/keras/engine/training.py:493: UserWarning: Discrepancy between trainable weights and collected trainable weights, did you set `model.trainable` without calling `model.compile` after ?\n",
      "  'Discrepancy between trainable weights and collected trainable'\n"
     ]
    },
    {
     "name": "stdout",
     "output_type": "stream",
     "text": [
      "   1280/1080064 [..............................] - ETA: 1:29:34"
     ]
    },
    {
     "name": "stderr",
     "output_type": "stream",
     "text": [
      "/usr/local/lib/python3.6/dist-packages/keras/engine/training.py:493: UserWarning: Discrepancy between trainable weights and collected trainable weights, did you set `model.trainable` without calling `model.compile` after ?\n",
      "  'Discrepancy between trainable weights and collected trainable'\n"
     ]
    },
    {
     "name": "stdout",
     "output_type": "stream",
     "text": [
      "1080064/1080064 [==============================] - 166s 154us/step\n",
      "Testing for epoch 1:\n",
      "component              | loss | generation_loss | auxiliary_loss\n",
      "-----------------------------------------------------------------\n",
      "generator (train)      | 0.57 | 0.4650          | 0.1058\n",
      "generator (test)       | 10.44 | 10.1233         | 0.3128\n",
      "discriminator (train)  | 1.99 | 0.1067          | 1.8878\n",
      "discriminator (test)   | 11.44 | 6.4378          | 5.0011\n",
      "Epoch 2/10\n",
      "1080064/1080064 [==============================] - 166s 154us/step\n",
      "Testing for epoch 2:\n",
      "component              | loss | generation_loss | auxiliary_loss\n",
      "-----------------------------------------------------------------\n",
      "generator (train)      | 0.36 | 0.3253          | 0.0366\n",
      "generator (test)       | 16.14 | 15.9528         | 0.1844\n",
      "discriminator (train)  | 1.66 | 0.1002          | 1.5568\n",
      "discriminator (test)   | 12.81 | 7.8770          | 4.9348\n",
      "Epoch 3/10\n",
      " 251392/1080064 [=====>........................] - ETA: 1:59"
     ]
    }
   ],
   "source": [
    "for epoch in range(1, epochs + 1):\n",
    "    print('Epoch {}/{}'.format(epoch, epochs))\n",
    "\n",
    "    num_batches = int(np.ceil(X_train.shape[0] / float(batch_size)))\n",
    "    progress_bar = Progbar(target=num_batches*batch_size)\n",
    "\n",
    "    epoch_gen_loss = []\n",
    "    epoch_disc_loss = []\n",
    "\n",
    "    for index in range(num_batches):\n",
    "        # get a batch of real images\n",
    "        image_batch = X_train[index * batch_size:(index + 1) * batch_size]\n",
    "        label_batch = y_train[index * batch_size:(index + 1) * batch_size]\n",
    "\n",
    "        # generate a new batch of noise\n",
    "        noise = np.random.uniform(-1, 1, (len(image_batch), latent_size))\n",
    "\n",
    "        # sample some labels from p_c\n",
    "        sampled_labels = np.random.randint(0, num_classes, len(image_batch))\n",
    "\n",
    "        # generate a batch of fake images, using the generated labels as a\n",
    "        # conditioner. We reshape the sampled labels to be\n",
    "        # (len(image_batch), 1) so that we can feed them into the embedding\n",
    "        # layer as a length one sequence\n",
    "        generated_images = generator.predict(\n",
    "            [noise, sampled_labels.reshape((-1, 1))], verbose=0)\n",
    "\n",
    "        x = np.concatenate((image_batch, generated_images))\n",
    "\n",
    "        # use one-sided soft real/fake labels\n",
    "        # Salimans et al., 2016\n",
    "        # https://arxiv.org/pdf/1606.03498.pdf (Section 3.4)\n",
    "        soft_zero, soft_one = 0, 0.95\n",
    "        y = np.array(\n",
    "            [soft_one] * len(image_batch) + [soft_zero] * len(image_batch))\n",
    "        aux_y = np.eye(num_classes)[np.concatenate((label_batch, sampled_labels), axis=0)]\n",
    "\n",
    "        # we don't want the discriminator to also maximize the classification\n",
    "        # accuracy of the auxiliary classifier on generated images, so we\n",
    "        # don't train discriminator to produce class labels for generated\n",
    "        # images (see https://openreview.net/forum?id=rJXTf9Bxg).\n",
    "        # To preserve sum of sample weights for the auxiliary classifier,\n",
    "        # we assign sample weight of 2 to the real images.\n",
    "        disc_sample_weight = [np.ones(2 * len(image_batch)),\n",
    "                              np.concatenate((np.ones(len(image_batch)) * 2,\n",
    "                                              np.zeros(len(image_batch))))]\n",
    "\n",
    "        # see if the discriminator can figure itself out...\n",
    "        epoch_disc_loss.append(discriminator.train_on_batch(\n",
    "            x, [y, aux_y], sample_weight=disc_sample_weight))\n",
    "\n",
    "        # make new noise. we generate 2 * batch size here such that we have\n",
    "        # the generator optimize over an identical number of images as the\n",
    "        # discriminator\n",
    "        noise = np.random.uniform(-1, 1, (2 * len(image_batch), latent_size))\n",
    "        sampled_labels = np.random.randint(0, num_classes, 2 * len(image_batch))\n",
    "\n",
    "        # we want to train the generator to trick the discriminator\n",
    "        # For the generator, we want all the {fake, not-fake} labels to say\n",
    "        # not-fake\n",
    "        trick = np.ones(2 * len(image_batch)) * soft_one\n",
    "\n",
    "        epoch_gen_loss.append(combined.train_on_batch(\n",
    "            [noise, sampled_labels.reshape((-1, 1))],\n",
    "            [trick, np.eye(num_classes)[sampled_labels]]))\n",
    "\n",
    "        progress_bar.update((index + 1)*batch_size)\n",
    "\n",
    "    print('Testing for epoch {}:'.format(epoch))\n",
    "\n",
    "    # evaluate the testing loss here\n",
    "\n",
    "    # generate a new batch of noise\n",
    "    noise = np.random.uniform(-1, 1, (num_test, latent_size))\n",
    "\n",
    "    # sample some labels from p_c and generate images from them\n",
    "    sampled_labels = np.random.randint(0, num_classes, num_test)\n",
    "    generated_images = generator.predict(\n",
    "        [noise, sampled_labels.reshape((-1, 1))], verbose=False)\n",
    "\n",
    "    x = np.concatenate((X_test, generated_images))\n",
    "    y = np.array([1] * num_test + [0] * num_test)\n",
    "    aux_y = np.eye(num_classes)[np.concatenate((y_test, sampled_labels), axis=0)]\n",
    "\n",
    "    # see if the discriminator can figure itself out...\n",
    "    discriminator_test_loss = discriminator.evaluate(\n",
    "        x, [y, aux_y], verbose=False)\n",
    "\n",
    "    discriminator_train_loss = np.mean(np.array(epoch_disc_loss), axis=0)\n",
    "\n",
    "    # make new noise\n",
    "    noise = np.random.uniform(-1, 1, (2 * num_test, latent_size))\n",
    "    sampled_labels = np.random.randint(0, num_classes, 2 * num_test)\n",
    "\n",
    "    trick = np.ones(2 * num_test)\n",
    "\n",
    "    generator_test_loss = combined.evaluate(\n",
    "        [noise, sampled_labels.reshape((-1, 1))],\n",
    "        [trick, np.eye(num_classes)[sampled_labels]], verbose=False)\n",
    "\n",
    "    generator_train_loss = np.mean(np.array(epoch_gen_loss), axis=0)\n",
    "\n",
    "    # generate an epoch report on performance\n",
    "    train_history['generator'].append(generator_train_loss)\n",
    "    train_history['discriminator'].append(discriminator_train_loss)\n",
    "\n",
    "    test_history['generator'].append(generator_test_loss)\n",
    "    test_history['discriminator'].append(discriminator_test_loss)\n",
    "\n",
    "    print('{0:<22s} | {1:4s} | {2:15s} | {3:5s}'.format(\n",
    "        'component', *discriminator.metrics_names))\n",
    "    print('-' * 65)\n",
    "\n",
    "    ROW_FMT = '{0:<22s} | {1:<4.2f} | {2:<15.4f} | {3:<5.4f}'\n",
    "    print(ROW_FMT.format('generator (train)',\n",
    "                          *train_history['generator'][-1]))\n",
    "    print(ROW_FMT.format('generator (test)',\n",
    "                          *test_history['generator'][-1]))\n",
    "    print(ROW_FMT.format('discriminator (train)',\n",
    "                          *train_history['discriminator'][-1]))\n",
    "    print(ROW_FMT.format('discriminator (test)',\n",
    "                          *test_history['discriminator'][-1]))"
   ]
  },
  {
   "cell_type": "markdown",
   "metadata": {
    "colab_type": "text",
    "id": "MqPMFDRP5OOz"
   },
   "source": [
    "Th warning in the previous cell are misleading. [Source](https://github.com/keras-team/keras/issues/8585)"
   ]
  },
  {
   "cell_type": "code",
   "execution_count": 0,
   "metadata": {
    "colab": {},
    "colab_type": "code",
    "id": "cvM9KoOa5ZVm"
   },
   "outputs": [],
   "source": []
  }
 ],
 "metadata": {
  "accelerator": "GPU",
  "colab": {
   "collapsed_sections": [],
   "name": "PIT_by_NeuralNetowrks.ipynb",
   "provenance": []
  },
  "kernelspec": {
   "display_name": "Python 3",
   "language": "python",
   "name": "python3"
  },
  "language_info": {
   "codemirror_mode": {
    "name": "ipython",
    "version": 3
   },
   "file_extension": ".py",
   "mimetype": "text/x-python",
   "name": "python",
   "nbconvert_exporter": "python",
   "pygments_lexer": "ipython3",
   "version": "3.6.6"
  }
 },
 "nbformat": 4,
 "nbformat_minor": 1
}
