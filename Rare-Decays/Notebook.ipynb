{
 "cells": [
  {
   "cell_type": "code",
   "execution_count": 1,
   "metadata": {},
   "outputs": [
    {
     "name": "stderr",
     "output_type": "stream",
     "text": [
      "c:\\users\\lenovo\\appdata\\local\\programs\\python\\python36\\lib\\site-packages\\sklearn\\ensemble\\weight_boosting.py:29: DeprecationWarning: numpy.core.umath_tests is an internal NumPy module and should not be imported. It will be removed in a future NumPy release.\n",
      "  from numpy.core.umath_tests import inner1d\n"
     ]
    }
   ],
   "source": [
    "import pandas as pd\n",
    "import numpy as np\n",
    "\n",
    "from sklearn.metrics import roc_curve\n",
    "from sklearn.model_selection import train_test_split\n",
    "from sklearn.preprocessing import StandardScaler\n",
    "from sklearn.decomposition import PCA\n",
    "\n",
    "from sklearn.ensemble import AdaBoostClassifier\n",
    "from sklearn.tree import DecisionTreeClassifier\n",
    "\n",
    "from sklearn.metrics import roc_curve, roc_auc_score\n",
    "\n",
    "import matplotlib.pyplot as plt\n",
    "\n",
    "from hep_ml import metrics\n",
    "from utils import check_correlation\n",
    "from mass_correlation_utils import *"
   ]
  },
  {
   "cell_type": "markdown",
   "metadata": {},
   "source": [
    "# Data Loading\n",
    "`training.csv` is a mixture of simulated signal, real background."
   ]
  },
  {
   "cell_type": "code",
   "execution_count": 2,
   "metadata": {},
   "outputs": [],
   "source": [
    "train_df = pd.read_csv('Data/training.csv.gz', sep=',')"
   ]
  },
  {
   "cell_type": "code",
   "execution_count": 3,
   "metadata": {},
   "outputs": [
    {
     "data": {
      "text/html": [
       "<div>\n",
       "<style scoped>\n",
       "    .dataframe tbody tr th:only-of-type {\n",
       "        vertical-align: middle;\n",
       "    }\n",
       "\n",
       "    .dataframe tbody tr th {\n",
       "        vertical-align: top;\n",
       "    }\n",
       "\n",
       "    .dataframe thead th {\n",
       "        text-align: right;\n",
       "    }\n",
       "</style>\n",
       "<table border=\"1\" class=\"dataframe\">\n",
       "  <thead>\n",
       "    <tr style=\"text-align: right;\">\n",
       "      <th></th>\n",
       "      <th>id</th>\n",
       "      <th>LifeTime</th>\n",
       "      <th>dira</th>\n",
       "      <th>FlightDistance</th>\n",
       "      <th>FlightDistanceError</th>\n",
       "      <th>IP</th>\n",
       "      <th>IPSig</th>\n",
       "      <th>VertexChi2</th>\n",
       "      <th>pt</th>\n",
       "      <th>DOCAone</th>\n",
       "      <th>...</th>\n",
       "      <th>p1_p</th>\n",
       "      <th>p2_p</th>\n",
       "      <th>p0_eta</th>\n",
       "      <th>p1_eta</th>\n",
       "      <th>p2_eta</th>\n",
       "      <th>SPDhits</th>\n",
       "      <th>production</th>\n",
       "      <th>signal</th>\n",
       "      <th>mass</th>\n",
       "      <th>min_ANNmuon</th>\n",
       "    </tr>\n",
       "  </thead>\n",
       "  <tbody>\n",
       "    <tr>\n",
       "      <th>0</th>\n",
       "      <td>18453471</td>\n",
       "      <td>0.001578</td>\n",
       "      <td>0.999999</td>\n",
       "      <td>14.033335</td>\n",
       "      <td>0.681401</td>\n",
       "      <td>0.016039</td>\n",
       "      <td>0.451886</td>\n",
       "      <td>1.900433</td>\n",
       "      <td>1482.037476</td>\n",
       "      <td>0.066667</td>\n",
       "      <td>...</td>\n",
       "      <td>12290.760742</td>\n",
       "      <td>39264.398438</td>\n",
       "      <td>3.076006</td>\n",
       "      <td>4.003800</td>\n",
       "      <td>4.031514</td>\n",
       "      <td>458</td>\n",
       "      <td>-99</td>\n",
       "      <td>0</td>\n",
       "      <td>1866.300049</td>\n",
       "      <td>0.277559</td>\n",
       "    </tr>\n",
       "    <tr>\n",
       "      <th>1</th>\n",
       "      <td>5364094</td>\n",
       "      <td>0.000988</td>\n",
       "      <td>0.999705</td>\n",
       "      <td>5.536157</td>\n",
       "      <td>0.302341</td>\n",
       "      <td>0.142163</td>\n",
       "      <td>9.564503</td>\n",
       "      <td>0.865666</td>\n",
       "      <td>3050.720703</td>\n",
       "      <td>0.024022</td>\n",
       "      <td>...</td>\n",
       "      <td>16562.667969</td>\n",
       "      <td>7341.257812</td>\n",
       "      <td>3.228553</td>\n",
       "      <td>2.786543</td>\n",
       "      <td>2.975564</td>\n",
       "      <td>406</td>\n",
       "      <td>-99</td>\n",
       "      <td>0</td>\n",
       "      <td>1727.095947</td>\n",
       "      <td>0.225924</td>\n",
       "    </tr>\n",
       "    <tr>\n",
       "      <th>2</th>\n",
       "      <td>11130990</td>\n",
       "      <td>0.000877</td>\n",
       "      <td>0.999984</td>\n",
       "      <td>6.117302</td>\n",
       "      <td>0.276463</td>\n",
       "      <td>0.034746</td>\n",
       "      <td>1.970751</td>\n",
       "      <td>10.975849</td>\n",
       "      <td>3895.908691</td>\n",
       "      <td>0.055044</td>\n",
       "      <td>...</td>\n",
       "      <td>22695.388672</td>\n",
       "      <td>10225.309570</td>\n",
       "      <td>3.536903</td>\n",
       "      <td>2.865686</td>\n",
       "      <td>3.052810</td>\n",
       "      <td>196</td>\n",
       "      <td>-99</td>\n",
       "      <td>0</td>\n",
       "      <td>1898.588013</td>\n",
       "      <td>0.368630</td>\n",
       "    </tr>\n",
       "    <tr>\n",
       "      <th>3</th>\n",
       "      <td>15173787</td>\n",
       "      <td>0.000854</td>\n",
       "      <td>0.999903</td>\n",
       "      <td>5.228067</td>\n",
       "      <td>0.220739</td>\n",
       "      <td>0.076389</td>\n",
       "      <td>4.271331</td>\n",
       "      <td>3.276358</td>\n",
       "      <td>4010.781738</td>\n",
       "      <td>0.053779</td>\n",
       "      <td>...</td>\n",
       "      <td>16909.515625</td>\n",
       "      <td>9141.426758</td>\n",
       "      <td>3.087461</td>\n",
       "      <td>3.218034</td>\n",
       "      <td>2.375592</td>\n",
       "      <td>137</td>\n",
       "      <td>-99</td>\n",
       "      <td>0</td>\n",
       "      <td>1840.410034</td>\n",
       "      <td>0.246045</td>\n",
       "    </tr>\n",
       "    <tr>\n",
       "      <th>4</th>\n",
       "      <td>1102544</td>\n",
       "      <td>0.001129</td>\n",
       "      <td>0.999995</td>\n",
       "      <td>39.069534</td>\n",
       "      <td>1.898197</td>\n",
       "      <td>0.120936</td>\n",
       "      <td>4.984982</td>\n",
       "      <td>0.468348</td>\n",
       "      <td>4144.546875</td>\n",
       "      <td>0.004491</td>\n",
       "      <td>...</td>\n",
       "      <td>97612.804688</td>\n",
       "      <td>47118.785156</td>\n",
       "      <td>4.632295</td>\n",
       "      <td>4.711155</td>\n",
       "      <td>4.296878</td>\n",
       "      <td>477</td>\n",
       "      <td>-99</td>\n",
       "      <td>0</td>\n",
       "      <td>1899.793945</td>\n",
       "      <td>0.222060</td>\n",
       "    </tr>\n",
       "  </tbody>\n",
       "</table>\n",
       "<p>5 rows × 51 columns</p>\n",
       "</div>"
      ],
      "text/plain": [
       "         id  LifeTime      dira  FlightDistance  FlightDistanceError  \\\n",
       "0  18453471  0.001578  0.999999       14.033335             0.681401   \n",
       "1   5364094  0.000988  0.999705        5.536157             0.302341   \n",
       "2  11130990  0.000877  0.999984        6.117302             0.276463   \n",
       "3  15173787  0.000854  0.999903        5.228067             0.220739   \n",
       "4   1102544  0.001129  0.999995       39.069534             1.898197   \n",
       "\n",
       "         IP     IPSig  VertexChi2           pt   DOCAone  ...          p1_p  \\\n",
       "0  0.016039  0.451886    1.900433  1482.037476  0.066667  ...  12290.760742   \n",
       "1  0.142163  9.564503    0.865666  3050.720703  0.024022  ...  16562.667969   \n",
       "2  0.034746  1.970751   10.975849  3895.908691  0.055044  ...  22695.388672   \n",
       "3  0.076389  4.271331    3.276358  4010.781738  0.053779  ...  16909.515625   \n",
       "4  0.120936  4.984982    0.468348  4144.546875  0.004491  ...  97612.804688   \n",
       "\n",
       "           p2_p    p0_eta    p1_eta    p2_eta  SPDhits  production  signal  \\\n",
       "0  39264.398438  3.076006  4.003800  4.031514      458         -99       0   \n",
       "1   7341.257812  3.228553  2.786543  2.975564      406         -99       0   \n",
       "2  10225.309570  3.536903  2.865686  3.052810      196         -99       0   \n",
       "3   9141.426758  3.087461  3.218034  2.375592      137         -99       0   \n",
       "4  47118.785156  4.632295  4.711155  4.296878      477         -99       0   \n",
       "\n",
       "          mass  min_ANNmuon  \n",
       "0  1866.300049     0.277559  \n",
       "1  1727.095947     0.225924  \n",
       "2  1898.588013     0.368630  \n",
       "3  1840.410034     0.246045  \n",
       "4  1899.793945     0.222060  \n",
       "\n",
       "[5 rows x 51 columns]"
      ]
     },
     "execution_count": 3,
     "metadata": {},
     "output_type": "execute_result"
    }
   ],
   "source": [
    "train_df.head()"
   ]
  },
  {
   "cell_type": "code",
   "execution_count": 4,
   "metadata": {},
   "outputs": [
    {
     "data": {
      "text/plain": [
       "Index(['id', 'LifeTime', 'dira', 'FlightDistance', 'FlightDistanceError', 'IP',\n",
       "       'IPSig', 'VertexChi2', 'pt', 'DOCAone', 'DOCAtwo', 'DOCAthree',\n",
       "       'IP_p0p2', 'IP_p1p2', 'isolationa', 'isolationb', 'isolationc',\n",
       "       'isolationd', 'isolatione', 'isolationf', 'iso', 'CDF1', 'CDF2', 'CDF3',\n",
       "       'ISO_SumBDT', 'p0_IsoBDT', 'p1_IsoBDT', 'p2_IsoBDT', 'p0_track_Chi2Dof',\n",
       "       'p1_track_Chi2Dof', 'p2_track_Chi2Dof', 'p0_IP', 'p1_IP', 'p2_IP',\n",
       "       'p0_IPSig', 'p1_IPSig', 'p2_IPSig', 'p0_pt', 'p1_pt', 'p2_pt', 'p0_p',\n",
       "       'p1_p', 'p2_p', 'p0_eta', 'p1_eta', 'p2_eta', 'SPDhits', 'production',\n",
       "       'signal', 'mass', 'min_ANNmuon'],\n",
       "      dtype='object')"
      ]
     },
     "execution_count": 4,
     "metadata": {},
     "output_type": "execute_result"
    }
   ],
   "source": [
    "train_df.columns"
   ]
  },
  {
   "cell_type": "code",
   "execution_count": 5,
   "metadata": {},
   "outputs": [
    {
     "data": {
      "text/plain": [
       "(67553, 51)"
      ]
     },
     "execution_count": 5,
     "metadata": {},
     "output_type": "execute_result"
    }
   ],
   "source": [
    "train_df.shape"
   ]
  },
  {
   "cell_type": "code",
   "execution_count": 6,
   "metadata": {},
   "outputs": [],
   "source": [
    "test_df = pd.read_csv('Data/test.csv.gz', sep=',', index_col='id')"
   ]
  },
  {
   "cell_type": "code",
   "execution_count": 7,
   "metadata": {},
   "outputs": [
    {
     "data": {
      "text/html": [
       "<div>\n",
       "<style scoped>\n",
       "    .dataframe tbody tr th:only-of-type {\n",
       "        vertical-align: middle;\n",
       "    }\n",
       "\n",
       "    .dataframe tbody tr th {\n",
       "        vertical-align: top;\n",
       "    }\n",
       "\n",
       "    .dataframe thead th {\n",
       "        text-align: right;\n",
       "    }\n",
       "</style>\n",
       "<table border=\"1\" class=\"dataframe\">\n",
       "  <thead>\n",
       "    <tr style=\"text-align: right;\">\n",
       "      <th></th>\n",
       "      <th>LifeTime</th>\n",
       "      <th>dira</th>\n",
       "      <th>FlightDistance</th>\n",
       "      <th>FlightDistanceError</th>\n",
       "      <th>IP</th>\n",
       "      <th>IPSig</th>\n",
       "      <th>VertexChi2</th>\n",
       "      <th>pt</th>\n",
       "      <th>DOCAone</th>\n",
       "      <th>DOCAtwo</th>\n",
       "      <th>...</th>\n",
       "      <th>p0_pt</th>\n",
       "      <th>p1_pt</th>\n",
       "      <th>p2_pt</th>\n",
       "      <th>p0_p</th>\n",
       "      <th>p1_p</th>\n",
       "      <th>p2_p</th>\n",
       "      <th>p0_eta</th>\n",
       "      <th>p1_eta</th>\n",
       "      <th>p2_eta</th>\n",
       "      <th>SPDhits</th>\n",
       "    </tr>\n",
       "    <tr>\n",
       "      <th>id</th>\n",
       "      <th></th>\n",
       "      <th></th>\n",
       "      <th></th>\n",
       "      <th></th>\n",
       "      <th></th>\n",
       "      <th></th>\n",
       "      <th></th>\n",
       "      <th></th>\n",
       "      <th></th>\n",
       "      <th></th>\n",
       "      <th></th>\n",
       "      <th></th>\n",
       "      <th></th>\n",
       "      <th></th>\n",
       "      <th></th>\n",
       "      <th></th>\n",
       "      <th></th>\n",
       "      <th></th>\n",
       "      <th></th>\n",
       "      <th></th>\n",
       "      <th></th>\n",
       "    </tr>\n",
       "  </thead>\n",
       "  <tbody>\n",
       "    <tr>\n",
       "      <th>14711831</th>\n",
       "      <td>0.001273</td>\n",
       "      <td>0.999816</td>\n",
       "      <td>8.569642</td>\n",
       "      <td>0.310039</td>\n",
       "      <td>0.197893</td>\n",
       "      <td>5.183939</td>\n",
       "      <td>2.286117</td>\n",
       "      <td>687.479248</td>\n",
       "      <td>0.022301</td>\n",
       "      <td>0.050763</td>\n",
       "      <td>...</td>\n",
       "      <td>508.926514</td>\n",
       "      <td>306.629456</td>\n",
       "      <td>714.222717</td>\n",
       "      <td>30300.734375</td>\n",
       "      <td>5662.158691</td>\n",
       "      <td>7406.368164</td>\n",
       "      <td>4.779700</td>\n",
       "      <td>3.608334</td>\n",
       "      <td>3.029715</td>\n",
       "      <td>705</td>\n",
       "    </tr>\n",
       "    <tr>\n",
       "      <th>16316387</th>\n",
       "      <td>0.000661</td>\n",
       "      <td>0.999954</td>\n",
       "      <td>7.061379</td>\n",
       "      <td>0.348772</td>\n",
       "      <td>0.067430</td>\n",
       "      <td>6.316281</td>\n",
       "      <td>3.865824</td>\n",
       "      <td>5691.845703</td>\n",
       "      <td>0.002455</td>\n",
       "      <td>0.037633</td>\n",
       "      <td>...</td>\n",
       "      <td>943.130676</td>\n",
       "      <td>3287.291260</td>\n",
       "      <td>1563.593994</td>\n",
       "      <td>6160.323730</td>\n",
       "      <td>43781.566406</td>\n",
       "      <td>19728.500000</td>\n",
       "      <td>2.563915</td>\n",
       "      <td>3.280884</td>\n",
       "      <td>3.226650</td>\n",
       "      <td>907</td>\n",
       "    </tr>\n",
       "    <tr>\n",
       "      <th>6771382</th>\n",
       "      <td>0.000889</td>\n",
       "      <td>0.999999</td>\n",
       "      <td>6.502967</td>\n",
       "      <td>0.273914</td>\n",
       "      <td>0.011020</td>\n",
       "      <td>0.865816</td>\n",
       "      <td>1.004631</td>\n",
       "      <td>5429.225586</td>\n",
       "      <td>0.002753</td>\n",
       "      <td>0.036379</td>\n",
       "      <td>...</td>\n",
       "      <td>2886.055908</td>\n",
       "      <td>2216.936279</td>\n",
       "      <td>598.068359</td>\n",
       "      <td>26387.134766</td>\n",
       "      <td>15534.978516</td>\n",
       "      <td>6504.145020</td>\n",
       "      <td>2.903129</td>\n",
       "      <td>2.634985</td>\n",
       "      <td>3.077517</td>\n",
       "      <td>213</td>\n",
       "    </tr>\n",
       "    <tr>\n",
       "      <th>686045</th>\n",
       "      <td>0.001295</td>\n",
       "      <td>0.999301</td>\n",
       "      <td>7.838184</td>\n",
       "      <td>0.325697</td>\n",
       "      <td>0.388636</td>\n",
       "      <td>11.391245</td>\n",
       "      <td>10.345356</td>\n",
       "      <td>661.717834</td>\n",
       "      <td>0.008163</td>\n",
       "      <td>0.436003</td>\n",
       "      <td>...</td>\n",
       "      <td>461.727753</td>\n",
       "      <td>357.967560</td>\n",
       "      <td>1118.084229</td>\n",
       "      <td>5451.857422</td>\n",
       "      <td>10281.403320</td>\n",
       "      <td>23722.742188</td>\n",
       "      <td>3.160085</td>\n",
       "      <td>4.050494</td>\n",
       "      <td>3.747409</td>\n",
       "      <td>275</td>\n",
       "    </tr>\n",
       "    <tr>\n",
       "      <th>8755882</th>\n",
       "      <td>0.001714</td>\n",
       "      <td>0.999805</td>\n",
       "      <td>7.064559</td>\n",
       "      <td>0.113440</td>\n",
       "      <td>0.154421</td>\n",
       "      <td>13.925871</td>\n",
       "      <td>12.951378</td>\n",
       "      <td>3885.417969</td>\n",
       "      <td>0.066317</td>\n",
       "      <td>0.052183</td>\n",
       "      <td>...</td>\n",
       "      <td>1773.747925</td>\n",
       "      <td>1643.278198</td>\n",
       "      <td>711.572205</td>\n",
       "      <td>7724.954590</td>\n",
       "      <td>12830.546875</td>\n",
       "      <td>6008.145996</td>\n",
       "      <td>2.151059</td>\n",
       "      <td>2.744157</td>\n",
       "      <td>2.823017</td>\n",
       "      <td>357</td>\n",
       "    </tr>\n",
       "  </tbody>\n",
       "</table>\n",
       "<p>5 rows × 46 columns</p>\n",
       "</div>"
      ],
      "text/plain": [
       "          LifeTime      dira  FlightDistance  FlightDistanceError        IP  \\\n",
       "id                                                                            \n",
       "14711831  0.001273  0.999816        8.569642             0.310039  0.197893   \n",
       "16316387  0.000661  0.999954        7.061379             0.348772  0.067430   \n",
       "6771382   0.000889  0.999999        6.502967             0.273914  0.011020   \n",
       "686045    0.001295  0.999301        7.838184             0.325697  0.388636   \n",
       "8755882   0.001714  0.999805        7.064559             0.113440  0.154421   \n",
       "\n",
       "              IPSig  VertexChi2           pt   DOCAone   DOCAtwo  ...  \\\n",
       "id                                                                ...   \n",
       "14711831   5.183939    2.286117   687.479248  0.022301  0.050763  ...   \n",
       "16316387   6.316281    3.865824  5691.845703  0.002455  0.037633  ...   \n",
       "6771382    0.865816    1.004631  5429.225586  0.002753  0.036379  ...   \n",
       "686045    11.391245   10.345356   661.717834  0.008163  0.436003  ...   \n",
       "8755882   13.925871   12.951378  3885.417969  0.066317  0.052183  ...   \n",
       "\n",
       "                p0_pt        p1_pt        p2_pt          p0_p          p1_p  \\\n",
       "id                                                                            \n",
       "14711831   508.926514   306.629456   714.222717  30300.734375   5662.158691   \n",
       "16316387   943.130676  3287.291260  1563.593994   6160.323730  43781.566406   \n",
       "6771382   2886.055908  2216.936279   598.068359  26387.134766  15534.978516   \n",
       "686045     461.727753   357.967560  1118.084229   5451.857422  10281.403320   \n",
       "8755882   1773.747925  1643.278198   711.572205   7724.954590  12830.546875   \n",
       "\n",
       "                  p2_p    p0_eta    p1_eta    p2_eta  SPDhits  \n",
       "id                                                             \n",
       "14711831   7406.368164  4.779700  3.608334  3.029715      705  \n",
       "16316387  19728.500000  2.563915  3.280884  3.226650      907  \n",
       "6771382    6504.145020  2.903129  2.634985  3.077517      213  \n",
       "686045    23722.742188  3.160085  4.050494  3.747409      275  \n",
       "8755882    6008.145996  2.151059  2.744157  2.823017      357  \n",
       "\n",
       "[5 rows x 46 columns]"
      ]
     },
     "execution_count": 7,
     "metadata": {},
     "output_type": "execute_result"
    }
   ],
   "source": [
    "test_df.head()"
   ]
  },
  {
   "cell_type": "code",
   "execution_count": 8,
   "metadata": {},
   "outputs": [
    {
     "data": {
      "text/plain": [
       "Index(['LifeTime', 'dira', 'FlightDistance', 'FlightDistanceError', 'IP',\n",
       "       'IPSig', 'VertexChi2', 'pt', 'DOCAone', 'DOCAtwo', 'DOCAthree',\n",
       "       'IP_p0p2', 'IP_p1p2', 'isolationa', 'isolationb', 'isolationc',\n",
       "       'isolationd', 'isolatione', 'isolationf', 'iso', 'CDF1', 'CDF2', 'CDF3',\n",
       "       'ISO_SumBDT', 'p0_IsoBDT', 'p1_IsoBDT', 'p2_IsoBDT', 'p0_track_Chi2Dof',\n",
       "       'p1_track_Chi2Dof', 'p2_track_Chi2Dof', 'p0_IP', 'p1_IP', 'p2_IP',\n",
       "       'p0_IPSig', 'p1_IPSig', 'p2_IPSig', 'p0_pt', 'p1_pt', 'p2_pt', 'p0_p',\n",
       "       'p1_p', 'p2_p', 'p0_eta', 'p1_eta', 'p2_eta', 'SPDhits'],\n",
       "      dtype='object')"
      ]
     },
     "execution_count": 8,
     "metadata": {},
     "output_type": "execute_result"
    }
   ],
   "source": [
    "test_df.columns"
   ]
  },
  {
   "cell_type": "code",
   "execution_count": 9,
   "metadata": {},
   "outputs": [
    {
     "data": {
      "text/plain": [
       "(855819, 46)"
      ]
     },
     "execution_count": 9,
     "metadata": {},
     "output_type": "execute_result"
    }
   ],
   "source": [
    "test_df.shape"
   ]
  },
  {
   "cell_type": "markdown",
   "metadata": {},
   "source": [
    "# Baseline Model"
   ]
  },
  {
   "cell_type": "code",
   "execution_count": 10,
   "metadata": {},
   "outputs": [],
   "source": [
    "train, valid = train_test_split(train_df, test_size=0.3, random_state=13)"
   ]
  },
  {
   "cell_type": "markdown",
   "metadata": {},
   "source": [
    "Feature selction for training."
   ]
  },
  {
   "cell_type": "code",
   "execution_count": 11,
   "metadata": {},
   "outputs": [
    {
     "name": "stdout",
     "output_type": "stream",
     "text": [
      "['IP_p1p2', 'p1_IsoBDT', 'p2_pt', 'FlightDistance', 'p0_IP', 'FlightDistanceError', 'iso', 'p2_track_Chi2Dof', 'DOCAone', 'p1_track_Chi2Dof', 'isolationd', 'SPDhits', 'IP', 'IP_p0p2', 'isolationf', 'p1_IP', 'LifeTime', 'CDF2', 'isolationc', 'p1_eta', 'ISO_SumBDT', 'p0_IPSig', 'isolatione', 'p0_pt', 'IPSig', 'CDF1', 'p2_eta', 'p2_IP', 'isolationb', 'p0_eta', 'p0_track_Chi2Dof', 'VertexChi2', 'p1_pt', 'dira', 'p2_IsoBDT', 'p1_p', 'pt', 'p0_p', 'CDF3', 'p2_p', 'p0_IsoBDT', 'p1_IPSig', 'DOCAthree', 'DOCAtwo', 'p2_IPSig', 'isolationa']\n"
     ]
    }
   ],
   "source": [
    "variables = list(set(train_df.columns) - {'id', 'signal', 'mass', 'production', 'min_ANNmuon'})\n",
    "print(variables)"
   ]
  },
  {
   "cell_type": "code",
   "execution_count": 12,
   "metadata": {},
   "outputs": [
    {
     "data": {
      "text/plain": [
       "StandardScaler(copy=True, with_mean=True, with_std=True)"
      ]
     },
     "execution_count": 12,
     "metadata": {},
     "output_type": "execute_result"
    }
   ],
   "source": [
    "# Data Preprocessing\n",
    "\n",
    "obj_SC = StandardScaler()\n",
    "obj_SC.fit(train[variables])"
   ]
  },
  {
   "cell_type": "code",
   "execution_count": 13,
   "metadata": {},
   "outputs": [
    {
     "name": "stdout",
     "output_type": "stream",
     "text": [
      "Wall time: 25.2 s\n"
     ]
    },
    {
     "data": {
      "text/plain": [
       "AdaBoostClassifier(algorithm='SAMME.R',\n",
       "          base_estimator=DecisionTreeClassifier(class_weight=None, criterion='gini', max_depth=6,\n",
       "            max_features=6, max_leaf_nodes=None, min_impurity_decrease=0.0,\n",
       "            min_impurity_split=None, min_samples_leaf=30,\n",
       "            min_samples_split=2, min_weight_fraction_leaf=0.0,\n",
       "            presort=False, random_state=13, splitter='best'),\n",
       "          learning_rate=0.01, n_estimators=100, random_state=13)"
      ]
     },
     "execution_count": 13,
     "metadata": {},
     "output_type": "execute_result"
    }
   ],
   "source": [
    "%%time\n",
    "\n",
    "clf = AdaBoostClassifier(n_estimators=100, \n",
    "                         learning_rate=0.01, \n",
    "                         random_state=13,\n",
    "                         base_estimator=DecisionTreeClassifier(max_depth=6, \n",
    "                                                               min_samples_leaf=30, \n",
    "                                                               max_features=6,\n",
    "                                                               random_state=13))\n",
    "clf.fit(obj_SC.transform(train[variables]), train['signal'])"
   ]
  },
  {
   "cell_type": "markdown",
   "metadata": {},
   "source": [
    "## Model Assesment on Validation Set\n"
   ]
  },
  {
   "cell_type": "code",
   "execution_count": 14,
   "metadata": {},
   "outputs": [],
   "source": [
    "def plot_metrics(y_true, y_pred):\n",
    "    fpr, tpr, thresholds = roc_curve(y_true, y_pred)\n",
    "    roc_auc = roc_auc_score(y_true, y_pred)\n",
    "\n",
    "    plt.plot(fpr, tpr, label='ROC AUC=%f' % roc_auc)\n",
    "    plt.xlabel(\"FPR\")\n",
    "    plt.ylabel(\"TPR\")\n",
    "    plt.legend()\n",
    "    plt.title(\"ROC Curve\")"
   ]
  },
  {
   "cell_type": "code",
   "execution_count": 15,
   "metadata": {},
   "outputs": [
    {
     "data": {
      "image/png": "[encoded data removed]",
      "text/plain": [
       "<Figure size 432x288 with 1 Axes>"
      ]
     },
     "metadata": {},
     "output_type": "display_data"
    }
   ],
   "source": [
    "y_pred = clf.predict_proba(obj_SC.transform(valid[variables]))[:, 1]\n",
    "\n",
    "assert valid.shape[0], y_pred.shape[0]\n",
    "\n",
    "plot_metrics(valid['signal'], y_pred)"
   ]
  },
  {
   "cell_type": "code",
   "execution_count": 16,
   "metadata": {},
   "outputs": [
    {
     "data": {
      "text/plain": [
       "(20266, 51)"
      ]
     },
     "execution_count": 16,
     "metadata": {},
     "output_type": "execute_result"
    }
   ],
   "source": [
    "valid.shape"
   ]
  },
  {
   "cell_type": "code",
   "execution_count": 17,
   "metadata": {},
   "outputs": [
    {
     "data": {
      "text/plain": [
       "(20266,)"
      ]
     },
     "execution_count": 17,
     "metadata": {},
     "output_type": "execute_result"
    }
   ],
   "source": [
    "y_pred.shape"
   ]
  },
  {
   "cell_type": "markdown",
   "metadata": {},
   "source": [
    "ROC AUC is just a part of the solution, we also have to make sure that\n",
    "\n",
    "- The classifier output is not correlated with the mass\n",
    "- Classifier performs similarily on MC and real data of the normalization channel"
   ]
  },
  {
   "cell_type": "markdown",
   "metadata": {},
   "source": [
    "### 1. Mass Correlation Check"
   ]
  },
  {
   "cell_type": "code",
   "execution_count": 18,
   "metadata": {},
   "outputs": [],
   "source": [
    "df_corr_check = pd.read_csv(\"Data/check_correlation.csv.gz\")"
   ]
  },
  {
   "cell_type": "code",
   "execution_count": 19,
   "metadata": {},
   "outputs": [
    {
     "data": {
      "text/plain": [
       "(5514, 48)"
      ]
     },
     "execution_count": 19,
     "metadata": {},
     "output_type": "execute_result"
    }
   ],
   "source": [
    "df_corr_check.shape"
   ]
  },
  {
   "cell_type": "code",
   "execution_count": 20,
   "metadata": {},
   "outputs": [],
   "source": [
    "y_pred = clf.predict(obj_SC.transform(df_corr_check[variables]))"
   ]
  },
  {
   "cell_type": "code",
   "execution_count": 21,
   "metadata": {},
   "outputs": [],
   "source": [
    "eff = get_efficiencies(y_pred, \n",
    "                       df_corr_check.mass, \n",
    "                       thresholds = [0.2, 0.4, 0.5, 0.6, 0.8])"
   ]
  },
  {
   "cell_type": "code",
   "execution_count": 22,
   "metadata": {},
   "outputs": [
    {
     "data": {
      "image/png": "[encoded data removed]",
      "text/plain": [
       "<Figure size 576x432 with 1 Axes>"
      ]
     },
     "metadata": {},
     "output_type": "display_data"
    }
   ],
   "source": [
    "plt.rcParams[\"figure.figsize\"] = 8, 6\n",
    "\n",
    "up = 1e-3\n",
    "for label_name, eff_data in eff.items():\n",
    "    plt.plot(eff_data[0], eff_data[1] + up, label=\"global eff  %.1f\" % label_name)\n",
    "    up = up + 2e-3\n",
    "\n",
    "plt.xlabel('Mass')\n",
    "plt.ylabel('Efficiency')\n",
    "plt.legend()\n",
    "plt.show()"
   ]
  },
  {
   "cell_type": "markdown",
   "metadata": {},
   "source": [
    "In above visualization, y axis is shifted sligthly by 0.002  from previos line just to avoid overlapping."
   ]
  },
  {
   "cell_type": "code",
   "execution_count": 23,
   "metadata": {},
   "outputs": [
    {
     "name": "stdout",
     "output_type": "stream",
     "text": [
      "0.0001905337077402401\n"
     ]
    }
   ],
   "source": [
    "corr_metric = check_correlation(y_pred, df_corr_check['mass'])\n",
    "print(corr_metric)"
   ]
  },
  {
   "cell_type": "code",
   "execution_count": 24,
   "metadata": {},
   "outputs": [
    {
     "data": {
      "text/html": [
       "<div>\n",
       "<style scoped>\n",
       "    .dataframe tbody tr th:only-of-type {\n",
       "        vertical-align: middle;\n",
       "    }\n",
       "\n",
       "    .dataframe tbody tr th {\n",
       "        vertical-align: top;\n",
       "    }\n",
       "\n",
       "    .dataframe thead th {\n",
       "        text-align: right;\n",
       "    }\n",
       "</style>\n",
       "<table border=\"1\" class=\"dataframe\">\n",
       "  <thead>\n",
       "    <tr style=\"text-align: right;\">\n",
       "      <th></th>\n",
       "      <th>IP_p1p2</th>\n",
       "      <th>p1_IsoBDT</th>\n",
       "      <th>p2_pt</th>\n",
       "      <th>FlightDistance</th>\n",
       "      <th>p0_IP</th>\n",
       "      <th>FlightDistanceError</th>\n",
       "      <th>iso</th>\n",
       "      <th>p2_track_Chi2Dof</th>\n",
       "      <th>DOCAone</th>\n",
       "      <th>p1_track_Chi2Dof</th>\n",
       "      <th>...</th>\n",
       "      <th>pt</th>\n",
       "      <th>p0_p</th>\n",
       "      <th>CDF3</th>\n",
       "      <th>p2_p</th>\n",
       "      <th>p0_IsoBDT</th>\n",
       "      <th>p1_IPSig</th>\n",
       "      <th>DOCAthree</th>\n",
       "      <th>DOCAtwo</th>\n",
       "      <th>p2_IPSig</th>\n",
       "      <th>isolationa</th>\n",
       "    </tr>\n",
       "  </thead>\n",
       "  <tbody>\n",
       "    <tr>\n",
       "      <th>56520</th>\n",
       "      <td>0.062145</td>\n",
       "      <td>-0.381186</td>\n",
       "      <td>6216.645996</td>\n",
       "      <td>20.195753</td>\n",
       "      <td>0.637930</td>\n",
       "      <td>0.796748</td>\n",
       "      <td>0.0</td>\n",
       "      <td>0.925666</td>\n",
       "      <td>0.030664</td>\n",
       "      <td>0.982481</td>\n",
       "      <td>...</td>\n",
       "      <td>10099.736328</td>\n",
       "      <td>12295.371094</td>\n",
       "      <td>0.822875</td>\n",
       "      <td>91263.117188</td>\n",
       "      <td>-0.291524</td>\n",
       "      <td>6.057294</td>\n",
       "      <td>0.029572</td>\n",
       "      <td>0.008976</td>\n",
       "      <td>9.325448</td>\n",
       "      <td>0</td>\n",
       "    </tr>\n",
       "    <tr>\n",
       "      <th>13514</th>\n",
       "      <td>0.325892</td>\n",
       "      <td>-0.186370</td>\n",
       "      <td>375.047394</td>\n",
       "      <td>5.118261</td>\n",
       "      <td>0.198671</td>\n",
       "      <td>0.417443</td>\n",
       "      <td>3.0</td>\n",
       "      <td>0.725321</td>\n",
       "      <td>0.118355</td>\n",
       "      <td>0.853445</td>\n",
       "      <td>...</td>\n",
       "      <td>2217.499268</td>\n",
       "      <td>15100.987305</td>\n",
       "      <td>0.423252</td>\n",
       "      <td>3798.012939</td>\n",
       "      <td>-0.124454</td>\n",
       "      <td>10.862071</td>\n",
       "      <td>0.053086</td>\n",
       "      <td>0.100980</td>\n",
       "      <td>9.135575</td>\n",
       "      <td>8</td>\n",
       "    </tr>\n",
       "    <tr>\n",
       "      <th>35888</th>\n",
       "      <td>0.068194</td>\n",
       "      <td>-0.115879</td>\n",
       "      <td>957.876770</td>\n",
       "      <td>10.196308</td>\n",
       "      <td>0.260135</td>\n",
       "      <td>0.390218</td>\n",
       "      <td>1.0</td>\n",
       "      <td>1.477460</td>\n",
       "      <td>0.009387</td>\n",
       "      <td>1.296389</td>\n",
       "      <td>...</td>\n",
       "      <td>3002.109131</td>\n",
       "      <td>14818.006836</td>\n",
       "      <td>0.278959</td>\n",
       "      <td>30162.423828</td>\n",
       "      <td>-0.187027</td>\n",
       "      <td>22.493523</td>\n",
       "      <td>0.005608</td>\n",
       "      <td>0.018061</td>\n",
       "      <td>4.506374</td>\n",
       "      <td>10</td>\n",
       "    </tr>\n",
       "    <tr>\n",
       "      <th>18577</th>\n",
       "      <td>0.214203</td>\n",
       "      <td>-0.115879</td>\n",
       "      <td>627.993042</td>\n",
       "      <td>19.234514</td>\n",
       "      <td>0.158249</td>\n",
       "      <td>1.236785</td>\n",
       "      <td>2.0</td>\n",
       "      <td>0.701390</td>\n",
       "      <td>0.100612</td>\n",
       "      <td>0.772743</td>\n",
       "      <td>...</td>\n",
       "      <td>3172.664795</td>\n",
       "      <td>30549.642578</td>\n",
       "      <td>0.454288</td>\n",
       "      <td>28831.949219</td>\n",
       "      <td>-0.124454</td>\n",
       "      <td>9.493649</td>\n",
       "      <td>0.192668</td>\n",
       "      <td>0.082969</td>\n",
       "      <td>14.288296</td>\n",
       "      <td>0</td>\n",
       "    </tr>\n",
       "    <tr>\n",
       "      <th>52205</th>\n",
       "      <td>0.392850</td>\n",
       "      <td>-0.343551</td>\n",
       "      <td>2820.691650</td>\n",
       "      <td>74.620522</td>\n",
       "      <td>1.343604</td>\n",
       "      <td>1.450999</td>\n",
       "      <td>0.0</td>\n",
       "      <td>0.918642</td>\n",
       "      <td>0.035734</td>\n",
       "      <td>1.075603</td>\n",
       "      <td>...</td>\n",
       "      <td>4432.305176</td>\n",
       "      <td>14192.293945</td>\n",
       "      <td>0.635109</td>\n",
       "      <td>99298.960938</td>\n",
       "      <td>-0.397122</td>\n",
       "      <td>28.466829</td>\n",
       "      <td>0.160036</td>\n",
       "      <td>0.162021</td>\n",
       "      <td>8.212289</td>\n",
       "      <td>0</td>\n",
       "    </tr>\n",
       "  </tbody>\n",
       "</table>\n",
       "<p>5 rows × 46 columns</p>\n",
       "</div>"
      ],
      "text/plain": [
       "        IP_p1p2  p1_IsoBDT        p2_pt  FlightDistance     p0_IP  \\\n",
       "56520  0.062145  -0.381186  6216.645996       20.195753  0.637930   \n",
       "13514  0.325892  -0.186370   375.047394        5.118261  0.198671   \n",
       "35888  0.068194  -0.115879   957.876770       10.196308  0.260135   \n",
       "18577  0.214203  -0.115879   627.993042       19.234514  0.158249   \n",
       "52205  0.392850  -0.343551  2820.691650       74.620522  1.343604   \n",
       "\n",
       "       FlightDistanceError  iso  p2_track_Chi2Dof   DOCAone  p1_track_Chi2Dof  \\\n",
       "56520             0.796748  0.0          0.925666  0.030664          0.982481   \n",
       "13514             0.417443  3.0          0.725321  0.118355          0.853445   \n",
       "35888             0.390218  1.0          1.477460  0.009387          1.296389   \n",
       "18577             1.236785  2.0          0.701390  0.100612          0.772743   \n",
       "52205             1.450999  0.0          0.918642  0.035734          1.075603   \n",
       "\n",
       "       ...            pt          p0_p      CDF3          p2_p  p0_IsoBDT  \\\n",
       "56520  ...  10099.736328  12295.371094  0.822875  91263.117188  -0.291524   \n",
       "13514  ...   2217.499268  15100.987305  0.423252   3798.012939  -0.124454   \n",
       "35888  ...   3002.109131  14818.006836  0.278959  30162.423828  -0.187027   \n",
       "18577  ...   3172.664795  30549.642578  0.454288  28831.949219  -0.124454   \n",
       "52205  ...   4432.305176  14192.293945  0.635109  99298.960938  -0.397122   \n",
       "\n",
       "        p1_IPSig  DOCAthree   DOCAtwo   p2_IPSig  isolationa  \n",
       "56520   6.057294   0.029572  0.008976   9.325448           0  \n",
       "13514  10.862071   0.053086  0.100980   9.135575           8  \n",
       "35888  22.493523   0.005608  0.018061   4.506374          10  \n",
       "18577   9.493649   0.192668  0.082969  14.288296           0  \n",
       "52205  28.466829   0.160036  0.162021   8.212289           0  \n",
       "\n",
       "[5 rows x 46 columns]"
      ]
     },
     "execution_count": 24,
     "metadata": {},
     "output_type": "execute_result"
    }
   ],
   "source": [
    "train[variables][:5]"
   ]
  },
  {
   "cell_type": "markdown",
   "metadata": {},
   "source": [
    "### 2. Performace on Simulated Data (MC) vs Read Data"
   ]
  },
  {
   "cell_type": "code",
   "execution_count": 25,
   "metadata": {},
   "outputs": [],
   "source": [
    "df_agreement = pd.read_csv('Data/check_agreement.csv.gz')"
   ]
  },
  {
   "cell_type": "code",
   "execution_count": 26,
   "metadata": {},
   "outputs": [
    {
     "data": {
      "text/plain": [
       "Index(['id', 'LifeTime', 'dira', 'FlightDistance', 'FlightDistanceError', 'IP',\n",
       "       'IPSig', 'VertexChi2', 'pt', 'DOCAone', 'DOCAtwo', 'DOCAthree',\n",
       "       'IP_p0p2', 'IP_p1p2', 'isolationa', 'isolationb', 'isolationc',\n",
       "       'isolationd', 'isolatione', 'isolationf', 'iso', 'CDF1', 'CDF2', 'CDF3',\n",
       "       'ISO_SumBDT', 'p0_IsoBDT', 'p1_IsoBDT', 'p2_IsoBDT', 'p0_track_Chi2Dof',\n",
       "       'p1_track_Chi2Dof', 'p2_track_Chi2Dof', 'p0_IP', 'p1_IP', 'p2_IP',\n",
       "       'p0_IPSig', 'p1_IPSig', 'p2_IPSig', 'p0_pt', 'p1_pt', 'p2_pt', 'p0_p',\n",
       "       'p1_p', 'p2_p', 'p0_eta', 'p1_eta', 'p2_eta', 'SPDhits', 'signal',\n",
       "       'weight'],\n",
       "      dtype='object')"
      ]
     },
     "execution_count": 26,
     "metadata": {},
     "output_type": "execute_result"
    }
   ],
   "source": [
    "df_agreement.columns"
   ]
  },
  {
   "cell_type": "code",
   "execution_count": 27,
   "metadata": {},
   "outputs": [
    {
     "data": {
      "text/html": [
       "<div>\n",
       "<style scoped>\n",
       "    .dataframe tbody tr th:only-of-type {\n",
       "        vertical-align: middle;\n",
       "    }\n",
       "\n",
       "    .dataframe tbody tr th {\n",
       "        vertical-align: top;\n",
       "    }\n",
       "\n",
       "    .dataframe thead th {\n",
       "        text-align: right;\n",
       "    }\n",
       "</style>\n",
       "<table border=\"1\" class=\"dataframe\">\n",
       "  <thead>\n",
       "    <tr style=\"text-align: right;\">\n",
       "      <th></th>\n",
       "      <th>IP_p1p2</th>\n",
       "      <th>p1_IsoBDT</th>\n",
       "      <th>p2_pt</th>\n",
       "      <th>FlightDistance</th>\n",
       "      <th>p0_IP</th>\n",
       "      <th>FlightDistanceError</th>\n",
       "      <th>iso</th>\n",
       "      <th>p2_track_Chi2Dof</th>\n",
       "      <th>DOCAone</th>\n",
       "      <th>p1_track_Chi2Dof</th>\n",
       "      <th>...</th>\n",
       "      <th>pt</th>\n",
       "      <th>p0_p</th>\n",
       "      <th>CDF3</th>\n",
       "      <th>p2_p</th>\n",
       "      <th>p0_IsoBDT</th>\n",
       "      <th>p1_IPSig</th>\n",
       "      <th>DOCAthree</th>\n",
       "      <th>DOCAtwo</th>\n",
       "      <th>p2_IPSig</th>\n",
       "      <th>isolationa</th>\n",
       "    </tr>\n",
       "  </thead>\n",
       "  <tbody>\n",
       "    <tr>\n",
       "      <th>0</th>\n",
       "      <td>0.214719</td>\n",
       "      <td>-0.089797</td>\n",
       "      <td>834.562378</td>\n",
       "      <td>6.945030</td>\n",
       "      <td>0.483199</td>\n",
       "      <td>0.229196</td>\n",
       "      <td>4.0</td>\n",
       "      <td>1.487057</td>\n",
       "      <td>0.082219</td>\n",
       "      <td>0.862549</td>\n",
       "      <td>...</td>\n",
       "      <td>2251.611816</td>\n",
       "      <td>10392.814453</td>\n",
       "      <td>0.179091</td>\n",
       "      <td>15195.594727</td>\n",
       "      <td>-0.019306</td>\n",
       "      <td>10.732132</td>\n",
       "      <td>0.066887</td>\n",
       "      <td>0.084005</td>\n",
       "      <td>8.853514</td>\n",
       "      <td>8</td>\n",
       "    </tr>\n",
       "    <tr>\n",
       "      <th>1</th>\n",
       "      <td>0.217507</td>\n",
       "      <td>-0.186370</td>\n",
       "      <td>2861.309814</td>\n",
       "      <td>9.468235</td>\n",
       "      <td>0.712242</td>\n",
       "      <td>0.517488</td>\n",
       "      <td>3.0</td>\n",
       "      <td>1.336784</td>\n",
       "      <td>0.007983</td>\n",
       "      <td>1.073474</td>\n",
       "      <td>...</td>\n",
       "      <td>10594.470703</td>\n",
       "      <td>3174.356934</td>\n",
       "      <td>0.584701</td>\n",
       "      <td>23134.953125</td>\n",
       "      <td>-0.278330</td>\n",
       "      <td>16.435398</td>\n",
       "      <td>0.001321</td>\n",
       "      <td>0.044154</td>\n",
       "      <td>7.737038</td>\n",
       "      <td>5</td>\n",
       "    </tr>\n",
       "    <tr>\n",
       "      <th>2</th>\n",
       "      <td>0.885080</td>\n",
       "      <td>-0.131069</td>\n",
       "      <td>932.128235</td>\n",
       "      <td>13.280714</td>\n",
       "      <td>0.381544</td>\n",
       "      <td>0.219291</td>\n",
       "      <td>1.0</td>\n",
       "      <td>0.798658</td>\n",
       "      <td>0.045085</td>\n",
       "      <td>1.683084</td>\n",
       "      <td>...</td>\n",
       "      <td>2502.196289</td>\n",
       "      <td>15219.761719</td>\n",
       "      <td>0.295038</td>\n",
       "      <td>10180.791016</td>\n",
       "      <td>-0.115879</td>\n",
       "      <td>20.686119</td>\n",
       "      <td>0.005850</td>\n",
       "      <td>0.106614</td>\n",
       "      <td>44.521961</td>\n",
       "      <td>2</td>\n",
       "    </tr>\n",
       "    <tr>\n",
       "      <th>3</th>\n",
       "      <td>0.068347</td>\n",
       "      <td>-0.177802</td>\n",
       "      <td>2617.248291</td>\n",
       "      <td>5.166821</td>\n",
       "      <td>0.564650</td>\n",
       "      <td>0.167886</td>\n",
       "      <td>0.0</td>\n",
       "      <td>0.938619</td>\n",
       "      <td>0.055115</td>\n",
       "      <td>1.093031</td>\n",
       "      <td>...</td>\n",
       "      <td>5097.813965</td>\n",
       "      <td>4365.082520</td>\n",
       "      <td>0.533615</td>\n",
       "      <td>24291.875000</td>\n",
       "      <td>-0.208248</td>\n",
       "      <td>7.873435</td>\n",
       "      <td>0.003864</td>\n",
       "      <td>0.038642</td>\n",
       "      <td>9.630725</td>\n",
       "      <td>4</td>\n",
       "    </tr>\n",
       "    <tr>\n",
       "      <th>4</th>\n",
       "      <td>0.139937</td>\n",
       "      <td>-0.443564</td>\n",
       "      <td>4763.682617</td>\n",
       "      <td>10.897236</td>\n",
       "      <td>0.373736</td>\n",
       "      <td>0.284975</td>\n",
       "      <td>0.0</td>\n",
       "      <td>1.123868</td>\n",
       "      <td>0.015587</td>\n",
       "      <td>1.471946</td>\n",
       "      <td>...</td>\n",
       "      <td>20388.097656</td>\n",
       "      <td>27463.011719</td>\n",
       "      <td>0.926410</td>\n",
       "      <td>24241.628906</td>\n",
       "      <td>-0.328938</td>\n",
       "      <td>18.738485</td>\n",
       "      <td>0.014612</td>\n",
       "      <td>0.020872</td>\n",
       "      <td>7.389726</td>\n",
       "      <td>0</td>\n",
       "    </tr>\n",
       "  </tbody>\n",
       "</table>\n",
       "<p>5 rows × 46 columns</p>\n",
       "</div>"
      ],
      "text/plain": [
       "    IP_p1p2  p1_IsoBDT        p2_pt  FlightDistance     p0_IP  \\\n",
       "0  0.214719  -0.089797   834.562378        6.945030  0.483199   \n",
       "1  0.217507  -0.186370  2861.309814        9.468235  0.712242   \n",
       "2  0.885080  -0.131069   932.128235       13.280714  0.381544   \n",
       "3  0.068347  -0.177802  2617.248291        5.166821  0.564650   \n",
       "4  0.139937  -0.443564  4763.682617       10.897236  0.373736   \n",
       "\n",
       "   FlightDistanceError  iso  p2_track_Chi2Dof   DOCAone  p1_track_Chi2Dof  \\\n",
       "0             0.229196  4.0          1.487057  0.082219          0.862549   \n",
       "1             0.517488  3.0          1.336784  0.007983          1.073474   \n",
       "2             0.219291  1.0          0.798658  0.045085          1.683084   \n",
       "3             0.167886  0.0          0.938619  0.055115          1.093031   \n",
       "4             0.284975  0.0          1.123868  0.015587          1.471946   \n",
       "\n",
       "   ...            pt          p0_p      CDF3          p2_p  p0_IsoBDT  \\\n",
       "0  ...   2251.611816  10392.814453  0.179091  15195.594727  -0.019306   \n",
       "1  ...  10594.470703   3174.356934  0.584701  23134.953125  -0.278330   \n",
       "2  ...   2502.196289  15219.761719  0.295038  10180.791016  -0.115879   \n",
       "3  ...   5097.813965   4365.082520  0.533615  24291.875000  -0.208248   \n",
       "4  ...  20388.097656  27463.011719  0.926410  24241.628906  -0.328938   \n",
       "\n",
       "    p1_IPSig  DOCAthree   DOCAtwo   p2_IPSig  isolationa  \n",
       "0  10.732132   0.066887  0.084005   8.853514           8  \n",
       "1  16.435398   0.001321  0.044154   7.737038           5  \n",
       "2  20.686119   0.005850  0.106614  44.521961           2  \n",
       "3   7.873435   0.003864  0.038642   9.630725           4  \n",
       "4  18.738485   0.014612  0.020872   7.389726           0  \n",
       "\n",
       "[5 rows x 46 columns]"
      ]
     },
     "execution_count": 27,
     "metadata": {},
     "output_type": "execute_result"
    }
   ],
   "source": [
    "df_agreement[variables].head()"
   ]
  },
  {
   "cell_type": "code",
   "execution_count": 28,
   "metadata": {},
   "outputs": [],
   "source": [
    "def splitted_ROC_curve(data_zero, data_one, sample_weights_zero, sample_weights_one):\n",
    "    \"\"\"\n",
    "    Compute Roc Curve\n",
    "    \n",
    "    Input:\n",
    "    - Data_zero: 0-labeled data\n",
    "    - Data_one:  1-labeled data\n",
    "    - Sample_weights_zero: weights for 0-labeled data\n",
    "    - Sample_weights_one:  weights for 1-labeled data\n",
    "    \n",
    "    Output: \n",
    "    - roc curve\n",
    "    \"\"\"\n",
    "    \n",
    "    labels = [0] * len(data_zero) + [1] * len(data_one)\n",
    "    weights = np.concatenate([sample_weights_zero, sample_weights_one])\n",
    "    data_all = np.concatenate([data_zero, data_one])\n",
    "    fpr, tpr, _ = roc_curve(labels, data_all, sample_weight=weights)\n",
    "    return fpr, tpr"
   ]
  },
  {
   "cell_type": "code",
   "execution_count": 29,
   "metadata": {},
   "outputs": [],
   "source": [
    "def compute_ks(data_prediction, mc_prediction, weights_data, weights_mc):\n",
    "    \"\"\"\n",
    "    Compute Kolmogorov-Smirnov (ks) distance between real data predictions cdf and Monte Carlo one.\n",
    "    Input:\n",
    "    - data_prediction: Real data predictions\n",
    "    - mc_prediction: Monte Carlo data predictions\n",
    "    - weights_data: Real data weights\n",
    "    - weights_mc: Monte Carlo weights\n",
    "    \n",
    "    Output\n",
    "    - ks value\n",
    "    \"\"\"\n",
    "    assert len(data_prediction) == len(weights_data), 'Data length and weight one must be the same'\n",
    "    assert len(mc_prediction) == len(weights_mc), 'Data length and weight one must be the same'\n",
    "\n",
    "    data_prediction, mc_prediction = np.array(data_prediction), np.array(mc_prediction)\n",
    "    weights_data, weights_mc = np.array(weights_data), np.array(weights_mc)\n",
    "\n",
    "    assert np.all(data_prediction >= 0.) and np.all(data_prediction <= 1.), 'Data predictions are out of range [0, 1]'\n",
    "    assert np.all(mc_prediction >= 0.) and np.all(mc_prediction <= 1.), 'MC predictions are out of range [0, 1]'\n",
    "\n",
    "    weights_data /= np.sum(weights_data)\n",
    "    weights_mc /= np.sum(weights_mc)\n",
    "\n",
    "    fpr, tpr = splitted_ROC_curve(data_prediction, mc_prediction, weights_data, weights_mc)\n",
    "\n",
    "    Dnm = np.max(np.abs(fpr - tpr))\n",
    "    return Dnm"
   ]
  },
  {
   "cell_type": "code",
   "execution_count": 30,
   "metadata": {},
   "outputs": [
    {
     "name": "stdout",
     "output_type": "stream",
     "text": [
      "KS metric: 0.15702478939101938\n",
      "KS Metric value is Fine: False\n"
     ]
    }
   ],
   "source": [
    "agreement_probs = clf.predict_proba(obj_SC.transform(df_agreement[variables]))[:, 1]\n",
    "\n",
    "ks = compute_ks(\n",
    "                agreement_probs[df_agreement['signal'].values == 0],\n",
    "                agreement_probs[df_agreement['signal'].values == 1],\n",
    "                df_agreement[df_agreement['signal'] == 0]['weight'].values,\n",
    "                df_agreement[df_agreement['signal'] == 1]['weight'].values)\n",
    "\n",
    "print ('KS metric:', ks)\n",
    "print(\"KS Metric value is Fine:\", ks < 0.09)"
   ]
  },
  {
   "cell_type": "code",
   "execution_count": 31,
   "metadata": {},
   "outputs": [],
   "source": [
    "def plot_ks(X_agreement, y_pred):\n",
    "    sig_ind = X_agreement[X_agreement['signal'] == 1].index\n",
    "    bck_ind = X_agreement[X_agreement['signal'] == 0].index\n",
    "\n",
    "    mc_prob = y_pred[sig_ind]\n",
    "    mc_weight = np.array(X_agreement.loc[sig_ind]['weight'])\n",
    "    \n",
    "    data_prob = y_pred[bck_ind]\n",
    "    data_weight = np.array(X_agreement.loc[bck_ind]['weight'])\n",
    "    \n",
    "    inds = data_weight < 0\n",
    "    mc_weight = np.array(list(mc_weight) + list(-data_weight[inds]))\n",
    "    mc_prob = np.array(list(mc_prob) + list(data_prob[inds]))\n",
    "    \n",
    "    data_prob = data_prob[data_weight >= 0]\n",
    "    data_weight = data_weight[data_weight >= 0]\n",
    "    \n",
    "    plt.hist(data_prob, weights=data_weight, color='r', histtype='step', density=True, bins=60, label='Data')\n",
    "    plt.hist(mc_prob, weights=mc_weight, color='b', histtype='step', density=True, bins=60, label='MC')\n",
    "    \n",
    "    plt.xlabel(\"Prediction\")\n",
    "    plt.legend()\n",
    "    plt.show()"
   ]
  },
  {
   "cell_type": "code",
   "execution_count": 32,
   "metadata": {},
   "outputs": [
    {
     "data": {
      "image/png": "[encoded data removed]",
      "text/plain": [
       "<Figure size 576x360 with 1 Axes>"
      ]
     },
     "metadata": {},
     "output_type": "display_data"
    }
   ],
   "source": [
    "plt.rcParams[\"figure.figsize\"] = 8, 5\n",
    "\n",
    "plot_ks(df_agreement, agreement_probs)"
   ]
  },
  {
   "cell_type": "markdown",
   "metadata": {},
   "source": [
    "We can clearly see that that there is very small agreement between the simualted data and the real data."
   ]
  },
  {
   "cell_type": "markdown",
   "metadata": {},
   "source": [
    "## Solution 1: Add Random Noise\n",
    "\n",
    "To increase the agreement between the real data and simualted data, we can add random noise in predicted probabilities."
   ]
  },
  {
   "cell_type": "code",
   "execution_count": 33,
   "metadata": {},
   "outputs": [],
   "source": [
    "def add_noise(array, level=0.40, random_seed=34, noise=\"uniform\"):\n",
    "    np.random.seed(random_seed)\n",
    "    if noise == \"uniform\":\n",
    "        return level * np.random.uniform(size=array.size) + (1 - level) * array\n",
    "    elif noise == \"gaussian\":\n",
    "        return level * np.random.normal(size=array.size) + (1 - level) * array\n",
    "    elif noise == \"laplacian\":\n",
    "        return level * np.random.laplace(size=array.size) + (1 - level) * array\n",
    "    elif noise == \"laplacian\":  \n",
    "        return level * np.random.standard_t(df=1, size=array.size) + (1 - level) * array"
   ]
  },
  {
   "cell_type": "code",
   "execution_count": 34,
   "metadata": {},
   "outputs": [],
   "source": [
    "agreement_probs_noise = add_noise(clf.predict_proba(df_agreement[variables])[:, 1])"
   ]
  },
  {
   "cell_type": "code",
   "execution_count": 35,
   "metadata": {},
   "outputs": [
    {
     "name": "stdout",
     "output_type": "stream",
     "text": [
      "KS metric: 0.019601326012859077\n",
      "KS Metric value is Fine: True\n"
     ]
    }
   ],
   "source": [
    "ks_noise = compute_ks(\n",
    "                        agreement_probs_noise[df_agreement['signal'].values == 0],\n",
    "                        agreement_probs_noise[df_agreement['signal'].values == 1],\n",
    "                        df_agreement[df_agreement['signal'] == 0]['weight'].values,\n",
    "                        df_agreement[df_agreement['signal'] == 1]['weight'].values)\n",
    "\n",
    "print ('KS metric:', ks_noise)\n",
    "print(\"KS Metric value is Fine:\", ks_noise < 0.09)"
   ]
  },
  {
   "cell_type": "code",
   "execution_count": 36,
   "metadata": {},
   "outputs": [
    {
     "data": {
      "image/png": "[encoded data removed]",
      "text/plain": [
       "<Figure size 576x360 with 1 Axes>"
      ]
     },
     "metadata": {},
     "output_type": "display_data"
    }
   ],
   "source": [
    "plt.rcParams[\"figure.figsize\"] = 8, 5\n",
    "\n",
    "plot_ks(df_agreement, agreement_probs_noise)"
   ]
  },
  {
   "cell_type": "markdown",
   "metadata": {},
   "source": [
    "### Effect on ROC"
   ]
  },
  {
   "cell_type": "code",
   "execution_count": 37,
   "metadata": {},
   "outputs": [
    {
     "data": {
      "image/png": "[encoded data removed]",
      "text/plain": [
       "<Figure size 432x432 with 1 Axes>"
      ]
     },
     "metadata": {},
     "output_type": "display_data"
    }
   ],
   "source": [
    "plt.rcParams[\"figure.figsize\"] = 6, 6\n",
    "\n",
    "y_pred = add_noise(clf.predict_proba(obj_SC.transform(valid[variables]))[:, 1])\n",
    "\n",
    "assert valid.shape[0] == y_pred.shape[0]\n",
    "\n",
    "plot_metrics(valid['signal'], y_pred)"
   ]
  },
  {
   "cell_type": "markdown",
   "metadata": {},
   "source": [
    "We have lost the accuracy of the model by adding noise."
   ]
  },
  {
   "cell_type": "markdown",
   "metadata": {},
   "source": [
    "# Solution 2: Gradient Boosted Trees with PCA"
   ]
  },
  {
   "cell_type": "markdown",
   "metadata": {},
   "source": [
    "This approch could help. There is strong correaltion between some covariates and signal varaiable. Principle compionet Analysis helps uncorrelate data."
   ]
  },
  {
   "cell_type": "code",
   "execution_count": 38,
   "metadata": {},
   "outputs": [
    {
     "data": {
      "image/png": "[encoded data removed]",
      "text/plain": [
       "<Figure size 1152x432 with 1 Axes>"
      ]
     },
     "metadata": {},
     "output_type": "display_data"
    }
   ],
   "source": [
    "plt.rcParams[\"figure.figsize\"] = 16, 6\n",
    "\n",
    "plt.bar(train_df.columns, train_df.corr()[\"signal\"])\n",
    "plt.xticks(rotation='vertical')\n",
    "plt.show()"
   ]
  },
  {
   "cell_type": "code",
   "execution_count": 39,
   "metadata": {},
   "outputs": [
    {
     "name": "stdout",
     "output_type": "stream",
     "text": [
      "Explained Variance Ratio:  0.9999999989738714\n"
     ]
    },
    {
     "data": {
      "image/png": "[encoded data removed]",
      "text/plain": [
       "<Figure size 432x288 with 1 Axes>"
      ]
     },
     "metadata": {},
     "output_type": "display_data"
    }
   ],
   "source": [
    "# A PCA model is fitted here just for the visulaization. This will not be used.\n",
    "\n",
    "plt.rcParams[\"figure.figsize\"] = 6, 4\n",
    "\n",
    "\n",
    "obj_PCA = PCA(n_components=7, random_state=13)\n",
    "obj_PCA.fit(train_df)\n",
    "\n",
    "print(\"Explained Variance Ratio: \", obj_PCA.explained_variance_ratio_.sum())\n",
    "\n",
    "temp = pd.DataFrame(obj_PCA.transform(train_df))\n",
    "temp[\"signal\"] = train_df[\"signal\"]\n",
    "\n",
    "plt.bar([str(x) for x in temp.columns], temp.corr()[\"signal\"])\n",
    "plt.xticks(rotation='vertical')\n",
    "plt.show()\n",
    "\n",
    "del obj_PCA, temp"
   ]
  },
  {
   "cell_type": "markdown",
   "metadata": {},
   "source": [
    "We can see here that the correaltion is dropped very much as compared to previous plot. The column names are changes because data is decomposed into the priniple componenet vectors which are projects of components of data in different dimesnions which are mutually normal to each other."
   ]
  },
  {
   "cell_type": "code",
   "execution_count": 40,
   "metadata": {},
   "outputs": [
    {
     "name": "stdout",
     "output_type": "stream",
     "text": [
      "Explained Variance Ratio:  0.996144657944247\n"
     ]
    }
   ],
   "source": [
    "obj_PCA = PCA(n_components=40, random_state=13)\n",
    "obj_PCA.fit(obj_SC.transform(train[variables]))\n",
    "\n",
    "print(\"Explained Variance Ratio: \", obj_PCA.explained_variance_ratio_.sum())"
   ]
  },
  {
   "cell_type": "code",
   "execution_count": 41,
   "metadata": {},
   "outputs": [
    {
     "name": "stdout",
     "output_type": "stream",
     "text": [
      "Wall time: 29.5 s\n"
     ]
    },
    {
     "data": {
      "text/plain": [
       "AdaBoostClassifier(algorithm='SAMME.R',\n",
       "          base_estimator=DecisionTreeClassifier(class_weight=None, criterion='gini', max_depth=6,\n",
       "            max_features=6, max_leaf_nodes=None, min_impurity_decrease=0.0,\n",
       "            min_impurity_split=None, min_samples_leaf=30,\n",
       "            min_samples_split=2, min_weight_fraction_leaf=0.0,\n",
       "            presort=False, random_state=13, splitter='best'),\n",
       "          learning_rate=0.01, n_estimators=100, random_state=13)"
      ]
     },
     "execution_count": 41,
     "metadata": {},
     "output_type": "execute_result"
    }
   ],
   "source": [
    "%%time\n",
    "\n",
    "clf_1 = AdaBoostClassifier(n_estimators=100, \n",
    "                         learning_rate=0.01, \n",
    "                         random_state=13,\n",
    "                         base_estimator=DecisionTreeClassifier(max_depth=6, \n",
    "                                                               min_samples_leaf=30, \n",
    "                                                               max_features=6,\n",
    "                                                               random_state=13))\n",
    "\n",
    "clf_1.fit(obj_PCA.transform(obj_SC.transform(train[variables])), train['signal'])"
   ]
  },
  {
   "cell_type": "code",
   "execution_count": 42,
   "metadata": {},
   "outputs": [],
   "source": [
    "agreement_probs_pca = clf_1.predict_proba(obj_PCA.transform(obj_SC.transform(df_agreement[variables])))[:, 1]"
   ]
  },
  {
   "cell_type": "code",
   "execution_count": 43,
   "metadata": {},
   "outputs": [
    {
     "name": "stdout",
     "output_type": "stream",
     "text": [
      "KS metric: 0.09637934904176032\n",
      "KS Metric value is Fine: False\n"
     ]
    }
   ],
   "source": [
    "ks_noise = compute_ks(\n",
    "                        agreement_probs_pca[df_agreement['signal'].values == 0],\n",
    "                        agreement_probs_pca[df_agreement['signal'].values == 1],\n",
    "                        df_agreement[df_agreement['signal'] == 0]['weight'].values,\n",
    "                        df_agreement[df_agreement['signal'] == 1]['weight'].values)\n",
    "\n",
    "print ('KS metric:', ks_noise)\n",
    "print(\"KS Metric value is Fine:\", ks_noise < 0.09)"
   ]
  },
  {
   "cell_type": "code",
   "execution_count": 44,
   "metadata": {},
   "outputs": [
    {
     "data": {
      "image/png": "[encoded data removed]",
      "text/plain": [
       "<Figure size 576x360 with 1 Axes>"
      ]
     },
     "metadata": {},
     "output_type": "display_data"
    }
   ],
   "source": [
    "plt.rcParams[\"figure.figsize\"] = 8, 5\n",
    "\n",
    "plot_ks(df_agreement, agreement_probs_pca)"
   ]
  },
  {
   "cell_type": "markdown",
   "metadata": {},
   "source": [
    "The agreemnt between the simualted data and the real data improved as compared to the baseline model."
   ]
  },
  {
   "cell_type": "markdown",
   "metadata": {},
   "source": [
    "### Effect on ROC"
   ]
  },
  {
   "cell_type": "code",
   "execution_count": 45,
   "metadata": {},
   "outputs": [
    {
     "data": {
      "image/png": "[encoded data removed]",
      "text/plain": [
       "<Figure size 432x432 with 1 Axes>"
      ]
     },
     "metadata": {},
     "output_type": "display_data"
    }
   ],
   "source": [
    "plt.rcParams[\"figure.figsize\"] = 6, 6\n",
    "\n",
    "y_pred = clf_1.predict_proba(obj_PCA.transform(obj_SC.transform(valid[variables])))[:, 1]\n",
    "\n",
    "assert valid.shape[0] == y_pred.shape[0]\n",
    "\n",
    "plot_metrics(valid['signal'], y_pred)"
   ]
  },
  {
   "cell_type": "markdown",
   "metadata": {},
   "source": [
    "Also I am able to retain the AUC metric wuth decrese from 92.xxxx to 90.xxxx"
   ]
  },
  {
   "cell_type": "markdown",
   "metadata": {},
   "source": [
    "# Solution 3: Neural Networks with Missing Mass Reconstruction"
   ]
  },
  {
   "cell_type": "code",
   "execution_count": 46,
   "metadata": {},
   "outputs": [
    {
     "name": "stderr",
     "output_type": "stream",
     "text": [
      "c:\\users\\lenovo\\appdata\\local\\programs\\python\\python36\\lib\\site-packages\\h5py\\__init__.py:36: FutureWarning: Conversion of the second argument of issubdtype from `float` to `np.floating` is deprecated. In future, it will be treated as `np.float64 == np.dtype(float).type`.\n",
      "  from ._conv import register_converters as _register_converters\n",
      "Using TensorFlow backend.\n"
     ]
    }
   ],
   "source": [
    "from keras.layers import Input, Dense\n",
    "from keras.models import Model, Sequential\n",
    "from keras.utils.vis_utils import plot_model"
   ]
  },
  {
   "cell_type": "code",
   "execution_count": 47,
   "metadata": {},
   "outputs": [],
   "source": [
    "from keras import backend as K\n",
    "\n",
    "def r_sqaured_error(y_true, y_pred):\n",
    "    SS_res =  K.sum(K.square( y_true-y_pred ))\n",
    "    SS_tot = K.sum(K.square( y_true - K.mean(y_true) ) )\n",
    "    return ( 1 - SS_res/(SS_tot + K.epsilon()) )"
   ]
  },
  {
   "cell_type": "code",
   "execution_count": 48,
   "metadata": {},
   "outputs": [],
   "source": [
    "def NN(input_dim, weight=[1.0, 1.0]):\n",
    "    shared = Sequential()\n",
    "    shared.add(Dense(100, activation=\"relu\", name=\"Hidden_1\"))\n",
    "    shared.add(Dense(80, activation=\"relu\", name=\"Hidden_2\"))\n",
    "    shared.add(Dense(60, activation=\"relu\", name=\"Hidden_3\"))\n",
    "\n",
    "\n",
    "    data = Input(shape=(input_dim, ), name=\"Input_Layer\")\n",
    "    features = shared(data)\n",
    "\n",
    "    signal = Dense(1, activation='sigmoid', name='Signal', kernel_initializer=\"glorot_normal\")(features)\n",
    "    mass   = Dense(1, activation='linear', name='Mass', kernel_initializer=\"glorot_normal\")(features)\n",
    "\n",
    "    model =  Model(inputs=[data], outputs=[signal, mass])\n",
    "    model.compile(optimizer = 'Adam', \n",
    "                  loss = ['binary_crossentropy', \"mean_squared_error\"],\n",
    "                  loss_weights = weight)\n",
    "    \n",
    "    return model"
   ]
  },
  {
   "cell_type": "code",
   "execution_count": 49,
   "metadata": {},
   "outputs": [
    {
     "name": "stdout",
     "output_type": "stream",
     "text": [
      "WARNING:tensorflow:From c:\\users\\lenovo\\appdata\\local\\programs\\python\\python36\\lib\\site-packages\\keras\\backend\\tensorflow_backend.py:71: The name tf.get_default_graph is deprecated. Please use tf.compat.v1.get_default_graph instead.\n",
      "\n",
      "WARNING:tensorflow:From c:\\users\\lenovo\\appdata\\local\\programs\\python\\python36\\lib\\site-packages\\keras\\backend\\tensorflow_backend.py:514: The name tf.placeholder is deprecated. Please use tf.compat.v1.placeholder instead.\n",
      "\n",
      "WARNING:tensorflow:From c:\\users\\lenovo\\appdata\\local\\programs\\python\\python36\\lib\\site-packages\\keras\\backend\\tensorflow_backend.py:4076: The name tf.random_uniform is deprecated. Please use tf.random.uniform instead.\n",
      "\n",
      "WARNING:tensorflow:From c:\\users\\lenovo\\appdata\\local\\programs\\python\\python36\\lib\\site-packages\\keras\\backend\\tensorflow_backend.py:4123: The name tf.truncated_normal is deprecated. Please use tf.random.truncated_normal instead.\n",
      "\n",
      "WARNING:tensorflow:From c:\\users\\lenovo\\appdata\\local\\programs\\python\\python36\\lib\\site-packages\\keras\\optimizers.py:757: The name tf.train.Optimizer is deprecated. Please use tf.compat.v1.train.Optimizer instead.\n",
      "\n",
      "WARNING:tensorflow:From c:\\users\\lenovo\\appdata\\local\\programs\\python\\python36\\lib\\site-packages\\keras\\backend\\tensorflow_backend.py:3294: The name tf.log is deprecated. Please use tf.math.log instead.\n",
      "\n",
      "WARNING:tensorflow:From c:\\users\\lenovo\\appdata\\local\\programs\\python\\python36\\lib\\site-packages\\tensorflow\\python\\ops\\nn_impl.py:180: add_dispatch_support.<locals>.wrapper (from tensorflow.python.ops.array_ops) is deprecated and will be removed in a future version.\n",
      "Instructions for updating:\n",
      "Use tf.where in 2.0, which has the same broadcast rule as np.where\n"
     ]
    }
   ],
   "source": [
    "model = NN(len(variables), weight=[1, .5])\n",
    "#plot_model(model, to_file='model_plot.png', show_shapes=True, show_layer_names=True)"
   ]
  },
  {
   "cell_type": "code",
   "execution_count": 50,
   "metadata": {},
   "outputs": [
    {
     "data": {
      "text/plain": [
       "StandardScaler(copy=True, with_mean=True, with_std=True)"
      ]
     },
     "execution_count": 50,
     "metadata": {},
     "output_type": "execute_result"
    }
   ],
   "source": [
    "obj_SC_mass = StandardScaler()\n",
    "obj_SC_mass.fit(train[\"mass\"].values.reshape(-1, 1))"
   ]
  },
  {
   "cell_type": "code",
   "execution_count": 51,
   "metadata": {
    "scrolled": true
   },
   "outputs": [
    {
     "name": "stdout",
     "output_type": "stream",
     "text": [
      "Train on 42558 samples, validate on 4729 samples\n",
      "Epoch 1/100\n",
      "42558/42558 [==============================] - 1s 17us/step - loss: 1.1795 - Signal_loss: 0.6279 - Mass_loss: 1.1033 - val_loss: 1.0697 - val_Signal_loss: 0.5561 - val_Mass_loss: 1.0272\n",
      "Epoch 2/100\n",
      "42558/42558 [==============================] - 0s 6us/step - loss: 1.0267 - Signal_loss: 0.5124 - Mass_loss: 1.0285 - val_loss: 0.9659 - val_Signal_loss: 0.4578 - val_Mass_loss: 1.0163\n",
      "Epoch 3/100\n",
      "42558/42558 [==============================] - 0s 6us/step - loss: 0.9338 - Signal_loss: 0.4273 - Mass_loss: 1.0130 - val_loss: 0.9041 - val_Signal_loss: 0.4034 - val_Mass_loss: 1.0014\n",
      "Epoch 4/100\n",
      "42558/42558 [==============================] - 0s 6us/step - loss: 0.8834 - Signal_loss: 0.3815 - Mass_loss: 1.0038 - val_loss: 0.8661 - val_Signal_loss: 0.3676 - val_Mass_loss: 0.9971\n",
      "Epoch 5/100\n",
      "42558/42558 [==============================] - 0s 6us/step - loss: 0.8483 - Signal_loss: 0.3511 - Mass_loss: 0.9944 - val_loss: 0.8410 - val_Signal_loss: 0.3458 - val_Mass_loss: 0.9905\n",
      "Epoch 6/100\n",
      "42558/42558 [==============================] - 0s 6us/step - loss: 0.8275 - Signal_loss: 0.3335 - Mass_loss: 0.9881 - val_loss: 0.8256 - val_Signal_loss: 0.3313 - val_Mass_loss: 0.9885\n",
      "Epoch 7/100\n",
      "42558/42558 [==============================] - 0s 6us/step - loss: 0.8119 - Signal_loss: 0.3203 - Mass_loss: 0.9833 - val_loss: 0.8132 - val_Signal_loss: 0.3217 - val_Mass_loss: 0.9829\n",
      "Epoch 8/100\n",
      "42558/42558 [==============================] - 0s 6us/step - loss: 0.7986 - Signal_loss: 0.3098 - Mass_loss: 0.9777 - val_loss: 0.8030 - val_Signal_loss: 0.3133 - val_Mass_loss: 0.9794\n",
      "Epoch 9/100\n",
      "42558/42558 [==============================] - 0s 6us/step - loss: 0.7877 - Signal_loss: 0.3012 - Mass_loss: 0.9728 - val_loss: 0.7950 - val_Signal_loss: 0.3069 - val_Mass_loss: 0.9762\n",
      "Epoch 10/100\n",
      "42558/42558 [==============================] - 0s 6us/step - loss: 0.7777 - Signal_loss: 0.2939 - Mass_loss: 0.9674 - val_loss: 0.7871 - val_Signal_loss: 0.3014 - val_Mass_loss: 0.9715\n",
      "Epoch 11/100\n",
      "42558/42558 [==============================] - 0s 6us/step - loss: 0.7696 - Signal_loss: 0.2883 - Mass_loss: 0.9626 - val_loss: 0.7812 - val_Signal_loss: 0.2974 - val_Mass_loss: 0.9675\n",
      "Epoch 12/100\n",
      "42558/42558 [==============================] - 0s 6us/step - loss: 0.7619 - Signal_loss: 0.2838 - Mass_loss: 0.9563 - val_loss: 0.7758 - val_Signal_loss: 0.2939 - val_Mass_loss: 0.9638\n",
      "Epoch 13/100\n",
      "42558/42558 [==============================] - 0s 5us/step - loss: 0.7552 - Signal_loss: 0.2800 - Mass_loss: 0.9504 - val_loss: 0.7717 - val_Signal_loss: 0.2915 - val_Mass_loss: 0.9603\n",
      "Epoch 14/100\n",
      "42558/42558 [==============================] - 0s 5us/step - loss: 0.7502 - Signal_loss: 0.2772 - Mass_loss: 0.9460 - val_loss: 0.7672 - val_Signal_loss: 0.2888 - val_Mass_loss: 0.9567\n",
      "Epoch 15/100\n",
      "42558/42558 [==============================] - 0s 5us/step - loss: 0.7438 - Signal_loss: 0.2745 - Mass_loss: 0.9385 - val_loss: 0.7660 - val_Signal_loss: 0.2877 - val_Mass_loss: 0.9567\n",
      "Epoch 16/100\n",
      "42558/42558 [==============================] - 0s 5us/step - loss: 0.7383 - Signal_loss: 0.2725 - Mass_loss: 0.9315 - val_loss: 0.7598 - val_Signal_loss: 0.2859 - val_Mass_loss: 0.9477\n",
      "Epoch 17/100\n",
      "42558/42558 [==============================] - 0s 5us/step - loss: 0.7322 - Signal_loss: 0.2710 - Mass_loss: 0.9225 - val_loss: 0.7562 - val_Signal_loss: 0.2844 - val_Mass_loss: 0.9435\n",
      "Epoch 18/100\n",
      "42558/42558 [==============================] - 0s 5us/step - loss: 0.7278 - Signal_loss: 0.2690 - Mass_loss: 0.9175 - val_loss: 0.7523 - val_Signal_loss: 0.2835 - val_Mass_loss: 0.9375\n",
      "Epoch 19/100\n",
      "42558/42558 [==============================] - 0s 6us/step - loss: 0.7213 - Signal_loss: 0.2673 - Mass_loss: 0.9080 - val_loss: 0.7502 - val_Signal_loss: 0.2829 - val_Mass_loss: 0.9346\n",
      "Epoch 20/100\n",
      "42558/42558 [==============================] - 0s 5us/step - loss: 0.7152 - Signal_loss: 0.2662 - Mass_loss: 0.8979 - val_loss: 0.7466 - val_Signal_loss: 0.2817 - val_Mass_loss: 0.9297\n",
      "Epoch 21/100\n",
      "42558/42558 [==============================] - 0s 5us/step - loss: 0.7090 - Signal_loss: 0.2650 - Mass_loss: 0.8882 - val_loss: 0.7455 - val_Signal_loss: 0.2808 - val_Mass_loss: 0.9293\n",
      "Epoch 22/100\n",
      "42558/42558 [==============================] - 0s 5us/step - loss: 0.7042 - Signal_loss: 0.2641 - Mass_loss: 0.8801 - val_loss: 0.7397 - val_Signal_loss: 0.2809 - val_Mass_loss: 0.9176\n",
      "Epoch 23/100\n",
      "42558/42558 [==============================] - 0s 5us/step - loss: 0.6974 - Signal_loss: 0.2628 - Mass_loss: 0.8692 - val_loss: 0.7398 - val_Signal_loss: 0.2803 - val_Mass_loss: 0.9192\n",
      "Epoch 24/100\n",
      "42558/42558 [==============================] - 0s 5us/step - loss: 0.6908 - Signal_loss: 0.2617 - Mass_loss: 0.8580 - val_loss: 0.7310 - val_Signal_loss: 0.2800 - val_Mass_loss: 0.9022\n",
      "Epoch 25/100\n",
      "42558/42558 [==============================] - 0s 5us/step - loss: 0.6845 - Signal_loss: 0.2610 - Mass_loss: 0.8469 - val_loss: 0.7305 - val_Signal_loss: 0.2798 - val_Mass_loss: 0.9014\n",
      "Epoch 26/100\n",
      "42558/42558 [==============================] - 0s 5us/step - loss: 0.6788 - Signal_loss: 0.2600 - Mass_loss: 0.8376 - val_loss: 0.7264 - val_Signal_loss: 0.2789 - val_Mass_loss: 0.8950\n",
      "Epoch 27/100\n",
      "42558/42558 [==============================] - 0s 5us/step - loss: 0.6700 - Signal_loss: 0.2592 - Mass_loss: 0.8216 - val_loss: 0.7210 - val_Signal_loss: 0.2788 - val_Mass_loss: 0.8843\n",
      "Epoch 28/100\n",
      "42558/42558 [==============================] - 0s 5us/step - loss: 0.6651 - Signal_loss: 0.2585 - Mass_loss: 0.8132 - val_loss: 0.7186 - val_Signal_loss: 0.2786 - val_Mass_loss: 0.8799\n",
      "Epoch 29/100\n",
      "42558/42558 [==============================] - 0s 5us/step - loss: 0.6570 - Signal_loss: 0.2579 - Mass_loss: 0.7980 - val_loss: 0.7131 - val_Signal_loss: 0.2781 - val_Mass_loss: 0.8702\n",
      "Epoch 30/100\n",
      "42558/42558 [==============================] - 0s 6us/step - loss: 0.6506 - Signal_loss: 0.2576 - Mass_loss: 0.7860 - val_loss: 0.7079 - val_Signal_loss: 0.2779 - val_Mass_loss: 0.8598\n",
      "Epoch 31/100\n",
      "42558/42558 [==============================] - 0s 6us/step - loss: 0.6444 - Signal_loss: 0.2568 - Mass_loss: 0.7753 - val_loss: 0.7176 - val_Signal_loss: 0.2772 - val_Mass_loss: 0.8808\n",
      "Epoch 32/100\n",
      "42558/42558 [==============================] - ETA: 0s - loss: 0.6416 - Signal_loss: 0.2567 - Mass_loss: 0.769 - 0s 6us/step - loss: 0.6422 - Signal_loss: 0.2562 - Mass_loss: 0.7720 - val_loss: 0.7041 - val_Signal_loss: 0.2773 - val_Mass_loss: 0.8535\n",
      "Epoch 33/100\n",
      "42558/42558 [==============================] - 0s 6us/step - loss: 0.6347 - Signal_loss: 0.2559 - Mass_loss: 0.7577 - val_loss: 0.6984 - val_Signal_loss: 0.2768 - val_Mass_loss: 0.8432\n",
      "Epoch 34/100\n",
      "42558/42558 [==============================] - 0s 6us/step - loss: 0.6274 - Signal_loss: 0.2552 - Mass_loss: 0.7443 - val_loss: 0.6939 - val_Signal_loss: 0.2767 - val_Mass_loss: 0.8344\n",
      "Epoch 35/100\n",
      "42558/42558 [==============================] - 0s 6us/step - loss: 0.6199 - Signal_loss: 0.2548 - Mass_loss: 0.7302 - val_loss: 0.6897 - val_Signal_loss: 0.2766 - val_Mass_loss: 0.8262\n",
      "Epoch 36/100\n",
      "42558/42558 [==============================] - 0s 6us/step - loss: 0.6146 - Signal_loss: 0.2544 - Mass_loss: 0.7204 - val_loss: 0.6857 - val_Signal_loss: 0.2765 - val_Mass_loss: 0.8183\n",
      "Epoch 37/100\n",
      "42558/42558 [==============================] - 0s 6us/step - loss: 0.6089 - Signal_loss: 0.2542 - Mass_loss: 0.7095 - val_loss: 0.6846 - val_Signal_loss: 0.2764 - val_Mass_loss: 0.8164\n",
      "Epoch 38/100\n",
      "42558/42558 [==============================] - 0s 6us/step - loss: 0.6018 - Signal_loss: 0.2539 - Mass_loss: 0.6959 - val_loss: 0.6850 - val_Signal_loss: 0.2762 - val_Mass_loss: 0.8177\n",
      "Epoch 39/100\n",
      "42558/42558 [==============================] - 0s 6us/step - loss: 0.5986 - Signal_loss: 0.2535 - Mass_loss: 0.6900 - val_loss: 0.6787 - val_Signal_loss: 0.2761 - val_Mass_loss: 0.8051\n",
      "Epoch 40/100\n",
      "42558/42558 [==============================] - 0s 6us/step - loss: 0.5918 - Signal_loss: 0.2531 - Mass_loss: 0.6775 - val_loss: 0.6711 - val_Signal_loss: 0.2755 - val_Mass_loss: 0.7912\n",
      "Epoch 41/100\n",
      "42558/42558 [==============================] - 0s 5us/step - loss: 0.5854 - Signal_loss: 0.2527 - Mass_loss: 0.6655 - val_loss: 0.6688 - val_Signal_loss: 0.2761 - val_Mass_loss: 0.7853\n"
     ]
    },
    {
     "name": "stdout",
     "output_type": "stream",
     "text": [
      "Epoch 42/100\n",
      "42558/42558 [==============================] - 0s 6us/step - loss: 0.5826 - Signal_loss: 0.2525 - Mass_loss: 0.6602 - val_loss: 0.6703 - val_Signal_loss: 0.2762 - val_Mass_loss: 0.7882\n",
      "Epoch 43/100\n",
      "42558/42558 [==============================] - 0s 6us/step - loss: 0.5771 - Signal_loss: 0.2522 - Mass_loss: 0.6498 - val_loss: 0.6616 - val_Signal_loss: 0.2762 - val_Mass_loss: 0.7707\n",
      "Epoch 44/100\n",
      "42558/42558 [==============================] - 0s 5us/step - loss: 0.5702 - Signal_loss: 0.2517 - Mass_loss: 0.6372 - val_loss: 0.6616 - val_Signal_loss: 0.2753 - val_Mass_loss: 0.7726\n",
      "Epoch 45/100\n",
      "42558/42558 [==============================] - 0s 6us/step - loss: 0.5645 - Signal_loss: 0.2515 - Mass_loss: 0.6260 - val_loss: 0.6582 - val_Signal_loss: 0.2762 - val_Mass_loss: 0.7641\n",
      "Epoch 46/100\n",
      "42558/42558 [==============================] - 0s 6us/step - loss: 0.5605 - Signal_loss: 0.2512 - Mass_loss: 0.6185 - val_loss: 0.6554 - val_Signal_loss: 0.2761 - val_Mass_loss: 0.7587\n",
      "Epoch 47/100\n",
      "42558/42558 [==============================] - 0s 5us/step - loss: 0.5551 - Signal_loss: 0.2509 - Mass_loss: 0.6085 - val_loss: 0.6508 - val_Signal_loss: 0.2757 - val_Mass_loss: 0.7502\n",
      "Epoch 48/100\n",
      "42558/42558 [==============================] - 0s 6us/step - loss: 0.5512 - Signal_loss: 0.2510 - Mass_loss: 0.6005 - val_loss: 0.6534 - val_Signal_loss: 0.2777 - val_Mass_loss: 0.7513\n",
      "Epoch 49/100\n",
      "42558/42558 [==============================] - 0s 6us/step - loss: 0.5463 - Signal_loss: 0.2508 - Mass_loss: 0.5910 - val_loss: 0.6495 - val_Signal_loss: 0.2761 - val_Mass_loss: 0.7467\n",
      "Epoch 50/100\n",
      "42558/42558 [==============================] - 0s 6us/step - loss: 0.5422 - Signal_loss: 0.2502 - Mass_loss: 0.5839 - val_loss: 0.6470 - val_Signal_loss: 0.2765 - val_Mass_loss: 0.7410\n",
      "Epoch 51/100\n",
      "42558/42558 [==============================] - 0s 6us/step - loss: 0.5376 - Signal_loss: 0.2499 - Mass_loss: 0.5753 - val_loss: 0.6411 - val_Signal_loss: 0.2765 - val_Mass_loss: 0.7293\n",
      "Epoch 52/100\n",
      "42558/42558 [==============================] - 0s 6us/step - loss: 0.5331 - Signal_loss: 0.2498 - Mass_loss: 0.5667 - val_loss: 0.6469 - val_Signal_loss: 0.2780 - val_Mass_loss: 0.7378\n",
      "Epoch 53/100\n",
      "42558/42558 [==============================] - 0s 6us/step - loss: 0.5292 - Signal_loss: 0.2491 - Mass_loss: 0.5603 - val_loss: 0.6382 - val_Signal_loss: 0.2756 - val_Mass_loss: 0.7252\n",
      "Epoch 54/100\n",
      "42558/42558 [==============================] - 0s 6us/step - loss: 0.5250 - Signal_loss: 0.2485 - Mass_loss: 0.5531 - val_loss: 0.6371 - val_Signal_loss: 0.2763 - val_Mass_loss: 0.7216\n",
      "Epoch 55/100\n",
      "42558/42558 [==============================] - 0s 6us/step - loss: 0.5207 - Signal_loss: 0.2482 - Mass_loss: 0.5451 - val_loss: 0.6339 - val_Signal_loss: 0.2755 - val_Mass_loss: 0.7166\n",
      "Epoch 56/100\n",
      "42558/42558 [==============================] - 0s 5us/step - loss: 0.5156 - Signal_loss: 0.2480 - Mass_loss: 0.5351 - val_loss: 0.6340 - val_Signal_loss: 0.2760 - val_Mass_loss: 0.7159\n",
      "Epoch 57/100\n",
      "42558/42558 [==============================] - 0s 5us/step - loss: 0.5127 - Signal_loss: 0.2479 - Mass_loss: 0.5296 - val_loss: 0.6350 - val_Signal_loss: 0.2760 - val_Mass_loss: 0.7182\n",
      "Epoch 58/100\n",
      "42558/42558 [==============================] - 0s 5us/step - loss: 0.5096 - Signal_loss: 0.2471 - Mass_loss: 0.5250 - val_loss: 0.6274 - val_Signal_loss: 0.2760 - val_Mass_loss: 0.7027\n",
      "Epoch 59/100\n",
      "42558/42558 [==============================] - 0s 5us/step - loss: 0.5050 - Signal_loss: 0.2467 - Mass_loss: 0.5165 - val_loss: 0.6274 - val_Signal_loss: 0.2761 - val_Mass_loss: 0.7027\n",
      "Epoch 60/100\n",
      "42558/42558 [==============================] - 0s 5us/step - loss: 0.5011 - Signal_loss: 0.2468 - Mass_loss: 0.5087 - val_loss: 0.6235 - val_Signal_loss: 0.2763 - val_Mass_loss: 0.6942\n",
      "Epoch 61/100\n",
      "42558/42558 [==============================] - 0s 6us/step - loss: 0.4988 - Signal_loss: 0.2465 - Mass_loss: 0.5048 - val_loss: 0.6266 - val_Signal_loss: 0.2763 - val_Mass_loss: 0.7005\n",
      "Epoch 62/100\n",
      "42558/42558 [==============================] - 0s 5us/step - loss: 0.4943 - Signal_loss: 0.2462 - Mass_loss: 0.4963 - val_loss: 0.6242 - val_Signal_loss: 0.2763 - val_Mass_loss: 0.6957\n",
      "Epoch 63/100\n",
      "42558/42558 [==============================] - 0s 5us/step - loss: 0.4913 - Signal_loss: 0.2458 - Mass_loss: 0.4908 - val_loss: 0.6244 - val_Signal_loss: 0.2760 - val_Mass_loss: 0.6967\n",
      "Epoch 64/100\n",
      "42558/42558 [==============================] - 0s 5us/step - loss: 0.4893 - Signal_loss: 0.2457 - Mass_loss: 0.4873 - val_loss: 0.6203 - val_Signal_loss: 0.2762 - val_Mass_loss: 0.6881\n",
      "Epoch 65/100\n",
      "42558/42558 [==============================] - 0s 6us/step - loss: 0.4867 - Signal_loss: 0.2454 - Mass_loss: 0.4827 - val_loss: 0.6221 - val_Signal_loss: 0.2759 - val_Mass_loss: 0.6924\n",
      "Epoch 66/100\n",
      "42558/42558 [==============================] - 0s 5us/step - loss: 0.4850 - Signal_loss: 0.2447 - Mass_loss: 0.4806 - val_loss: 0.6150 - val_Signal_loss: 0.2753 - val_Mass_loss: 0.6794\n",
      "Epoch 67/100\n",
      "42558/42558 [==============================] - 0s 5us/step - loss: 0.4816 - Signal_loss: 0.2444 - Mass_loss: 0.4744 - val_loss: 0.6107 - val_Signal_loss: 0.2765 - val_Mass_loss: 0.6684\n",
      "Epoch 68/100\n",
      "42558/42558 [==============================] - 0s 5us/step - loss: 0.4797 - Signal_loss: 0.2442 - Mass_loss: 0.4709 - val_loss: 0.6189 - val_Signal_loss: 0.2762 - val_Mass_loss: 0.6855\n",
      "Epoch 69/100\n",
      "42558/42558 [==============================] - 0s 5us/step - loss: 0.4827 - Signal_loss: 0.2438 - Mass_loss: 0.4776 - val_loss: 0.6107 - val_Signal_loss: 0.2757 - val_Mass_loss: 0.6701\n",
      "Epoch 70/100\n",
      "42558/42558 [==============================] - 0s 6us/step - loss: 0.4729 - Signal_loss: 0.2437 - Mass_loss: 0.4585 - val_loss: 0.6096 - val_Signal_loss: 0.2763 - val_Mass_loss: 0.6667\n",
      "Epoch 71/100\n",
      "42558/42558 [==============================] - 0s 6us/step - loss: 0.4698 - Signal_loss: 0.2433 - Mass_loss: 0.4532 - val_loss: 0.6073 - val_Signal_loss: 0.2758 - val_Mass_loss: 0.6630\n",
      "Epoch 72/100\n",
      "42558/42558 [==============================] - 0s 6us/step - loss: 0.4684 - Signal_loss: 0.2431 - Mass_loss: 0.4505 - val_loss: 0.6076 - val_Signal_loss: 0.2763 - val_Mass_loss: 0.6625\n",
      "Epoch 73/100\n",
      "42558/42558 [==============================] - 0s 5us/step - loss: 0.4631 - Signal_loss: 0.2427 - Mass_loss: 0.4408 - val_loss: 0.6032 - val_Signal_loss: 0.2763 - val_Mass_loss: 0.6538\n",
      "Epoch 74/100\n",
      "42558/42558 [==============================] - 0s 5us/step - loss: 0.4623 - Signal_loss: 0.2423 - Mass_loss: 0.4401 - val_loss: 0.6131 - val_Signal_loss: 0.2771 - val_Mass_loss: 0.6720\n",
      "Epoch 75/100\n",
      "42558/42558 [==============================] - 0s 5us/step - loss: 0.4678 - Signal_loss: 0.2420 - Mass_loss: 0.4517 - val_loss: 0.6055 - val_Signal_loss: 0.2761 - val_Mass_loss: 0.6588\n",
      "Epoch 76/100\n",
      "42558/42558 [==============================] - 0s 5us/step - loss: 0.4618 - Signal_loss: 0.2417 - Mass_loss: 0.4401 - val_loss: 0.6043 - val_Signal_loss: 0.2764 - val_Mass_loss: 0.6558\n",
      "Epoch 77/100\n",
      "42558/42558 [==============================] - 0s 6us/step - loss: 0.4582 - Signal_loss: 0.2416 - Mass_loss: 0.4332 - val_loss: 0.5974 - val_Signal_loss: 0.2766 - val_Mass_loss: 0.6416\n",
      "Epoch 78/100\n",
      "42558/42558 [==============================] - 0s 5us/step - loss: 0.4548 - Signal_loss: 0.2414 - Mass_loss: 0.4269 - val_loss: 0.6009 - val_Signal_loss: 0.2772 - val_Mass_loss: 0.6473\n",
      "Epoch 79/100\n",
      "42558/42558 [==============================] - 0s 5us/step - loss: 0.4535 - Signal_loss: 0.2408 - Mass_loss: 0.4255 - val_loss: 0.5947 - val_Signal_loss: 0.2767 - val_Mass_loss: 0.6360\n",
      "Epoch 80/100\n",
      "42558/42558 [==============================] - 0s 6us/step - loss: 0.4501 - Signal_loss: 0.2403 - Mass_loss: 0.4196 - val_loss: 0.6028 - val_Signal_loss: 0.2766 - val_Mass_loss: 0.6523\n",
      "Epoch 81/100\n",
      "42558/42558 [==============================] - 0s 6us/step - loss: 0.4478 - Signal_loss: 0.2407 - Mass_loss: 0.4142 - val_loss: 0.5955 - val_Signal_loss: 0.2764 - val_Mass_loss: 0.6381\n",
      "Epoch 82/100\n",
      "42558/42558 [==============================] - 0s 6us/step - loss: 0.4451 - Signal_loss: 0.2401 - Mass_loss: 0.4101 - val_loss: 0.5897 - val_Signal_loss: 0.2763 - val_Mass_loss: 0.6269\n",
      "Epoch 83/100\n"
     ]
    },
    {
     "name": "stdout",
     "output_type": "stream",
     "text": [
      "42558/42558 [==============================] - 0s 5us/step - loss: 0.4415 - Signal_loss: 0.2396 - Mass_loss: 0.4037 - val_loss: 0.5902 - val_Signal_loss: 0.2768 - val_Mass_loss: 0.6269\n",
      "Epoch 84/100\n",
      "42558/42558 [==============================] - 0s 5us/step - loss: 0.4403 - Signal_loss: 0.2393 - Mass_loss: 0.4021 - val_loss: 0.5927 - val_Signal_loss: 0.2768 - val_Mass_loss: 0.6317\n",
      "Epoch 85/100\n",
      "42558/42558 [==============================] - 0s 6us/step - loss: 0.4403 - Signal_loss: 0.2394 - Mass_loss: 0.4017 - val_loss: 0.5902 - val_Signal_loss: 0.2778 - val_Mass_loss: 0.6247\n",
      "Epoch 86/100\n",
      "42558/42558 [==============================] - 0s 6us/step - loss: 0.4392 - Signal_loss: 0.2391 - Mass_loss: 0.4000 - val_loss: 0.5841 - val_Signal_loss: 0.2773 - val_Mass_loss: 0.6137\n",
      "Epoch 87/100\n",
      "42558/42558 [==============================] - 0s 6us/step - loss: 0.4366 - Signal_loss: 0.2388 - Mass_loss: 0.3955 - val_loss: 0.5912 - val_Signal_loss: 0.2769 - val_Mass_loss: 0.6285\n",
      "Epoch 88/100\n",
      "42558/42558 [==============================] - 0s 6us/step - loss: 0.4343 - Signal_loss: 0.2386 - Mass_loss: 0.3915 - val_loss: 0.5844 - val_Signal_loss: 0.2772 - val_Mass_loss: 0.6144\n",
      "Epoch 89/100\n",
      "42558/42558 [==============================] - 0s 6us/step - loss: 0.4348 - Signal_loss: 0.2379 - Mass_loss: 0.3937 - val_loss: 0.5908 - val_Signal_loss: 0.2764 - val_Mass_loss: 0.6287\n",
      "Epoch 90/100\n",
      "42558/42558 [==============================] - 0s 5us/step - loss: 0.4337 - Signal_loss: 0.2378 - Mass_loss: 0.3918 - val_loss: 0.5798 - val_Signal_loss: 0.2764 - val_Mass_loss: 0.6069\n",
      "Epoch 91/100\n",
      "42558/42558 [==============================] - 0s 6us/step - loss: 0.4290 - Signal_loss: 0.2372 - Mass_loss: 0.3835 - val_loss: 0.5850 - val_Signal_loss: 0.2765 - val_Mass_loss: 0.6171\n",
      "Epoch 92/100\n",
      "42558/42558 [==============================] - 0s 6us/step - loss: 0.4277 - Signal_loss: 0.2370 - Mass_loss: 0.3813 - val_loss: 0.5846 - val_Signal_loss: 0.2777 - val_Mass_loss: 0.6137\n",
      "Epoch 93/100\n",
      "42558/42558 [==============================] - 0s 6us/step - loss: 0.4256 - Signal_loss: 0.2367 - Mass_loss: 0.3778 - val_loss: 0.5781 - val_Signal_loss: 0.2765 - val_Mass_loss: 0.6033\n",
      "Epoch 94/100\n",
      "42558/42558 [==============================] - 0s 6us/step - loss: 0.4232 - Signal_loss: 0.2362 - Mass_loss: 0.3739 - val_loss: 0.5761 - val_Signal_loss: 0.2772 - val_Mass_loss: 0.5977\n",
      "Epoch 95/100\n",
      "42558/42558 [==============================] - 0s 6us/step - loss: 0.4207 - Signal_loss: 0.2357 - Mass_loss: 0.3700 - val_loss: 0.5774 - val_Signal_loss: 0.2771 - val_Mass_loss: 0.6006\n",
      "Epoch 96/100\n",
      "42558/42558 [==============================] - 0s 6us/step - loss: 0.4224 - Signal_loss: 0.2356 - Mass_loss: 0.3736 - val_loss: 0.5755 - val_Signal_loss: 0.2762 - val_Mass_loss: 0.5986\n",
      "Epoch 97/100\n",
      "42558/42558 [==============================] - 0s 5us/step - loss: 0.4205 - Signal_loss: 0.2358 - Mass_loss: 0.3695 - val_loss: 0.5728 - val_Signal_loss: 0.2772 - val_Mass_loss: 0.5911\n",
      "Epoch 98/100\n",
      "42558/42558 [==============================] - 0s 5us/step - loss: 0.4170 - Signal_loss: 0.2356 - Mass_loss: 0.3628 - val_loss: 0.5748 - val_Signal_loss: 0.2765 - val_Mass_loss: 0.5968\n",
      "Epoch 99/100\n",
      "42558/42558 [==============================] - 0s 5us/step - loss: 0.4166 - Signal_loss: 0.2349 - Mass_loss: 0.3634 - val_loss: 0.5739 - val_Signal_loss: 0.2765 - val_Mass_loss: 0.5948\n",
      "Epoch 100/100\n",
      "42558/42558 [==============================] - 0s 5us/step - loss: 0.4150 - Signal_loss: 0.2345 - Mass_loss: 0.3609 - val_loss: 0.5755 - val_Signal_loss: 0.2760 - val_Mass_loss: 0.5991\n"
     ]
    },
    {
     "data": {
      "text/plain": [
       "<keras.callbacks.History at 0x971c06fd68>"
      ]
     },
     "execution_count": 51,
     "metadata": {},
     "output_type": "execute_result"
    }
   ],
   "source": [
    "model.fit(x = [obj_SC.transform(train[variables])], \n",
    "          y = [train[\"signal\"], obj_SC_mass.transform([train[\"mass\"]])[0]],\n",
    "          batch_size = 5000, \n",
    "          epochs = 100,\n",
    "          validation_split = 0.1)"
   ]
  },
  {
   "cell_type": "code",
   "execution_count": 52,
   "metadata": {},
   "outputs": [],
   "source": [
    "def get_prob(model, df):\n",
    "    prediction, _ =  model.predict(obj_SC.transform(df[variables]))\n",
    "    return prediction"
   ]
  },
  {
   "cell_type": "code",
   "execution_count": 53,
   "metadata": {},
   "outputs": [],
   "source": [
    "agreement_probs_mass = get_prob(model, df_agreement)"
   ]
  },
  {
   "cell_type": "code",
   "execution_count": 54,
   "metadata": {},
   "outputs": [
    {
     "name": "stdout",
     "output_type": "stream",
     "text": [
      "KS metric: 0.2385587717259121\n",
      "KS Metric value is Fine: False\n"
     ]
    }
   ],
   "source": [
    "ks_noise = compute_ks(\n",
    "                        agreement_probs_mass[df_agreement['signal'].values == 0],\n",
    "                        agreement_probs_mass[df_agreement['signal'].values == 1],\n",
    "                        df_agreement[df_agreement['signal'] == 0]['weight'].values,\n",
    "                        df_agreement[df_agreement['signal'] == 1]['weight'].values)\n",
    "\n",
    "print ('KS metric:', ks_noise)\n",
    "print(\"KS Metric value is Fine:\", ks_noise < 0.09)"
   ]
  },
  {
   "cell_type": "code",
   "execution_count": 55,
   "metadata": {},
   "outputs": [
    {
     "data": {
      "image/png": "[encoded data removed]",
      "text/plain": [
       "<Figure size 576x360 with 1 Axes>"
      ]
     },
     "metadata": {},
     "output_type": "display_data"
    }
   ],
   "source": [
    "plt.rcParams[\"figure.figsize\"] = 8, 5\n",
    "\n",
    "plot_ks(df_agreement, agreement_probs_mass)"
   ]
  },
  {
   "cell_type": "markdown",
   "metadata": {},
   "source": [
    "### Effect on ROC"
   ]
  },
  {
   "cell_type": "code",
   "execution_count": 56,
   "metadata": {},
   "outputs": [
    {
     "data": {
      "image/png": "[encoded data removed]",
      "text/plain": [
       "<Figure size 432x432 with 1 Axes>"
      ]
     },
     "metadata": {},
     "output_type": "display_data"
    }
   ],
   "source": [
    "plt.rcParams[\"figure.figsize\"] = 6, 6\n",
    "\n",
    "y_pred = get_prob(model, valid)\n",
    "\n",
    "assert valid.shape[0] == y_pred.shape[0]\n",
    "\n",
    "plot_metrics(valid['signal'], y_pred)"
   ]
  },
  {
   "cell_type": "markdown",
   "metadata": {},
   "source": [
    "# Solution 4: Neural Networks with Missing Variables Reconstruction\n",
    "\n",
    "The neural network will be trained to predict the $signal$ varialbe while varialbes like $mass$, $min_ANNmuon$, and $production$ will be regressed as auxillary ends to reinforce the training of signal classifier. This is similar as previos case but instead more maraibles are used in addition to mass."
   ]
  },
  {
   "cell_type": "code",
   "execution_count": 65,
   "metadata": {},
   "outputs": [],
   "source": [
    "def NN_upgrade(input_dim, weight=[1.0, 1.0, 1.0, 1.0]):\n",
    "    shared = Sequential()\n",
    "    shared.add(Dense(100, activation=\"relu\", name=\"Hidden_1\"))\n",
    "    shared.add(Dense(80, activation=\"relu\", name=\"Hidden_2\"))\n",
    "    shared.add(Dense(60, activation=\"relu\", name=\"Hidden_3\"))\n",
    "\n",
    "\n",
    "    data = Input(shape=(input_dim, ), name=\"Input_Layer\")\n",
    "    features = shared(data)\n",
    "\n",
    "    signal = Dense(1, activation='sigmoid', name='Signal', kernel_initializer=\"glorot_normal\")(features)\n",
    "    mass   = Dense(1, activation='linear', name='Mass', kernel_initializer=\"glorot_normal\")(features)\n",
    "    min_ANNmuon = Dense(1, activation='sigmoid', name='min_ANNmuon', kernel_initializer=\"glorot_normal\")(features)\n",
    "    production = Dense(1, activation='sigmoid', name='Production', kernel_initializer=\"glorot_normal\")(features)\n",
    "    \n",
    "\n",
    "    model =  Model(inputs=[data], outputs=[signal, mass, min_ANNmuon, production])\n",
    "    model.compile(optimizer = 'Adam', \n",
    "                  loss = ['binary_crossentropy', \"mean_squared_error\", \"binary_crossentropy\", \"binary_crossentropy\"],\n",
    "                  loss_weights = weight)\n",
    "    \n",
    "    return model"
   ]
  },
  {
   "cell_type": "code",
   "execution_count": 66,
   "metadata": {},
   "outputs": [],
   "source": [
    "model_1 = NN_upgrade(len(variables), weight=[1, 0.5, 1, 1])\n",
    "#plot_model(model, to_file='model_plot.png', show_shapes=True, show_layer_names=True)"
   ]
  },
  {
   "cell_type": "code",
   "execution_count": 67,
   "metadata": {
    "scrolled": true
   },
   "outputs": [
    {
     "name": "stdout",
     "output_type": "stream",
     "text": [
      "Train on 42558 samples, validate on 4729 samples\n",
      "Epoch 1/100\n",
      "42558/42558 [==============================] - 1s 29us/step - loss: 2.6077 - Signal_loss: 0.7211 - Mass_loss: 1.0516 - min_ANNmuon_loss: 0.7123 - Production_loss: 0.6486 - val_loss: 2.3910 - val_Signal_loss: 0.6215 - val_Mass_loss: 1.0036 - val_min_ANNmuon_loss: 0.6828 - val_Production_loss: 0.5849\n",
      "Epoch 2/100\n",
      "42558/42558 [==============================] - 0s 7us/step - loss: 2.3117 - Signal_loss: 0.5766 - Mass_loss: 1.0241 - min_ANNmuon_loss: 0.6825 - Production_loss: 0.5406 - val_loss: 2.1787 - val_Signal_loss: 0.5134 - val_Mass_loss: 0.9951 - val_min_ANNmuon_loss: 0.6844 - val_Production_loss: 0.4834\n",
      "Epoch 3/100\n",
      "42558/42558 [==============================] - 0s 7us/step - loss: 2.1105 - Signal_loss: 0.4721 - Mass_loss: 1.0132 - min_ANNmuon_loss: 0.6796 - Production_loss: 0.4522 - val_loss: 2.0238 - val_Signal_loss: 0.4297 - val_Mass_loss: 0.9879 - val_min_ANNmuon_loss: 0.6767 - val_Production_loss: 0.4235\n",
      "Epoch 4/100\n",
      "42558/42558 [==============================] - 0s 7us/step - loss: 1.9872 - Signal_loss: 0.4057 - Mass_loss: 1.0082 - min_ANNmuon_loss: 0.6737 - Production_loss: 0.4037 - val_loss: 1.9364 - val_Signal_loss: 0.3871 - val_Mass_loss: 0.9847 - val_min_ANNmuon_loss: 0.6714 - val_Production_loss: 0.3856\n",
      "Epoch 5/100\n",
      "42558/42558 [==============================] - 0s 6us/step - loss: 1.9070 - Signal_loss: 0.3685 - Mass_loss: 0.9979 - min_ANNmuon_loss: 0.6705 - Production_loss: 0.3691 - val_loss: 1.8733 - val_Signal_loss: 0.3569 - val_Mass_loss: 0.9856 - val_min_ANNmuon_loss: 0.6682 - val_Production_loss: 0.3553\n",
      "Epoch 6/100\n",
      "42558/42558 [==============================] - 0s 6us/step - loss: 1.8520 - Signal_loss: 0.3436 - Mass_loss: 0.9932 - min_ANNmuon_loss: 0.6671 - Production_loss: 0.3447 - val_loss: 1.8263 - val_Signal_loss: 0.3357 - val_Mass_loss: 0.9847 - val_min_ANNmuon_loss: 0.6644 - val_Production_loss: 0.3337\n",
      "Epoch 7/100\n",
      "42558/42558 [==============================] - 0s 6us/step - loss: 1.8101 - Signal_loss: 0.3254 - Mass_loss: 0.9883 - min_ANNmuon_loss: 0.6646 - Production_loss: 0.3259 - val_loss: 1.7925 - val_Signal_loss: 0.3211 - val_Mass_loss: 0.9810 - val_min_ANNmuon_loss: 0.6623 - val_Production_loss: 0.3186\n",
      "Epoch 8/100\n",
      "42558/42558 [==============================] - 0s 6us/step - loss: 1.7788 - Signal_loss: 0.3120 - Mass_loss: 0.9839 - min_ANNmuon_loss: 0.6630 - Production_loss: 0.3117 - val_loss: 1.7707 - val_Signal_loss: 0.3107 - val_Mass_loss: 0.9802 - val_min_ANNmuon_loss: 0.6614 - val_Production_loss: 0.3085\n",
      "Epoch 9/100\n",
      "42558/42558 [==============================] - 0s 6us/step - loss: 1.7549 - Signal_loss: 0.3018 - Mass_loss: 0.9795 - min_ANNmuon_loss: 0.6622 - Production_loss: 0.3011 - val_loss: 1.7530 - val_Signal_loss: 0.3023 - val_Mass_loss: 0.9794 - val_min_ANNmuon_loss: 0.6608 - val_Production_loss: 0.3002\n",
      "Epoch 10/100\n",
      "42558/42558 [==============================] - 0s 7us/step - loss: 1.7358 - Signal_loss: 0.2935 - Mass_loss: 0.9755 - min_ANNmuon_loss: 0.6615 - Production_loss: 0.2930 - val_loss: 1.7379 - val_Signal_loss: 0.2960 - val_Mass_loss: 0.9744 - val_min_ANNmuon_loss: 0.6604 - val_Production_loss: 0.2943\n",
      "Epoch 11/100\n",
      "42558/42558 [==============================] - 0s 6us/step - loss: 1.7206 - Signal_loss: 0.2870 - Mass_loss: 0.9716 - min_ANNmuon_loss: 0.6610 - Production_loss: 0.2867 - val_loss: 1.7289 - val_Signal_loss: 0.2918 - val_Mass_loss: 0.9729 - val_min_ANNmuon_loss: 0.6602 - val_Production_loss: 0.2904\n",
      "Epoch 12/100\n",
      "42558/42558 [==============================] - 0s 6us/step - loss: 1.7075 - Signal_loss: 0.2818 - Mass_loss: 0.9667 - min_ANNmuon_loss: 0.6605 - Production_loss: 0.2818 - val_loss: 1.7233 - val_Signal_loss: 0.2883 - val_Mass_loss: 0.9766 - val_min_ANNmuon_loss: 0.6596 - val_Production_loss: 0.2871\n",
      "Epoch 13/100\n",
      "42558/42558 [==============================] - 0s 6us/step - loss: 1.6970 - Signal_loss: 0.2777 - Mass_loss: 0.9626 - min_ANNmuon_loss: 0.6601 - Production_loss: 0.2779 - val_loss: 1.7152 - val_Signal_loss: 0.2858 - val_Mass_loss: 0.9709 - val_min_ANNmuon_loss: 0.6594 - val_Production_loss: 0.2846\n",
      "Epoch 14/100\n",
      "42558/42558 [==============================] - 0s 6us/step - loss: 1.6886 - Signal_loss: 0.2745 - Mass_loss: 0.9594 - min_ANNmuon_loss: 0.6598 - Production_loss: 0.2746 - val_loss: 1.7102 - val_Signal_loss: 0.2839 - val_Mass_loss: 0.9694 - val_min_ANNmuon_loss: 0.6592 - val_Production_loss: 0.2824\n",
      "Epoch 15/100\n",
      "42558/42558 [==============================] - 0s 7us/step - loss: 1.6813 - Signal_loss: 0.2716 - Mass_loss: 0.9573 - min_ANNmuon_loss: 0.6595 - Production_loss: 0.2716 - val_loss: 1.7134 - val_Signal_loss: 0.2826 - val_Mass_loss: 0.9809 - val_min_ANNmuon_loss: 0.6591 - val_Production_loss: 0.2812\n",
      "Epoch 16/100\n",
      "42558/42558 [==============================] - 0s 6us/step - loss: 1.6748 - Signal_loss: 0.2692 - Mass_loss: 0.9541 - min_ANNmuon_loss: 0.6593 - Production_loss: 0.2693 - val_loss: 1.7043 - val_Signal_loss: 0.2820 - val_Mass_loss: 0.9660 - val_min_ANNmuon_loss: 0.6588 - val_Production_loss: 0.2804\n",
      "Epoch 17/100\n",
      "42558/42558 [==============================] - 0s 7us/step - loss: 1.6664 - Signal_loss: 0.2671 - Mass_loss: 0.9460 - min_ANNmuon_loss: 0.6591 - Production_loss: 0.2672 - val_loss: 1.6996 - val_Signal_loss: 0.2802 - val_Mass_loss: 0.9627 - val_min_ANNmuon_loss: 0.6591 - val_Production_loss: 0.2789\n",
      "Epoch 18/100\n",
      "42558/42558 [==============================] - 0s 7us/step - loss: 1.6599 - Signal_loss: 0.2649 - Mass_loss: 0.9419 - min_ANNmuon_loss: 0.6589 - Production_loss: 0.2651 - val_loss: 1.6982 - val_Signal_loss: 0.2797 - val_Mass_loss: 0.9633 - val_min_ANNmuon_loss: 0.6587 - val_Production_loss: 0.2781\n",
      "Epoch 19/100\n",
      "42558/42558 [==============================] - 0s 7us/step - loss: 1.6535 - Signal_loss: 0.2633 - Mass_loss: 0.9359 - min_ANNmuon_loss: 0.6589 - Production_loss: 0.2633 - val_loss: 1.6972 - val_Signal_loss: 0.2791 - val_Mass_loss: 0.9641 - val_min_ANNmuon_loss: 0.6585 - val_Production_loss: 0.2775\n",
      "Epoch 20/100\n",
      "42558/42558 [==============================] - 0s 8us/step - loss: 1.6477 - Signal_loss: 0.2614 - Mass_loss: 0.9321 - min_ANNmuon_loss: 0.6586 - Production_loss: 0.2616 - val_loss: 1.6917 - val_Signal_loss: 0.2783 - val_Mass_loss: 0.9559 - val_min_ANNmuon_loss: 0.6586 - val_Production_loss: 0.2768\n",
      "Epoch 21/100\n",
      "42558/42558 [==============================] - 0s 7us/step - loss: 1.6418 - Signal_loss: 0.2600 - Mass_loss: 0.9265 - min_ANNmuon_loss: 0.6584 - Production_loss: 0.2601 - val_loss: 1.6876 - val_Signal_loss: 0.2775 - val_Mass_loss: 0.9517 - val_min_ANNmuon_loss: 0.6584 - val_Production_loss: 0.2758\n",
      "Epoch 22/100\n",
      "42558/42558 [==============================] - 0s 7us/step - loss: 1.6359 - Signal_loss: 0.2587 - Mass_loss: 0.9198 - min_ANNmuon_loss: 0.6584 - Production_loss: 0.2589 - val_loss: 1.6862 - val_Signal_loss: 0.2773 - val_Mass_loss: 0.9501 - val_min_ANNmuon_loss: 0.6584 - val_Production_loss: 0.2754\n",
      "Epoch 23/100\n",
      "42558/42558 [==============================] - 0s 6us/step - loss: 1.6299 - Signal_loss: 0.2571 - Mass_loss: 0.9148 - min_ANNmuon_loss: 0.6582 - Production_loss: 0.2572 - val_loss: 1.6818 - val_Signal_loss: 0.2762 - val_Mass_loss: 0.9452 - val_min_ANNmuon_loss: 0.6584 - val_Production_loss: 0.2746\n",
      "Epoch 24/100\n",
      "42558/42558 [==============================] - 0s 7us/step - loss: 1.6258 - Signal_loss: 0.2559 - Mass_loss: 0.9112 - min_ANNmuon_loss: 0.6582 - Production_loss: 0.2561 - val_loss: 1.6820 - val_Signal_loss: 0.2775 - val_Mass_loss: 0.9408 - val_min_ANNmuon_loss: 0.6584 - val_Production_loss: 0.2757\n",
      "Epoch 25/100\n",
      "42558/42558 [==============================] - 0s 6us/step - loss: 1.6204 - Signal_loss: 0.2549 - Mass_loss: 0.9046 - min_ANNmuon_loss: 0.6582 - Production_loss: 0.2550 - val_loss: 1.6779 - val_Signal_loss: 0.2762 - val_Mass_loss: 0.9378 - val_min_ANNmuon_loss: 0.6584 - val_Production_loss: 0.2744\n",
      "Epoch 26/100\n",
      "42558/42558 [==============================] - 0s 6us/step - loss: 1.6146 - Signal_loss: 0.2540 - Mass_loss: 0.8961 - min_ANNmuon_loss: 0.6582 - Production_loss: 0.2543 - val_loss: 1.6773 - val_Signal_loss: 0.2769 - val_Mass_loss: 0.9329 - val_min_ANNmuon_loss: 0.6586 - val_Production_loss: 0.2754\n",
      "Epoch 27/100\n"
     ]
    },
    {
     "name": "stdout",
     "output_type": "stream",
     "text": [
      "42558/42558 [==============================] - 0s 6us/step - loss: 1.6096 - Signal_loss: 0.2529 - Mass_loss: 0.8910 - min_ANNmuon_loss: 0.6581 - Production_loss: 0.2532 - val_loss: 1.6775 - val_Signal_loss: 0.2763 - val_Mass_loss: 0.9362 - val_min_ANNmuon_loss: 0.6584 - val_Production_loss: 0.2747\n",
      "Epoch 28/100\n",
      "42558/42558 [==============================] - 0s 6us/step - loss: 1.6030 - Signal_loss: 0.2514 - Mass_loss: 0.8833 - min_ANNmuon_loss: 0.6581 - Production_loss: 0.2518 - val_loss: 1.6715 - val_Signal_loss: 0.2755 - val_Mass_loss: 0.9257 - val_min_ANNmuon_loss: 0.6590 - val_Production_loss: 0.2742\n",
      "Epoch 29/100\n",
      "42558/42558 [==============================] - 0s 6us/step - loss: 1.5963 - Signal_loss: 0.2501 - Mass_loss: 0.8755 - min_ANNmuon_loss: 0.6581 - Production_loss: 0.2504 - val_loss: 1.6676 - val_Signal_loss: 0.2756 - val_Mass_loss: 0.9199 - val_min_ANNmuon_loss: 0.6583 - val_Production_loss: 0.2738\n",
      "Epoch 30/100\n",
      "42558/42558 [==============================] - 0s 6us/step - loss: 1.5918 - Signal_loss: 0.2490 - Mass_loss: 0.8712 - min_ANNmuon_loss: 0.6579 - Production_loss: 0.2493 - val_loss: 1.6620 - val_Signal_loss: 0.2752 - val_Mass_loss: 0.9105 - val_min_ANNmuon_loss: 0.6581 - val_Production_loss: 0.2734\n",
      "Epoch 31/100\n",
      "42558/42558 [==============================] - 0s 6us/step - loss: 1.5881 - Signal_loss: 0.2488 - Mass_loss: 0.8647 - min_ANNmuon_loss: 0.6579 - Production_loss: 0.2490 - val_loss: 1.6634 - val_Signal_loss: 0.2756 - val_Mass_loss: 0.9111 - val_min_ANNmuon_loss: 0.6587 - val_Production_loss: 0.2735\n",
      "Epoch 32/100\n",
      "42558/42558 [==============================] - 0s 6us/step - loss: 1.5819 - Signal_loss: 0.2478 - Mass_loss: 0.8564 - min_ANNmuon_loss: 0.6579 - Production_loss: 0.2480 - val_loss: 1.6589 - val_Signal_loss: 0.2745 - val_Mass_loss: 0.9057 - val_min_ANNmuon_loss: 0.6587 - val_Production_loss: 0.2728\n",
      "Epoch 33/100\n",
      "42558/42558 [==============================] - 0s 6us/step - loss: 1.5744 - Signal_loss: 0.2464 - Mass_loss: 0.8472 - min_ANNmuon_loss: 0.6577 - Production_loss: 0.2467 - val_loss: 1.6579 - val_Signal_loss: 0.2746 - val_Mass_loss: 0.9043 - val_min_ANNmuon_loss: 0.6581 - val_Production_loss: 0.2731\n",
      "Epoch 34/100\n",
      "42558/42558 [==============================] - 0s 7us/step - loss: 1.5689 - Signal_loss: 0.2455 - Mass_loss: 0.8398 - min_ANNmuon_loss: 0.6577 - Production_loss: 0.2458 - val_loss: 1.6543 - val_Signal_loss: 0.2737 - val_Mass_loss: 0.9002 - val_min_ANNmuon_loss: 0.6582 - val_Production_loss: 0.2723\n",
      "Epoch 35/100\n",
      "42558/42558 [==============================] - 0s 7us/step - loss: 1.5673 - Signal_loss: 0.2449 - Mass_loss: 0.8391 - min_ANNmuon_loss: 0.6577 - Production_loss: 0.2452 - val_loss: 1.6590 - val_Signal_loss: 0.2739 - val_Mass_loss: 0.9098 - val_min_ANNmuon_loss: 0.6581 - val_Production_loss: 0.2722\n",
      "Epoch 36/100\n",
      "42558/42558 [==============================] - 0s 8us/step - loss: 1.5594 - Signal_loss: 0.2438 - Mass_loss: 0.8278 - min_ANNmuon_loss: 0.6576 - Production_loss: 0.2441 - val_loss: 1.6478 - val_Signal_loss: 0.2741 - val_Mass_loss: 0.8860 - val_min_ANNmuon_loss: 0.6582 - val_Production_loss: 0.2725\n",
      "Epoch 37/100\n",
      "42558/42558 [==============================] - 0s 7us/step - loss: 1.5511 - Signal_loss: 0.2431 - Mass_loss: 0.8141 - min_ANNmuon_loss: 0.6575 - Production_loss: 0.2434 - val_loss: 1.6460 - val_Signal_loss: 0.2736 - val_Mass_loss: 0.8842 - val_min_ANNmuon_loss: 0.6581 - val_Production_loss: 0.2721\n",
      "Epoch 38/100\n",
      "42558/42558 [==============================] - 0s 7us/step - loss: 1.5454 - Signal_loss: 0.2421 - Mass_loss: 0.8068 - min_ANNmuon_loss: 0.6575 - Production_loss: 0.2424 - val_loss: 1.6455 - val_Signal_loss: 0.2734 - val_Mass_loss: 0.8844 - val_min_ANNmuon_loss: 0.6581 - val_Production_loss: 0.2719\n",
      "Epoch 39/100\n",
      "42558/42558 [==============================] - 0s 7us/step - loss: 1.5404 - Signal_loss: 0.2417 - Mass_loss: 0.7983 - min_ANNmuon_loss: 0.6575 - Production_loss: 0.2419 - val_loss: 1.6407 - val_Signal_loss: 0.2738 - val_Mass_loss: 0.8727 - val_min_ANNmuon_loss: 0.6582 - val_Production_loss: 0.2724\n",
      "Epoch 40/100\n",
      "42558/42558 [==============================] - 0s 7us/step - loss: 1.5357 - Signal_loss: 0.2414 - Mass_loss: 0.7901 - min_ANNmuon_loss: 0.6575 - Production_loss: 0.2417 - val_loss: 1.6423 - val_Signal_loss: 0.2735 - val_Mass_loss: 0.8765 - val_min_ANNmuon_loss: 0.6586 - val_Production_loss: 0.2719\n",
      "Epoch 41/100\n",
      "42558/42558 [==============================] - 0s 7us/step - loss: 1.5291 - Signal_loss: 0.2403 - Mass_loss: 0.7816 - min_ANNmuon_loss: 0.6574 - Production_loss: 0.2405 - val_loss: 1.6367 - val_Signal_loss: 0.2736 - val_Mass_loss: 0.8662 - val_min_ANNmuon_loss: 0.6581 - val_Production_loss: 0.2719\n",
      "Epoch 42/100\n",
      "42558/42558 [==============================] - 0s 7us/step - loss: 1.5249 - Signal_loss: 0.2394 - Mass_loss: 0.7767 - min_ANNmuon_loss: 0.6574 - Production_loss: 0.2397 - val_loss: 1.6343 - val_Signal_loss: 0.2733 - val_Mass_loss: 0.8623 - val_min_ANNmuon_loss: 0.6582 - val_Production_loss: 0.2716\n",
      "Epoch 43/100\n",
      "42558/42558 [==============================] - 0s 7us/step - loss: 1.5165 - Signal_loss: 0.2386 - Mass_loss: 0.7638 - min_ANNmuon_loss: 0.6573 - Production_loss: 0.2387 - val_loss: 1.6328 - val_Signal_loss: 0.2739 - val_Mass_loss: 0.8562 - val_min_ANNmuon_loss: 0.6585 - val_Production_loss: 0.2723\n",
      "Epoch 44/100\n",
      "42558/42558 [==============================] - 0s 9us/step - loss: 1.5103 - Signal_loss: 0.2378 - Mass_loss: 0.7543 - min_ANNmuon_loss: 0.6573 - Production_loss: 0.2381 - val_loss: 1.6265 - val_Signal_loss: 0.2729 - val_Mass_loss: 0.8478 - val_min_ANNmuon_loss: 0.6582 - val_Production_loss: 0.2715\n",
      "Epoch 45/100\n",
      "42558/42558 [==============================] - 0s 8us/step - loss: 1.5046 - Signal_loss: 0.2371 - Mass_loss: 0.7461 - min_ANNmuon_loss: 0.6573 - Production_loss: 0.2372 - val_loss: 1.6298 - val_Signal_loss: 0.2740 - val_Mass_loss: 0.8495 - val_min_ANNmuon_loss: 0.6584 - val_Production_loss: 0.2727\n",
      "Epoch 46/100\n",
      "42558/42558 [==============================] - 0s 8us/step - loss: 1.5007 - Signal_loss: 0.2364 - Mass_loss: 0.7412 - min_ANNmuon_loss: 0.6572 - Production_loss: 0.2365 - val_loss: 1.6244 - val_Signal_loss: 0.2726 - val_Mass_loss: 0.8448 - val_min_ANNmuon_loss: 0.6583 - val_Production_loss: 0.2711\n",
      "Epoch 47/100\n",
      "42558/42558 [==============================] - 0s 8us/step - loss: 1.4941 - Signal_loss: 0.2357 - Mass_loss: 0.7306 - min_ANNmuon_loss: 0.6572 - Production_loss: 0.2359 - val_loss: 1.6209 - val_Signal_loss: 0.2717 - val_Mass_loss: 0.8403 - val_min_ANNmuon_loss: 0.6585 - val_Production_loss: 0.2705\n",
      "Epoch 48/100\n",
      "42558/42558 [==============================] - 0s 8us/step - loss: 1.4890 - Signal_loss: 0.2353 - Mass_loss: 0.7224 - min_ANNmuon_loss: 0.6572 - Production_loss: 0.2354 - val_loss: 1.6258 - val_Signal_loss: 0.2737 - val_Mass_loss: 0.8424 - val_min_ANNmuon_loss: 0.6583 - val_Production_loss: 0.2726\n",
      "Epoch 49/100\n",
      "42558/42558 [==============================] - 0s 8us/step - loss: 1.4843 - Signal_loss: 0.2342 - Mass_loss: 0.7176 - min_ANNmuon_loss: 0.6572 - Production_loss: 0.2342 - val_loss: 1.6260 - val_Signal_loss: 0.2732 - val_Mass_loss: 0.8451 - val_min_ANNmuon_loss: 0.6583 - val_Production_loss: 0.2719\n",
      "Epoch 50/100\n",
      "42558/42558 [==============================] - 0s 8us/step - loss: 1.4822 - Signal_loss: 0.2337 - Mass_loss: 0.7151 - min_ANNmuon_loss: 0.6571 - Production_loss: 0.2338 - val_loss: 1.6331 - val_Signal_loss: 0.2729 - val_Mass_loss: 0.8596 - val_min_ANNmuon_loss: 0.6584 - val_Production_loss: 0.2721\n",
      "Epoch 51/100\n",
      "42558/42558 [==============================] - 0s 8us/step - loss: 1.4773 - Signal_loss: 0.2334 - Mass_loss: 0.7067 - min_ANNmuon_loss: 0.6571 - Production_loss: 0.2334 - val_loss: 1.6184 - val_Signal_loss: 0.2729 - val_Mass_loss: 0.8310 - val_min_ANNmuon_loss: 0.6584 - val_Production_loss: 0.2716\n",
      "Epoch 52/100\n",
      "42558/42558 [==============================] - 0s 9us/step - loss: 1.4717 - Signal_loss: 0.2325 - Mass_loss: 0.6989 - min_ANNmuon_loss: 0.6571 - Production_loss: 0.2326 - val_loss: 1.6117 - val_Signal_loss: 0.2728 - val_Mass_loss: 0.8179 - val_min_ANNmuon_loss: 0.6584 - val_Production_loss: 0.2716\n",
      "Epoch 53/100\n"
     ]
    },
    {
     "name": "stdout",
     "output_type": "stream",
     "text": [
      "42558/42558 [==============================] - 0s 9us/step - loss: 1.4634 - Signal_loss: 0.2322 - Mass_loss: 0.6838 - min_ANNmuon_loss: 0.6572 - Production_loss: 0.2321 - val_loss: 1.6129 - val_Signal_loss: 0.2724 - val_Mass_loss: 0.8204 - val_min_ANNmuon_loss: 0.6589 - val_Production_loss: 0.2714\n",
      "Epoch 54/100\n",
      "42558/42558 [==============================] - 0s 7us/step - loss: 1.4620 - Signal_loss: 0.2314 - Mass_loss: 0.6843 - min_ANNmuon_loss: 0.6571 - Production_loss: 0.2313 - val_loss: 1.6108 - val_Signal_loss: 0.2739 - val_Mass_loss: 0.8114 - val_min_ANNmuon_loss: 0.6585 - val_Production_loss: 0.2727\n",
      "Epoch 55/100\n",
      "42558/42558 [==============================] - 0s 7us/step - loss: 1.4545 - Signal_loss: 0.2306 - Mass_loss: 0.6725 - min_ANNmuon_loss: 0.6571 - Production_loss: 0.2306 - val_loss: 1.6096 - val_Signal_loss: 0.2730 - val_Mass_loss: 0.8124 - val_min_ANNmuon_loss: 0.6585 - val_Production_loss: 0.2720\n",
      "Epoch 56/100\n",
      "42558/42558 [==============================] - 0s 7us/step - loss: 1.4484 - Signal_loss: 0.2302 - Mass_loss: 0.6621 - min_ANNmuon_loss: 0.6570 - Production_loss: 0.2301 - val_loss: 1.6078 - val_Signal_loss: 0.2729 - val_Mass_loss: 0.8082 - val_min_ANNmuon_loss: 0.6584 - val_Production_loss: 0.2723\n",
      "Epoch 57/100\n",
      "42558/42558 [==============================] - 0s 8us/step - loss: 1.4427 - Signal_loss: 0.2293 - Mass_loss: 0.6543 - min_ANNmuon_loss: 0.6570 - Production_loss: 0.2293 - val_loss: 1.6102 - val_Signal_loss: 0.2740 - val_Mass_loss: 0.8095 - val_min_ANNmuon_loss: 0.6586 - val_Production_loss: 0.2728\n",
      "Epoch 58/100\n",
      "42558/42558 [==============================] - 0s 9us/step - loss: 1.4403 - Signal_loss: 0.2290 - Mass_loss: 0.6512 - min_ANNmuon_loss: 0.6570 - Production_loss: 0.2288 - val_loss: 1.6030 - val_Signal_loss: 0.2734 - val_Mass_loss: 0.7971 - val_min_ANNmuon_loss: 0.6584 - val_Production_loss: 0.2727\n",
      "Epoch 59/100\n",
      "42558/42558 [==============================] - 0s 8us/step - loss: 1.4337 - Signal_loss: 0.2284 - Mass_loss: 0.6398 - min_ANNmuon_loss: 0.6570 - Production_loss: 0.2284 - val_loss: 1.6028 - val_Signal_loss: 0.2741 - val_Mass_loss: 0.7936 - val_min_ANNmuon_loss: 0.6584 - val_Production_loss: 0.2734\n",
      "Epoch 60/100\n",
      "42558/42558 [==============================] - 0s 8us/step - loss: 1.4308 - Signal_loss: 0.2281 - Mass_loss: 0.6357 - min_ANNmuon_loss: 0.6569 - Production_loss: 0.2279 - val_loss: 1.6033 - val_Signal_loss: 0.2758 - val_Mass_loss: 0.7882 - val_min_ANNmuon_loss: 0.6585 - val_Production_loss: 0.2749\n",
      "Epoch 61/100\n",
      "42558/42558 [==============================] - 0s 8us/step - loss: 1.4258 - Signal_loss: 0.2272 - Mass_loss: 0.6293 - min_ANNmuon_loss: 0.6569 - Production_loss: 0.2270 - val_loss: 1.6004 - val_Signal_loss: 0.2749 - val_Mass_loss: 0.7856 - val_min_ANNmuon_loss: 0.6584 - val_Production_loss: 0.2743\n",
      "Epoch 62/100\n",
      "42558/42558 [==============================] - 0s 8us/step - loss: 1.4223 - Signal_loss: 0.2265 - Mass_loss: 0.6250 - min_ANNmuon_loss: 0.6569 - Production_loss: 0.2264 - val_loss: 1.5999 - val_Signal_loss: 0.2746 - val_Mass_loss: 0.7859 - val_min_ANNmuon_loss: 0.6584 - val_Production_loss: 0.2740\n",
      "Epoch 63/100\n",
      "42558/42558 [==============================] - 0s 8us/step - loss: 1.4170 - Signal_loss: 0.2256 - Mass_loss: 0.6182 - min_ANNmuon_loss: 0.6569 - Production_loss: 0.2255 - val_loss: 1.5991 - val_Signal_loss: 0.2752 - val_Mass_loss: 0.7810 - val_min_ANNmuon_loss: 0.6586 - val_Production_loss: 0.2748\n",
      "Epoch 64/100\n",
      "42558/42558 [==============================] - 0s 9us/step - loss: 1.4127 - Signal_loss: 0.2252 - Mass_loss: 0.6113 - min_ANNmuon_loss: 0.6569 - Production_loss: 0.2250 - val_loss: 1.5985 - val_Signal_loss: 0.2753 - val_Mass_loss: 0.7796 - val_min_ANNmuon_loss: 0.6585 - val_Production_loss: 0.2749\n",
      "Epoch 65/100\n",
      "42558/42558 [==============================] - 0s 8us/step - loss: 1.4081 - Signal_loss: 0.2244 - Mass_loss: 0.6052 - min_ANNmuon_loss: 0.6568 - Production_loss: 0.2242 - val_loss: 1.5969 - val_Signal_loss: 0.2760 - val_Mass_loss: 0.7736 - val_min_ANNmuon_loss: 0.6584 - val_Production_loss: 0.2758\n",
      "Epoch 66/100\n",
      "42558/42558 [==============================] - 0s 7us/step - loss: 1.4035 - Signal_loss: 0.2238 - Mass_loss: 0.5987 - min_ANNmuon_loss: 0.6568 - Production_loss: 0.2236 - val_loss: 1.5906 - val_Signal_loss: 0.2741 - val_Mass_loss: 0.7680 - val_min_ANNmuon_loss: 0.6585 - val_Production_loss: 0.2740\n",
      "Epoch 67/100\n",
      "42558/42558 [==============================] - 0s 7us/step - loss: 1.4005 - Signal_loss: 0.2234 - Mass_loss: 0.5943 - min_ANNmuon_loss: 0.6568 - Production_loss: 0.2232 - val_loss: 1.5972 - val_Signal_loss: 0.2759 - val_Mass_loss: 0.7744 - val_min_ANNmuon_loss: 0.6584 - val_Production_loss: 0.2757\n",
      "Epoch 68/100\n",
      "42558/42558 [==============================] - 0s 7us/step - loss: 1.3954 - Signal_loss: 0.2229 - Mass_loss: 0.5861 - min_ANNmuon_loss: 0.6568 - Production_loss: 0.2227 - val_loss: 1.5920 - val_Signal_loss: 0.2759 - val_Mass_loss: 0.7637 - val_min_ANNmuon_loss: 0.6587 - val_Production_loss: 0.2755\n",
      "Epoch 69/100\n",
      "42558/42558 [==============================] - 0s 8us/step - loss: 1.3914 - Signal_loss: 0.2228 - Mass_loss: 0.5787 - min_ANNmuon_loss: 0.6568 - Production_loss: 0.2226 - val_loss: 1.5943 - val_Signal_loss: 0.2757 - val_Mass_loss: 0.7696 - val_min_ANNmuon_loss: 0.6586 - val_Production_loss: 0.2753\n",
      "Epoch 70/100\n",
      "42558/42558 [==============================] - 0s 7us/step - loss: 1.3891 - Signal_loss: 0.2223 - Mass_loss: 0.5760 - min_ANNmuon_loss: 0.6568 - Production_loss: 0.2220 - val_loss: 1.5900 - val_Signal_loss: 0.2766 - val_Mass_loss: 0.7571 - val_min_ANNmuon_loss: 0.6583 - val_Production_loss: 0.2766\n",
      "Epoch 71/100\n",
      "42558/42558 [==============================] - 0s 7us/step - loss: 1.3852 - Signal_loss: 0.2218 - Mass_loss: 0.5700 - min_ANNmuon_loss: 0.6568 - Production_loss: 0.2216 - val_loss: 1.5910 - val_Signal_loss: 0.2785 - val_Mass_loss: 0.7506 - val_min_ANNmuon_loss: 0.6584 - val_Production_loss: 0.2788\n",
      "Epoch 72/100\n",
      "42558/42558 [==============================] - 0s 7us/step - loss: 1.3801 - Signal_loss: 0.2209 - Mass_loss: 0.5636 - min_ANNmuon_loss: 0.6568 - Production_loss: 0.2207 - val_loss: 1.5867 - val_Signal_loss: 0.2756 - val_Mass_loss: 0.7543 - val_min_ANNmuon_loss: 0.6585 - val_Production_loss: 0.2756\n",
      "Epoch 73/100\n",
      "42558/42558 [==============================] - 0s 7us/step - loss: 1.3755 - Signal_loss: 0.2198 - Mass_loss: 0.5587 - min_ANNmuon_loss: 0.6568 - Production_loss: 0.2196 - val_loss: 1.5872 - val_Signal_loss: 0.2768 - val_Mass_loss: 0.7506 - val_min_ANNmuon_loss: 0.6582 - val_Production_loss: 0.2769\n",
      "Epoch 74/100\n",
      "42558/42558 [==============================] - 0s 7us/step - loss: 1.3765 - Signal_loss: 0.2193 - Mass_loss: 0.5631 - min_ANNmuon_loss: 0.6567 - Production_loss: 0.2190 - val_loss: 1.5880 - val_Signal_loss: 0.2775 - val_Mass_loss: 0.7495 - val_min_ANNmuon_loss: 0.6583 - val_Production_loss: 0.2774\n",
      "Epoch 75/100\n",
      "42558/42558 [==============================] - 0s 7us/step - loss: 1.3690 - Signal_loss: 0.2185 - Mass_loss: 0.5509 - min_ANNmuon_loss: 0.6567 - Production_loss: 0.2183 - val_loss: 1.5851 - val_Signal_loss: 0.2774 - val_Mass_loss: 0.7428 - val_min_ANNmuon_loss: 0.6586 - val_Production_loss: 0.2776\n",
      "Epoch 76/100\n",
      "42558/42558 [==============================] - 0s 7us/step - loss: 1.3646 - Signal_loss: 0.2183 - Mass_loss: 0.5427 - min_ANNmuon_loss: 0.6567 - Production_loss: 0.2182 - val_loss: 1.5840 - val_Signal_loss: 0.2775 - val_Mass_loss: 0.7409 - val_min_ANNmuon_loss: 0.6583 - val_Production_loss: 0.2778\n",
      "Epoch 77/100\n",
      "42558/42558 [==============================] - 0s 6us/step - loss: 1.3595 - Signal_loss: 0.2176 - Mass_loss: 0.5359 - min_ANNmuon_loss: 0.6567 - Production_loss: 0.2174 - val_loss: 1.5817 - val_Signal_loss: 0.2774 - val_Mass_loss: 0.7366 - val_min_ANNmuon_loss: 0.6584 - val_Production_loss: 0.2776\n",
      "Epoch 78/100\n",
      "42558/42558 [==============================] - 0s 6us/step - loss: 1.3558 - Signal_loss: 0.2166 - Mass_loss: 0.5320 - min_ANNmuon_loss: 0.6567 - Production_loss: 0.2165 - val_loss: 1.5914 - val_Signal_loss: 0.2814 - val_Mass_loss: 0.7403 - val_min_ANNmuon_loss: 0.6583 - val_Production_loss: 0.2815\n",
      "Epoch 79/100\n"
     ]
    },
    {
     "name": "stdout",
     "output_type": "stream",
     "text": [
      "42558/42558 [==============================] - 0s 7us/step - loss: 1.3547 - Signal_loss: 0.2168 - Mass_loss: 0.5294 - min_ANNmuon_loss: 0.6566 - Production_loss: 0.2166 - val_loss: 1.5780 - val_Signal_loss: 0.2783 - val_Mass_loss: 0.7252 - val_min_ANNmuon_loss: 0.6584 - val_Production_loss: 0.2787\n",
      "Epoch 80/100\n",
      "42558/42558 [==============================] - 0s 7us/step - loss: 1.3515 - Signal_loss: 0.2158 - Mass_loss: 0.5270 - min_ANNmuon_loss: 0.6566 - Production_loss: 0.2156 - val_loss: 1.5792 - val_Signal_loss: 0.2792 - val_Mass_loss: 0.7247 - val_min_ANNmuon_loss: 0.6582 - val_Production_loss: 0.2795\n",
      "Epoch 81/100\n",
      "42558/42558 [==============================] - 0s 7us/step - loss: 1.3465 - Signal_loss: 0.2154 - Mass_loss: 0.5185 - min_ANNmuon_loss: 0.6566 - Production_loss: 0.2153 - val_loss: 1.5813 - val_Signal_loss: 0.2792 - val_Mass_loss: 0.7286 - val_min_ANNmuon_loss: 0.6582 - val_Production_loss: 0.2797\n",
      "Epoch 82/100\n",
      "42558/42558 [==============================] - 0s 7us/step - loss: 1.3469 - Signal_loss: 0.2154 - Mass_loss: 0.5192 - min_ANNmuon_loss: 0.6566 - Production_loss: 0.2153 - val_loss: 1.5950 - val_Signal_loss: 0.2866 - val_Mass_loss: 0.7275 - val_min_ANNmuon_loss: 0.6583 - val_Production_loss: 0.2864\n",
      "Epoch 83/100\n",
      "42558/42558 [==============================] - 0s 7us/step - loss: 1.3457 - Signal_loss: 0.2164 - Mass_loss: 0.5133 - min_ANNmuon_loss: 0.6566 - Production_loss: 0.2161 - val_loss: 1.5816 - val_Signal_loss: 0.2826 - val_Mass_loss: 0.7162 - val_min_ANNmuon_loss: 0.6582 - val_Production_loss: 0.2827\n",
      "Epoch 84/100\n",
      "42558/42558 [==============================] - 0s 7us/step - loss: 1.3385 - Signal_loss: 0.2142 - Mass_loss: 0.5071 - min_ANNmuon_loss: 0.6567 - Production_loss: 0.2141 - val_loss: 1.5779 - val_Signal_loss: 0.2795 - val_Mass_loss: 0.7209 - val_min_ANNmuon_loss: 0.6582 - val_Production_loss: 0.2798\n",
      "Epoch 85/100\n",
      "42558/42558 [==============================] - 0s 7us/step - loss: 1.3362 - Signal_loss: 0.2137 - Mass_loss: 0.5051 - min_ANNmuon_loss: 0.6565 - Production_loss: 0.2135 - val_loss: 1.5749 - val_Signal_loss: 0.2803 - val_Mass_loss: 0.7118 - val_min_ANNmuon_loss: 0.6583 - val_Production_loss: 0.2804\n",
      "Epoch 86/100\n",
      "42558/42558 [==============================] - 0s 7us/step - loss: 1.3306 - Signal_loss: 0.2126 - Mass_loss: 0.4985 - min_ANNmuon_loss: 0.6566 - Production_loss: 0.2123 - val_loss: 1.5750 - val_Signal_loss: 0.2815 - val_Mass_loss: 0.7074 - val_min_ANNmuon_loss: 0.6583 - val_Production_loss: 0.2815\n",
      "Epoch 87/100\n",
      "42558/42558 [==============================] - 0s 7us/step - loss: 1.3284 - Signal_loss: 0.2116 - Mass_loss: 0.4980 - min_ANNmuon_loss: 0.6565 - Production_loss: 0.2113 - val_loss: 1.5705 - val_Signal_loss: 0.2805 - val_Mass_loss: 0.7017 - val_min_ANNmuon_loss: 0.6581 - val_Production_loss: 0.2810\n",
      "Epoch 88/100\n",
      "42558/42558 [==============================] - 0s 6us/step - loss: 1.3248 - Signal_loss: 0.2111 - Mass_loss: 0.4925 - min_ANNmuon_loss: 0.6565 - Production_loss: 0.2109 - val_loss: 1.5737 - val_Signal_loss: 0.2805 - val_Mass_loss: 0.7090 - val_min_ANNmuon_loss: 0.6581 - val_Production_loss: 0.2805\n",
      "Epoch 89/100\n",
      "42558/42558 [==============================] - 0s 7us/step - loss: 1.3225 - Signal_loss: 0.2109 - Mass_loss: 0.4888 - min_ANNmuon_loss: 0.6566 - Production_loss: 0.2107 - val_loss: 1.5794 - val_Signal_loss: 0.2814 - val_Mass_loss: 0.7160 - val_min_ANNmuon_loss: 0.6585 - val_Production_loss: 0.2816\n",
      "Epoch 90/100\n",
      "42558/42558 [==============================] - 0s 7us/step - loss: 1.3213 - Signal_loss: 0.2099 - Mass_loss: 0.4904 - min_ANNmuon_loss: 0.6565 - Production_loss: 0.2097 - val_loss: 1.5820 - val_Signal_loss: 0.2813 - val_Mass_loss: 0.7221 - val_min_ANNmuon_loss: 0.6584 - val_Production_loss: 0.2813\n",
      "Epoch 91/100\n",
      "42558/42558 [==============================] - 0s 7us/step - loss: 1.3188 - Signal_loss: 0.2100 - Mass_loss: 0.4853 - min_ANNmuon_loss: 0.6565 - Production_loss: 0.2097 - val_loss: 1.5714 - val_Signal_loss: 0.2829 - val_Mass_loss: 0.6948 - val_min_ANNmuon_loss: 0.6581 - val_Production_loss: 0.2830\n",
      "Epoch 92/100\n",
      "42558/42558 [==============================] - 0s 7us/step - loss: 1.3130 - Signal_loss: 0.2092 - Mass_loss: 0.4764 - min_ANNmuon_loss: 0.6565 - Production_loss: 0.2091 - val_loss: 1.5693 - val_Signal_loss: 0.2829 - val_Mass_loss: 0.6899 - val_min_ANNmuon_loss: 0.6581 - val_Production_loss: 0.2834\n",
      "Epoch 93/100\n",
      "42558/42558 [==============================] - 0s 7us/step - loss: 1.3096 - Signal_loss: 0.2085 - Mass_loss: 0.4726 - min_ANNmuon_loss: 0.6566 - Production_loss: 0.2083 - val_loss: 1.5661 - val_Signal_loss: 0.2815 - val_Mass_loss: 0.6894 - val_min_ANNmuon_loss: 0.6582 - val_Production_loss: 0.2817\n",
      "Epoch 94/100\n",
      "42558/42558 [==============================] - 0s 8us/step - loss: 1.3074 - Signal_loss: 0.2079 - Mass_loss: 0.4708 - min_ANNmuon_loss: 0.6565 - Production_loss: 0.2077 - val_loss: 1.5640 - val_Signal_loss: 0.2820 - val_Mass_loss: 0.6831 - val_min_ANNmuon_loss: 0.6583 - val_Production_loss: 0.2822\n",
      "Epoch 95/100\n",
      "42558/42558 [==============================] - 0s 6us/step - loss: 1.3076 - Signal_loss: 0.2079 - Mass_loss: 0.4711 - min_ANNmuon_loss: 0.6565 - Production_loss: 0.2076 - val_loss: 1.5686 - val_Signal_loss: 0.2823 - val_Mass_loss: 0.6918 - val_min_ANNmuon_loss: 0.6581 - val_Production_loss: 0.2823\n",
      "Epoch 96/100\n",
      "42558/42558 [==============================] - 0s 8us/step - loss: 1.3051 - Signal_loss: 0.2070 - Mass_loss: 0.4698 - min_ANNmuon_loss: 0.6564 - Production_loss: 0.2068 - val_loss: 1.5660 - val_Signal_loss: 0.2845 - val_Mass_loss: 0.6769 - val_min_ANNmuon_loss: 0.6581 - val_Production_loss: 0.2849\n",
      "Epoch 97/100\n",
      "42558/42558 [==============================] - 0s 7us/step - loss: 1.2992 - Signal_loss: 0.2071 - Mass_loss: 0.4574 - min_ANNmuon_loss: 0.6564 - Production_loss: 0.2069 - val_loss: 1.5700 - val_Signal_loss: 0.2851 - val_Mass_loss: 0.6825 - val_min_ANNmuon_loss: 0.6585 - val_Production_loss: 0.2851\n",
      "Epoch 98/100\n",
      "42558/42558 [==============================] - 0s 7us/step - loss: 1.2989 - Signal_loss: 0.2069 - Mass_loss: 0.4580 - min_ANNmuon_loss: 0.6564 - Production_loss: 0.2066 - val_loss: 1.5646 - val_Signal_loss: 0.2841 - val_Mass_loss: 0.6773 - val_min_ANNmuon_loss: 0.6581 - val_Production_loss: 0.2838\n",
      "Epoch 99/100\n",
      "42558/42558 [==============================] - 0s 7us/step - loss: 1.2952 - Signal_loss: 0.2051 - Mass_loss: 0.4578 - min_ANNmuon_loss: 0.6564 - Production_loss: 0.2048 - val_loss: 1.5608 - val_Signal_loss: 0.2832 - val_Mass_loss: 0.6726 - val_min_ANNmuon_loss: 0.6580 - val_Production_loss: 0.2833\n",
      "Epoch 100/100\n",
      "42558/42558 [==============================] - 0s 7us/step - loss: 1.2905 - Signal_loss: 0.2045 - Mass_loss: 0.4508 - min_ANNmuon_loss: 0.6563 - Production_loss: 0.2043 - val_loss: 1.5614 - val_Signal_loss: 0.2840 - val_Mass_loss: 0.6705 - val_min_ANNmuon_loss: 0.6581 - val_Production_loss: 0.2840\n"
     ]
    },
    {
     "data": {
      "text/plain": [
       "<keras.callbacks.History at 0x9721c36390>"
      ]
     },
     "execution_count": 67,
     "metadata": {},
     "output_type": "execute_result"
    }
   ],
   "source": [
    "model_1.fit(x = [obj_SC.transform(train[variables])], \n",
    "          y = [\n",
    "                  train[\"signal\"], \n",
    "                  obj_SC_mass.transform([train[\"mass\"]])[0], \n",
    "                  train[\"min_ANNmuon\"], \n",
    "                  train[\"production\"] > 0\n",
    "              ],\n",
    "          batch_size = 5000, \n",
    "          epochs = 100,\n",
    "          validation_split = 0.1)"
   ]
  },
  {
   "cell_type": "code",
   "execution_count": 68,
   "metadata": {},
   "outputs": [],
   "source": [
    "def get_prob(model, df):\n",
    "    prediction, _, _, _ =  model.predict(obj_SC.transform(df[variables]))\n",
    "    return prediction"
   ]
  },
  {
   "cell_type": "code",
   "execution_count": 69,
   "metadata": {},
   "outputs": [],
   "source": [
    "agreement_probs_vars = get_prob(model_1, df_agreement)"
   ]
  },
  {
   "cell_type": "code",
   "execution_count": 70,
   "metadata": {},
   "outputs": [
    {
     "name": "stdout",
     "output_type": "stream",
     "text": [
      "KS metric: 0.24865331084019127\n",
      "KS Metric value is Fine: False\n"
     ]
    }
   ],
   "source": [
    "ks_noise = compute_ks(\n",
    "                        agreement_probs_vars[df_agreement['signal'].values == 0],\n",
    "                        agreement_probs_vars[df_agreement['signal'].values == 1],\n",
    "                        df_agreement[df_agreement['signal'] == 0]['weight'].values,\n",
    "                        df_agreement[df_agreement['signal'] == 1]['weight'].values)\n",
    "\n",
    "print ('KS metric:', ks_noise)\n",
    "print(\"KS Metric value is Fine:\", ks_noise < 0.09)"
   ]
  },
  {
   "cell_type": "code",
   "execution_count": 71,
   "metadata": {},
   "outputs": [
    {
     "data": {
      "image/png": "[encoded data removed]",
      "text/plain": [
       "<Figure size 576x360 with 1 Axes>"
      ]
     },
     "metadata": {},
     "output_type": "display_data"
    }
   ],
   "source": [
    "plt.rcParams[\"figure.figsize\"] = 8, 5\n",
    "\n",
    "plot_ks(df_agreement, agreement_probs_mass)"
   ]
  },
  {
   "cell_type": "markdown",
   "metadata": {},
   "source": [
    "### Effect on ROC"
   ]
  },
  {
   "cell_type": "code",
   "execution_count": 72,
   "metadata": {},
   "outputs": [
    {
     "data": {
      "image/png": "[encoded data removed]",
      "text/plain": [
       "<Figure size 432x432 with 1 Axes>"
      ]
     },
     "metadata": {},
     "output_type": "display_data"
    }
   ],
   "source": [
    "plt.rcParams[\"figure.figsize\"] = 6, 6\n",
    "\n",
    "y_pred = get_prob(model_1, valid)\n",
    "\n",
    "assert valid.shape[0] == y_pred.shape[0]\n",
    "\n",
    "plot_metrics(valid['signal'], y_pred)"
   ]
  },
  {
   "cell_type": "markdown",
   "metadata": {},
   "source": [
    "Due to addition of other variabel addition, the sparsity in gradient has decresed at very small level which is not significant, but there is not so specific impact on the AUC metric."
   ]
  },
  {
   "cell_type": "markdown",
   "metadata": {},
   "source": [
    "# Data Doping with Neural Networks"
   ]
  },
  {
   "cell_type": "code",
   "execution_count": null,
   "metadata": {},
   "outputs": [],
   "source": []
  }
 ],
 "metadata": {
  "@webio": {
   "lastCommId": null,
   "lastKernelId": null
  },
  "kernelspec": {
   "display_name": "Python 3",
   "language": "python",
   "name": "python3"
  },
  "language_info": {
   "codemirror_mode": {
    "name": "ipython",
    "version": 3
   },
   "file_extension": ".py",
   "mimetype": "text/x-python",
   "name": "python",
   "nbconvert_exporter": "python",
   "pygments_lexer": "ipython3",
   "version": "3.6.6"
  }
 },
 "nbformat": 4,
 "nbformat_minor": 1
}
