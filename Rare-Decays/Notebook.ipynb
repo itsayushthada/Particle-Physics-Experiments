{
 "cells": [
  {
   "cell_type": "code",
   "execution_count": 1,
   "metadata": {},
   "outputs": [
    {
     "name": "stderr",
     "output_type": "stream",
     "text": [
      "c:\\users\\lenovo\\appdata\\local\\programs\\python\\python36\\lib\\site-packages\\sklearn\\ensemble\\weight_boosting.py:29: DeprecationWarning: numpy.core.umath_tests is an internal NumPy module and should not be imported. It will be removed in a future NumPy release.\n",
      "  from numpy.core.umath_tests import inner1d\n"
     ]
    }
   ],
   "source": [
    "import pandas as pd\n",
    "from sklearn.model_selection import train_test_split\n",
    "\n",
    "from sklearn.ensemble import AdaBoostClassifier\n",
    "from sklearn.tree import DecisionTreeClassifier\n",
    "\n",
    "from sklearn.metrics import roc_curve, roc_auc_score\n",
    "\n",
    "import matplotlib.pyplot as plt\n",
    "\n",
    "from hep_ml import metrics\n",
    "from utils import check_correlation\n",
    "from mass_correlation_utils import *"
   ]
  },
  {
   "cell_type": "markdown",
   "metadata": {},
   "source": [
    "# Data Loading\n",
    "`training.csv` is a mixture of simulated signal, real background."
   ]
  },
  {
   "cell_type": "code",
   "execution_count": 2,
   "metadata": {},
   "outputs": [],
   "source": [
    "train_df = pd.read_csv('Data/training.csv.gz', sep=',')"
   ]
  },
  {
   "cell_type": "code",
   "execution_count": 3,
   "metadata": {},
   "outputs": [
    {
     "data": {
      "text/html": [
       "<div>\n",
       "<style scoped>\n",
       "    .dataframe tbody tr th:only-of-type {\n",
       "        vertical-align: middle;\n",
       "    }\n",
       "\n",
       "    .dataframe tbody tr th {\n",
       "        vertical-align: top;\n",
       "    }\n",
       "\n",
       "    .dataframe thead th {\n",
       "        text-align: right;\n",
       "    }\n",
       "</style>\n",
       "<table border=\"1\" class=\"dataframe\">\n",
       "  <thead>\n",
       "    <tr style=\"text-align: right;\">\n",
       "      <th></th>\n",
       "      <th>id</th>\n",
       "      <th>LifeTime</th>\n",
       "      <th>dira</th>\n",
       "      <th>FlightDistance</th>\n",
       "      <th>FlightDistanceError</th>\n",
       "      <th>IP</th>\n",
       "      <th>IPSig</th>\n",
       "      <th>VertexChi2</th>\n",
       "      <th>pt</th>\n",
       "      <th>DOCAone</th>\n",
       "      <th>...</th>\n",
       "      <th>p1_p</th>\n",
       "      <th>p2_p</th>\n",
       "      <th>p0_eta</th>\n",
       "      <th>p1_eta</th>\n",
       "      <th>p2_eta</th>\n",
       "      <th>SPDhits</th>\n",
       "      <th>production</th>\n",
       "      <th>signal</th>\n",
       "      <th>mass</th>\n",
       "      <th>min_ANNmuon</th>\n",
       "    </tr>\n",
       "  </thead>\n",
       "  <tbody>\n",
       "    <tr>\n",
       "      <th>0</th>\n",
       "      <td>18453471</td>\n",
       "      <td>0.001578</td>\n",
       "      <td>0.999999</td>\n",
       "      <td>14.033335</td>\n",
       "      <td>0.681401</td>\n",
       "      <td>0.016039</td>\n",
       "      <td>0.451886</td>\n",
       "      <td>1.900433</td>\n",
       "      <td>1482.037476</td>\n",
       "      <td>0.066667</td>\n",
       "      <td>...</td>\n",
       "      <td>12290.760742</td>\n",
       "      <td>39264.398438</td>\n",
       "      <td>3.076006</td>\n",
       "      <td>4.003800</td>\n",
       "      <td>4.031514</td>\n",
       "      <td>458</td>\n",
       "      <td>-99</td>\n",
       "      <td>0</td>\n",
       "      <td>1866.300049</td>\n",
       "      <td>0.277559</td>\n",
       "    </tr>\n",
       "    <tr>\n",
       "      <th>1</th>\n",
       "      <td>5364094</td>\n",
       "      <td>0.000988</td>\n",
       "      <td>0.999705</td>\n",
       "      <td>5.536157</td>\n",
       "      <td>0.302341</td>\n",
       "      <td>0.142163</td>\n",
       "      <td>9.564503</td>\n",
       "      <td>0.865666</td>\n",
       "      <td>3050.720703</td>\n",
       "      <td>0.024022</td>\n",
       "      <td>...</td>\n",
       "      <td>16562.667969</td>\n",
       "      <td>7341.257812</td>\n",
       "      <td>3.228553</td>\n",
       "      <td>2.786543</td>\n",
       "      <td>2.975564</td>\n",
       "      <td>406</td>\n",
       "      <td>-99</td>\n",
       "      <td>0</td>\n",
       "      <td>1727.095947</td>\n",
       "      <td>0.225924</td>\n",
       "    </tr>\n",
       "    <tr>\n",
       "      <th>2</th>\n",
       "      <td>11130990</td>\n",
       "      <td>0.000877</td>\n",
       "      <td>0.999984</td>\n",
       "      <td>6.117302</td>\n",
       "      <td>0.276463</td>\n",
       "      <td>0.034746</td>\n",
       "      <td>1.970751</td>\n",
       "      <td>10.975849</td>\n",
       "      <td>3895.908691</td>\n",
       "      <td>0.055044</td>\n",
       "      <td>...</td>\n",
       "      <td>22695.388672</td>\n",
       "      <td>10225.309570</td>\n",
       "      <td>3.536903</td>\n",
       "      <td>2.865686</td>\n",
       "      <td>3.052810</td>\n",
       "      <td>196</td>\n",
       "      <td>-99</td>\n",
       "      <td>0</td>\n",
       "      <td>1898.588013</td>\n",
       "      <td>0.368630</td>\n",
       "    </tr>\n",
       "    <tr>\n",
       "      <th>3</th>\n",
       "      <td>15173787</td>\n",
       "      <td>0.000854</td>\n",
       "      <td>0.999903</td>\n",
       "      <td>5.228067</td>\n",
       "      <td>0.220739</td>\n",
       "      <td>0.076389</td>\n",
       "      <td>4.271331</td>\n",
       "      <td>3.276358</td>\n",
       "      <td>4010.781738</td>\n",
       "      <td>0.053779</td>\n",
       "      <td>...</td>\n",
       "      <td>16909.515625</td>\n",
       "      <td>9141.426758</td>\n",
       "      <td>3.087461</td>\n",
       "      <td>3.218034</td>\n",
       "      <td>2.375592</td>\n",
       "      <td>137</td>\n",
       "      <td>-99</td>\n",
       "      <td>0</td>\n",
       "      <td>1840.410034</td>\n",
       "      <td>0.246045</td>\n",
       "    </tr>\n",
       "    <tr>\n",
       "      <th>4</th>\n",
       "      <td>1102544</td>\n",
       "      <td>0.001129</td>\n",
       "      <td>0.999995</td>\n",
       "      <td>39.069534</td>\n",
       "      <td>1.898197</td>\n",
       "      <td>0.120936</td>\n",
       "      <td>4.984982</td>\n",
       "      <td>0.468348</td>\n",
       "      <td>4144.546875</td>\n",
       "      <td>0.004491</td>\n",
       "      <td>...</td>\n",
       "      <td>97612.804688</td>\n",
       "      <td>47118.785156</td>\n",
       "      <td>4.632295</td>\n",
       "      <td>4.711155</td>\n",
       "      <td>4.296878</td>\n",
       "      <td>477</td>\n",
       "      <td>-99</td>\n",
       "      <td>0</td>\n",
       "      <td>1899.793945</td>\n",
       "      <td>0.222060</td>\n",
       "    </tr>\n",
       "  </tbody>\n",
       "</table>\n",
       "<p>5 rows × 51 columns</p>\n",
       "</div>"
      ],
      "text/plain": [
       "         id  LifeTime      dira  FlightDistance  FlightDistanceError  \\\n",
       "0  18453471  0.001578  0.999999       14.033335             0.681401   \n",
       "1   5364094  0.000988  0.999705        5.536157             0.302341   \n",
       "2  11130990  0.000877  0.999984        6.117302             0.276463   \n",
       "3  15173787  0.000854  0.999903        5.228067             0.220739   \n",
       "4   1102544  0.001129  0.999995       39.069534             1.898197   \n",
       "\n",
       "         IP     IPSig  VertexChi2           pt   DOCAone     ...       \\\n",
       "0  0.016039  0.451886    1.900433  1482.037476  0.066667     ...        \n",
       "1  0.142163  9.564503    0.865666  3050.720703  0.024022     ...        \n",
       "2  0.034746  1.970751   10.975849  3895.908691  0.055044     ...        \n",
       "3  0.076389  4.271331    3.276358  4010.781738  0.053779     ...        \n",
       "4  0.120936  4.984982    0.468348  4144.546875  0.004491     ...        \n",
       "\n",
       "           p1_p          p2_p    p0_eta    p1_eta    p2_eta  SPDhits  \\\n",
       "0  12290.760742  39264.398438  3.076006  4.003800  4.031514      458   \n",
       "1  16562.667969   7341.257812  3.228553  2.786543  2.975564      406   \n",
       "2  22695.388672  10225.309570  3.536903  2.865686  3.052810      196   \n",
       "3  16909.515625   9141.426758  3.087461  3.218034  2.375592      137   \n",
       "4  97612.804688  47118.785156  4.632295  4.711155  4.296878      477   \n",
       "\n",
       "   production  signal         mass  min_ANNmuon  \n",
       "0         -99       0  1866.300049     0.277559  \n",
       "1         -99       0  1727.095947     0.225924  \n",
       "2         -99       0  1898.588013     0.368630  \n",
       "3         -99       0  1840.410034     0.246045  \n",
       "4         -99       0  1899.793945     0.222060  \n",
       "\n",
       "[5 rows x 51 columns]"
      ]
     },
     "execution_count": 3,
     "metadata": {},
     "output_type": "execute_result"
    }
   ],
   "source": [
    "train_df.head()"
   ]
  },
  {
   "cell_type": "code",
   "execution_count": 4,
   "metadata": {},
   "outputs": [
    {
     "data": {
      "text/plain": [
       "Index(['id', 'LifeTime', 'dira', 'FlightDistance', 'FlightDistanceError', 'IP',\n",
       "       'IPSig', 'VertexChi2', 'pt', 'DOCAone', 'DOCAtwo', 'DOCAthree',\n",
       "       'IP_p0p2', 'IP_p1p2', 'isolationa', 'isolationb', 'isolationc',\n",
       "       'isolationd', 'isolatione', 'isolationf', 'iso', 'CDF1', 'CDF2', 'CDF3',\n",
       "       'ISO_SumBDT', 'p0_IsoBDT', 'p1_IsoBDT', 'p2_IsoBDT', 'p0_track_Chi2Dof',\n",
       "       'p1_track_Chi2Dof', 'p2_track_Chi2Dof', 'p0_IP', 'p1_IP', 'p2_IP',\n",
       "       'p0_IPSig', 'p1_IPSig', 'p2_IPSig', 'p0_pt', 'p1_pt', 'p2_pt', 'p0_p',\n",
       "       'p1_p', 'p2_p', 'p0_eta', 'p1_eta', 'p2_eta', 'SPDhits', 'production',\n",
       "       'signal', 'mass', 'min_ANNmuon'],\n",
       "      dtype='object')"
      ]
     },
     "execution_count": 4,
     "metadata": {},
     "output_type": "execute_result"
    }
   ],
   "source": [
    "train_df.columns"
   ]
  },
  {
   "cell_type": "code",
   "execution_count": 5,
   "metadata": {},
   "outputs": [],
   "source": [
    "test_df = pd.read_csv('Data/test.csv.gz', sep=',', index_col='id')"
   ]
  },
  {
   "cell_type": "code",
   "execution_count": 6,
   "metadata": {},
   "outputs": [
    {
     "data": {
      "text/html": [
       "<div>\n",
       "<style scoped>\n",
       "    .dataframe tbody tr th:only-of-type {\n",
       "        vertical-align: middle;\n",
       "    }\n",
       "\n",
       "    .dataframe tbody tr th {\n",
       "        vertical-align: top;\n",
       "    }\n",
       "\n",
       "    .dataframe thead th {\n",
       "        text-align: right;\n",
       "    }\n",
       "</style>\n",
       "<table border=\"1\" class=\"dataframe\">\n",
       "  <thead>\n",
       "    <tr style=\"text-align: right;\">\n",
       "      <th></th>\n",
       "      <th>LifeTime</th>\n",
       "      <th>dira</th>\n",
       "      <th>FlightDistance</th>\n",
       "      <th>FlightDistanceError</th>\n",
       "      <th>IP</th>\n",
       "      <th>IPSig</th>\n",
       "      <th>VertexChi2</th>\n",
       "      <th>pt</th>\n",
       "      <th>DOCAone</th>\n",
       "      <th>DOCAtwo</th>\n",
       "      <th>...</th>\n",
       "      <th>p0_pt</th>\n",
       "      <th>p1_pt</th>\n",
       "      <th>p2_pt</th>\n",
       "      <th>p0_p</th>\n",
       "      <th>p1_p</th>\n",
       "      <th>p2_p</th>\n",
       "      <th>p0_eta</th>\n",
       "      <th>p1_eta</th>\n",
       "      <th>p2_eta</th>\n",
       "      <th>SPDhits</th>\n",
       "    </tr>\n",
       "    <tr>\n",
       "      <th>id</th>\n",
       "      <th></th>\n",
       "      <th></th>\n",
       "      <th></th>\n",
       "      <th></th>\n",
       "      <th></th>\n",
       "      <th></th>\n",
       "      <th></th>\n",
       "      <th></th>\n",
       "      <th></th>\n",
       "      <th></th>\n",
       "      <th></th>\n",
       "      <th></th>\n",
       "      <th></th>\n",
       "      <th></th>\n",
       "      <th></th>\n",
       "      <th></th>\n",
       "      <th></th>\n",
       "      <th></th>\n",
       "      <th></th>\n",
       "      <th></th>\n",
       "      <th></th>\n",
       "    </tr>\n",
       "  </thead>\n",
       "  <tbody>\n",
       "    <tr>\n",
       "      <th>14711831</th>\n",
       "      <td>0.001273</td>\n",
       "      <td>0.999816</td>\n",
       "      <td>8.569642</td>\n",
       "      <td>0.310039</td>\n",
       "      <td>0.197893</td>\n",
       "      <td>5.183939</td>\n",
       "      <td>2.286117</td>\n",
       "      <td>687.479248</td>\n",
       "      <td>0.022301</td>\n",
       "      <td>0.050763</td>\n",
       "      <td>...</td>\n",
       "      <td>508.926514</td>\n",
       "      <td>306.629456</td>\n",
       "      <td>714.222717</td>\n",
       "      <td>30300.734375</td>\n",
       "      <td>5662.158691</td>\n",
       "      <td>7406.368164</td>\n",
       "      <td>4.779700</td>\n",
       "      <td>3.608334</td>\n",
       "      <td>3.029715</td>\n",
       "      <td>705</td>\n",
       "    </tr>\n",
       "    <tr>\n",
       "      <th>16316387</th>\n",
       "      <td>0.000661</td>\n",
       "      <td>0.999954</td>\n",
       "      <td>7.061379</td>\n",
       "      <td>0.348772</td>\n",
       "      <td>0.067430</td>\n",
       "      <td>6.316281</td>\n",
       "      <td>3.865824</td>\n",
       "      <td>5691.845703</td>\n",
       "      <td>0.002455</td>\n",
       "      <td>0.037633</td>\n",
       "      <td>...</td>\n",
       "      <td>943.130676</td>\n",
       "      <td>3287.291260</td>\n",
       "      <td>1563.593994</td>\n",
       "      <td>6160.323730</td>\n",
       "      <td>43781.566406</td>\n",
       "      <td>19728.500000</td>\n",
       "      <td>2.563915</td>\n",
       "      <td>3.280884</td>\n",
       "      <td>3.226650</td>\n",
       "      <td>907</td>\n",
       "    </tr>\n",
       "    <tr>\n",
       "      <th>6771382</th>\n",
       "      <td>0.000889</td>\n",
       "      <td>0.999999</td>\n",
       "      <td>6.502967</td>\n",
       "      <td>0.273914</td>\n",
       "      <td>0.011020</td>\n",
       "      <td>0.865816</td>\n",
       "      <td>1.004631</td>\n",
       "      <td>5429.225586</td>\n",
       "      <td>0.002753</td>\n",
       "      <td>0.036379</td>\n",
       "      <td>...</td>\n",
       "      <td>2886.055908</td>\n",
       "      <td>2216.936279</td>\n",
       "      <td>598.068359</td>\n",
       "      <td>26387.134766</td>\n",
       "      <td>15534.978516</td>\n",
       "      <td>6504.145020</td>\n",
       "      <td>2.903129</td>\n",
       "      <td>2.634985</td>\n",
       "      <td>3.077517</td>\n",
       "      <td>213</td>\n",
       "    </tr>\n",
       "    <tr>\n",
       "      <th>686045</th>\n",
       "      <td>0.001295</td>\n",
       "      <td>0.999301</td>\n",
       "      <td>7.838184</td>\n",
       "      <td>0.325697</td>\n",
       "      <td>0.388636</td>\n",
       "      <td>11.391245</td>\n",
       "      <td>10.345356</td>\n",
       "      <td>661.717834</td>\n",
       "      <td>0.008163</td>\n",
       "      <td>0.436003</td>\n",
       "      <td>...</td>\n",
       "      <td>461.727753</td>\n",
       "      <td>357.967560</td>\n",
       "      <td>1118.084229</td>\n",
       "      <td>5451.857422</td>\n",
       "      <td>10281.403320</td>\n",
       "      <td>23722.742188</td>\n",
       "      <td>3.160085</td>\n",
       "      <td>4.050494</td>\n",
       "      <td>3.747409</td>\n",
       "      <td>275</td>\n",
       "    </tr>\n",
       "    <tr>\n",
       "      <th>8755882</th>\n",
       "      <td>0.001714</td>\n",
       "      <td>0.999805</td>\n",
       "      <td>7.064559</td>\n",
       "      <td>0.113440</td>\n",
       "      <td>0.154421</td>\n",
       "      <td>13.925871</td>\n",
       "      <td>12.951378</td>\n",
       "      <td>3885.417969</td>\n",
       "      <td>0.066317</td>\n",
       "      <td>0.052183</td>\n",
       "      <td>...</td>\n",
       "      <td>1773.747925</td>\n",
       "      <td>1643.278198</td>\n",
       "      <td>711.572205</td>\n",
       "      <td>7724.954590</td>\n",
       "      <td>12830.546875</td>\n",
       "      <td>6008.145996</td>\n",
       "      <td>2.151059</td>\n",
       "      <td>2.744157</td>\n",
       "      <td>2.823017</td>\n",
       "      <td>357</td>\n",
       "    </tr>\n",
       "  </tbody>\n",
       "</table>\n",
       "<p>5 rows × 46 columns</p>\n",
       "</div>"
      ],
      "text/plain": [
       "          LifeTime      dira  FlightDistance  FlightDistanceError        IP  \\\n",
       "id                                                                            \n",
       "14711831  0.001273  0.999816        8.569642             0.310039  0.197893   \n",
       "16316387  0.000661  0.999954        7.061379             0.348772  0.067430   \n",
       "6771382   0.000889  0.999999        6.502967             0.273914  0.011020   \n",
       "686045    0.001295  0.999301        7.838184             0.325697  0.388636   \n",
       "8755882   0.001714  0.999805        7.064559             0.113440  0.154421   \n",
       "\n",
       "              IPSig  VertexChi2           pt   DOCAone   DOCAtwo   ...     \\\n",
       "id                                                                 ...      \n",
       "14711831   5.183939    2.286117   687.479248  0.022301  0.050763   ...      \n",
       "16316387   6.316281    3.865824  5691.845703  0.002455  0.037633   ...      \n",
       "6771382    0.865816    1.004631  5429.225586  0.002753  0.036379   ...      \n",
       "686045    11.391245   10.345356   661.717834  0.008163  0.436003   ...      \n",
       "8755882   13.925871   12.951378  3885.417969  0.066317  0.052183   ...      \n",
       "\n",
       "                p0_pt        p1_pt        p2_pt          p0_p          p1_p  \\\n",
       "id                                                                            \n",
       "14711831   508.926514   306.629456   714.222717  30300.734375   5662.158691   \n",
       "16316387   943.130676  3287.291260  1563.593994   6160.323730  43781.566406   \n",
       "6771382   2886.055908  2216.936279   598.068359  26387.134766  15534.978516   \n",
       "686045     461.727753   357.967560  1118.084229   5451.857422  10281.403320   \n",
       "8755882   1773.747925  1643.278198   711.572205   7724.954590  12830.546875   \n",
       "\n",
       "                  p2_p    p0_eta    p1_eta    p2_eta  SPDhits  \n",
       "id                                                             \n",
       "14711831   7406.368164  4.779700  3.608334  3.029715      705  \n",
       "16316387  19728.500000  2.563915  3.280884  3.226650      907  \n",
       "6771382    6504.145020  2.903129  2.634985  3.077517      213  \n",
       "686045    23722.742188  3.160085  4.050494  3.747409      275  \n",
       "8755882    6008.145996  2.151059  2.744157  2.823017      357  \n",
       "\n",
       "[5 rows x 46 columns]"
      ]
     },
     "execution_count": 6,
     "metadata": {},
     "output_type": "execute_result"
    }
   ],
   "source": [
    "test_df.head()"
   ]
  },
  {
   "cell_type": "code",
   "execution_count": 7,
   "metadata": {},
   "outputs": [
    {
     "data": {
      "text/plain": [
       "Index(['LifeTime', 'dira', 'FlightDistance', 'FlightDistanceError', 'IP',\n",
       "       'IPSig', 'VertexChi2', 'pt', 'DOCAone', 'DOCAtwo', 'DOCAthree',\n",
       "       'IP_p0p2', 'IP_p1p2', 'isolationa', 'isolationb', 'isolationc',\n",
       "       'isolationd', 'isolatione', 'isolationf', 'iso', 'CDF1', 'CDF2', 'CDF3',\n",
       "       'ISO_SumBDT', 'p0_IsoBDT', 'p1_IsoBDT', 'p2_IsoBDT', 'p0_track_Chi2Dof',\n",
       "       'p1_track_Chi2Dof', 'p2_track_Chi2Dof', 'p0_IP', 'p1_IP', 'p2_IP',\n",
       "       'p0_IPSig', 'p1_IPSig', 'p2_IPSig', 'p0_pt', 'p1_pt', 'p2_pt', 'p0_p',\n",
       "       'p1_p', 'p2_p', 'p0_eta', 'p1_eta', 'p2_eta', 'SPDhits'],\n",
       "      dtype='object')"
      ]
     },
     "execution_count": 7,
     "metadata": {},
     "output_type": "execute_result"
    }
   ],
   "source": [
    "test_df.columns"
   ]
  },
  {
   "cell_type": "markdown",
   "metadata": {},
   "source": [
    "# Baseline Model"
   ]
  },
  {
   "cell_type": "code",
   "execution_count": 8,
   "metadata": {},
   "outputs": [],
   "source": [
    "train, valid = train_test_split(train_df, test_size=0.3, random_state=13)"
   ]
  },
  {
   "cell_type": "markdown",
   "metadata": {},
   "source": [
    "Feature selction for training."
   ]
  },
  {
   "cell_type": "code",
   "execution_count": 9,
   "metadata": {},
   "outputs": [
    {
     "name": "stdout",
     "output_type": "stream",
     "text": [
      "['p2_IsoBDT', 'isolationc', 'LifeTime', 'isolationa', 'CDF3', 'ISO_SumBDT', 'FlightDistance', 'VertexChi2', 'isolationd', 'SPDhits', 'p2_pt', 'p2_eta', 'IP_p0p2', 'p0_p', 'CDF1', 'p2_track_Chi2Dof', 'p0_IP', 'IP', 'IPSig', 'p0_IPSig', 'isolationb', 'p1_p', 'p0_pt', 'CDF2', 'p1_track_Chi2Dof', 'dira', 'p2_IPSig', 'pt', 'FlightDistanceError', 'DOCAone', 'isolationf', 'DOCAthree', 'p0_eta', 'p2_IP', 'IP_p1p2', 'p1_IsoBDT', 'p2_p', 'iso', 'p1_eta', 'DOCAtwo', 'p0_IsoBDT', 'p1_pt', 'p1_IP', 'p1_IPSig', 'p0_track_Chi2Dof', 'isolatione']\n"
     ]
    }
   ],
   "source": [
    "variables = list(set(train_df.columns) - {'id', 'signal', 'mass', 'production', 'min_ANNmuon'})\n",
    "print(variables)"
   ]
  },
  {
   "cell_type": "code",
   "execution_count": 10,
   "metadata": {},
   "outputs": [
    {
     "name": "stdout",
     "output_type": "stream",
     "text": [
      "Wall time: 24.3 s\n"
     ]
    },
    {
     "data": {
      "text/plain": [
       "AdaBoostClassifier(algorithm='SAMME.R',\n",
       "          base_estimator=DecisionTreeClassifier(class_weight=None, criterion='gini', max_depth=6,\n",
       "            max_features=6, max_leaf_nodes=None, min_impurity_decrease=0.0,\n",
       "            min_impurity_split=None, min_samples_leaf=30,\n",
       "            min_samples_split=2, min_weight_fraction_leaf=0.0,\n",
       "            presort=False, random_state=13, splitter='best'),\n",
       "          learning_rate=0.01, n_estimators=100, random_state=13)"
      ]
     },
     "execution_count": 10,
     "metadata": {},
     "output_type": "execute_result"
    }
   ],
   "source": [
    "%%time\n",
    "clf = AdaBoostClassifier(n_estimators=100, \n",
    "                         learning_rate=0.01, \n",
    "                         random_state=13,\n",
    "                         base_estimator=DecisionTreeClassifier(max_depth=6, \n",
    "                                                               min_samples_leaf=30, \n",
    "                                                               max_features=6,\n",
    "                                                               random_state=13))\n",
    "clf.fit(train[variables], train['signal'])"
   ]
  },
  {
   "cell_type": "markdown",
   "metadata": {},
   "source": [
    "# Model Assesment on Validation Set\n"
   ]
  },
  {
   "cell_type": "code",
   "execution_count": 11,
   "metadata": {},
   "outputs": [],
   "source": [
    "def plot_metrics(y_true, y_pred):\n",
    "    fpr, tpr, thresholds = roc_curve(y_true, y_pred)\n",
    "    roc_auc = roc_auc_score(y_true, y_pred)\n",
    "\n",
    "    plt.plot(fpr, tpr, label='ROC AUC=%f' % roc_auc)\n",
    "    plt.xlabel(\"FPR\")\n",
    "    plt.ylabel(\"TPR\")\n",
    "    plt.legend()\n",
    "    plt.title(\"ROC Curve\")"
   ]
  },
  {
   "cell_type": "code",
   "execution_count": 12,
   "metadata": {},
   "outputs": [
    {
     "data": {
      "image/png": "[encoded data removed]",
      "text/plain": [
       "<Figure size 432x288 with 1 Axes>"
      ]
     },
     "metadata": {},
     "output_type": "display_data"
    }
   ],
   "source": [
    "y_pred = clf.predict_proba(valid[variables])[:, 1]\n",
    "\n",
    "assert valid.shape[0], y_pred.shape[0]\n",
    "\n",
    "plot_metrics(valid['signal'], y_pred)"
   ]
  },
  {
   "cell_type": "markdown",
   "metadata": {},
   "source": [
    "ROC AUC is just a part of the solution, we also have to make sure that\n",
    "\n",
    "- the classifier output is not correlated with the mass\n",
    "- classifier performs similarily on MC and real data of the normalization channel"
   ]
  },
  {
   "cell_type": "markdown",
   "metadata": {},
   "source": [
    "### 1. Mass Correlation Check"
   ]
  },
  {
   "cell_type": "code",
   "execution_count": 13,
   "metadata": {},
   "outputs": [],
   "source": [
    "df_corr_check = pd.read_csv(\"Data/check_correlation.csv.gz\")"
   ]
  },
  {
   "cell_type": "code",
   "execution_count": 14,
   "metadata": {},
   "outputs": [
    {
     "data": {
      "text/plain": [
       "(5514, 48)"
      ]
     },
     "execution_count": 14,
     "metadata": {},
     "output_type": "execute_result"
    }
   ],
   "source": [
    "df_corr_check.shape"
   ]
  },
  {
   "cell_type": "code",
   "execution_count": 15,
   "metadata": {},
   "outputs": [],
   "source": [
    "y_pred = clf.predict(df_corr_check[variables])"
   ]
  },
  {
   "cell_type": "code",
   "execution_count": 16,
   "metadata": {},
   "outputs": [],
   "source": [
    "eff = get_efficiencies(y_pred, \n",
    "                       df_corr_check.mass, \n",
    "                       thresholds=[0.5]) # thresholds=[0.2, 0.4, 0.5, 0.6, 0.8])"
   ]
  },
  {
   "cell_type": "code",
   "execution_count": 17,
   "metadata": {},
   "outputs": [
    {
     "data": {
      "text/plain": [
       "odict_keys([0.5])"
      ]
     },
     "execution_count": 17,
     "metadata": {},
     "output_type": "execute_result"
    }
   ],
   "source": [
    "eff.keys()"
   ]
  },
  {
   "cell_type": "code",
   "execution_count": 18,
   "metadata": {},
   "outputs": [
    {
     "data": {
      "image/png": "[encoded data removed]",
      "text/plain": [
       "<Figure size 432x288 with 1 Axes>"
      ]
     },
     "metadata": {},
     "output_type": "display_data"
    }
   ],
   "source": [
    "for label_name, eff_data in eff.items():\n",
    "    plt.plot(eff_data[0], eff_data[1], label=\"global eff  %.1f\" % label_name)\n",
    "\n",
    "plt.xlabel('Mass')\n",
    "plt.ylabel('Efficiency')\n",
    "plt.legend();"
   ]
  },
  {
   "cell_type": "code",
   "execution_count": 19,
   "metadata": {},
   "outputs": [
    {
     "name": "stdout",
     "output_type": "stream",
     "text": [
      "0.00018672270203322103\n"
     ]
    }
   ],
   "source": [
    "corr_metric = check_correlation(y_pred, df_corr_check['mass'])\n",
    "print(corr_metric)"
   ]
  },
  {
   "cell_type": "code",
   "execution_count": null,
   "metadata": {},
   "outputs": [],
   "source": []
  }
 ],
 "metadata": {
  "@webio": {
   "lastCommId": null,
   "lastKernelId": null
  },
  "kernelspec": {
   "display_name": "Python 3",
   "language": "python",
   "name": "python3"
  },
  "language_info": {
   "codemirror_mode": {
    "name": "ipython",
    "version": 3
   },
   "file_extension": ".py",
   "mimetype": "text/x-python",
   "name": "python",
   "nbconvert_exporter": "python",
   "pygments_lexer": "ipython3",
   "version": "3.6.6"
  }
 },
 "nbformat": 4,
 "nbformat_minor": 1
}
