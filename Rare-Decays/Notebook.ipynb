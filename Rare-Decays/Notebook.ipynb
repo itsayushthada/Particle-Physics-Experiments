{
 "cells": [
  {
   "cell_type": "code",
   "execution_count": null,
   "metadata": {},
   "outputs": [],
   "source": [
    "! wget https://github.com/hse-aml/hadron-collider-machine-learning/releases/download/Week_3/check_agreement.csv.gz\n",
    "! wget https://github.com/hse-aml/hadron-collider-machine-learning/releases/download/Week_3/check_correlation.csv.gz\n",
    "! wget https://github.com/hse-aml/hadron-collider-machine-learning/releases/download/Week_3/test.csv.gz\n",
    "! wget https://github.com/hse-aml/hadron-collider-machine-learning/releases/download/Week_3/training.csv.gz"
   ]
  },
  {
   "cell_type": "code",
   "execution_count": 1,
   "metadata": {},
   "outputs": [
    {
     "name": "stderr",
     "output_type": "stream",
     "text": [
      "c:\\users\\lenovo\\appdata\\local\\programs\\python\\python36\\lib\\site-packages\\sklearn\\ensemble\\weight_boosting.py:29: DeprecationWarning: numpy.core.umath_tests is an internal NumPy module and should not be imported. It will be removed in a future NumPy release.\n",
      "  from numpy.core.umath_tests import inner1d\n"
     ]
    }
   ],
   "source": [
    "import pandas as pd\n",
    "import numpy as np\n",
    "\n",
    "from sklearn.metrics import roc_curve\n",
    "from sklearn.model_selection import train_test_split\n",
    "from sklearn.preprocessing import StandardScaler\n",
    "from sklearn.decomposition import PCA\n",
    "\n",
    "from sklearn.ensemble import AdaBoostClassifier\n",
    "from sklearn.tree import DecisionTreeClassifier\n",
    "\n",
    "from sklearn.metrics import roc_curve, roc_auc_score\n",
    "\n",
    "import matplotlib.pyplot as plt\n",
    "\n",
    "from hep_ml import metrics\n",
    "from utils import check_correlation\n",
    "from mass_correlation_utils import *"
   ]
  },
  {
   "cell_type": "markdown",
   "metadata": {},
   "source": [
    "# Data Loading\n",
    "`training.csv` is a mixture of simulated signal, real background."
   ]
  },
  {
   "cell_type": "code",
   "execution_count": 2,
   "metadata": {},
   "outputs": [],
   "source": [
    "train_df = pd.read_csv('Data/training.csv.gz', sep=',')"
   ]
  },
  {
   "cell_type": "code",
   "execution_count": 3,
   "metadata": {},
   "outputs": [
    {
     "data": {
      "text/html": [
       "<div>\n",
       "<style scoped>\n",
       "    .dataframe tbody tr th:only-of-type {\n",
       "        vertical-align: middle;\n",
       "    }\n",
       "\n",
       "    .dataframe tbody tr th {\n",
       "        vertical-align: top;\n",
       "    }\n",
       "\n",
       "    .dataframe thead th {\n",
       "        text-align: right;\n",
       "    }\n",
       "</style>\n",
       "<table border=\"1\" class=\"dataframe\">\n",
       "  <thead>\n",
       "    <tr style=\"text-align: right;\">\n",
       "      <th></th>\n",
       "      <th>id</th>\n",
       "      <th>LifeTime</th>\n",
       "      <th>dira</th>\n",
       "      <th>FlightDistance</th>\n",
       "      <th>FlightDistanceError</th>\n",
       "      <th>IP</th>\n",
       "      <th>IPSig</th>\n",
       "      <th>VertexChi2</th>\n",
       "      <th>pt</th>\n",
       "      <th>DOCAone</th>\n",
       "      <th>...</th>\n",
       "      <th>p1_p</th>\n",
       "      <th>p2_p</th>\n",
       "      <th>p0_eta</th>\n",
       "      <th>p1_eta</th>\n",
       "      <th>p2_eta</th>\n",
       "      <th>SPDhits</th>\n",
       "      <th>production</th>\n",
       "      <th>signal</th>\n",
       "      <th>mass</th>\n",
       "      <th>min_ANNmuon</th>\n",
       "    </tr>\n",
       "  </thead>\n",
       "  <tbody>\n",
       "    <tr>\n",
       "      <th>0</th>\n",
       "      <td>18453471</td>\n",
       "      <td>0.001578</td>\n",
       "      <td>0.999999</td>\n",
       "      <td>14.033335</td>\n",
       "      <td>0.681401</td>\n",
       "      <td>0.016039</td>\n",
       "      <td>0.451886</td>\n",
       "      <td>1.900433</td>\n",
       "      <td>1482.037476</td>\n",
       "      <td>0.066667</td>\n",
       "      <td>...</td>\n",
       "      <td>12290.760742</td>\n",
       "      <td>39264.398438</td>\n",
       "      <td>3.076006</td>\n",
       "      <td>4.003800</td>\n",
       "      <td>4.031514</td>\n",
       "      <td>458</td>\n",
       "      <td>-99</td>\n",
       "      <td>0</td>\n",
       "      <td>1866.300049</td>\n",
       "      <td>0.277559</td>\n",
       "    </tr>\n",
       "    <tr>\n",
       "      <th>1</th>\n",
       "      <td>5364094</td>\n",
       "      <td>0.000988</td>\n",
       "      <td>0.999705</td>\n",
       "      <td>5.536157</td>\n",
       "      <td>0.302341</td>\n",
       "      <td>0.142163</td>\n",
       "      <td>9.564503</td>\n",
       "      <td>0.865666</td>\n",
       "      <td>3050.720703</td>\n",
       "      <td>0.024022</td>\n",
       "      <td>...</td>\n",
       "      <td>16562.667969</td>\n",
       "      <td>7341.257812</td>\n",
       "      <td>3.228553</td>\n",
       "      <td>2.786543</td>\n",
       "      <td>2.975564</td>\n",
       "      <td>406</td>\n",
       "      <td>-99</td>\n",
       "      <td>0</td>\n",
       "      <td>1727.095947</td>\n",
       "      <td>0.225924</td>\n",
       "    </tr>\n",
       "    <tr>\n",
       "      <th>2</th>\n",
       "      <td>11130990</td>\n",
       "      <td>0.000877</td>\n",
       "      <td>0.999984</td>\n",
       "      <td>6.117302</td>\n",
       "      <td>0.276463</td>\n",
       "      <td>0.034746</td>\n",
       "      <td>1.970751</td>\n",
       "      <td>10.975849</td>\n",
       "      <td>3895.908691</td>\n",
       "      <td>0.055044</td>\n",
       "      <td>...</td>\n",
       "      <td>22695.388672</td>\n",
       "      <td>10225.309570</td>\n",
       "      <td>3.536903</td>\n",
       "      <td>2.865686</td>\n",
       "      <td>3.052810</td>\n",
       "      <td>196</td>\n",
       "      <td>-99</td>\n",
       "      <td>0</td>\n",
       "      <td>1898.588013</td>\n",
       "      <td>0.368630</td>\n",
       "    </tr>\n",
       "    <tr>\n",
       "      <th>3</th>\n",
       "      <td>15173787</td>\n",
       "      <td>0.000854</td>\n",
       "      <td>0.999903</td>\n",
       "      <td>5.228067</td>\n",
       "      <td>0.220739</td>\n",
       "      <td>0.076389</td>\n",
       "      <td>4.271331</td>\n",
       "      <td>3.276358</td>\n",
       "      <td>4010.781738</td>\n",
       "      <td>0.053779</td>\n",
       "      <td>...</td>\n",
       "      <td>16909.515625</td>\n",
       "      <td>9141.426758</td>\n",
       "      <td>3.087461</td>\n",
       "      <td>3.218034</td>\n",
       "      <td>2.375592</td>\n",
       "      <td>137</td>\n",
       "      <td>-99</td>\n",
       "      <td>0</td>\n",
       "      <td>1840.410034</td>\n",
       "      <td>0.246045</td>\n",
       "    </tr>\n",
       "    <tr>\n",
       "      <th>4</th>\n",
       "      <td>1102544</td>\n",
       "      <td>0.001129</td>\n",
       "      <td>0.999995</td>\n",
       "      <td>39.069534</td>\n",
       "      <td>1.898197</td>\n",
       "      <td>0.120936</td>\n",
       "      <td>4.984982</td>\n",
       "      <td>0.468348</td>\n",
       "      <td>4144.546875</td>\n",
       "      <td>0.004491</td>\n",
       "      <td>...</td>\n",
       "      <td>97612.804688</td>\n",
       "      <td>47118.785156</td>\n",
       "      <td>4.632295</td>\n",
       "      <td>4.711155</td>\n",
       "      <td>4.296878</td>\n",
       "      <td>477</td>\n",
       "      <td>-99</td>\n",
       "      <td>0</td>\n",
       "      <td>1899.793945</td>\n",
       "      <td>0.222060</td>\n",
       "    </tr>\n",
       "  </tbody>\n",
       "</table>\n",
       "<p>5 rows × 51 columns</p>\n",
       "</div>"
      ],
      "text/plain": [
       "         id  LifeTime      dira  FlightDistance  FlightDistanceError  \\\n",
       "0  18453471  0.001578  0.999999       14.033335             0.681401   \n",
       "1   5364094  0.000988  0.999705        5.536157             0.302341   \n",
       "2  11130990  0.000877  0.999984        6.117302             0.276463   \n",
       "3  15173787  0.000854  0.999903        5.228067             0.220739   \n",
       "4   1102544  0.001129  0.999995       39.069534             1.898197   \n",
       "\n",
       "         IP     IPSig  VertexChi2           pt   DOCAone  ...          p1_p  \\\n",
       "0  0.016039  0.451886    1.900433  1482.037476  0.066667  ...  12290.760742   \n",
       "1  0.142163  9.564503    0.865666  3050.720703  0.024022  ...  16562.667969   \n",
       "2  0.034746  1.970751   10.975849  3895.908691  0.055044  ...  22695.388672   \n",
       "3  0.076389  4.271331    3.276358  4010.781738  0.053779  ...  16909.515625   \n",
       "4  0.120936  4.984982    0.468348  4144.546875  0.004491  ...  97612.804688   \n",
       "\n",
       "           p2_p    p0_eta    p1_eta    p2_eta  SPDhits  production  signal  \\\n",
       "0  39264.398438  3.076006  4.003800  4.031514      458         -99       0   \n",
       "1   7341.257812  3.228553  2.786543  2.975564      406         -99       0   \n",
       "2  10225.309570  3.536903  2.865686  3.052810      196         -99       0   \n",
       "3   9141.426758  3.087461  3.218034  2.375592      137         -99       0   \n",
       "4  47118.785156  4.632295  4.711155  4.296878      477         -99       0   \n",
       "\n",
       "          mass  min_ANNmuon  \n",
       "0  1866.300049     0.277559  \n",
       "1  1727.095947     0.225924  \n",
       "2  1898.588013     0.368630  \n",
       "3  1840.410034     0.246045  \n",
       "4  1899.793945     0.222060  \n",
       "\n",
       "[5 rows x 51 columns]"
      ]
     },
     "execution_count": 3,
     "metadata": {},
     "output_type": "execute_result"
    }
   ],
   "source": [
    "train_df.head()"
   ]
  },
  {
   "cell_type": "code",
   "execution_count": 4,
   "metadata": {},
   "outputs": [
    {
     "data": {
      "text/plain": [
       "Index(['id', 'LifeTime', 'dira', 'FlightDistance', 'FlightDistanceError', 'IP',\n",
       "       'IPSig', 'VertexChi2', 'pt', 'DOCAone', 'DOCAtwo', 'DOCAthree',\n",
       "       'IP_p0p2', 'IP_p1p2', 'isolationa', 'isolationb', 'isolationc',\n",
       "       'isolationd', 'isolatione', 'isolationf', 'iso', 'CDF1', 'CDF2', 'CDF3',\n",
       "       'ISO_SumBDT', 'p0_IsoBDT', 'p1_IsoBDT', 'p2_IsoBDT', 'p0_track_Chi2Dof',\n",
       "       'p1_track_Chi2Dof', 'p2_track_Chi2Dof', 'p0_IP', 'p1_IP', 'p2_IP',\n",
       "       'p0_IPSig', 'p1_IPSig', 'p2_IPSig', 'p0_pt', 'p1_pt', 'p2_pt', 'p0_p',\n",
       "       'p1_p', 'p2_p', 'p0_eta', 'p1_eta', 'p2_eta', 'SPDhits', 'production',\n",
       "       'signal', 'mass', 'min_ANNmuon'],\n",
       "      dtype='object')"
      ]
     },
     "execution_count": 4,
     "metadata": {},
     "output_type": "execute_result"
    }
   ],
   "source": [
    "train_df.columns"
   ]
  },
  {
   "cell_type": "code",
   "execution_count": 5,
   "metadata": {},
   "outputs": [
    {
     "data": {
      "text/plain": [
       "(67553, 51)"
      ]
     },
     "execution_count": 5,
     "metadata": {},
     "output_type": "execute_result"
    }
   ],
   "source": [
    "train_df.shape"
   ]
  },
  {
   "cell_type": "code",
   "execution_count": 6,
   "metadata": {},
   "outputs": [],
   "source": [
    "test_df = pd.read_csv('Data/test.csv.gz', sep=',', index_col='id')"
   ]
  },
  {
   "cell_type": "code",
   "execution_count": 7,
   "metadata": {},
   "outputs": [
    {
     "data": {
      "text/html": [
       "<div>\n",
       "<style scoped>\n",
       "    .dataframe tbody tr th:only-of-type {\n",
       "        vertical-align: middle;\n",
       "    }\n",
       "\n",
       "    .dataframe tbody tr th {\n",
       "        vertical-align: top;\n",
       "    }\n",
       "\n",
       "    .dataframe thead th {\n",
       "        text-align: right;\n",
       "    }\n",
       "</style>\n",
       "<table border=\"1\" class=\"dataframe\">\n",
       "  <thead>\n",
       "    <tr style=\"text-align: right;\">\n",
       "      <th></th>\n",
       "      <th>LifeTime</th>\n",
       "      <th>dira</th>\n",
       "      <th>FlightDistance</th>\n",
       "      <th>FlightDistanceError</th>\n",
       "      <th>IP</th>\n",
       "      <th>IPSig</th>\n",
       "      <th>VertexChi2</th>\n",
       "      <th>pt</th>\n",
       "      <th>DOCAone</th>\n",
       "      <th>DOCAtwo</th>\n",
       "      <th>...</th>\n",
       "      <th>p0_pt</th>\n",
       "      <th>p1_pt</th>\n",
       "      <th>p2_pt</th>\n",
       "      <th>p0_p</th>\n",
       "      <th>p1_p</th>\n",
       "      <th>p2_p</th>\n",
       "      <th>p0_eta</th>\n",
       "      <th>p1_eta</th>\n",
       "      <th>p2_eta</th>\n",
       "      <th>SPDhits</th>\n",
       "    </tr>\n",
       "    <tr>\n",
       "      <th>id</th>\n",
       "      <th></th>\n",
       "      <th></th>\n",
       "      <th></th>\n",
       "      <th></th>\n",
       "      <th></th>\n",
       "      <th></th>\n",
       "      <th></th>\n",
       "      <th></th>\n",
       "      <th></th>\n",
       "      <th></th>\n",
       "      <th></th>\n",
       "      <th></th>\n",
       "      <th></th>\n",
       "      <th></th>\n",
       "      <th></th>\n",
       "      <th></th>\n",
       "      <th></th>\n",
       "      <th></th>\n",
       "      <th></th>\n",
       "      <th></th>\n",
       "      <th></th>\n",
       "    </tr>\n",
       "  </thead>\n",
       "  <tbody>\n",
       "    <tr>\n",
       "      <th>14711831</th>\n",
       "      <td>0.001273</td>\n",
       "      <td>0.999816</td>\n",
       "      <td>8.569642</td>\n",
       "      <td>0.310039</td>\n",
       "      <td>0.197893</td>\n",
       "      <td>5.183939</td>\n",
       "      <td>2.286117</td>\n",
       "      <td>687.479248</td>\n",
       "      <td>0.022301</td>\n",
       "      <td>0.050763</td>\n",
       "      <td>...</td>\n",
       "      <td>508.926514</td>\n",
       "      <td>306.629456</td>\n",
       "      <td>714.222717</td>\n",
       "      <td>30300.734375</td>\n",
       "      <td>5662.158691</td>\n",
       "      <td>7406.368164</td>\n",
       "      <td>4.779700</td>\n",
       "      <td>3.608334</td>\n",
       "      <td>3.029715</td>\n",
       "      <td>705</td>\n",
       "    </tr>\n",
       "    <tr>\n",
       "      <th>16316387</th>\n",
       "      <td>0.000661</td>\n",
       "      <td>0.999954</td>\n",
       "      <td>7.061379</td>\n",
       "      <td>0.348772</td>\n",
       "      <td>0.067430</td>\n",
       "      <td>6.316281</td>\n",
       "      <td>3.865824</td>\n",
       "      <td>5691.845703</td>\n",
       "      <td>0.002455</td>\n",
       "      <td>0.037633</td>\n",
       "      <td>...</td>\n",
       "      <td>943.130676</td>\n",
       "      <td>3287.291260</td>\n",
       "      <td>1563.593994</td>\n",
       "      <td>6160.323730</td>\n",
       "      <td>43781.566406</td>\n",
       "      <td>19728.500000</td>\n",
       "      <td>2.563915</td>\n",
       "      <td>3.280884</td>\n",
       "      <td>3.226650</td>\n",
       "      <td>907</td>\n",
       "    </tr>\n",
       "    <tr>\n",
       "      <th>6771382</th>\n",
       "      <td>0.000889</td>\n",
       "      <td>0.999999</td>\n",
       "      <td>6.502967</td>\n",
       "      <td>0.273914</td>\n",
       "      <td>0.011020</td>\n",
       "      <td>0.865816</td>\n",
       "      <td>1.004631</td>\n",
       "      <td>5429.225586</td>\n",
       "      <td>0.002753</td>\n",
       "      <td>0.036379</td>\n",
       "      <td>...</td>\n",
       "      <td>2886.055908</td>\n",
       "      <td>2216.936279</td>\n",
       "      <td>598.068359</td>\n",
       "      <td>26387.134766</td>\n",
       "      <td>15534.978516</td>\n",
       "      <td>6504.145020</td>\n",
       "      <td>2.903129</td>\n",
       "      <td>2.634985</td>\n",
       "      <td>3.077517</td>\n",
       "      <td>213</td>\n",
       "    </tr>\n",
       "    <tr>\n",
       "      <th>686045</th>\n",
       "      <td>0.001295</td>\n",
       "      <td>0.999301</td>\n",
       "      <td>7.838184</td>\n",
       "      <td>0.325697</td>\n",
       "      <td>0.388636</td>\n",
       "      <td>11.391245</td>\n",
       "      <td>10.345356</td>\n",
       "      <td>661.717834</td>\n",
       "      <td>0.008163</td>\n",
       "      <td>0.436003</td>\n",
       "      <td>...</td>\n",
       "      <td>461.727753</td>\n",
       "      <td>357.967560</td>\n",
       "      <td>1118.084229</td>\n",
       "      <td>5451.857422</td>\n",
       "      <td>10281.403320</td>\n",
       "      <td>23722.742188</td>\n",
       "      <td>3.160085</td>\n",
       "      <td>4.050494</td>\n",
       "      <td>3.747409</td>\n",
       "      <td>275</td>\n",
       "    </tr>\n",
       "    <tr>\n",
       "      <th>8755882</th>\n",
       "      <td>0.001714</td>\n",
       "      <td>0.999805</td>\n",
       "      <td>7.064559</td>\n",
       "      <td>0.113440</td>\n",
       "      <td>0.154421</td>\n",
       "      <td>13.925871</td>\n",
       "      <td>12.951378</td>\n",
       "      <td>3885.417969</td>\n",
       "      <td>0.066317</td>\n",
       "      <td>0.052183</td>\n",
       "      <td>...</td>\n",
       "      <td>1773.747925</td>\n",
       "      <td>1643.278198</td>\n",
       "      <td>711.572205</td>\n",
       "      <td>7724.954590</td>\n",
       "      <td>12830.546875</td>\n",
       "      <td>6008.145996</td>\n",
       "      <td>2.151059</td>\n",
       "      <td>2.744157</td>\n",
       "      <td>2.823017</td>\n",
       "      <td>357</td>\n",
       "    </tr>\n",
       "  </tbody>\n",
       "</table>\n",
       "<p>5 rows × 46 columns</p>\n",
       "</div>"
      ],
      "text/plain": [
       "          LifeTime      dira  FlightDistance  FlightDistanceError        IP  \\\n",
       "id                                                                            \n",
       "14711831  0.001273  0.999816        8.569642             0.310039  0.197893   \n",
       "16316387  0.000661  0.999954        7.061379             0.348772  0.067430   \n",
       "6771382   0.000889  0.999999        6.502967             0.273914  0.011020   \n",
       "686045    0.001295  0.999301        7.838184             0.325697  0.388636   \n",
       "8755882   0.001714  0.999805        7.064559             0.113440  0.154421   \n",
       "\n",
       "              IPSig  VertexChi2           pt   DOCAone   DOCAtwo  ...  \\\n",
       "id                                                                ...   \n",
       "14711831   5.183939    2.286117   687.479248  0.022301  0.050763  ...   \n",
       "16316387   6.316281    3.865824  5691.845703  0.002455  0.037633  ...   \n",
       "6771382    0.865816    1.004631  5429.225586  0.002753  0.036379  ...   \n",
       "686045    11.391245   10.345356   661.717834  0.008163  0.436003  ...   \n",
       "8755882   13.925871   12.951378  3885.417969  0.066317  0.052183  ...   \n",
       "\n",
       "                p0_pt        p1_pt        p2_pt          p0_p          p1_p  \\\n",
       "id                                                                            \n",
       "14711831   508.926514   306.629456   714.222717  30300.734375   5662.158691   \n",
       "16316387   943.130676  3287.291260  1563.593994   6160.323730  43781.566406   \n",
       "6771382   2886.055908  2216.936279   598.068359  26387.134766  15534.978516   \n",
       "686045     461.727753   357.967560  1118.084229   5451.857422  10281.403320   \n",
       "8755882   1773.747925  1643.278198   711.572205   7724.954590  12830.546875   \n",
       "\n",
       "                  p2_p    p0_eta    p1_eta    p2_eta  SPDhits  \n",
       "id                                                             \n",
       "14711831   7406.368164  4.779700  3.608334  3.029715      705  \n",
       "16316387  19728.500000  2.563915  3.280884  3.226650      907  \n",
       "6771382    6504.145020  2.903129  2.634985  3.077517      213  \n",
       "686045    23722.742188  3.160085  4.050494  3.747409      275  \n",
       "8755882    6008.145996  2.151059  2.744157  2.823017      357  \n",
       "\n",
       "[5 rows x 46 columns]"
      ]
     },
     "execution_count": 7,
     "metadata": {},
     "output_type": "execute_result"
    }
   ],
   "source": [
    "test_df.head()"
   ]
  },
  {
   "cell_type": "code",
   "execution_count": 8,
   "metadata": {},
   "outputs": [
    {
     "data": {
      "text/plain": [
       "Index(['LifeTime', 'dira', 'FlightDistance', 'FlightDistanceError', 'IP',\n",
       "       'IPSig', 'VertexChi2', 'pt', 'DOCAone', 'DOCAtwo', 'DOCAthree',\n",
       "       'IP_p0p2', 'IP_p1p2', 'isolationa', 'isolationb', 'isolationc',\n",
       "       'isolationd', 'isolatione', 'isolationf', 'iso', 'CDF1', 'CDF2', 'CDF3',\n",
       "       'ISO_SumBDT', 'p0_IsoBDT', 'p1_IsoBDT', 'p2_IsoBDT', 'p0_track_Chi2Dof',\n",
       "       'p1_track_Chi2Dof', 'p2_track_Chi2Dof', 'p0_IP', 'p1_IP', 'p2_IP',\n",
       "       'p0_IPSig', 'p1_IPSig', 'p2_IPSig', 'p0_pt', 'p1_pt', 'p2_pt', 'p0_p',\n",
       "       'p1_p', 'p2_p', 'p0_eta', 'p1_eta', 'p2_eta', 'SPDhits'],\n",
       "      dtype='object')"
      ]
     },
     "execution_count": 8,
     "metadata": {},
     "output_type": "execute_result"
    }
   ],
   "source": [
    "test_df.columns"
   ]
  },
  {
   "cell_type": "code",
   "execution_count": 9,
   "metadata": {},
   "outputs": [
    {
     "data": {
      "text/plain": [
       "(855819, 46)"
      ]
     },
     "execution_count": 9,
     "metadata": {},
     "output_type": "execute_result"
    }
   ],
   "source": [
    "test_df.shape"
   ]
  },
  {
   "cell_type": "markdown",
   "metadata": {},
   "source": [
    "# Baseline Model"
   ]
  },
  {
   "cell_type": "code",
   "execution_count": 10,
   "metadata": {},
   "outputs": [],
   "source": [
    "train, valid = train_test_split(train_df, test_size=0.3, random_state=13)"
   ]
  },
  {
   "cell_type": "markdown",
   "metadata": {},
   "source": [
    "Feature selction for training."
   ]
  },
  {
   "cell_type": "code",
   "execution_count": 11,
   "metadata": {},
   "outputs": [
    {
     "name": "stdout",
     "output_type": "stream",
     "text": [
      "['IP_p1p2', 'p0_pt', 'p1_pt', 'pt', 'p2_IsoBDT', 'p2_track_Chi2Dof', 'IP_p0p2', 'isolationb', 'p1_p', 'dira', 'isolationa', 'FlightDistanceError', 'iso', 'SPDhits', 'IP', 'CDF3', 'isolatione', 'p0_track_Chi2Dof', 'LifeTime', 'ISO_SumBDT', 'IPSig', 'p2_p', 'isolationf', 'VertexChi2', 'CDF1', 'p0_IsoBDT', 'p0_eta', 'p1_track_Chi2Dof', 'p2_pt', 'DOCAtwo', 'p1_IPSig', 'p2_IPSig', 'p1_eta', 'p2_eta', 'p1_IP', 'DOCAone', 'isolationc', 'isolationd', 'p0_IP', 'p0_IPSig', 'p2_IP', 'p0_p', 'p1_IsoBDT', 'DOCAthree', 'CDF2', 'FlightDistance']\n"
     ]
    }
   ],
   "source": [
    "variables = list(set(train_df.columns) - {'id', 'signal', 'mass', 'production', 'min_ANNmuon'})\n",
    "print(variables)"
   ]
  },
  {
   "cell_type": "code",
   "execution_count": 12,
   "metadata": {},
   "outputs": [
    {
     "data": {
      "text/plain": [
       "StandardScaler(copy=True, with_mean=True, with_std=True)"
      ]
     },
     "execution_count": 12,
     "metadata": {},
     "output_type": "execute_result"
    }
   ],
   "source": [
    "# Data Preprocessing\n",
    "\n",
    "obj_SC = StandardScaler()\n",
    "obj_SC.fit(train[variables])"
   ]
  },
  {
   "cell_type": "code",
   "execution_count": 13,
   "metadata": {},
   "outputs": [
    {
     "name": "stdout",
     "output_type": "stream",
     "text": [
      "Wall time: 22.4 s\n"
     ]
    },
    {
     "data": {
      "text/plain": [
       "AdaBoostClassifier(algorithm='SAMME.R',\n",
       "          base_estimator=DecisionTreeClassifier(class_weight=None, criterion='gini', max_depth=6,\n",
       "            max_features=6, max_leaf_nodes=None, min_impurity_decrease=0.0,\n",
       "            min_impurity_split=None, min_samples_leaf=30,\n",
       "            min_samples_split=2, min_weight_fraction_leaf=0.0,\n",
       "            presort=False, random_state=13, splitter='best'),\n",
       "          learning_rate=0.01, n_estimators=100, random_state=13)"
      ]
     },
     "execution_count": 13,
     "metadata": {},
     "output_type": "execute_result"
    }
   ],
   "source": [
    "%%time\n",
    "\n",
    "clf = AdaBoostClassifier(n_estimators=100, \n",
    "                         learning_rate=0.01, \n",
    "                         random_state=13,\n",
    "                         base_estimator=DecisionTreeClassifier(max_depth=6, \n",
    "                                                               min_samples_leaf=30, \n",
    "                                                               max_features=6,\n",
    "                                                               random_state=13))\n",
    "clf.fit(obj_SC.transform(train[variables]), train['signal'])"
   ]
  },
  {
   "cell_type": "markdown",
   "metadata": {},
   "source": [
    "## Model Assesment on Validation Set\n"
   ]
  },
  {
   "cell_type": "code",
   "execution_count": 14,
   "metadata": {},
   "outputs": [],
   "source": [
    "def plot_metrics(y_true, y_pred):\n",
    "    fpr, tpr, thresholds = roc_curve(y_true, y_pred)\n",
    "    roc_auc = roc_auc_score(y_true, y_pred)\n",
    "\n",
    "    plt.plot(fpr, tpr, label='ROC AUC=%f' % roc_auc)\n",
    "    plt.xlabel(\"FPR\")\n",
    "    plt.ylabel(\"TPR\")\n",
    "    plt.legend()\n",
    "    plt.title(\"ROC Curve\")"
   ]
  },
  {
   "cell_type": "code",
   "execution_count": 15,
   "metadata": {},
   "outputs": [
    {
     "data": {
      "image/png": "[encoded data removed]",
      "text/plain": [
       "<Figure size 432x288 with 1 Axes>"
      ]
     },
     "metadata": {},
     "output_type": "display_data"
    }
   ],
   "source": [
    "y_pred = clf.predict_proba(obj_SC.transform(valid[variables]))[:, 1]\n",
    "\n",
    "assert valid.shape[0], y_pred.shape[0]\n",
    "\n",
    "plot_metrics(valid['signal'], y_pred)"
   ]
  },
  {
   "cell_type": "code",
   "execution_count": 16,
   "metadata": {},
   "outputs": [
    {
     "data": {
      "text/plain": [
       "(20266, 51)"
      ]
     },
     "execution_count": 16,
     "metadata": {},
     "output_type": "execute_result"
    }
   ],
   "source": [
    "valid.shape"
   ]
  },
  {
   "cell_type": "code",
   "execution_count": 17,
   "metadata": {},
   "outputs": [
    {
     "data": {
      "text/plain": [
       "(20266,)"
      ]
     },
     "execution_count": 17,
     "metadata": {},
     "output_type": "execute_result"
    }
   ],
   "source": [
    "y_pred.shape"
   ]
  },
  {
   "cell_type": "markdown",
   "metadata": {},
   "source": [
    "ROC AUC is just a part of the solution, we also have to make sure that\n",
    "\n",
    "- The classifier output is not correlated with the mass\n",
    "- Classifier performs similarily on MC and real data of the normalization channel"
   ]
  },
  {
   "cell_type": "markdown",
   "metadata": {},
   "source": [
    "### 1. Mass Correlation Check"
   ]
  },
  {
   "cell_type": "code",
   "execution_count": 18,
   "metadata": {},
   "outputs": [],
   "source": [
    "df_corr_check = pd.read_csv(\"Data/check_correlation.csv.gz\")"
   ]
  },
  {
   "cell_type": "code",
   "execution_count": 19,
   "metadata": {},
   "outputs": [
    {
     "data": {
      "text/plain": [
       "(5514, 48)"
      ]
     },
     "execution_count": 19,
     "metadata": {},
     "output_type": "execute_result"
    }
   ],
   "source": [
    "df_corr_check.shape"
   ]
  },
  {
   "cell_type": "code",
   "execution_count": 20,
   "metadata": {},
   "outputs": [],
   "source": [
    "y_pred = clf.predict(obj_SC.transform(df_corr_check[variables]))"
   ]
  },
  {
   "cell_type": "code",
   "execution_count": 21,
   "metadata": {},
   "outputs": [],
   "source": [
    "eff = get_efficiencies(y_pred, \n",
    "                       df_corr_check.mass, \n",
    "                       thresholds = [0.2, 0.4, 0.5, 0.6, 0.8])"
   ]
  },
  {
   "cell_type": "code",
   "execution_count": 22,
   "metadata": {},
   "outputs": [
    {
     "data": {
      "image/png": "[encoded data removed]",
      "text/plain": [
       "<Figure size 576x432 with 1 Axes>"
      ]
     },
     "metadata": {},
     "output_type": "display_data"
    }
   ],
   "source": [
    "plt.rcParams[\"figure.figsize\"] = 8, 6\n",
    "\n",
    "up = 1e-3\n",
    "for label_name, eff_data in eff.items():\n",
    "    plt.plot(eff_data[0], eff_data[1] + up, label=\"global eff  %.1f\" % label_name)\n",
    "    up = up + 2e-3\n",
    "\n",
    "plt.xlabel('Mass')\n",
    "plt.ylabel('Efficiency')\n",
    "plt.legend()\n",
    "plt.show()"
   ]
  },
  {
   "cell_type": "markdown",
   "metadata": {},
   "source": [
    "In above visualization, y axis is shifted sligthly by 0.002  from previos line just to avoid overlapping."
   ]
  },
  {
   "cell_type": "code",
   "execution_count": 23,
   "metadata": {},
   "outputs": [
    {
     "name": "stdout",
     "output_type": "stream",
     "text": [
      "0.00019456333248720528\n"
     ]
    }
   ],
   "source": [
    "corr_metric = check_correlation(y_pred, df_corr_check['mass'])\n",
    "print(corr_metric)"
   ]
  },
  {
   "cell_type": "code",
   "execution_count": 24,
   "metadata": {},
   "outputs": [
    {
     "data": {
      "text/html": [
       "<div>\n",
       "<style scoped>\n",
       "    .dataframe tbody tr th:only-of-type {\n",
       "        vertical-align: middle;\n",
       "    }\n",
       "\n",
       "    .dataframe tbody tr th {\n",
       "        vertical-align: top;\n",
       "    }\n",
       "\n",
       "    .dataframe thead th {\n",
       "        text-align: right;\n",
       "    }\n",
       "</style>\n",
       "<table border=\"1\" class=\"dataframe\">\n",
       "  <thead>\n",
       "    <tr style=\"text-align: right;\">\n",
       "      <th></th>\n",
       "      <th>IP_p1p2</th>\n",
       "      <th>p0_pt</th>\n",
       "      <th>p1_pt</th>\n",
       "      <th>pt</th>\n",
       "      <th>p2_IsoBDT</th>\n",
       "      <th>p2_track_Chi2Dof</th>\n",
       "      <th>IP_p0p2</th>\n",
       "      <th>isolationb</th>\n",
       "      <th>p1_p</th>\n",
       "      <th>dira</th>\n",
       "      <th>...</th>\n",
       "      <th>isolationc</th>\n",
       "      <th>isolationd</th>\n",
       "      <th>p0_IP</th>\n",
       "      <th>p0_IPSig</th>\n",
       "      <th>p2_IP</th>\n",
       "      <th>p0_p</th>\n",
       "      <th>p1_IsoBDT</th>\n",
       "      <th>DOCAthree</th>\n",
       "      <th>CDF2</th>\n",
       "      <th>FlightDistance</th>\n",
       "    </tr>\n",
       "  </thead>\n",
       "  <tbody>\n",
       "    <tr>\n",
       "      <th>56520</th>\n",
       "      <td>0.062145</td>\n",
       "      <td>778.343079</td>\n",
       "      <td>3227.088623</td>\n",
       "      <td>10099.736328</td>\n",
       "      <td>-0.474115</td>\n",
       "      <td>0.925666</td>\n",
       "      <td>0.061652</td>\n",
       "      <td>0</td>\n",
       "      <td>54594.738281</td>\n",
       "      <td>1.000000</td>\n",
       "      <td>...</td>\n",
       "      <td>1</td>\n",
       "      <td>0.0</td>\n",
       "      <td>0.637930</td>\n",
       "      <td>13.880848</td>\n",
       "      <td>0.147745</td>\n",
       "      <td>12295.371094</td>\n",
       "      <td>-0.381186</td>\n",
       "      <td>0.029572</td>\n",
       "      <td>1.000000</td>\n",
       "      <td>20.195753</td>\n",
       "    </tr>\n",
       "    <tr>\n",
       "      <th>13514</th>\n",
       "      <td>0.325892</td>\n",
       "      <td>938.920837</td>\n",
       "      <td>1512.070557</td>\n",
       "      <td>2217.499268</td>\n",
       "      <td>-0.184998</td>\n",
       "      <td>0.725321</td>\n",
       "      <td>0.076166</td>\n",
       "      <td>7</td>\n",
       "      <td>24461.876953</td>\n",
       "      <td>0.999244</td>\n",
       "      <td>...</td>\n",
       "      <td>14</td>\n",
       "      <td>1.0</td>\n",
       "      <td>0.198671</td>\n",
       "      <td>6.079802</td>\n",
       "      <td>0.512594</td>\n",
       "      <td>15100.987305</td>\n",
       "      <td>-0.186370</td>\n",
       "      <td>0.053086</td>\n",
       "      <td>0.870990</td>\n",
       "      <td>5.118261</td>\n",
       "    </tr>\n",
       "    <tr>\n",
       "      <th>35888</th>\n",
       "      <td>0.068194</td>\n",
       "      <td>1038.367065</td>\n",
       "      <td>1158.365601</td>\n",
       "      <td>3002.109131</td>\n",
       "      <td>-0.115879</td>\n",
       "      <td>1.477460</td>\n",
       "      <td>0.103214</td>\n",
       "      <td>18</td>\n",
       "      <td>12760.266602</td>\n",
       "      <td>0.999998</td>\n",
       "      <td>...</td>\n",
       "      <td>3</td>\n",
       "      <td>1.0</td>\n",
       "      <td>0.260135</td>\n",
       "      <td>10.005714</td>\n",
       "      <td>0.269683</td>\n",
       "      <td>14818.006836</td>\n",
       "      <td>-0.115879</td>\n",
       "      <td>0.005608</td>\n",
       "      <td>0.328890</td>\n",
       "      <td>10.196308</td>\n",
       "    </tr>\n",
       "    <tr>\n",
       "      <th>18577</th>\n",
       "      <td>0.214203</td>\n",
       "      <td>814.597595</td>\n",
       "      <td>2054.098633</td>\n",
       "      <td>3172.664795</td>\n",
       "      <td>-0.115127</td>\n",
       "      <td>0.701390</td>\n",
       "      <td>0.524105</td>\n",
       "      <td>6</td>\n",
       "      <td>57057.406250</td>\n",
       "      <td>0.999973</td>\n",
       "      <td>...</td>\n",
       "      <td>1</td>\n",
       "      <td>1.0</td>\n",
       "      <td>0.158249</td>\n",
       "      <td>3.880044</td>\n",
       "      <td>0.924499</td>\n",
       "      <td>30549.642578</td>\n",
       "      <td>-0.115879</td>\n",
       "      <td>0.192668</td>\n",
       "      <td>0.653669</td>\n",
       "      <td>19.234514</td>\n",
       "    </tr>\n",
       "    <tr>\n",
       "      <th>52205</th>\n",
       "      <td>0.392850</td>\n",
       "      <td>546.972168</td>\n",
       "      <td>1355.313721</td>\n",
       "      <td>4432.305176</td>\n",
       "      <td>-0.397122</td>\n",
       "      <td>0.918642</td>\n",
       "      <td>0.465704</td>\n",
       "      <td>0</td>\n",
       "      <td>42211.164062</td>\n",
       "      <td>0.999988</td>\n",
       "      <td>...</td>\n",
       "      <td>0</td>\n",
       "      <td>0.0</td>\n",
       "      <td>1.343604</td>\n",
       "      <td>29.480017</td>\n",
       "      <td>0.336364</td>\n",
       "      <td>14192.293945</td>\n",
       "      <td>-0.343551</td>\n",
       "      <td>0.160036</td>\n",
       "      <td>0.685570</td>\n",
       "      <td>74.620522</td>\n",
       "    </tr>\n",
       "  </tbody>\n",
       "</table>\n",
       "<p>5 rows × 46 columns</p>\n",
       "</div>"
      ],
      "text/plain": [
       "        IP_p1p2        p0_pt        p1_pt            pt  p2_IsoBDT  \\\n",
       "56520  0.062145   778.343079  3227.088623  10099.736328  -0.474115   \n",
       "13514  0.325892   938.920837  1512.070557   2217.499268  -0.184998   \n",
       "35888  0.068194  1038.367065  1158.365601   3002.109131  -0.115879   \n",
       "18577  0.214203   814.597595  2054.098633   3172.664795  -0.115127   \n",
       "52205  0.392850   546.972168  1355.313721   4432.305176  -0.397122   \n",
       "\n",
       "       p2_track_Chi2Dof   IP_p0p2  isolationb          p1_p      dira  ...  \\\n",
       "56520          0.925666  0.061652           0  54594.738281  1.000000  ...   \n",
       "13514          0.725321  0.076166           7  24461.876953  0.999244  ...   \n",
       "35888          1.477460  0.103214          18  12760.266602  0.999998  ...   \n",
       "18577          0.701390  0.524105           6  57057.406250  0.999973  ...   \n",
       "52205          0.918642  0.465704           0  42211.164062  0.999988  ...   \n",
       "\n",
       "       isolationc  isolationd     p0_IP   p0_IPSig     p2_IP          p0_p  \\\n",
       "56520           1         0.0  0.637930  13.880848  0.147745  12295.371094   \n",
       "13514          14         1.0  0.198671   6.079802  0.512594  15100.987305   \n",
       "35888           3         1.0  0.260135  10.005714  0.269683  14818.006836   \n",
       "18577           1         1.0  0.158249   3.880044  0.924499  30549.642578   \n",
       "52205           0         0.0  1.343604  29.480017  0.336364  14192.293945   \n",
       "\n",
       "       p1_IsoBDT  DOCAthree      CDF2  FlightDistance  \n",
       "56520  -0.381186   0.029572  1.000000       20.195753  \n",
       "13514  -0.186370   0.053086  0.870990        5.118261  \n",
       "35888  -0.115879   0.005608  0.328890       10.196308  \n",
       "18577  -0.115879   0.192668  0.653669       19.234514  \n",
       "52205  -0.343551   0.160036  0.685570       74.620522  \n",
       "\n",
       "[5 rows x 46 columns]"
      ]
     },
     "execution_count": 24,
     "metadata": {},
     "output_type": "execute_result"
    }
   ],
   "source": [
    "train[variables][:5]"
   ]
  },
  {
   "cell_type": "markdown",
   "metadata": {},
   "source": [
    "### 2. Performace on Simulated Data (MC) vs Read Data"
   ]
  },
  {
   "cell_type": "code",
   "execution_count": 25,
   "metadata": {},
   "outputs": [],
   "source": [
    "df_agreement = pd.read_csv('Data/check_agreement.csv.gz')"
   ]
  },
  {
   "cell_type": "code",
   "execution_count": 26,
   "metadata": {},
   "outputs": [
    {
     "data": {
      "text/plain": [
       "Index(['id', 'LifeTime', 'dira', 'FlightDistance', 'FlightDistanceError', 'IP',\n",
       "       'IPSig', 'VertexChi2', 'pt', 'DOCAone', 'DOCAtwo', 'DOCAthree',\n",
       "       'IP_p0p2', 'IP_p1p2', 'isolationa', 'isolationb', 'isolationc',\n",
       "       'isolationd', 'isolatione', 'isolationf', 'iso', 'CDF1', 'CDF2', 'CDF3',\n",
       "       'ISO_SumBDT', 'p0_IsoBDT', 'p1_IsoBDT', 'p2_IsoBDT', 'p0_track_Chi2Dof',\n",
       "       'p1_track_Chi2Dof', 'p2_track_Chi2Dof', 'p0_IP', 'p1_IP', 'p2_IP',\n",
       "       'p0_IPSig', 'p1_IPSig', 'p2_IPSig', 'p0_pt', 'p1_pt', 'p2_pt', 'p0_p',\n",
       "       'p1_p', 'p2_p', 'p0_eta', 'p1_eta', 'p2_eta', 'SPDhits', 'signal',\n",
       "       'weight'],\n",
       "      dtype='object')"
      ]
     },
     "execution_count": 26,
     "metadata": {},
     "output_type": "execute_result"
    }
   ],
   "source": [
    "df_agreement.columns"
   ]
  },
  {
   "cell_type": "code",
   "execution_count": 27,
   "metadata": {},
   "outputs": [
    {
     "data": {
      "text/html": [
       "<div>\n",
       "<style scoped>\n",
       "    .dataframe tbody tr th:only-of-type {\n",
       "        vertical-align: middle;\n",
       "    }\n",
       "\n",
       "    .dataframe tbody tr th {\n",
       "        vertical-align: top;\n",
       "    }\n",
       "\n",
       "    .dataframe thead th {\n",
       "        text-align: right;\n",
       "    }\n",
       "</style>\n",
       "<table border=\"1\" class=\"dataframe\">\n",
       "  <thead>\n",
       "    <tr style=\"text-align: right;\">\n",
       "      <th></th>\n",
       "      <th>IP_p1p2</th>\n",
       "      <th>p0_pt</th>\n",
       "      <th>p1_pt</th>\n",
       "      <th>pt</th>\n",
       "      <th>p2_IsoBDT</th>\n",
       "      <th>p2_track_Chi2Dof</th>\n",
       "      <th>IP_p0p2</th>\n",
       "      <th>isolationb</th>\n",
       "      <th>p1_p</th>\n",
       "      <th>dira</th>\n",
       "      <th>...</th>\n",
       "      <th>isolationc</th>\n",
       "      <th>isolationd</th>\n",
       "      <th>p0_IP</th>\n",
       "      <th>p0_IPSig</th>\n",
       "      <th>p2_IP</th>\n",
       "      <th>p0_p</th>\n",
       "      <th>p1_IsoBDT</th>\n",
       "      <th>DOCAthree</th>\n",
       "      <th>CDF2</th>\n",
       "      <th>FlightDistance</th>\n",
       "    </tr>\n",
       "  </thead>\n",
       "  <tbody>\n",
       "    <tr>\n",
       "      <th>0</th>\n",
       "      <td>0.214719</td>\n",
       "      <td>1438.064697</td>\n",
       "      <td>468.645721</td>\n",
       "      <td>2251.611816</td>\n",
       "      <td>-0.098372</td>\n",
       "      <td>1.487057</td>\n",
       "      <td>0.185107</td>\n",
       "      <td>6</td>\n",
       "      <td>6380.673828</td>\n",
       "      <td>0.999964</td>\n",
       "      <td>...</td>\n",
       "      <td>1</td>\n",
       "      <td>2.0</td>\n",
       "      <td>0.483199</td>\n",
       "      <td>24.701061</td>\n",
       "      <td>0.426797</td>\n",
       "      <td>10392.814453</td>\n",
       "      <td>-0.089797</td>\n",
       "      <td>0.066887</td>\n",
       "      <td>0.492269</td>\n",
       "      <td>6.945030</td>\n",
       "    </tr>\n",
       "    <tr>\n",
       "      <th>1</th>\n",
       "      <td>0.217507</td>\n",
       "      <td>316.791351</td>\n",
       "      <td>7547.703613</td>\n",
       "      <td>10594.470703</td>\n",
       "      <td>-0.194944</td>\n",
       "      <td>1.336784</td>\n",
       "      <td>0.039357</td>\n",
       "      <td>6</td>\n",
       "      <td>64480.023438</td>\n",
       "      <td>0.999818</td>\n",
       "      <td>...</td>\n",
       "      <td>17</td>\n",
       "      <td>1.0</td>\n",
       "      <td>0.712242</td>\n",
       "      <td>11.312134</td>\n",
       "      <td>0.123877</td>\n",
       "      <td>3174.356934</td>\n",
       "      <td>-0.186370</td>\n",
       "      <td>0.001321</td>\n",
       "      <td>0.605835</td>\n",
       "      <td>9.468235</td>\n",
       "    </tr>\n",
       "    <tr>\n",
       "      <th>2</th>\n",
       "      <td>0.885080</td>\n",
       "      <td>1887.477905</td>\n",
       "      <td>317.579529</td>\n",
       "      <td>2502.196289</td>\n",
       "      <td>-0.152291</td>\n",
       "      <td>0.798658</td>\n",
       "      <td>0.335788</td>\n",
       "      <td>2</td>\n",
       "      <td>3921.181641</td>\n",
       "      <td>0.999847</td>\n",
       "      <td>...</td>\n",
       "      <td>1</td>\n",
       "      <td>0.0</td>\n",
       "      <td>0.381544</td>\n",
       "      <td>16.435801</td>\n",
       "      <td>1.290409</td>\n",
       "      <td>15219.761719</td>\n",
       "      <td>-0.131069</td>\n",
       "      <td>0.005850</td>\n",
       "      <td>0.682607</td>\n",
       "      <td>13.280714</td>\n",
       "    </tr>\n",
       "    <tr>\n",
       "      <th>3</th>\n",
       "      <td>0.068347</td>\n",
       "      <td>975.041687</td>\n",
       "      <td>1650.837524</td>\n",
       "      <td>5097.813965</td>\n",
       "      <td>-0.434991</td>\n",
       "      <td>0.938619</td>\n",
       "      <td>0.076522</td>\n",
       "      <td>4</td>\n",
       "      <td>13221.149414</td>\n",
       "      <td>0.999998</td>\n",
       "      <td>...</td>\n",
       "      <td>3</td>\n",
       "      <td>0.0</td>\n",
       "      <td>0.564650</td>\n",
       "      <td>24.878387</td>\n",
       "      <td>0.166646</td>\n",
       "      <td>4365.082520</td>\n",
       "      <td>-0.177802</td>\n",
       "      <td>0.003864</td>\n",
       "      <td>0.533615</td>\n",
       "      <td>5.166821</td>\n",
       "    </tr>\n",
       "    <tr>\n",
       "      <th>4</th>\n",
       "      <td>0.139937</td>\n",
       "      <td>6035.000977</td>\n",
       "      <td>9657.492188</td>\n",
       "      <td>20388.097656</td>\n",
       "      <td>-0.344313</td>\n",
       "      <td>1.123868</td>\n",
       "      <td>0.249906</td>\n",
       "      <td>1</td>\n",
       "      <td>46903.394531</td>\n",
       "      <td>0.999896</td>\n",
       "      <td>...</td>\n",
       "      <td>0</td>\n",
       "      <td>0.0</td>\n",
       "      <td>0.373736</td>\n",
       "      <td>28.557213</td>\n",
       "      <td>0.112430</td>\n",
       "      <td>27463.011719</td>\n",
       "      <td>-0.443564</td>\n",
       "      <td>0.014612</td>\n",
       "      <td>0.926410</td>\n",
       "      <td>10.897236</td>\n",
       "    </tr>\n",
       "  </tbody>\n",
       "</table>\n",
       "<p>5 rows × 46 columns</p>\n",
       "</div>"
      ],
      "text/plain": [
       "    IP_p1p2        p0_pt        p1_pt            pt  p2_IsoBDT  \\\n",
       "0  0.214719  1438.064697   468.645721   2251.611816  -0.098372   \n",
       "1  0.217507   316.791351  7547.703613  10594.470703  -0.194944   \n",
       "2  0.885080  1887.477905   317.579529   2502.196289  -0.152291   \n",
       "3  0.068347   975.041687  1650.837524   5097.813965  -0.434991   \n",
       "4  0.139937  6035.000977  9657.492188  20388.097656  -0.344313   \n",
       "\n",
       "   p2_track_Chi2Dof   IP_p0p2  isolationb          p1_p      dira  ...  \\\n",
       "0          1.487057  0.185107           6   6380.673828  0.999964  ...   \n",
       "1          1.336784  0.039357           6  64480.023438  0.999818  ...   \n",
       "2          0.798658  0.335788           2   3921.181641  0.999847  ...   \n",
       "3          0.938619  0.076522           4  13221.149414  0.999998  ...   \n",
       "4          1.123868  0.249906           1  46903.394531  0.999896  ...   \n",
       "\n",
       "   isolationc  isolationd     p0_IP   p0_IPSig     p2_IP          p0_p  \\\n",
       "0           1         2.0  0.483199  24.701061  0.426797  10392.814453   \n",
       "1          17         1.0  0.712242  11.312134  0.123877   3174.356934   \n",
       "2           1         0.0  0.381544  16.435801  1.290409  15219.761719   \n",
       "3           3         0.0  0.564650  24.878387  0.166646   4365.082520   \n",
       "4           0         0.0  0.373736  28.557213  0.112430  27463.011719   \n",
       "\n",
       "   p1_IsoBDT  DOCAthree      CDF2  FlightDistance  \n",
       "0  -0.089797   0.066887  0.492269        6.945030  \n",
       "1  -0.186370   0.001321  0.605835        9.468235  \n",
       "2  -0.131069   0.005850  0.682607       13.280714  \n",
       "3  -0.177802   0.003864  0.533615        5.166821  \n",
       "4  -0.443564   0.014612  0.926410       10.897236  \n",
       "\n",
       "[5 rows x 46 columns]"
      ]
     },
     "execution_count": 27,
     "metadata": {},
     "output_type": "execute_result"
    }
   ],
   "source": [
    "df_agreement[variables].head()"
   ]
  },
  {
   "cell_type": "code",
   "execution_count": 28,
   "metadata": {},
   "outputs": [],
   "source": [
    "def splitted_ROC_curve(data_zero, data_one, sample_weights_zero, sample_weights_one):\n",
    "    \"\"\"\n",
    "    Compute Roc Curve\n",
    "    \n",
    "    Input:\n",
    "    - Data_zero: 0-labeled data\n",
    "    - Data_one:  1-labeled data\n",
    "    - Sample_weights_zero: weights for 0-labeled data\n",
    "    - Sample_weights_one:  weights for 1-labeled data\n",
    "    \n",
    "    Output: \n",
    "    - roc curve\n",
    "    \"\"\"\n",
    "    \n",
    "    labels = [0] * len(data_zero) + [1] * len(data_one)\n",
    "    weights = np.concatenate([sample_weights_zero, sample_weights_one])\n",
    "    data_all = np.concatenate([data_zero, data_one])\n",
    "    fpr, tpr, _ = roc_curve(labels, data_all, sample_weight=weights)\n",
    "    return fpr, tpr"
   ]
  },
  {
   "cell_type": "code",
   "execution_count": 29,
   "metadata": {},
   "outputs": [],
   "source": [
    "def compute_ks(data_prediction, mc_prediction, weights_data, weights_mc):\n",
    "    \"\"\"\n",
    "    Compute Kolmogorov-Smirnov (ks) distance between real data predictions cdf and Monte Carlo one.\n",
    "    Input:\n",
    "    - data_prediction: Real data predictions\n",
    "    - mc_prediction: Monte Carlo data predictions\n",
    "    - weights_data: Real data weights\n",
    "    - weights_mc: Monte Carlo weights\n",
    "    \n",
    "    Output\n",
    "    - ks value\n",
    "    \"\"\"\n",
    "    assert len(data_prediction) == len(weights_data), 'Data length and weight one must be the same'\n",
    "    assert len(mc_prediction) == len(weights_mc), 'Data length and weight one must be the same'\n",
    "\n",
    "    data_prediction, mc_prediction = np.array(data_prediction), np.array(mc_prediction)\n",
    "    weights_data, weights_mc = np.array(weights_data), np.array(weights_mc)\n",
    "\n",
    "    assert np.all(data_prediction >= 0.) and np.all(data_prediction <= 1.), 'Data predictions are out of range [0, 1]'\n",
    "    assert np.all(mc_prediction >= 0.) and np.all(mc_prediction <= 1.), 'MC predictions are out of range [0, 1]'\n",
    "\n",
    "    weights_data /= np.sum(weights_data)\n",
    "    weights_mc /= np.sum(weights_mc)\n",
    "\n",
    "    fpr, tpr = splitted_ROC_curve(data_prediction, mc_prediction, weights_data, weights_mc)\n",
    "\n",
    "    Dnm = np.max(np.abs(fpr - tpr))\n",
    "    return Dnm"
   ]
  },
  {
   "cell_type": "code",
   "execution_count": 30,
   "metadata": {},
   "outputs": [
    {
     "name": "stdout",
     "output_type": "stream",
     "text": [
      "KS metric: 0.15680667277623306\n",
      "KS Metric value is Fine: False\n"
     ]
    }
   ],
   "source": [
    "agreement_probs = clf.predict_proba(obj_SC.transform(df_agreement[variables]))[:, 1]\n",
    "\n",
    "ks = compute_ks(\n",
    "                agreement_probs[df_agreement['signal'].values == 0],\n",
    "                agreement_probs[df_agreement['signal'].values == 1],\n",
    "                df_agreement[df_agreement['signal'] == 0]['weight'].values,\n",
    "                df_agreement[df_agreement['signal'] == 1]['weight'].values)\n",
    "\n",
    "print ('KS metric:', ks)\n",
    "print(\"KS Metric value is Fine:\", ks < 0.09)"
   ]
  },
  {
   "cell_type": "code",
   "execution_count": 31,
   "metadata": {},
   "outputs": [],
   "source": [
    "def plot_ks(X_agreement, y_pred):\n",
    "    sig_ind = X_agreement[X_agreement['signal'] == 1].index\n",
    "    bck_ind = X_agreement[X_agreement['signal'] == 0].index\n",
    "\n",
    "    mc_prob = y_pred[sig_ind]\n",
    "    mc_weight = np.array(X_agreement.loc[sig_ind]['weight'])\n",
    "    \n",
    "    data_prob = y_pred[bck_ind]\n",
    "    data_weight = np.array(X_agreement.loc[bck_ind]['weight'])\n",
    "    \n",
    "    inds = data_weight < 0\n",
    "    mc_weight = np.array(list(mc_weight) + list(-data_weight[inds]))\n",
    "    mc_prob = np.array(list(mc_prob) + list(data_prob[inds]))\n",
    "    \n",
    "    data_prob = data_prob[data_weight >= 0]\n",
    "    data_weight = data_weight[data_weight >= 0]\n",
    "    \n",
    "    plt.hist(data_prob, weights=data_weight, color='r', histtype='step', density=True, bins=60, label='Data')\n",
    "    plt.hist(mc_prob, weights=mc_weight, color='b', histtype='step', density=True, bins=60, label='MC')\n",
    "    \n",
    "    plt.xlabel(\"Prediction\")\n",
    "    plt.legend()\n",
    "    plt.show()"
   ]
  },
  {
   "cell_type": "code",
   "execution_count": 32,
   "metadata": {},
   "outputs": [
    {
     "data": {
      "image/png": "[encoded data removed]",
      "text/plain": [
       "<Figure size 576x360 with 1 Axes>"
      ]
     },
     "metadata": {},
     "output_type": "display_data"
    }
   ],
   "source": [
    "plt.rcParams[\"figure.figsize\"] = 8, 5\n",
    "\n",
    "plot_ks(df_agreement, agreement_probs)"
   ]
  },
  {
   "cell_type": "markdown",
   "metadata": {},
   "source": [
    "We can clearly see that that there is no agreemen between the simualted data and the real data."
   ]
  },
  {
   "cell_type": "markdown",
   "metadata": {},
   "source": [
    "## Solution 1: Add Random Noise\n",
    "\n",
    "To increase the agreement between the real data and simualted data, we can add random noise in predicted probabilities."
   ]
  },
  {
   "cell_type": "code",
   "execution_count": 33,
   "metadata": {},
   "outputs": [],
   "source": [
    "def add_noise(array, level=0.40, random_seed=34, noise=\"uniform\"):\n",
    "    np.random.seed(random_seed)\n",
    "    if noise == \"uniform\":\n",
    "        return level * np.random.uniform(size=array.size) + (1 - level) * array\n",
    "    elif noise == \"gaussian\":\n",
    "        return level * np.random.normal(size=array.size) + (1 - level) * array\n",
    "    elif noise == \"laplacian\":\n",
    "        return level * np.random.laplace(size=array.size) + (1 - level) * array\n",
    "    elif noise == \"laplacian\":  \n",
    "        return level * np.random.standard_t(df=1, size=array.size) + (1 - level) * array"
   ]
  },
  {
   "cell_type": "code",
   "execution_count": 34,
   "metadata": {},
   "outputs": [],
   "source": [
    "agreement_probs_noise = add_noise(clf.predict_proba(df_agreement[variables])[:, 1])"
   ]
  },
  {
   "cell_type": "code",
   "execution_count": 35,
   "metadata": {},
   "outputs": [
    {
     "name": "stdout",
     "output_type": "stream",
     "text": [
      "KS metric: 0.014359378165020031\n",
      "KS Metric value is Fine: True\n"
     ]
    }
   ],
   "source": [
    "ks_noise = compute_ks(\n",
    "                        agreement_probs_noise[df_agreement['signal'].values == 0],\n",
    "                        agreement_probs_noise[df_agreement['signal'].values == 1],\n",
    "                        df_agreement[df_agreement['signal'] == 0]['weight'].values,\n",
    "                        df_agreement[df_agreement['signal'] == 1]['weight'].values)\n",
    "\n",
    "print ('KS metric:', ks_noise)\n",
    "print(\"KS Metric value is Fine:\", ks_noise < 0.09)"
   ]
  },
  {
   "cell_type": "code",
   "execution_count": 36,
   "metadata": {},
   "outputs": [
    {
     "data": {
      "image/png": "[encoded data removed]",
      "text/plain": [
       "<Figure size 576x360 with 1 Axes>"
      ]
     },
     "metadata": {},
     "output_type": "display_data"
    }
   ],
   "source": [
    "plt.rcParams[\"figure.figsize\"] = 8, 5\n",
    "\n",
    "plot_ks(df_agreement, agreement_probs_noise)"
   ]
  },
  {
   "cell_type": "markdown",
   "metadata": {},
   "source": [
    "### Effect on ROC"
   ]
  },
  {
   "cell_type": "code",
   "execution_count": 37,
   "metadata": {},
   "outputs": [
    {
     "data": {
      "image/png": "[encoded data removed]",
      "text/plain": [
       "<Figure size 432x432 with 1 Axes>"
      ]
     },
     "metadata": {},
     "output_type": "display_data"
    }
   ],
   "source": [
    "plt.rcParams[\"figure.figsize\"] = 6, 6\n",
    "\n",
    "y_pred = add_noise(clf.predict_proba(obj_SC.transform(valid[variables]))[:, 1])\n",
    "\n",
    "assert valid.shape[0] == y_pred.shape[0]\n",
    "\n",
    "plot_metrics(valid['signal'], y_pred)"
   ]
  },
  {
   "cell_type": "markdown",
   "metadata": {},
   "source": [
    "We have lost the accuracy of the model by adding noise."
   ]
  },
  {
   "cell_type": "markdown",
   "metadata": {},
   "source": [
    "# Gradient Boosted Trees with PCA"
   ]
  },
  {
   "cell_type": "markdown",
   "metadata": {},
   "source": [
    "This approch could help. There is strong correaltion between some covariates and signal varaiable. Principle compionet Analysis helps uncorrelate data."
   ]
  },
  {
   "cell_type": "code",
   "execution_count": 38,
   "metadata": {},
   "outputs": [
    {
     "data": {
      "image/png": "[encoded data removed]",
      "text/plain": [
       "<Figure size 1152x432 with 1 Axes>"
      ]
     },
     "metadata": {},
     "output_type": "display_data"
    }
   ],
   "source": [
    "plt.rcParams[\"figure.figsize\"] = 16, 6\n",
    "\n",
    "plt.bar(train_df.columns, train_df.corr()[\"signal\"])\n",
    "plt.xticks(rotation='vertical')\n",
    "plt.show()"
   ]
  },
  {
   "cell_type": "code",
   "execution_count": 39,
   "metadata": {},
   "outputs": [
    {
     "name": "stdout",
     "output_type": "stream",
     "text": [
      "Explained Variance Ratio:  0.9999999989738714\n"
     ]
    },
    {
     "data": {
      "image/png": "[encoded data removed]",
      "text/plain": [
       "<Figure size 432x288 with 1 Axes>"
      ]
     },
     "metadata": {},
     "output_type": "display_data"
    }
   ],
   "source": [
    "# A PCA model is fitted here just for the visulaization. This will not be used.\n",
    "\n",
    "plt.rcParams[\"figure.figsize\"] = 6, 4\n",
    "\n",
    "\n",
    "obj_PCA = PCA(n_components=7, random_state=13)\n",
    "obj_PCA.fit(train_df)\n",
    "\n",
    "print(\"Explained Variance Ratio: \", obj_PCA.explained_variance_ratio_.sum())\n",
    "\n",
    "temp = pd.DataFrame(obj_PCA.transform(train_df))\n",
    "temp[\"signal\"] = train_df[\"signal\"]\n",
    "\n",
    "plt.bar([str(x) for x in temp.columns], temp.corr()[\"signal\"])\n",
    "plt.xticks(rotation='vertical')\n",
    "plt.show()\n",
    "\n",
    "del obj_PCA, temp"
   ]
  },
  {
   "cell_type": "markdown",
   "metadata": {},
   "source": [
    "We can see here that the correaltion is dropped very much as compared to previous plot. The column names are changes because data is decomposed into the priniple componenet vectors which are projects of components of data in different dimesnions which are mutually normal to each other."
   ]
  },
  {
   "cell_type": "code",
   "execution_count": 40,
   "metadata": {},
   "outputs": [
    {
     "name": "stdout",
     "output_type": "stream",
     "text": [
      "Explained Variance Ratio:  0.9961446579442471\n"
     ]
    }
   ],
   "source": [
    "obj_PCA = PCA(n_components=40, random_state=13)\n",
    "obj_PCA.fit(obj_SC.transform(train[variables]))\n",
    "\n",
    "print(\"Explained Variance Ratio: \", obj_PCA.explained_variance_ratio_.sum())"
   ]
  },
  {
   "cell_type": "code",
   "execution_count": 41,
   "metadata": {},
   "outputs": [
    {
     "name": "stdout",
     "output_type": "stream",
     "text": [
      "Wall time: 30.7 s\n"
     ]
    },
    {
     "data": {
      "text/plain": [
       "AdaBoostClassifier(algorithm='SAMME.R',\n",
       "          base_estimator=DecisionTreeClassifier(class_weight=None, criterion='gini', max_depth=6,\n",
       "            max_features=6, max_leaf_nodes=None, min_impurity_decrease=0.0,\n",
       "            min_impurity_split=None, min_samples_leaf=30,\n",
       "            min_samples_split=2, min_weight_fraction_leaf=0.0,\n",
       "            presort=False, random_state=13, splitter='best'),\n",
       "          learning_rate=0.01, n_estimators=100, random_state=13)"
      ]
     },
     "execution_count": 41,
     "metadata": {},
     "output_type": "execute_result"
    }
   ],
   "source": [
    "%%time\n",
    "\n",
    "clf_1 = AdaBoostClassifier(n_estimators=100, \n",
    "                         learning_rate=0.01, \n",
    "                         random_state=13,\n",
    "                         base_estimator=DecisionTreeClassifier(max_depth=6, \n",
    "                                                               min_samples_leaf=30, \n",
    "                                                               max_features=6,\n",
    "                                                               random_state=13))\n",
    "\n",
    "clf_1.fit(obj_PCA.transform(obj_SC.transform(train[variables])), train['signal'])"
   ]
  },
  {
   "cell_type": "code",
   "execution_count": 42,
   "metadata": {},
   "outputs": [],
   "source": [
    "agreement_probs_pca = clf_1.predict_proba(obj_PCA.transform(obj_SC.transform(df_agreement[variables])))[:, 1]"
   ]
  },
  {
   "cell_type": "code",
   "execution_count": 43,
   "metadata": {},
   "outputs": [
    {
     "name": "stdout",
     "output_type": "stream",
     "text": [
      "KS metric: 0.09637934904176032\n",
      "KS Metric value is Fine: False\n"
     ]
    }
   ],
   "source": [
    "ks_noise = compute_ks(\n",
    "                        agreement_probs_pca[df_agreement['signal'].values == 0],\n",
    "                        agreement_probs_pca[df_agreement['signal'].values == 1],\n",
    "                        df_agreement[df_agreement['signal'] == 0]['weight'].values,\n",
    "                        df_agreement[df_agreement['signal'] == 1]['weight'].values)\n",
    "\n",
    "print ('KS metric:', ks_noise)\n",
    "print(\"KS Metric value is Fine:\", ks_noise < 0.09)"
   ]
  },
  {
   "cell_type": "code",
   "execution_count": 44,
   "metadata": {},
   "outputs": [
    {
     "data": {
      "image/png": "[encoded data removed]",
      "text/plain": [
       "<Figure size 576x360 with 1 Axes>"
      ]
     },
     "metadata": {},
     "output_type": "display_data"
    }
   ],
   "source": [
    "plt.rcParams[\"figure.figsize\"] = 8, 5\n",
    "\n",
    "plot_ks(df_agreement, agreement_probs_pca)"
   ]
  },
  {
   "cell_type": "markdown",
   "metadata": {},
   "source": [
    "The agreemnt between the simualted data and the real data improved as compared to the baseline model."
   ]
  },
  {
   "cell_type": "markdown",
   "metadata": {},
   "source": [
    "### Effect on ROC"
   ]
  },
  {
   "cell_type": "code",
   "execution_count": 45,
   "metadata": {},
   "outputs": [
    {
     "data": {
      "image/png": "[encoded data removed]",
      "text/plain": [
       "<Figure size 432x432 with 1 Axes>"
      ]
     },
     "metadata": {},
     "output_type": "display_data"
    }
   ],
   "source": [
    "plt.rcParams[\"figure.figsize\"] = 6, 6\n",
    "\n",
    "y_pred = clf_1.predict_proba(obj_PCA.transform(obj_SC.transform(valid[variables])))[:, 1]\n",
    "\n",
    "assert valid.shape[0] == y_pred.shape[0]\n",
    "\n",
    "plot_metrics(valid['signal'], y_pred)"
   ]
  },
  {
   "cell_type": "markdown",
   "metadata": {},
   "source": [
    "Also I am able to retain the AUC metric wuth decrese from 92.xxxx to 90.xxxx"
   ]
  },
  {
   "cell_type": "markdown",
   "metadata": {},
   "source": [
    "# Neural Networks with Mass Reconstruction"
   ]
  },
  {
   "cell_type": "code",
   "execution_count": 107,
   "metadata": {},
   "outputs": [],
   "source": [
    "from keras.layers import Input, Dense\n",
    "from keras.models import Model, Sequential\n",
    "from keras.utils.vis_utils import plot_model"
   ]
  },
  {
   "cell_type": "code",
   "execution_count": 108,
   "metadata": {},
   "outputs": [],
   "source": [
    "from keras import backend as K\n",
    "\n",
    "def r_sqaured_error(y_true, y_pred):\n",
    "    SS_res =  K.sum(K.square( y_true-y_pred ))\n",
    "    SS_tot = K.sum(K.square( y_true - K.mean(y_true) ) )\n",
    "    return ( 1 - SS_res/(SS_tot + K.epsilon()) )"
   ]
  },
  {
   "cell_type": "code",
   "execution_count": 284,
   "metadata": {},
   "outputs": [],
   "source": [
    "def NN(input_dim, weight=[1.0, 1.0]):\n",
    "    shared = Sequential()\n",
    "    shared.add(Dense(100, activation=\"relu\", name=\"Hidden_1\"))\n",
    "    shared.add(Dense(80, activation=\"relu\", name=\"Hidden_2\"))\n",
    "    shared.add(Dense(60, activation=\"relu\", name=\"Hidden_3\"))\n",
    "\n",
    "\n",
    "    data = Input(shape=(input_dim, ), name=\"Input_Layer\")\n",
    "    features = shared(data)\n",
    "\n",
    "    signal = Dense(1, activation='sigmoid', name='Signal', kernel_initializer=\"glorot_normal\")(features)\n",
    "    mass   = Dense(1, activation='linear', name='Mass', kernel_initializer=\"glorot_normal\")(features)\n",
    "\n",
    "    model =  Model(inputs=[data], outputs=[signal, mass])\n",
    "    model.compile(optimizer = 'Adam', \n",
    "                  loss = ['binary_crossentropy', \"mean_squared_error\"],\n",
    "                  loss_weights = weight)\n",
    "    \n",
    "    return model"
   ]
  },
  {
   "cell_type": "code",
   "execution_count": 302,
   "metadata": {},
   "outputs": [],
   "source": [
    "model = NN(len(variables), weight=[1, .75])\n",
    "#plot_model(model, to_file='model_plot.png', show_shapes=True, show_layer_names=True)"
   ]
  },
  {
   "cell_type": "code",
   "execution_count": 303,
   "metadata": {},
   "outputs": [
    {
     "data": {
      "text/plain": [
       "StandardScaler(copy=True, with_mean=True, with_std=True)"
      ]
     },
     "execution_count": 303,
     "metadata": {},
     "output_type": "execute_result"
    }
   ],
   "source": [
    "obj_SC_mass = StandardScaler()\n",
    "obj_SC_mass.fit(train[\"mass\"].values.reshape(-1, 1))"
   ]
  },
  {
   "cell_type": "code",
   "execution_count": 304,
   "metadata": {
    "scrolled": true
   },
   "outputs": [
    {
     "name": "stdout",
     "output_type": "stream",
     "text": [
      "Train on 42558 samples, validate on 4729 samples\n",
      "Epoch 1/100\n",
      "42558/42558 [==============================] - 1s 33us/step - loss: 1.3576 - Signal_loss: 0.5928 - Mass_loss: 1.0198 - val_loss: 1.2335 - val_Signal_loss: 0.4860 - val_Mass_loss: 0.9967\n",
      "Epoch 2/100\n",
      "42558/42558 [==============================] - 0s 6us/step - loss: 1.1969 - Signal_loss: 0.4421 - Mass_loss: 1.0065 - val_loss: 1.1382 - val_Signal_loss: 0.3939 - val_Mass_loss: 0.9924\n",
      "Epoch 3/100\n",
      "42558/42558 [==============================] - 0s 6us/step - loss: 1.1287 - Signal_loss: 0.3793 - Mass_loss: 0.9992 - val_loss: 1.1044 - val_Signal_loss: 0.3610 - val_Mass_loss: 0.9912\n",
      "Epoch 4/100\n",
      "42558/42558 [==============================] - 0s 6us/step - loss: 1.0955 - Signal_loss: 0.3507 - Mass_loss: 0.9930 - val_loss: 1.0823 - val_Signal_loss: 0.3420 - val_Mass_loss: 0.9871\n",
      "Epoch 5/100\n",
      "42558/42558 [==============================] - 0s 6us/step - loss: 1.0743 - Signal_loss: 0.3335 - Mass_loss: 0.9878 - val_loss: 1.0641 - val_Signal_loss: 0.3258 - val_Mass_loss: 0.9844\n",
      "Epoch 6/100\n",
      "42558/42558 [==============================] - 0s 6us/step - loss: 1.0566 - Signal_loss: 0.3193 - Mass_loss: 0.9831 - val_loss: 1.0525 - val_Signal_loss: 0.3154 - val_Mass_loss: 0.9828\n",
      "Epoch 7/100\n",
      "42558/42558 [==============================] - 0s 6us/step - loss: 1.0426 - Signal_loss: 0.3086 - Mass_loss: 0.9786 - val_loss: 1.0428 - val_Signal_loss: 0.3063 - val_Mass_loss: 0.9820\n",
      "Epoch 8/100\n",
      "42558/42558 [==============================] - 0s 6us/step - loss: 1.0300 - Signal_loss: 0.3003 - Mass_loss: 0.9730 - val_loss: 1.0341 - val_Signal_loss: 0.2999 - val_Mass_loss: 0.9789\n",
      "Epoch 9/100\n",
      "42558/42558 [==============================] - 0s 7us/step - loss: 1.0198 - Signal_loss: 0.2932 - Mass_loss: 0.9688 - val_loss: 1.0290 - val_Signal_loss: 0.2956 - val_Mass_loss: 0.9779\n",
      "Epoch 10/100\n",
      "42558/42558 [==============================] - 0s 6us/step - loss: 1.0097 - Signal_loss: 0.2876 - Mass_loss: 0.9628 - val_loss: 1.0211 - val_Signal_loss: 0.2917 - val_Mass_loss: 0.9727\n",
      "Epoch 11/100\n",
      "42558/42558 [==============================] - 0s 7us/step - loss: 1.0012 - Signal_loss: 0.2834 - Mass_loss: 0.9571 - val_loss: 1.0157 - val_Signal_loss: 0.2883 - val_Mass_loss: 0.9699\n",
      "Epoch 12/100\n",
      "42558/42558 [==============================] - 0s 7us/step - loss: 0.9915 - Signal_loss: 0.2795 - Mass_loss: 0.9493 - val_loss: 1.0131 - val_Signal_loss: 0.2859 - val_Mass_loss: 0.9696\n",
      "Epoch 13/100\n",
      "42558/42558 [==============================] - 0s 6us/step - loss: 0.9834 - Signal_loss: 0.2764 - Mass_loss: 0.9426 - val_loss: 1.0056 - val_Signal_loss: 0.2845 - val_Mass_loss: 0.9614\n",
      "Epoch 14/100\n",
      "42558/42558 [==============================] - 0s 6us/step - loss: 0.9759 - Signal_loss: 0.2739 - Mass_loss: 0.9361 - val_loss: 1.0013 - val_Signal_loss: 0.2830 - val_Mass_loss: 0.9577\n",
      "Epoch 15/100\n",
      "42558/42558 [==============================] - 0s 6us/step - loss: 0.9673 - Signal_loss: 0.2717 - Mass_loss: 0.9274 - val_loss: 0.9951 - val_Signal_loss: 0.2810 - val_Mass_loss: 0.9522\n",
      "Epoch 16/100\n",
      "42558/42558 [==============================] - 0s 6us/step - loss: 0.9583 - Signal_loss: 0.2697 - Mass_loss: 0.9182 - val_loss: 0.9918 - val_Signal_loss: 0.2803 - val_Mass_loss: 0.9486\n",
      "Epoch 17/100\n",
      "42558/42558 [==============================] - 0s 6us/step - loss: 0.9486 - Signal_loss: 0.2681 - Mass_loss: 0.9074 - val_loss: 0.9859 - val_Signal_loss: 0.2803 - val_Mass_loss: 0.9407\n",
      "Epoch 18/100\n",
      "42558/42558 [==============================] - 0s 6us/step - loss: 0.9400 - Signal_loss: 0.2668 - Mass_loss: 0.8976 - val_loss: 0.9821 - val_Signal_loss: 0.2789 - val_Mass_loss: 0.9377\n",
      "Epoch 19/100\n",
      "42558/42558 [==============================] - 0s 7us/step - loss: 0.9317 - Signal_loss: 0.2656 - Mass_loss: 0.8881 - val_loss: 0.9827 - val_Signal_loss: 0.2790 - val_Mass_loss: 0.9383\n",
      "Epoch 20/100\n",
      "42558/42558 [==============================] - 0s 6us/step - loss: 0.9237 - Signal_loss: 0.2646 - Mass_loss: 0.8787 - val_loss: 0.9765 - val_Signal_loss: 0.2786 - val_Mass_loss: 0.9305\n",
      "Epoch 21/100\n",
      "42558/42558 [==============================] - 0s 6us/step - loss: 0.9147 - Signal_loss: 0.2640 - Mass_loss: 0.8676 - val_loss: 0.9699 - val_Signal_loss: 0.2782 - val_Mass_loss: 0.9224\n",
      "Epoch 22/100\n",
      "42558/42558 [==============================] - 0s 6us/step - loss: 0.9043 - Signal_loss: 0.2629 - Mass_loss: 0.8552 - val_loss: 0.9602 - val_Signal_loss: 0.2768 - val_Mass_loss: 0.9113\n",
      "Epoch 23/100\n",
      "42558/42558 [==============================] - 0s 7us/step - loss: 0.8941 - Signal_loss: 0.2620 - Mass_loss: 0.8428 - val_loss: 0.9570 - val_Signal_loss: 0.2771 - val_Mass_loss: 0.9065\n",
      "Epoch 24/100\n",
      "42558/42558 [==============================] - 0s 6us/step - loss: 0.8838 - Signal_loss: 0.2611 - Mass_loss: 0.8302 - val_loss: 0.9512 - val_Signal_loss: 0.2767 - val_Mass_loss: 0.8994\n",
      "Epoch 25/100\n",
      "42558/42558 [==============================] - 0s 6us/step - loss: 0.8739 - Signal_loss: 0.2606 - Mass_loss: 0.8177 - val_loss: 0.9507 - val_Signal_loss: 0.2770 - val_Mass_loss: 0.8982\n",
      "Epoch 26/100\n",
      "42558/42558 [==============================] - 0s 6us/step - loss: 0.8638 - Signal_loss: 0.2600 - Mass_loss: 0.8050 - val_loss: 0.9439 - val_Signal_loss: 0.2760 - val_Mass_loss: 0.8906\n",
      "Epoch 27/100\n",
      "42558/42558 [==============================] - 0s 7us/step - loss: 0.8529 - Signal_loss: 0.2594 - Mass_loss: 0.7914 - val_loss: 0.9382 - val_Signal_loss: 0.2757 - val_Mass_loss: 0.8834\n",
      "Epoch 28/100\n",
      "42558/42558 [==============================] - 0s 6us/step - loss: 0.8424 - Signal_loss: 0.2586 - Mass_loss: 0.7783 - val_loss: 0.9320 - val_Signal_loss: 0.2749 - val_Mass_loss: 0.8762\n",
      "Epoch 29/100\n",
      "42558/42558 [==============================] - 0s 6us/step - loss: 0.8340 - Signal_loss: 0.2584 - Mass_loss: 0.7674 - val_loss: 0.9230 - val_Signal_loss: 0.2752 - val_Mass_loss: 0.8638\n",
      "Epoch 30/100\n",
      "42558/42558 [==============================] - 0s 6us/step - loss: 0.8210 - Signal_loss: 0.2581 - Mass_loss: 0.7506 - val_loss: 0.9159 - val_Signal_loss: 0.2749 - val_Mass_loss: 0.8546\n",
      "Epoch 31/100\n",
      "42558/42558 [==============================] - 0s 6us/step - loss: 0.8114 - Signal_loss: 0.2582 - Mass_loss: 0.7377 - val_loss: 0.9207 - val_Signal_loss: 0.2741 - val_Mass_loss: 0.8622\n",
      "Epoch 32/100\n",
      "42558/42558 [==============================] - 0s 6us/step - loss: 0.8002 - Signal_loss: 0.2579 - Mass_loss: 0.7230 - val_loss: 0.9015 - val_Signal_loss: 0.2735 - val_Mass_loss: 0.8374\n",
      "Epoch 33/100\n",
      "42558/42558 [==============================] - 0s 6us/step - loss: 0.7889 - Signal_loss: 0.2570 - Mass_loss: 0.7092 - val_loss: 0.9053 - val_Signal_loss: 0.2748 - val_Mass_loss: 0.8407\n",
      "Epoch 34/100\n",
      "42558/42558 [==============================] - 0s 6us/step - loss: 0.7811 - Signal_loss: 0.2568 - Mass_loss: 0.6990 - val_loss: 0.8883 - val_Signal_loss: 0.2728 - val_Mass_loss: 0.8207\n",
      "Epoch 35/100\n",
      "42558/42558 [==============================] - 0s 6us/step - loss: 0.7688 - Signal_loss: 0.2560 - Mass_loss: 0.6838 - val_loss: 0.8861 - val_Signal_loss: 0.2731 - val_Mass_loss: 0.8174\n",
      "Epoch 36/100\n",
      "42558/42558 [==============================] - 0s 7us/step - loss: 0.7592 - Signal_loss: 0.2554 - Mass_loss: 0.6717 - val_loss: 0.8837 - val_Signal_loss: 0.2721 - val_Mass_loss: 0.8155\n",
      "Epoch 37/100\n",
      "42558/42558 [==============================] - 0s 6us/step - loss: 0.7535 - Signal_loss: 0.2553 - Mass_loss: 0.6643 - val_loss: 0.8693 - val_Signal_loss: 0.2722 - val_Mass_loss: 0.7962\n",
      "Epoch 38/100\n",
      "42558/42558 [==============================] - 0s 6us/step - loss: 0.7415 - Signal_loss: 0.2549 - Mass_loss: 0.6488 - val_loss: 0.8706 - val_Signal_loss: 0.2720 - val_Mass_loss: 0.7981\n",
      "Epoch 39/100\n",
      "42558/42558 [==============================] - 0s 6us/step - loss: 0.7396 - Signal_loss: 0.2547 - Mass_loss: 0.6465 - val_loss: 0.8617 - val_Signal_loss: 0.2713 - val_Mass_loss: 0.7871\n",
      "Epoch 40/100\n",
      "42558/42558 [==============================] - 0s 6us/step - loss: 0.7314 - Signal_loss: 0.2543 - Mass_loss: 0.6362 - val_loss: 0.8572 - val_Signal_loss: 0.2719 - val_Mass_loss: 0.7803\n",
      "Epoch 41/100\n",
      "42558/42558 [==============================] - 0s 6us/step - loss: 0.7187 - Signal_loss: 0.2540 - Mass_loss: 0.6196 - val_loss: 0.8500 - val_Signal_loss: 0.2716 - val_Mass_loss: 0.7713\n",
      "Epoch 42/100\n"
     ]
    },
    {
     "name": "stdout",
     "output_type": "stream",
     "text": [
      "42558/42558 [==============================] - 0s 6us/step - loss: 0.7085 - Signal_loss: 0.2535 - Mass_loss: 0.6067 - val_loss: 0.8436 - val_Signal_loss: 0.2708 - val_Mass_loss: 0.7637\n",
      "Epoch 43/100\n",
      "42558/42558 [==============================] - 0s 6us/step - loss: 0.6998 - Signal_loss: 0.2534 - Mass_loss: 0.5952 - val_loss: 0.8489 - val_Signal_loss: 0.2714 - val_Mass_loss: 0.7701\n",
      "Epoch 44/100\n",
      "42558/42558 [==============================] - 0s 6us/step - loss: 0.6976 - Signal_loss: 0.2531 - Mass_loss: 0.5926 - val_loss: 0.8465 - val_Signal_loss: 0.2717 - val_Mass_loss: 0.7665\n",
      "Epoch 45/100\n",
      "42558/42558 [==============================] - 0s 6us/step - loss: 0.6939 - Signal_loss: 0.2530 - Mass_loss: 0.5879 - val_loss: 0.8323 - val_Signal_loss: 0.2713 - val_Mass_loss: 0.7481\n",
      "Epoch 46/100\n",
      "42558/42558 [==============================] - 0s 6us/step - loss: 0.6836 - Signal_loss: 0.2530 - Mass_loss: 0.5742 - val_loss: 0.8319 - val_Signal_loss: 0.2714 - val_Mass_loss: 0.7474\n",
      "Epoch 47/100\n",
      "42558/42558 [==============================] - 0s 6us/step - loss: 0.6739 - Signal_loss: 0.2523 - Mass_loss: 0.5621 - val_loss: 0.8250 - val_Signal_loss: 0.2705 - val_Mass_loss: 0.7394\n",
      "Epoch 48/100\n",
      "42558/42558 [==============================] - 0s 6us/step - loss: 0.6666 - Signal_loss: 0.2519 - Mass_loss: 0.5529 - val_loss: 0.8241 - val_Signal_loss: 0.2712 - val_Mass_loss: 0.7372\n",
      "Epoch 49/100\n",
      "42558/42558 [==============================] - 0s 6us/step - loss: 0.6605 - Signal_loss: 0.2519 - Mass_loss: 0.5447 - val_loss: 0.8200 - val_Signal_loss: 0.2709 - val_Mass_loss: 0.7321\n",
      "Epoch 50/100\n",
      "42558/42558 [==============================] - 0s 6us/step - loss: 0.6577 - Signal_loss: 0.2517 - Mass_loss: 0.5414 - val_loss: 0.8252 - val_Signal_loss: 0.2706 - val_Mass_loss: 0.7395\n",
      "Epoch 51/100\n",
      "42558/42558 [==============================] - 0s 6us/step - loss: 0.6504 - Signal_loss: 0.2516 - Mass_loss: 0.5317 - val_loss: 0.8207 - val_Signal_loss: 0.2698 - val_Mass_loss: 0.7345\n",
      "Epoch 52/100\n",
      "42558/42558 [==============================] - 0s 6us/step - loss: 0.6476 - Signal_loss: 0.2511 - Mass_loss: 0.5287 - val_loss: 0.8066 - val_Signal_loss: 0.2703 - val_Mass_loss: 0.7151\n",
      "Epoch 53/100\n",
      "42558/42558 [==============================] - 0s 6us/step - loss: 0.6440 - Signal_loss: 0.2511 - Mass_loss: 0.5238 - val_loss: 0.8092 - val_Signal_loss: 0.2694 - val_Mass_loss: 0.7196\n",
      "Epoch 54/100\n",
      "42558/42558 [==============================] - 0s 7us/step - loss: 0.6389 - Signal_loss: 0.2509 - Mass_loss: 0.5173 - val_loss: 0.8088 - val_Signal_loss: 0.2698 - val_Mass_loss: 0.7187\n",
      "Epoch 55/100\n",
      "42558/42558 [==============================] - 0s 6us/step - loss: 0.6334 - Signal_loss: 0.2505 - Mass_loss: 0.5105 - val_loss: 0.8027 - val_Signal_loss: 0.2698 - val_Mass_loss: 0.7105\n",
      "Epoch 56/100\n",
      "42558/42558 [==============================] - 0s 6us/step - loss: 0.6287 - Signal_loss: 0.2505 - Mass_loss: 0.5043 - val_loss: 0.8004 - val_Signal_loss: 0.2698 - val_Mass_loss: 0.7074\n",
      "Epoch 57/100\n",
      "42558/42558 [==============================] - 0s 6us/step - loss: 0.6215 - Signal_loss: 0.2500 - Mass_loss: 0.4953 - val_loss: 0.7902 - val_Signal_loss: 0.2691 - val_Mass_loss: 0.6948\n",
      "Epoch 58/100\n",
      "42558/42558 [==============================] - 0s 7us/step - loss: 0.6146 - Signal_loss: 0.2495 - Mass_loss: 0.4868 - val_loss: 0.7927 - val_Signal_loss: 0.2693 - val_Mass_loss: 0.6978\n",
      "Epoch 59/100\n",
      "42558/42558 [==============================] - 0s 6us/step - loss: 0.6096 - Signal_loss: 0.2496 - Mass_loss: 0.4800 - val_loss: 0.7857 - val_Signal_loss: 0.2694 - val_Mass_loss: 0.6884\n",
      "Epoch 60/100\n",
      "42558/42558 [==============================] - 0s 6us/step - loss: 0.6036 - Signal_loss: 0.2492 - Mass_loss: 0.4727 - val_loss: 0.7967 - val_Signal_loss: 0.2691 - val_Mass_loss: 0.7034\n",
      "Epoch 61/100\n",
      "42558/42558 [==============================] - 0s 6us/step - loss: 0.6048 - Signal_loss: 0.2487 - Mass_loss: 0.4747 - val_loss: 0.7761 - val_Signal_loss: 0.2686 - val_Mass_loss: 0.6767\n",
      "Epoch 62/100\n",
      "42558/42558 [==============================] - 0s 7us/step - loss: 0.5977 - Signal_loss: 0.2484 - Mass_loss: 0.4657 - val_loss: 0.7857 - val_Signal_loss: 0.2690 - val_Mass_loss: 0.6889\n",
      "Epoch 63/100\n",
      "42558/42558 [==============================] - 0s 6us/step - loss: 0.5962 - Signal_loss: 0.2481 - Mass_loss: 0.4641 - val_loss: 0.7740 - val_Signal_loss: 0.2685 - val_Mass_loss: 0.6740\n",
      "Epoch 64/100\n",
      "42558/42558 [==============================] - 0s 6us/step - loss: 0.5902 - Signal_loss: 0.2480 - Mass_loss: 0.4563 - val_loss: 0.7748 - val_Signal_loss: 0.2686 - val_Mass_loss: 0.6749\n",
      "Epoch 65/100\n",
      "42558/42558 [==============================] - 0s 7us/step - loss: 0.5846 - Signal_loss: 0.2478 - Mass_loss: 0.4491 - val_loss: 0.7760 - val_Signal_loss: 0.2691 - val_Mass_loss: 0.6759\n",
      "Epoch 66/100\n",
      "42558/42558 [==============================] - 0s 6us/step - loss: 0.5830 - Signal_loss: 0.2478 - Mass_loss: 0.4470 - val_loss: 0.7649 - val_Signal_loss: 0.2682 - val_Mass_loss: 0.6623\n",
      "Epoch 67/100\n",
      "42558/42558 [==============================] - 0s 6us/step - loss: 0.5785 - Signal_loss: 0.2475 - Mass_loss: 0.4414 - val_loss: 0.7648 - val_Signal_loss: 0.2685 - val_Mass_loss: 0.6618\n",
      "Epoch 68/100\n",
      "42558/42558 [==============================] - 0s 6us/step - loss: 0.5745 - Signal_loss: 0.2471 - Mass_loss: 0.4366 - val_loss: 0.7674 - val_Signal_loss: 0.2679 - val_Mass_loss: 0.6660\n",
      "Epoch 69/100\n",
      "42558/42558 [==============================] - 0s 6us/step - loss: 0.5717 - Signal_loss: 0.2467 - Mass_loss: 0.4333 - val_loss: 0.7652 - val_Signal_loss: 0.2679 - val_Mass_loss: 0.6631\n",
      "Epoch 70/100\n",
      "42558/42558 [==============================] - 0s 6us/step - loss: 0.5688 - Signal_loss: 0.2463 - Mass_loss: 0.4299 - val_loss: 0.7558 - val_Signal_loss: 0.2679 - val_Mass_loss: 0.6505\n",
      "Epoch 71/100\n",
      "42558/42558 [==============================] - 0s 7us/step - loss: 0.5637 - Signal_loss: 0.2462 - Mass_loss: 0.4233 - val_loss: 0.7666 - val_Signal_loss: 0.2682 - val_Mass_loss: 0.6644\n",
      "Epoch 72/100\n",
      "42558/42558 [==============================] - 0s 6us/step - loss: 0.5678 - Signal_loss: 0.2460 - Mass_loss: 0.4291 - val_loss: 0.7565 - val_Signal_loss: 0.2680 - val_Mass_loss: 0.6513\n",
      "Epoch 73/100\n",
      "42558/42558 [==============================] - 0s 6us/step - loss: 0.5663 - Signal_loss: 0.2458 - Mass_loss: 0.4273 - val_loss: 0.7569 - val_Signal_loss: 0.2689 - val_Mass_loss: 0.6506\n",
      "Epoch 74/100\n",
      "42558/42558 [==============================] - 0s 7us/step - loss: 0.5608 - Signal_loss: 0.2460 - Mass_loss: 0.4198 - val_loss: 0.7671 - val_Signal_loss: 0.2673 - val_Mass_loss: 0.6665\n",
      "Epoch 75/100\n",
      "42558/42558 [==============================] - 0s 6us/step - loss: 0.5626 - Signal_loss: 0.2452 - Mass_loss: 0.4232 - val_loss: 0.7489 - val_Signal_loss: 0.2676 - val_Mass_loss: 0.6417\n",
      "Epoch 76/100\n",
      "42558/42558 [==============================] - 0s 6us/step - loss: 0.5637 - Signal_loss: 0.2452 - Mass_loss: 0.4248 - val_loss: 0.7495 - val_Signal_loss: 0.2672 - val_Mass_loss: 0.6431\n",
      "Epoch 77/100\n",
      "42558/42558 [==============================] - 0s 6us/step - loss: 0.5484 - Signal_loss: 0.2445 - Mass_loss: 0.4052 - val_loss: 0.7420 - val_Signal_loss: 0.2678 - val_Mass_loss: 0.6322\n",
      "Epoch 78/100\n",
      "42558/42558 [==============================] - 0s 6us/step - loss: 0.5455 - Signal_loss: 0.2443 - Mass_loss: 0.4015 - val_loss: 0.7489 - val_Signal_loss: 0.2675 - val_Mass_loss: 0.6418\n",
      "Epoch 79/100\n",
      "42558/42558 [==============================] - 0s 7us/step - loss: 0.5424 - Signal_loss: 0.2442 - Mass_loss: 0.3975 - val_loss: 0.7384 - val_Signal_loss: 0.2668 - val_Mass_loss: 0.6288\n",
      "Epoch 80/100\n",
      "42558/42558 [==============================] - 0s 6us/step - loss: 0.5369 - Signal_loss: 0.2434 - Mass_loss: 0.3913 - val_loss: 0.7397 - val_Signal_loss: 0.2672 - val_Mass_loss: 0.6300\n",
      "Epoch 81/100\n",
      "42558/42558 [==============================] - 0s 6us/step - loss: 0.5350 - Signal_loss: 0.2432 - Mass_loss: 0.3891 - val_loss: 0.7396 - val_Signal_loss: 0.2670 - val_Mass_loss: 0.6302\n",
      "Epoch 82/100\n",
      "42558/42558 [==============================] - 0s 6us/step - loss: 0.5352 - Signal_loss: 0.2428 - Mass_loss: 0.3899 - val_loss: 0.7318 - val_Signal_loss: 0.2679 - val_Mass_loss: 0.6186\n",
      "Epoch 83/100\n"
     ]
    },
    {
     "name": "stdout",
     "output_type": "stream",
     "text": [
      "42558/42558 [==============================] - 0s 7us/step - loss: 0.5376 - Signal_loss: 0.2427 - Mass_loss: 0.3933 - val_loss: 0.7398 - val_Signal_loss: 0.2668 - val_Mass_loss: 0.6306\n",
      "Epoch 84/100\n",
      "42558/42558 [==============================] - 0s 6us/step - loss: 0.5296 - Signal_loss: 0.2421 - Mass_loss: 0.3833 - val_loss: 0.7326 - val_Signal_loss: 0.2669 - val_Mass_loss: 0.6209\n",
      "Epoch 85/100\n",
      "42558/42558 [==============================] - 0s 6us/step - loss: 0.5260 - Signal_loss: 0.2420 - Mass_loss: 0.3787 - val_loss: 0.7288 - val_Signal_loss: 0.2662 - val_Mass_loss: 0.6168\n",
      "Epoch 86/100\n",
      "42558/42558 [==============================] - 0s 6us/step - loss: 0.5243 - Signal_loss: 0.2416 - Mass_loss: 0.3770 - val_loss: 0.7269 - val_Signal_loss: 0.2666 - val_Mass_loss: 0.6136\n",
      "Epoch 87/100\n",
      "42558/42558 [==============================] - 0s 6us/step - loss: 0.5194 - Signal_loss: 0.2414 - Mass_loss: 0.3707 - val_loss: 0.7308 - val_Signal_loss: 0.2665 - val_Mass_loss: 0.6190\n",
      "Epoch 88/100\n",
      "42558/42558 [==============================] - 0s 6us/step - loss: 0.5172 - Signal_loss: 0.2408 - Mass_loss: 0.3686 - val_loss: 0.7333 - val_Signal_loss: 0.2667 - val_Mass_loss: 0.6221\n",
      "Epoch 89/100\n",
      "42558/42558 [==============================] - 0s 6us/step - loss: 0.5185 - Signal_loss: 0.2407 - Mass_loss: 0.3705 - val_loss: 0.7303 - val_Signal_loss: 0.2669 - val_Mass_loss: 0.6180\n",
      "Epoch 90/100\n",
      "42558/42558 [==============================] - 0s 6us/step - loss: 0.5150 - Signal_loss: 0.2402 - Mass_loss: 0.3664 - val_loss: 0.7228 - val_Signal_loss: 0.2669 - val_Mass_loss: 0.6079\n",
      "Epoch 91/100\n",
      "42558/42558 [==============================] - 0s 6us/step - loss: 0.5097 - Signal_loss: 0.2398 - Mass_loss: 0.3599 - val_loss: 0.7191 - val_Signal_loss: 0.2662 - val_Mass_loss: 0.6038\n",
      "Epoch 92/100\n",
      "42558/42558 [==============================] - 0s 6us/step - loss: 0.5068 - Signal_loss: 0.2396 - Mass_loss: 0.3563 - val_loss: 0.7194 - val_Signal_loss: 0.2662 - val_Mass_loss: 0.6043\n",
      "Epoch 93/100\n",
      "42558/42558 [==============================] - 0s 6us/step - loss: 0.5055 - Signal_loss: 0.2391 - Mass_loss: 0.3552 - val_loss: 0.7174 - val_Signal_loss: 0.2662 - val_Mass_loss: 0.6016\n",
      "Epoch 94/100\n",
      "42558/42558 [==============================] - 0s 6us/step - loss: 0.5016 - Signal_loss: 0.2389 - Mass_loss: 0.3503 - val_loss: 0.7157 - val_Signal_loss: 0.2659 - val_Mass_loss: 0.5998\n",
      "Epoch 95/100\n",
      "42558/42558 [==============================] - 0s 7us/step - loss: 0.5023 - Signal_loss: 0.2388 - Mass_loss: 0.3513 - val_loss: 0.7232 - val_Signal_loss: 0.2665 - val_Mass_loss: 0.6089\n",
      "Epoch 96/100\n",
      "42558/42558 [==============================] - 0s 6us/step - loss: 0.5000 - Signal_loss: 0.2381 - Mass_loss: 0.3492 - val_loss: 0.7172 - val_Signal_loss: 0.2658 - val_Mass_loss: 0.6019\n",
      "Epoch 97/100\n",
      "42558/42558 [==============================] - 0s 6us/step - loss: 0.4977 - Signal_loss: 0.2378 - Mass_loss: 0.3466 - val_loss: 0.7097 - val_Signal_loss: 0.2657 - val_Mass_loss: 0.5920\n",
      "Epoch 98/100\n",
      "42558/42558 [==============================] - 0s 6us/step - loss: 0.4946 - Signal_loss: 0.2373 - Mass_loss: 0.3431 - val_loss: 0.7150 - val_Signal_loss: 0.2657 - val_Mass_loss: 0.5990\n",
      "Epoch 99/100\n",
      "42558/42558 [==============================] - 0s 6us/step - loss: 0.4925 - Signal_loss: 0.2368 - Mass_loss: 0.3410 - val_loss: 0.7113 - val_Signal_loss: 0.2653 - val_Mass_loss: 0.5946\n",
      "Epoch 100/100\n",
      "42558/42558 [==============================] - 0s 6us/step - loss: 0.4921 - Signal_loss: 0.2366 - Mass_loss: 0.3407 - val_loss: 0.7115 - val_Signal_loss: 0.2647 - val_Mass_loss: 0.5957\n"
     ]
    },
    {
     "data": {
      "text/plain": [
       "<keras.callbacks.History at 0xa7dc5a7358>"
      ]
     },
     "execution_count": 304,
     "metadata": {},
     "output_type": "execute_result"
    }
   ],
   "source": [
    "model.fit(x = [obj_SC.transform(train[variables])], \n",
    "          y = [train[\"signal\"], obj_SC_mass.transform([train[\"mass\"]])[0]],\n",
    "          batch_size = 5000, \n",
    "          epochs = 100,\n",
    "          validation_split = 0.1)"
   ]
  },
  {
   "cell_type": "code",
   "execution_count": 305,
   "metadata": {},
   "outputs": [],
   "source": [
    "def get_prob(low, high, df, method = \"direct\"):\n",
    "    prediction, temp =  model.predict(obj_SC.transform(df[variables]))\n",
    "    if method == \"indirect\":\n",
    "        temp = obj_SC_mass.inverse_transform(temp)\n",
    "        plt.hist(temp, bins=50)\n",
    "        plt.show()\n",
    "        res_idx = np.logical_and(temp > low , temp < high)[:,0]\n",
    "        probs = np.zeros((df.shape[0]))\n",
    "        probs[res_idx] = 1\n",
    "        return probs\n",
    "    elif method == \"direct\":\n",
    "        return prediction\n",
    "    else:\n",
    "        temp = obj_SC_mass.inverse_transform(temp)\n",
    "        res_idx = np.logical_and(temp > low , temp < high)[:,0]\n",
    "        probs = np.zeros((df.shape[0]))\n",
    "        probs[res_idx] = 1\n",
    "        return (probs + prediction)/2"
   ]
  },
  {
   "cell_type": "code",
   "execution_count": 306,
   "metadata": {},
   "outputs": [],
   "source": [
    "low = 1640\n",
    "high = 2000\n",
    "mtd = \"direct\""
   ]
  },
  {
   "cell_type": "code",
   "execution_count": 307,
   "metadata": {},
   "outputs": [],
   "source": [
    "agreement_probs_mass = get_prob(low, high, df_agreement, mtd)"
   ]
  },
  {
   "cell_type": "code",
   "execution_count": 308,
   "metadata": {},
   "outputs": [
    {
     "name": "stdout",
     "output_type": "stream",
     "text": [
      "KS metric: 0.2386101959229388\n",
      "KS Metric value is Fine: False\n"
     ]
    }
   ],
   "source": [
    "ks_noise = compute_ks(\n",
    "                        agreement_probs_mass[df_agreement['signal'].values == 0],\n",
    "                        agreement_probs_mass[df_agreement['signal'].values == 1],\n",
    "                        df_agreement[df_agreement['signal'] == 0]['weight'].values,\n",
    "                        df_agreement[df_agreement['signal'] == 1]['weight'].values)\n",
    "\n",
    "print ('KS metric:', ks_noise)\n",
    "print(\"KS Metric value is Fine:\", ks_noise < 0.09)"
   ]
  },
  {
   "cell_type": "code",
   "execution_count": 309,
   "metadata": {},
   "outputs": [
    {
     "data": {
      "image/png": "[encoded data removed]",
      "text/plain": [
       "<Figure size 576x360 with 1 Axes>"
      ]
     },
     "metadata": {},
     "output_type": "display_data"
    }
   ],
   "source": [
    "plt.rcParams[\"figure.figsize\"] = 8, 5\n",
    "\n",
    "plot_ks(df_agreement, agreement_probs_mass)"
   ]
  },
  {
   "cell_type": "markdown",
   "metadata": {},
   "source": [
    "### Effect on ROC"
   ]
  },
  {
   "cell_type": "code",
   "execution_count": 310,
   "metadata": {},
   "outputs": [
    {
     "data": {
      "image/png": "[encoded data removed]",
      "text/plain": [
       "<Figure size 432x432 with 1 Axes>"
      ]
     },
     "metadata": {},
     "output_type": "display_data"
    }
   ],
   "source": [
    "plt.rcParams[\"figure.figsize\"] = 6, 6\n",
    "\n",
    "y_pred = get_prob(low, high, valid, mtd)\n",
    "\n",
    "assert valid.shape[0] == y_pred.shape[0]\n",
    "\n",
    "plot_metrics(valid['signal'], y_pred)"
   ]
  },
  {
   "cell_type": "code",
   "execution_count": null,
   "metadata": {},
   "outputs": [],
   "source": []
  }
 ],
 "metadata": {
  "@webio": {
   "lastCommId": null,
   "lastKernelId": null
  },
  "kernelspec": {
   "display_name": "Python 3",
   "language": "python",
   "name": "python3"
  },
  "language_info": {
   "codemirror_mode": {
    "name": "ipython",
    "version": 3
   },
   "file_extension": ".py",
   "mimetype": "text/x-python",
   "name": "python",
   "nbconvert_exporter": "python",
   "pygments_lexer": "ipython3",
   "version": "3.6.6"
  }
 },
 "nbformat": 4,
 "nbformat_minor": 1
}
