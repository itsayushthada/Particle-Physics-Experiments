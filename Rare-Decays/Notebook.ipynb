{
 "cells": [
  {
   "cell_type": "code",
   "execution_count": 1,
   "metadata": {},
   "outputs": [
    {
     "name": "stderr",
     "output_type": "stream",
     "text": [
      "c:\\users\\lenovo\\appdata\\local\\programs\\python\\python36\\lib\\site-packages\\sklearn\\ensemble\\weight_boosting.py:29: DeprecationWarning: numpy.core.umath_tests is an internal NumPy module and should not be imported. It will be removed in a future NumPy release.\n",
      "  from numpy.core.umath_tests import inner1d\n"
     ]
    }
   ],
   "source": [
    "import pandas as pd\n",
    "import numpy as np\n",
    "\n",
    "from sklearn.metrics import roc_curve\n",
    "from sklearn.model_selection import train_test_split\n",
    "from sklearn.preprocessing import StandardScaler\n",
    "from sklearn.decomposition import PCA\n",
    "\n",
    "from sklearn.ensemble import AdaBoostClassifier\n",
    "from sklearn.tree import DecisionTreeClassifier\n",
    "\n",
    "from sklearn.metrics import roc_curve, roc_auc_score\n",
    "\n",
    "import matplotlib.pyplot as plt\n",
    "\n",
    "from hep_ml import metrics\n",
    "from utils import check_correlation\n",
    "from mass_correlation_utils import *"
   ]
  },
  {
   "cell_type": "markdown",
   "metadata": {},
   "source": [
    "# Data Loading\n",
    "`training.csv` is a mixture of simulated signal, real background."
   ]
  },
  {
   "cell_type": "code",
   "execution_count": 2,
   "metadata": {},
   "outputs": [],
   "source": [
    "train_df = pd.read_csv('Data/training.csv.gz', sep=',')"
   ]
  },
  {
   "cell_type": "code",
   "execution_count": 3,
   "metadata": {},
   "outputs": [
    {
     "data": {
      "text/html": [
       "<div>\n",
       "<style scoped>\n",
       "    .dataframe tbody tr th:only-of-type {\n",
       "        vertical-align: middle;\n",
       "    }\n",
       "\n",
       "    .dataframe tbody tr th {\n",
       "        vertical-align: top;\n",
       "    }\n",
       "\n",
       "    .dataframe thead th {\n",
       "        text-align: right;\n",
       "    }\n",
       "</style>\n",
       "<table border=\"1\" class=\"dataframe\">\n",
       "  <thead>\n",
       "    <tr style=\"text-align: right;\">\n",
       "      <th></th>\n",
       "      <th>id</th>\n",
       "      <th>LifeTime</th>\n",
       "      <th>dira</th>\n",
       "      <th>FlightDistance</th>\n",
       "      <th>FlightDistanceError</th>\n",
       "      <th>IP</th>\n",
       "      <th>IPSig</th>\n",
       "      <th>VertexChi2</th>\n",
       "      <th>pt</th>\n",
       "      <th>DOCAone</th>\n",
       "      <th>...</th>\n",
       "      <th>p1_p</th>\n",
       "      <th>p2_p</th>\n",
       "      <th>p0_eta</th>\n",
       "      <th>p1_eta</th>\n",
       "      <th>p2_eta</th>\n",
       "      <th>SPDhits</th>\n",
       "      <th>production</th>\n",
       "      <th>signal</th>\n",
       "      <th>mass</th>\n",
       "      <th>min_ANNmuon</th>\n",
       "    </tr>\n",
       "  </thead>\n",
       "  <tbody>\n",
       "    <tr>\n",
       "      <th>0</th>\n",
       "      <td>18453471</td>\n",
       "      <td>0.001578</td>\n",
       "      <td>0.999999</td>\n",
       "      <td>14.033335</td>\n",
       "      <td>0.681401</td>\n",
       "      <td>0.016039</td>\n",
       "      <td>0.451886</td>\n",
       "      <td>1.900433</td>\n",
       "      <td>1482.037476</td>\n",
       "      <td>0.066667</td>\n",
       "      <td>...</td>\n",
       "      <td>12290.760742</td>\n",
       "      <td>39264.398438</td>\n",
       "      <td>3.076006</td>\n",
       "      <td>4.003800</td>\n",
       "      <td>4.031514</td>\n",
       "      <td>458</td>\n",
       "      <td>-99</td>\n",
       "      <td>0</td>\n",
       "      <td>1866.300049</td>\n",
       "      <td>0.277559</td>\n",
       "    </tr>\n",
       "    <tr>\n",
       "      <th>1</th>\n",
       "      <td>5364094</td>\n",
       "      <td>0.000988</td>\n",
       "      <td>0.999705</td>\n",
       "      <td>5.536157</td>\n",
       "      <td>0.302341</td>\n",
       "      <td>0.142163</td>\n",
       "      <td>9.564503</td>\n",
       "      <td>0.865666</td>\n",
       "      <td>3050.720703</td>\n",
       "      <td>0.024022</td>\n",
       "      <td>...</td>\n",
       "      <td>16562.667969</td>\n",
       "      <td>7341.257812</td>\n",
       "      <td>3.228553</td>\n",
       "      <td>2.786543</td>\n",
       "      <td>2.975564</td>\n",
       "      <td>406</td>\n",
       "      <td>-99</td>\n",
       "      <td>0</td>\n",
       "      <td>1727.095947</td>\n",
       "      <td>0.225924</td>\n",
       "    </tr>\n",
       "    <tr>\n",
       "      <th>2</th>\n",
       "      <td>11130990</td>\n",
       "      <td>0.000877</td>\n",
       "      <td>0.999984</td>\n",
       "      <td>6.117302</td>\n",
       "      <td>0.276463</td>\n",
       "      <td>0.034746</td>\n",
       "      <td>1.970751</td>\n",
       "      <td>10.975849</td>\n",
       "      <td>3895.908691</td>\n",
       "      <td>0.055044</td>\n",
       "      <td>...</td>\n",
       "      <td>22695.388672</td>\n",
       "      <td>10225.309570</td>\n",
       "      <td>3.536903</td>\n",
       "      <td>2.865686</td>\n",
       "      <td>3.052810</td>\n",
       "      <td>196</td>\n",
       "      <td>-99</td>\n",
       "      <td>0</td>\n",
       "      <td>1898.588013</td>\n",
       "      <td>0.368630</td>\n",
       "    </tr>\n",
       "    <tr>\n",
       "      <th>3</th>\n",
       "      <td>15173787</td>\n",
       "      <td>0.000854</td>\n",
       "      <td>0.999903</td>\n",
       "      <td>5.228067</td>\n",
       "      <td>0.220739</td>\n",
       "      <td>0.076389</td>\n",
       "      <td>4.271331</td>\n",
       "      <td>3.276358</td>\n",
       "      <td>4010.781738</td>\n",
       "      <td>0.053779</td>\n",
       "      <td>...</td>\n",
       "      <td>16909.515625</td>\n",
       "      <td>9141.426758</td>\n",
       "      <td>3.087461</td>\n",
       "      <td>3.218034</td>\n",
       "      <td>2.375592</td>\n",
       "      <td>137</td>\n",
       "      <td>-99</td>\n",
       "      <td>0</td>\n",
       "      <td>1840.410034</td>\n",
       "      <td>0.246045</td>\n",
       "    </tr>\n",
       "    <tr>\n",
       "      <th>4</th>\n",
       "      <td>1102544</td>\n",
       "      <td>0.001129</td>\n",
       "      <td>0.999995</td>\n",
       "      <td>39.069534</td>\n",
       "      <td>1.898197</td>\n",
       "      <td>0.120936</td>\n",
       "      <td>4.984982</td>\n",
       "      <td>0.468348</td>\n",
       "      <td>4144.546875</td>\n",
       "      <td>0.004491</td>\n",
       "      <td>...</td>\n",
       "      <td>97612.804688</td>\n",
       "      <td>47118.785156</td>\n",
       "      <td>4.632295</td>\n",
       "      <td>4.711155</td>\n",
       "      <td>4.296878</td>\n",
       "      <td>477</td>\n",
       "      <td>-99</td>\n",
       "      <td>0</td>\n",
       "      <td>1899.793945</td>\n",
       "      <td>0.222060</td>\n",
       "    </tr>\n",
       "  </tbody>\n",
       "</table>\n",
       "<p>5 rows × 51 columns</p>\n",
       "</div>"
      ],
      "text/plain": [
       "         id  LifeTime      dira  FlightDistance  FlightDistanceError  \\\n",
       "0  18453471  0.001578  0.999999       14.033335             0.681401   \n",
       "1   5364094  0.000988  0.999705        5.536157             0.302341   \n",
       "2  11130990  0.000877  0.999984        6.117302             0.276463   \n",
       "3  15173787  0.000854  0.999903        5.228067             0.220739   \n",
       "4   1102544  0.001129  0.999995       39.069534             1.898197   \n",
       "\n",
       "         IP     IPSig  VertexChi2           pt   DOCAone     ...       \\\n",
       "0  0.016039  0.451886    1.900433  1482.037476  0.066667     ...        \n",
       "1  0.142163  9.564503    0.865666  3050.720703  0.024022     ...        \n",
       "2  0.034746  1.970751   10.975849  3895.908691  0.055044     ...        \n",
       "3  0.076389  4.271331    3.276358  4010.781738  0.053779     ...        \n",
       "4  0.120936  4.984982    0.468348  4144.546875  0.004491     ...        \n",
       "\n",
       "           p1_p          p2_p    p0_eta    p1_eta    p2_eta  SPDhits  \\\n",
       "0  12290.760742  39264.398438  3.076006  4.003800  4.031514      458   \n",
       "1  16562.667969   7341.257812  3.228553  2.786543  2.975564      406   \n",
       "2  22695.388672  10225.309570  3.536903  2.865686  3.052810      196   \n",
       "3  16909.515625   9141.426758  3.087461  3.218034  2.375592      137   \n",
       "4  97612.804688  47118.785156  4.632295  4.711155  4.296878      477   \n",
       "\n",
       "   production  signal         mass  min_ANNmuon  \n",
       "0         -99       0  1866.300049     0.277559  \n",
       "1         -99       0  1727.095947     0.225924  \n",
       "2         -99       0  1898.588013     0.368630  \n",
       "3         -99       0  1840.410034     0.246045  \n",
       "4         -99       0  1899.793945     0.222060  \n",
       "\n",
       "[5 rows x 51 columns]"
      ]
     },
     "execution_count": 3,
     "metadata": {},
     "output_type": "execute_result"
    }
   ],
   "source": [
    "train_df.head()"
   ]
  },
  {
   "cell_type": "code",
   "execution_count": 4,
   "metadata": {},
   "outputs": [
    {
     "data": {
      "text/plain": [
       "Index(['id', 'LifeTime', 'dira', 'FlightDistance', 'FlightDistanceError', 'IP',\n",
       "       'IPSig', 'VertexChi2', 'pt', 'DOCAone', 'DOCAtwo', 'DOCAthree',\n",
       "       'IP_p0p2', 'IP_p1p2', 'isolationa', 'isolationb', 'isolationc',\n",
       "       'isolationd', 'isolatione', 'isolationf', 'iso', 'CDF1', 'CDF2', 'CDF3',\n",
       "       'ISO_SumBDT', 'p0_IsoBDT', 'p1_IsoBDT', 'p2_IsoBDT', 'p0_track_Chi2Dof',\n",
       "       'p1_track_Chi2Dof', 'p2_track_Chi2Dof', 'p0_IP', 'p1_IP', 'p2_IP',\n",
       "       'p0_IPSig', 'p1_IPSig', 'p2_IPSig', 'p0_pt', 'p1_pt', 'p2_pt', 'p0_p',\n",
       "       'p1_p', 'p2_p', 'p0_eta', 'p1_eta', 'p2_eta', 'SPDhits', 'production',\n",
       "       'signal', 'mass', 'min_ANNmuon'],\n",
       "      dtype='object')"
      ]
     },
     "execution_count": 4,
     "metadata": {},
     "output_type": "execute_result"
    }
   ],
   "source": [
    "train_df.columns"
   ]
  },
  {
   "cell_type": "code",
   "execution_count": 5,
   "metadata": {},
   "outputs": [
    {
     "data": {
      "text/plain": [
       "(67553, 51)"
      ]
     },
     "execution_count": 5,
     "metadata": {},
     "output_type": "execute_result"
    }
   ],
   "source": [
    "train_df.shape"
   ]
  },
  {
   "cell_type": "code",
   "execution_count": 6,
   "metadata": {},
   "outputs": [],
   "source": [
    "test_df = pd.read_csv('Data/test.csv.gz', sep=',', index_col='id')"
   ]
  },
  {
   "cell_type": "code",
   "execution_count": 7,
   "metadata": {},
   "outputs": [
    {
     "data": {
      "text/html": [
       "<div>\n",
       "<style scoped>\n",
       "    .dataframe tbody tr th:only-of-type {\n",
       "        vertical-align: middle;\n",
       "    }\n",
       "\n",
       "    .dataframe tbody tr th {\n",
       "        vertical-align: top;\n",
       "    }\n",
       "\n",
       "    .dataframe thead th {\n",
       "        text-align: right;\n",
       "    }\n",
       "</style>\n",
       "<table border=\"1\" class=\"dataframe\">\n",
       "  <thead>\n",
       "    <tr style=\"text-align: right;\">\n",
       "      <th></th>\n",
       "      <th>LifeTime</th>\n",
       "      <th>dira</th>\n",
       "      <th>FlightDistance</th>\n",
       "      <th>FlightDistanceError</th>\n",
       "      <th>IP</th>\n",
       "      <th>IPSig</th>\n",
       "      <th>VertexChi2</th>\n",
       "      <th>pt</th>\n",
       "      <th>DOCAone</th>\n",
       "      <th>DOCAtwo</th>\n",
       "      <th>...</th>\n",
       "      <th>p0_pt</th>\n",
       "      <th>p1_pt</th>\n",
       "      <th>p2_pt</th>\n",
       "      <th>p0_p</th>\n",
       "      <th>p1_p</th>\n",
       "      <th>p2_p</th>\n",
       "      <th>p0_eta</th>\n",
       "      <th>p1_eta</th>\n",
       "      <th>p2_eta</th>\n",
       "      <th>SPDhits</th>\n",
       "    </tr>\n",
       "    <tr>\n",
       "      <th>id</th>\n",
       "      <th></th>\n",
       "      <th></th>\n",
       "      <th></th>\n",
       "      <th></th>\n",
       "      <th></th>\n",
       "      <th></th>\n",
       "      <th></th>\n",
       "      <th></th>\n",
       "      <th></th>\n",
       "      <th></th>\n",
       "      <th></th>\n",
       "      <th></th>\n",
       "      <th></th>\n",
       "      <th></th>\n",
       "      <th></th>\n",
       "      <th></th>\n",
       "      <th></th>\n",
       "      <th></th>\n",
       "      <th></th>\n",
       "      <th></th>\n",
       "      <th></th>\n",
       "    </tr>\n",
       "  </thead>\n",
       "  <tbody>\n",
       "    <tr>\n",
       "      <th>14711831</th>\n",
       "      <td>0.001273</td>\n",
       "      <td>0.999816</td>\n",
       "      <td>8.569642</td>\n",
       "      <td>0.310039</td>\n",
       "      <td>0.197893</td>\n",
       "      <td>5.183939</td>\n",
       "      <td>2.286117</td>\n",
       "      <td>687.479248</td>\n",
       "      <td>0.022301</td>\n",
       "      <td>0.050763</td>\n",
       "      <td>...</td>\n",
       "      <td>508.926514</td>\n",
       "      <td>306.629456</td>\n",
       "      <td>714.222717</td>\n",
       "      <td>30300.734375</td>\n",
       "      <td>5662.158691</td>\n",
       "      <td>7406.368164</td>\n",
       "      <td>4.779700</td>\n",
       "      <td>3.608334</td>\n",
       "      <td>3.029715</td>\n",
       "      <td>705</td>\n",
       "    </tr>\n",
       "    <tr>\n",
       "      <th>16316387</th>\n",
       "      <td>0.000661</td>\n",
       "      <td>0.999954</td>\n",
       "      <td>7.061379</td>\n",
       "      <td>0.348772</td>\n",
       "      <td>0.067430</td>\n",
       "      <td>6.316281</td>\n",
       "      <td>3.865824</td>\n",
       "      <td>5691.845703</td>\n",
       "      <td>0.002455</td>\n",
       "      <td>0.037633</td>\n",
       "      <td>...</td>\n",
       "      <td>943.130676</td>\n",
       "      <td>3287.291260</td>\n",
       "      <td>1563.593994</td>\n",
       "      <td>6160.323730</td>\n",
       "      <td>43781.566406</td>\n",
       "      <td>19728.500000</td>\n",
       "      <td>2.563915</td>\n",
       "      <td>3.280884</td>\n",
       "      <td>3.226650</td>\n",
       "      <td>907</td>\n",
       "    </tr>\n",
       "    <tr>\n",
       "      <th>6771382</th>\n",
       "      <td>0.000889</td>\n",
       "      <td>0.999999</td>\n",
       "      <td>6.502967</td>\n",
       "      <td>0.273914</td>\n",
       "      <td>0.011020</td>\n",
       "      <td>0.865816</td>\n",
       "      <td>1.004631</td>\n",
       "      <td>5429.225586</td>\n",
       "      <td>0.002753</td>\n",
       "      <td>0.036379</td>\n",
       "      <td>...</td>\n",
       "      <td>2886.055908</td>\n",
       "      <td>2216.936279</td>\n",
       "      <td>598.068359</td>\n",
       "      <td>26387.134766</td>\n",
       "      <td>15534.978516</td>\n",
       "      <td>6504.145020</td>\n",
       "      <td>2.903129</td>\n",
       "      <td>2.634985</td>\n",
       "      <td>3.077517</td>\n",
       "      <td>213</td>\n",
       "    </tr>\n",
       "    <tr>\n",
       "      <th>686045</th>\n",
       "      <td>0.001295</td>\n",
       "      <td>0.999301</td>\n",
       "      <td>7.838184</td>\n",
       "      <td>0.325697</td>\n",
       "      <td>0.388636</td>\n",
       "      <td>11.391245</td>\n",
       "      <td>10.345356</td>\n",
       "      <td>661.717834</td>\n",
       "      <td>0.008163</td>\n",
       "      <td>0.436003</td>\n",
       "      <td>...</td>\n",
       "      <td>461.727753</td>\n",
       "      <td>357.967560</td>\n",
       "      <td>1118.084229</td>\n",
       "      <td>5451.857422</td>\n",
       "      <td>10281.403320</td>\n",
       "      <td>23722.742188</td>\n",
       "      <td>3.160085</td>\n",
       "      <td>4.050494</td>\n",
       "      <td>3.747409</td>\n",
       "      <td>275</td>\n",
       "    </tr>\n",
       "    <tr>\n",
       "      <th>8755882</th>\n",
       "      <td>0.001714</td>\n",
       "      <td>0.999805</td>\n",
       "      <td>7.064559</td>\n",
       "      <td>0.113440</td>\n",
       "      <td>0.154421</td>\n",
       "      <td>13.925871</td>\n",
       "      <td>12.951378</td>\n",
       "      <td>3885.417969</td>\n",
       "      <td>0.066317</td>\n",
       "      <td>0.052183</td>\n",
       "      <td>...</td>\n",
       "      <td>1773.747925</td>\n",
       "      <td>1643.278198</td>\n",
       "      <td>711.572205</td>\n",
       "      <td>7724.954590</td>\n",
       "      <td>12830.546875</td>\n",
       "      <td>6008.145996</td>\n",
       "      <td>2.151059</td>\n",
       "      <td>2.744157</td>\n",
       "      <td>2.823017</td>\n",
       "      <td>357</td>\n",
       "    </tr>\n",
       "  </tbody>\n",
       "</table>\n",
       "<p>5 rows × 46 columns</p>\n",
       "</div>"
      ],
      "text/plain": [
       "          LifeTime      dira  FlightDistance  FlightDistanceError        IP  \\\n",
       "id                                                                            \n",
       "14711831  0.001273  0.999816        8.569642             0.310039  0.197893   \n",
       "16316387  0.000661  0.999954        7.061379             0.348772  0.067430   \n",
       "6771382   0.000889  0.999999        6.502967             0.273914  0.011020   \n",
       "686045    0.001295  0.999301        7.838184             0.325697  0.388636   \n",
       "8755882   0.001714  0.999805        7.064559             0.113440  0.154421   \n",
       "\n",
       "              IPSig  VertexChi2           pt   DOCAone   DOCAtwo   ...     \\\n",
       "id                                                                 ...      \n",
       "14711831   5.183939    2.286117   687.479248  0.022301  0.050763   ...      \n",
       "16316387   6.316281    3.865824  5691.845703  0.002455  0.037633   ...      \n",
       "6771382    0.865816    1.004631  5429.225586  0.002753  0.036379   ...      \n",
       "686045    11.391245   10.345356   661.717834  0.008163  0.436003   ...      \n",
       "8755882   13.925871   12.951378  3885.417969  0.066317  0.052183   ...      \n",
       "\n",
       "                p0_pt        p1_pt        p2_pt          p0_p          p1_p  \\\n",
       "id                                                                            \n",
       "14711831   508.926514   306.629456   714.222717  30300.734375   5662.158691   \n",
       "16316387   943.130676  3287.291260  1563.593994   6160.323730  43781.566406   \n",
       "6771382   2886.055908  2216.936279   598.068359  26387.134766  15534.978516   \n",
       "686045     461.727753   357.967560  1118.084229   5451.857422  10281.403320   \n",
       "8755882   1773.747925  1643.278198   711.572205   7724.954590  12830.546875   \n",
       "\n",
       "                  p2_p    p0_eta    p1_eta    p2_eta  SPDhits  \n",
       "id                                                             \n",
       "14711831   7406.368164  4.779700  3.608334  3.029715      705  \n",
       "16316387  19728.500000  2.563915  3.280884  3.226650      907  \n",
       "6771382    6504.145020  2.903129  2.634985  3.077517      213  \n",
       "686045    23722.742188  3.160085  4.050494  3.747409      275  \n",
       "8755882    6008.145996  2.151059  2.744157  2.823017      357  \n",
       "\n",
       "[5 rows x 46 columns]"
      ]
     },
     "execution_count": 7,
     "metadata": {},
     "output_type": "execute_result"
    }
   ],
   "source": [
    "test_df.head()"
   ]
  },
  {
   "cell_type": "code",
   "execution_count": 8,
   "metadata": {},
   "outputs": [
    {
     "data": {
      "text/plain": [
       "Index(['LifeTime', 'dira', 'FlightDistance', 'FlightDistanceError', 'IP',\n",
       "       'IPSig', 'VertexChi2', 'pt', 'DOCAone', 'DOCAtwo', 'DOCAthree',\n",
       "       'IP_p0p2', 'IP_p1p2', 'isolationa', 'isolationb', 'isolationc',\n",
       "       'isolationd', 'isolatione', 'isolationf', 'iso', 'CDF1', 'CDF2', 'CDF3',\n",
       "       'ISO_SumBDT', 'p0_IsoBDT', 'p1_IsoBDT', 'p2_IsoBDT', 'p0_track_Chi2Dof',\n",
       "       'p1_track_Chi2Dof', 'p2_track_Chi2Dof', 'p0_IP', 'p1_IP', 'p2_IP',\n",
       "       'p0_IPSig', 'p1_IPSig', 'p2_IPSig', 'p0_pt', 'p1_pt', 'p2_pt', 'p0_p',\n",
       "       'p1_p', 'p2_p', 'p0_eta', 'p1_eta', 'p2_eta', 'SPDhits'],\n",
       "      dtype='object')"
      ]
     },
     "execution_count": 8,
     "metadata": {},
     "output_type": "execute_result"
    }
   ],
   "source": [
    "test_df.columns"
   ]
  },
  {
   "cell_type": "code",
   "execution_count": 9,
   "metadata": {},
   "outputs": [
    {
     "data": {
      "text/plain": [
       "(855819, 46)"
      ]
     },
     "execution_count": 9,
     "metadata": {},
     "output_type": "execute_result"
    }
   ],
   "source": [
    "test_df.shape"
   ]
  },
  {
   "cell_type": "markdown",
   "metadata": {},
   "source": [
    "# Baseline Model"
   ]
  },
  {
   "cell_type": "code",
   "execution_count": 10,
   "metadata": {},
   "outputs": [],
   "source": [
    "train, valid = train_test_split(train_df, test_size=0.3, random_state=13)"
   ]
  },
  {
   "cell_type": "markdown",
   "metadata": {},
   "source": [
    "Feature selction for training."
   ]
  },
  {
   "cell_type": "code",
   "execution_count": 11,
   "metadata": {},
   "outputs": [
    {
     "name": "stdout",
     "output_type": "stream",
     "text": [
      "['ISO_SumBDT', 'p1_p', 'iso', 'p0_track_Chi2Dof', 'VertexChi2', 'p1_pt', 'IP', 'pt', 'p1_eta', 'p2_IP', 'p0_pt', 'DOCAthree', 'CDF3', 'isolationc', 'IP_p0p2', 'IP_p1p2', 'isolatione', 'dira', 'FlightDistanceError', 'isolationb', 'p1_IsoBDT', 'LifeTime', 'CDF1', 'isolationf', 'DOCAtwo', 'p0_IP', 'p0_IsoBDT', 'SPDhits', 'p0_IPSig', 'p0_p', 'p2_p', 'p1_IP', 'isolationa', 'p2_IPSig', 'p2_IsoBDT', 'FlightDistance', 'p2_eta', 'p2_track_Chi2Dof', 'p2_pt', 'isolationd', 'IPSig', 'DOCAone', 'p1_track_Chi2Dof', 'p0_eta', 'CDF2', 'p1_IPSig']\n"
     ]
    }
   ],
   "source": [
    "variables = list(set(train_df.columns) - {'id', 'signal', 'mass', 'production', 'min_ANNmuon'})\n",
    "print(variables)"
   ]
  },
  {
   "cell_type": "code",
   "execution_count": 12,
   "metadata": {},
   "outputs": [
    {
     "data": {
      "text/plain": [
       "StandardScaler(copy=True, with_mean=True, with_std=True)"
      ]
     },
     "execution_count": 12,
     "metadata": {},
     "output_type": "execute_result"
    }
   ],
   "source": [
    "# Data Preprocessing\n",
    "\n",
    "obj_SC = StandardScaler()\n",
    "obj_SC.fit(train[variables])"
   ]
  },
  {
   "cell_type": "code",
   "execution_count": 13,
   "metadata": {},
   "outputs": [
    {
     "name": "stdout",
     "output_type": "stream",
     "text": [
      "Wall time: 23.4 s\n"
     ]
    },
    {
     "data": {
      "text/plain": [
       "AdaBoostClassifier(algorithm='SAMME.R',\n",
       "          base_estimator=DecisionTreeClassifier(class_weight=None, criterion='gini', max_depth=6,\n",
       "            max_features=6, max_leaf_nodes=None, min_impurity_decrease=0.0,\n",
       "            min_impurity_split=None, min_samples_leaf=30,\n",
       "            min_samples_split=2, min_weight_fraction_leaf=0.0,\n",
       "            presort=False, random_state=13, splitter='best'),\n",
       "          learning_rate=0.01, n_estimators=100, random_state=13)"
      ]
     },
     "execution_count": 13,
     "metadata": {},
     "output_type": "execute_result"
    }
   ],
   "source": [
    "%%time\n",
    "\n",
    "clf = AdaBoostClassifier(n_estimators=100, \n",
    "                         learning_rate=0.01, \n",
    "                         random_state=13,\n",
    "                         base_estimator=DecisionTreeClassifier(max_depth=6, \n",
    "                                                               min_samples_leaf=30, \n",
    "                                                               max_features=6,\n",
    "                                                               random_state=13))\n",
    "clf.fit(obj_SC.transform(train[variables]), train['signal'])"
   ]
  },
  {
   "cell_type": "markdown",
   "metadata": {},
   "source": [
    "## Model Assesment on Validation Set\n"
   ]
  },
  {
   "cell_type": "code",
   "execution_count": 14,
   "metadata": {},
   "outputs": [],
   "source": [
    "def plot_metrics(y_true, y_pred):\n",
    "    fpr, tpr, thresholds = roc_curve(y_true, y_pred)\n",
    "    roc_auc = roc_auc_score(y_true, y_pred)\n",
    "\n",
    "    plt.plot(fpr, tpr, label='ROC AUC=%f' % roc_auc)\n",
    "    plt.xlabel(\"FPR\")\n",
    "    plt.ylabel(\"TPR\")\n",
    "    plt.legend()\n",
    "    plt.title(\"ROC Curve\")"
   ]
  },
  {
   "cell_type": "code",
   "execution_count": 15,
   "metadata": {},
   "outputs": [
    {
     "data": {
      "image/png": "[encoded data removed]",
      "text/plain": [
       "<Figure size 432x288 with 1 Axes>"
      ]
     },
     "metadata": {},
     "output_type": "display_data"
    }
   ],
   "source": [
    "y_pred = clf.predict_proba(obj_SC.transform(valid[variables]))[:, 1]\n",
    "\n",
    "assert valid.shape[0], y_pred.shape[0]\n",
    "\n",
    "plot_metrics(valid['signal'], y_pred)"
   ]
  },
  {
   "cell_type": "code",
   "execution_count": 16,
   "metadata": {},
   "outputs": [
    {
     "data": {
      "text/plain": [
       "(20266, 51)"
      ]
     },
     "execution_count": 16,
     "metadata": {},
     "output_type": "execute_result"
    }
   ],
   "source": [
    "valid.shape"
   ]
  },
  {
   "cell_type": "code",
   "execution_count": 17,
   "metadata": {},
   "outputs": [
    {
     "data": {
      "text/plain": [
       "(20266,)"
      ]
     },
     "execution_count": 17,
     "metadata": {},
     "output_type": "execute_result"
    }
   ],
   "source": [
    "y_pred.shape"
   ]
  },
  {
   "cell_type": "markdown",
   "metadata": {},
   "source": [
    "ROC AUC is just a part of the solution, we also have to make sure that\n",
    "\n",
    "- The classifier output is not correlated with the mass\n",
    "- Classifier performs similarily on MC and real data of the normalization channel"
   ]
  },
  {
   "cell_type": "markdown",
   "metadata": {},
   "source": [
    "### 1. Mass Correlation Check"
   ]
  },
  {
   "cell_type": "code",
   "execution_count": 18,
   "metadata": {},
   "outputs": [],
   "source": [
    "df_corr_check = pd.read_csv(\"Data/check_correlation.csv.gz\")"
   ]
  },
  {
   "cell_type": "code",
   "execution_count": 19,
   "metadata": {},
   "outputs": [
    {
     "data": {
      "text/plain": [
       "(5514, 48)"
      ]
     },
     "execution_count": 19,
     "metadata": {},
     "output_type": "execute_result"
    }
   ],
   "source": [
    "df_corr_check.shape"
   ]
  },
  {
   "cell_type": "code",
   "execution_count": 20,
   "metadata": {},
   "outputs": [],
   "source": [
    "y_pred = clf.predict(obj_SC.transform(df_corr_check[variables]))"
   ]
  },
  {
   "cell_type": "code",
   "execution_count": 21,
   "metadata": {},
   "outputs": [],
   "source": [
    "eff = get_efficiencies(y_pred, \n",
    "                       df_corr_check.mass, \n",
    "                       thresholds = [0.2, 0.4, 0.5, 0.6, 0.8])"
   ]
  },
  {
   "cell_type": "code",
   "execution_count": 22,
   "metadata": {},
   "outputs": [
    {
     "data": {
      "image/png": "[encoded data removed]",
      "text/plain": [
       "<Figure size 576x432 with 1 Axes>"
      ]
     },
     "metadata": {},
     "output_type": "display_data"
    }
   ],
   "source": [
    "plt.rcParams[\"figure.figsize\"] = 8, 6\n",
    "\n",
    "up = 1e-3\n",
    "for label_name, eff_data in eff.items():\n",
    "    plt.plot(eff_data[0], eff_data[1] + up, label=\"global eff  %.1f\" % label_name)\n",
    "    up = up + 2e-3\n",
    "\n",
    "plt.xlabel('Mass')\n",
    "plt.ylabel('Efficiency')\n",
    "plt.legend()\n",
    "plt.show()"
   ]
  },
  {
   "cell_type": "markdown",
   "metadata": {},
   "source": [
    "In above visualization, y axis is shifted sligthly by 0.002  from previos line just to avoid overlapping."
   ]
  },
  {
   "cell_type": "code",
   "execution_count": 23,
   "metadata": {},
   "outputs": [
    {
     "name": "stdout",
     "output_type": "stream",
     "text": [
      "0.00017490157938886174\n"
     ]
    }
   ],
   "source": [
    "corr_metric = check_correlation(y_pred, df_corr_check['mass'])\n",
    "print(corr_metric)"
   ]
  },
  {
   "cell_type": "markdown",
   "metadata": {},
   "source": [
    "### 2. Performace on Simulated Data (MC) vs Read Data"
   ]
  },
  {
   "cell_type": "code",
   "execution_count": 24,
   "metadata": {},
   "outputs": [],
   "source": [
    "df_agreement = pd.read_csv('Data/check_agreement.csv.gz')"
   ]
  },
  {
   "cell_type": "code",
   "execution_count": 25,
   "metadata": {},
   "outputs": [
    {
     "data": {
      "text/plain": [
       "Index(['id', 'LifeTime', 'dira', 'FlightDistance', 'FlightDistanceError', 'IP',\n",
       "       'IPSig', 'VertexChi2', 'pt', 'DOCAone', 'DOCAtwo', 'DOCAthree',\n",
       "       'IP_p0p2', 'IP_p1p2', 'isolationa', 'isolationb', 'isolationc',\n",
       "       'isolationd', 'isolatione', 'isolationf', 'iso', 'CDF1', 'CDF2', 'CDF3',\n",
       "       'ISO_SumBDT', 'p0_IsoBDT', 'p1_IsoBDT', 'p2_IsoBDT', 'p0_track_Chi2Dof',\n",
       "       'p1_track_Chi2Dof', 'p2_track_Chi2Dof', 'p0_IP', 'p1_IP', 'p2_IP',\n",
       "       'p0_IPSig', 'p1_IPSig', 'p2_IPSig', 'p0_pt', 'p1_pt', 'p2_pt', 'p0_p',\n",
       "       'p1_p', 'p2_p', 'p0_eta', 'p1_eta', 'p2_eta', 'SPDhits', 'signal',\n",
       "       'weight'],\n",
       "      dtype='object')"
      ]
     },
     "execution_count": 25,
     "metadata": {},
     "output_type": "execute_result"
    }
   ],
   "source": [
    "df_agreement.columns"
   ]
  },
  {
   "cell_type": "code",
   "execution_count": 26,
   "metadata": {},
   "outputs": [
    {
     "data": {
      "text/html": [
       "<div>\n",
       "<style scoped>\n",
       "    .dataframe tbody tr th:only-of-type {\n",
       "        vertical-align: middle;\n",
       "    }\n",
       "\n",
       "    .dataframe tbody tr th {\n",
       "        vertical-align: top;\n",
       "    }\n",
       "\n",
       "    .dataframe thead th {\n",
       "        text-align: right;\n",
       "    }\n",
       "</style>\n",
       "<table border=\"1\" class=\"dataframe\">\n",
       "  <thead>\n",
       "    <tr style=\"text-align: right;\">\n",
       "      <th></th>\n",
       "      <th>ISO_SumBDT</th>\n",
       "      <th>p1_p</th>\n",
       "      <th>iso</th>\n",
       "      <th>p0_track_Chi2Dof</th>\n",
       "      <th>VertexChi2</th>\n",
       "      <th>p1_pt</th>\n",
       "      <th>IP</th>\n",
       "      <th>pt</th>\n",
       "      <th>p1_eta</th>\n",
       "      <th>p2_IP</th>\n",
       "      <th>...</th>\n",
       "      <th>p2_eta</th>\n",
       "      <th>p2_track_Chi2Dof</th>\n",
       "      <th>p2_pt</th>\n",
       "      <th>isolationd</th>\n",
       "      <th>IPSig</th>\n",
       "      <th>DOCAone</th>\n",
       "      <th>p1_track_Chi2Dof</th>\n",
       "      <th>p0_eta</th>\n",
       "      <th>CDF2</th>\n",
       "      <th>p1_IPSig</th>\n",
       "    </tr>\n",
       "  </thead>\n",
       "  <tbody>\n",
       "    <tr>\n",
       "      <th>0</th>\n",
       "      <td>-0.207475</td>\n",
       "      <td>6380.673828</td>\n",
       "      <td>4.0</td>\n",
       "      <td>0.606178</td>\n",
       "      <td>7.953543</td>\n",
       "      <td>468.645721</td>\n",
       "      <td>0.058117</td>\n",
       "      <td>2251.611816</td>\n",
       "      <td>3.302978</td>\n",
       "      <td>0.426797</td>\n",
       "      <td>...</td>\n",
       "      <td>3.594246</td>\n",
       "      <td>1.487057</td>\n",
       "      <td>834.562378</td>\n",
       "      <td>2.0</td>\n",
       "      <td>2.961298</td>\n",
       "      <td>0.082219</td>\n",
       "      <td>0.862549</td>\n",
       "      <td>2.666142</td>\n",
       "      <td>0.492269</td>\n",
       "      <td>10.732132</td>\n",
       "    </tr>\n",
       "    <tr>\n",
       "      <th>1</th>\n",
       "      <td>-0.659644</td>\n",
       "      <td>64480.023438</td>\n",
       "      <td>3.0</td>\n",
       "      <td>1.900118</td>\n",
       "      <td>7.141451</td>\n",
       "      <td>7547.703613</td>\n",
       "      <td>0.189683</td>\n",
       "      <td>10594.470703</td>\n",
       "      <td>2.834816</td>\n",
       "      <td>0.123877</td>\n",
       "      <td>...</td>\n",
       "      <td>2.779366</td>\n",
       "      <td>1.336784</td>\n",
       "      <td>2861.309814</td>\n",
       "      <td>1.0</td>\n",
       "      <td>14.413060</td>\n",
       "      <td>0.007983</td>\n",
       "      <td>1.073474</td>\n",
       "      <td>2.995265</td>\n",
       "      <td>0.605835</td>\n",
       "      <td>16.435398</td>\n",
       "    </tr>\n",
       "    <tr>\n",
       "      <th>2</th>\n",
       "      <td>-0.399239</td>\n",
       "      <td>3921.181641</td>\n",
       "      <td>1.0</td>\n",
       "      <td>0.660675</td>\n",
       "      <td>4.778880</td>\n",
       "      <td>317.579529</td>\n",
       "      <td>0.231709</td>\n",
       "      <td>2502.196289</td>\n",
       "      <td>3.204923</td>\n",
       "      <td>1.290409</td>\n",
       "      <td>...</td>\n",
       "      <td>3.081832</td>\n",
       "      <td>0.798658</td>\n",
       "      <td>932.128235</td>\n",
       "      <td>0.0</td>\n",
       "      <td>11.973175</td>\n",
       "      <td>0.045085</td>\n",
       "      <td>1.683084</td>\n",
       "      <td>2.776633</td>\n",
       "      <td>0.682607</td>\n",
       "      <td>20.686119</td>\n",
       "    </tr>\n",
       "    <tr>\n",
       "      <th>3</th>\n",
       "      <td>-0.821041</td>\n",
       "      <td>13221.149414</td>\n",
       "      <td>0.0</td>\n",
       "      <td>0.770563</td>\n",
       "      <td>5.528002</td>\n",
       "      <td>1650.837524</td>\n",
       "      <td>0.011298</td>\n",
       "      <td>5097.813965</td>\n",
       "      <td>2.769762</td>\n",
       "      <td>0.166646</td>\n",
       "      <td>...</td>\n",
       "      <td>2.918251</td>\n",
       "      <td>0.938619</td>\n",
       "      <td>2617.248291</td>\n",
       "      <td>0.0</td>\n",
       "      <td>0.891142</td>\n",
       "      <td>0.055115</td>\n",
       "      <td>1.093031</td>\n",
       "      <td>2.179345</td>\n",
       "      <td>0.533615</td>\n",
       "      <td>7.873435</td>\n",
       "    </tr>\n",
       "    <tr>\n",
       "      <th>4</th>\n",
       "      <td>-1.116815</td>\n",
       "      <td>46903.394531</td>\n",
       "      <td>0.0</td>\n",
       "      <td>1.080559</td>\n",
       "      <td>8.670339</td>\n",
       "      <td>9657.492188</td>\n",
       "      <td>0.160511</td>\n",
       "      <td>20388.097656</td>\n",
       "      <td>2.262732</td>\n",
       "      <td>0.112430</td>\n",
       "      <td>...</td>\n",
       "      <td>2.310401</td>\n",
       "      <td>1.123868</td>\n",
       "      <td>4763.682617</td>\n",
       "      <td>0.0</td>\n",
       "      <td>16.367550</td>\n",
       "      <td>0.015587</td>\n",
       "      <td>1.471946</td>\n",
       "      <td>2.196114</td>\n",
       "      <td>0.926410</td>\n",
       "      <td>18.738485</td>\n",
       "    </tr>\n",
       "  </tbody>\n",
       "</table>\n",
       "<p>5 rows × 46 columns</p>\n",
       "</div>"
      ],
      "text/plain": [
       "   ISO_SumBDT          p1_p  iso  p0_track_Chi2Dof  VertexChi2        p1_pt  \\\n",
       "0   -0.207475   6380.673828  4.0          0.606178    7.953543   468.645721   \n",
       "1   -0.659644  64480.023438  3.0          1.900118    7.141451  7547.703613   \n",
       "2   -0.399239   3921.181641  1.0          0.660675    4.778880   317.579529   \n",
       "3   -0.821041  13221.149414  0.0          0.770563    5.528002  1650.837524   \n",
       "4   -1.116815  46903.394531  0.0          1.080559    8.670339  9657.492188   \n",
       "\n",
       "         IP            pt    p1_eta     p2_IP    ...        p2_eta  \\\n",
       "0  0.058117   2251.611816  3.302978  0.426797    ...      3.594246   \n",
       "1  0.189683  10594.470703  2.834816  0.123877    ...      2.779366   \n",
       "2  0.231709   2502.196289  3.204923  1.290409    ...      3.081832   \n",
       "3  0.011298   5097.813965  2.769762  0.166646    ...      2.918251   \n",
       "4  0.160511  20388.097656  2.262732  0.112430    ...      2.310401   \n",
       "\n",
       "   p2_track_Chi2Dof        p2_pt  isolationd      IPSig   DOCAone  \\\n",
       "0          1.487057   834.562378         2.0   2.961298  0.082219   \n",
       "1          1.336784  2861.309814         1.0  14.413060  0.007983   \n",
       "2          0.798658   932.128235         0.0  11.973175  0.045085   \n",
       "3          0.938619  2617.248291         0.0   0.891142  0.055115   \n",
       "4          1.123868  4763.682617         0.0  16.367550  0.015587   \n",
       "\n",
       "   p1_track_Chi2Dof    p0_eta      CDF2   p1_IPSig  \n",
       "0          0.862549  2.666142  0.492269  10.732132  \n",
       "1          1.073474  2.995265  0.605835  16.435398  \n",
       "2          1.683084  2.776633  0.682607  20.686119  \n",
       "3          1.093031  2.179345  0.533615   7.873435  \n",
       "4          1.471946  2.196114  0.926410  18.738485  \n",
       "\n",
       "[5 rows x 46 columns]"
      ]
     },
     "execution_count": 26,
     "metadata": {},
     "output_type": "execute_result"
    }
   ],
   "source": [
    "df_agreement[variables].head()"
   ]
  },
  {
   "cell_type": "code",
   "execution_count": 27,
   "metadata": {},
   "outputs": [],
   "source": [
    "def splitted_ROC_curve(data_zero, data_one, sample_weights_zero, sample_weights_one):\n",
    "    \"\"\"\n",
    "    Compute Roc Curve\n",
    "    \n",
    "    Input:\n",
    "    - Data_zero: 0-labeled data\n",
    "    - Data_one:  1-labeled data\n",
    "    - Sample_weights_zero: weights for 0-labeled data\n",
    "    - Sample_weights_one:  weights for 1-labeled data\n",
    "    \n",
    "    Output: \n",
    "    - roc curve\n",
    "    \"\"\"\n",
    "    \n",
    "    labels = [0] * len(data_zero) + [1] * len(data_one)\n",
    "    weights = np.concatenate([sample_weights_zero, sample_weights_one])\n",
    "    data_all = np.concatenate([data_zero, data_one])\n",
    "    fpr, tpr, _ = roc_curve(labels, data_all, sample_weight=weights)\n",
    "    return fpr, tpr"
   ]
  },
  {
   "cell_type": "code",
   "execution_count": 28,
   "metadata": {},
   "outputs": [],
   "source": [
    "def compute_ks(data_prediction, mc_prediction, weights_data, weights_mc):\n",
    "    \"\"\"\n",
    "    Compute Kolmogorov-Smirnov (ks) distance between real data predictions cdf and Monte Carlo one.\n",
    "    Input:\n",
    "    - data_prediction: Real data predictions\n",
    "    - mc_prediction: Monte Carlo data predictions\n",
    "    - weights_data: Real data weights\n",
    "    - weights_mc: Monte Carlo weights\n",
    "    \n",
    "    Output\n",
    "    - ks value\n",
    "    \"\"\"\n",
    "    assert len(data_prediction) == len(weights_data), 'Data length and weight one must be the same'\n",
    "    assert len(mc_prediction) == len(weights_mc), 'Data length and weight one must be the same'\n",
    "\n",
    "    data_prediction, mc_prediction = np.array(data_prediction), np.array(mc_prediction)\n",
    "    weights_data, weights_mc = np.array(weights_data), np.array(weights_mc)\n",
    "\n",
    "    assert np.all(data_prediction >= 0.) and np.all(data_prediction <= 1.), 'Data predictions are out of range [0, 1]'\n",
    "    assert np.all(mc_prediction >= 0.) and np.all(mc_prediction <= 1.), 'MC predictions are out of range [0, 1]'\n",
    "\n",
    "    weights_data /= np.sum(weights_data)\n",
    "    weights_mc /= np.sum(weights_mc)\n",
    "\n",
    "    fpr, tpr = splitted_ROC_curve(data_prediction, mc_prediction, weights_data, weights_mc)\n",
    "\n",
    "    Dnm = np.max(np.abs(fpr - tpr))\n",
    "    return Dnm"
   ]
  },
  {
   "cell_type": "code",
   "execution_count": 29,
   "metadata": {},
   "outputs": [
    {
     "name": "stdout",
     "output_type": "stream",
     "text": [
      "KS metric: 0.15246381841805673\n",
      "KS Metric value is Fine: False\n"
     ]
    }
   ],
   "source": [
    "agreement_probs = clf.predict_proba(obj_SC.transform(df_agreement[variables]))[:, 1]\n",
    "\n",
    "ks = compute_ks(\n",
    "                agreement_probs[df_agreement['signal'].values == 0],\n",
    "                agreement_probs[df_agreement['signal'].values == 1],\n",
    "                df_agreement[df_agreement['signal'] == 0]['weight'].values,\n",
    "                df_agreement[df_agreement['signal'] == 1]['weight'].values)\n",
    "\n",
    "print ('KS metric:', ks)\n",
    "print(\"KS Metric value is Fine:\", ks < 0.09)"
   ]
  },
  {
   "cell_type": "code",
   "execution_count": 30,
   "metadata": {},
   "outputs": [],
   "source": [
    "def plot_ks(X_agreement, y_pred):\n",
    "    sig_ind = X_agreement[X_agreement['signal'] == 1].index\n",
    "    bck_ind = X_agreement[X_agreement['signal'] == 0].index\n",
    "\n",
    "    mc_prob = y_pred[sig_ind]\n",
    "    mc_weight = np.array(X_agreement.loc[sig_ind]['weight'])\n",
    "    \n",
    "    data_prob = y_pred[bck_ind]\n",
    "    data_weight = np.array(X_agreement.loc[bck_ind]['weight'])\n",
    "    \n",
    "    inds = data_weight < 0\n",
    "    mc_weight = np.array(list(mc_weight) + list(-data_weight[inds]))\n",
    "    mc_prob = np.array(list(mc_prob) + list(data_prob[inds]))\n",
    "    \n",
    "    data_prob = data_prob[data_weight >= 0]\n",
    "    data_weight = data_weight[data_weight >= 0]\n",
    "    \n",
    "    plt.hist(data_prob, weights=data_weight, color='r', histtype='step', density=True, bins=60, label='Data')\n",
    "    plt.hist(mc_prob, weights=mc_weight, color='b', histtype='step', density=True, bins=60, label='MC')\n",
    "    \n",
    "    plt.xlabel(\"Prediction\")\n",
    "    plt.legend()\n",
    "    plt.show()"
   ]
  },
  {
   "cell_type": "code",
   "execution_count": 42,
   "metadata": {},
   "outputs": [
    {
     "data": {
      "image/png": "[encoded data removed]",
      "text/plain": [
       "<Figure size 576x360 with 1 Axes>"
      ]
     },
     "metadata": {},
     "output_type": "display_data"
    }
   ],
   "source": [
    "plt.rcParams[\"figure.figsize\"] = 8, 5\n",
    "\n",
    "plot_ks(df_agreement, agreement_probs)"
   ]
  },
  {
   "cell_type": "markdown",
   "metadata": {},
   "source": [
    "We can clearly see that that there is no agreemen between the simualted data and the real data."
   ]
  },
  {
   "cell_type": "markdown",
   "metadata": {},
   "source": [
    "## Solution 1: Add Random Noise\n",
    "\n",
    "To increase the agreement between the real data and simualted data, we can add random noise in predicted probabilities."
   ]
  },
  {
   "cell_type": "code",
   "execution_count": 32,
   "metadata": {},
   "outputs": [],
   "source": [
    "def add_noise(array, level=0.40, random_seed=34, noise=\"uniform\"):\n",
    "    np.random.seed(random_seed)\n",
    "    if noise == \"uniform\":\n",
    "        return level * np.random.uniform(size=array.size) + (1 - level) * array\n",
    "    elif noise == \"gaussian\":\n",
    "        return level * np.random.normal(size=array.size) + (1 - level) * array\n",
    "    elif noise == \"laplacian\":\n",
    "        return level * np.random.laplace(size=array.size) + (1 - level) * array\n",
    "    elif noise == \"laplacian\":  \n",
    "        return level * np.random.standard_t(df=1, size=array.size) + (1 - level) * array"
   ]
  },
  {
   "cell_type": "code",
   "execution_count": 33,
   "metadata": {},
   "outputs": [],
   "source": [
    "agreement_probs_noise = add_noise(clf.predict_proba(df_agreement[variables])[:, 1])"
   ]
  },
  {
   "cell_type": "code",
   "execution_count": 34,
   "metadata": {},
   "outputs": [
    {
     "name": "stdout",
     "output_type": "stream",
     "text": [
      "KS metric: 0.016054094442083333\n",
      "KS Metric value is Fine: True\n"
     ]
    }
   ],
   "source": [
    "ks_noise = compute_ks(\n",
    "                        agreement_probs_noise[df_agreement['signal'].values == 0],\n",
    "                        agreement_probs_noise[df_agreement['signal'].values == 1],\n",
    "                        df_agreement[df_agreement['signal'] == 0]['weight'].values,\n",
    "                        df_agreement[df_agreement['signal'] == 1]['weight'].values)\n",
    "\n",
    "print ('KS metric:', ks_noise)\n",
    "print(\"KS Metric value is Fine:\", ks_noise < 0.09)"
   ]
  },
  {
   "cell_type": "code",
   "execution_count": 43,
   "metadata": {},
   "outputs": [
    {
     "data": {
      "image/png": "[encoded data removed]",
      "text/plain": [
       "<Figure size 576x360 with 1 Axes>"
      ]
     },
     "metadata": {},
     "output_type": "display_data"
    }
   ],
   "source": [
    "plt.rcParams[\"figure.figsize\"] = 8, 5\n",
    "\n",
    "plot_ks(df_agreement, agreement_probs_noise)"
   ]
  },
  {
   "cell_type": "markdown",
   "metadata": {},
   "source": [
    "### Effect on ROC"
   ]
  },
  {
   "cell_type": "code",
   "execution_count": 45,
   "metadata": {},
   "outputs": [
    {
     "data": {
      "image/png": "[encoded data removed]",
      "text/plain": [
       "<Figure size 432x432 with 1 Axes>"
      ]
     },
     "metadata": {},
     "output_type": "display_data"
    }
   ],
   "source": [
    "plt.rcParams[\"figure.figsize\"] = 6, 6\n",
    "\n",
    "y_pred = add_noise(clf.predict_proba(obj_SC.transform(valid[variables]))[:, 1])\n",
    "\n",
    "assert valid.shape[0] == y_pred.shape[0]\n",
    "\n",
    "plot_metrics(valid['signal'], y_pred)"
   ]
  },
  {
   "cell_type": "markdown",
   "metadata": {},
   "source": [
    "We have lost the accuracy of the model by adding noise."
   ]
  },
  {
   "cell_type": "markdown",
   "metadata": {},
   "source": [
    "# Gradient Boosted Trees with PCA"
   ]
  },
  {
   "cell_type": "markdown",
   "metadata": {},
   "source": [
    "This approch could help. There is strong correaltion between some covariates and signal varaiable. Principle compionet Analysis helps uncorrelate data."
   ]
  },
  {
   "cell_type": "code",
   "execution_count": 46,
   "metadata": {},
   "outputs": [
    {
     "data": {
      "image/png": "[encoded data removed]",
      "text/plain": [
       "<Figure size 1152x432 with 1 Axes>"
      ]
     },
     "metadata": {},
     "output_type": "display_data"
    }
   ],
   "source": [
    "plt.rcParams[\"figure.figsize\"] = 16, 6\n",
    "\n",
    "plt.bar(train_df.columns, train_df.corr()[\"signal\"])\n",
    "plt.xticks(rotation='vertical')\n",
    "plt.show()"
   ]
  },
  {
   "cell_type": "code",
   "execution_count": 47,
   "metadata": {},
   "outputs": [
    {
     "name": "stdout",
     "output_type": "stream",
     "text": [
      "Explained Variance Ratio:  0.9999999989738714\n"
     ]
    },
    {
     "data": {
      "image/png": "[encoded data removed]",
      "text/plain": [
       "<Figure size 432x288 with 1 Axes>"
      ]
     },
     "metadata": {},
     "output_type": "display_data"
    }
   ],
   "source": [
    "# A PCA model is fitted here just for the visulaization. This will not be used.\n",
    "\n",
    "plt.rcParams[\"figure.figsize\"] = 6, 4\n",
    "\n",
    "\n",
    "obj_PCA = PCA(n_components=7, random_state=13)\n",
    "obj_PCA.fit(train_df)\n",
    "\n",
    "print(\"Explained Variance Ratio: \", obj_PCA.explained_variance_ratio_.sum())\n",
    "\n",
    "temp = pd.DataFrame(obj_PCA.transform(train_df))\n",
    "temp[\"signal\"] = train_df[\"signal\"]\n",
    "\n",
    "plt.bar([str(x) for x in temp.columns], temp.corr()[\"signal\"])\n",
    "plt.xticks(rotation='vertical')\n",
    "plt.show()\n",
    "\n",
    "del obj_PCA, temp"
   ]
  },
  {
   "cell_type": "markdown",
   "metadata": {},
   "source": [
    "We can see here that the correaltion is dropped very much as compared to previous plot. The column names are changes because data is decomposed into the priniple componenet vectors which are projects of components of data in different dimesnions which are mutually normal to each other."
   ]
  },
  {
   "cell_type": "code",
   "execution_count": 56,
   "metadata": {},
   "outputs": [
    {
     "name": "stdout",
     "output_type": "stream",
     "text": [
      "Explained Variance Ratio:  0.9961446579442473\n"
     ]
    }
   ],
   "source": [
    "obj_PCA = PCA(n_components=40, random_state=13)\n",
    "obj_PCA.fit(obj_SC.transform(train[variables]))\n",
    "\n",
    "print(\"Explained Variance Ratio: \", obj_PCA.explained_variance_ratio_.sum())"
   ]
  },
  {
   "cell_type": "code",
   "execution_count": 57,
   "metadata": {},
   "outputs": [
    {
     "name": "stdout",
     "output_type": "stream",
     "text": [
      "Wall time: 28.4 s\n"
     ]
    },
    {
     "data": {
      "text/plain": [
       "AdaBoostClassifier(algorithm='SAMME.R',\n",
       "          base_estimator=DecisionTreeClassifier(class_weight=None, criterion='gini', max_depth=6,\n",
       "            max_features=6, max_leaf_nodes=None, min_impurity_decrease=0.0,\n",
       "            min_impurity_split=None, min_samples_leaf=30,\n",
       "            min_samples_split=2, min_weight_fraction_leaf=0.0,\n",
       "            presort=False, random_state=13, splitter='best'),\n",
       "          learning_rate=0.01, n_estimators=100, random_state=13)"
      ]
     },
     "execution_count": 57,
     "metadata": {},
     "output_type": "execute_result"
    }
   ],
   "source": [
    "%%time\n",
    "\n",
    "clf_1 = AdaBoostClassifier(n_estimators=100, \n",
    "                         learning_rate=0.01, \n",
    "                         random_state=13,\n",
    "                         base_estimator=DecisionTreeClassifier(max_depth=6, \n",
    "                                                               min_samples_leaf=30, \n",
    "                                                               max_features=6,\n",
    "                                                               random_state=13))\n",
    "\n",
    "clf_1.fit(obj_PCA.transform(obj_SC.transform(train[variables])), train['signal'])"
   ]
  },
  {
   "cell_type": "code",
   "execution_count": 58,
   "metadata": {},
   "outputs": [],
   "source": [
    "agreement_probs_pca = add_noise(clf_1.predict_proba(obj_PCA.transform(obj_SC.transform(df_agreement[variables])))[:, 1])"
   ]
  },
  {
   "cell_type": "code",
   "execution_count": 59,
   "metadata": {},
   "outputs": [
    {
     "name": "stdout",
     "output_type": "stream",
     "text": [
      "KS metric: 0.05332731675899066\n",
      "KS Metric value is Fine: True\n"
     ]
    }
   ],
   "source": [
    "ks_noise = compute_ks(\n",
    "                        agreement_probs_pca[df_agreement['signal'].values == 0],\n",
    "                        agreement_probs_pca[df_agreement['signal'].values == 1],\n",
    "                        df_agreement[df_agreement['signal'] == 0]['weight'].values,\n",
    "                        df_agreement[df_agreement['signal'] == 1]['weight'].values)\n",
    "\n",
    "print ('KS metric:', ks_noise)\n",
    "print(\"KS Metric value is Fine:\", ks_noise < 0.09)"
   ]
  },
  {
   "cell_type": "code",
   "execution_count": 60,
   "metadata": {},
   "outputs": [
    {
     "data": {
      "image/png": "[encoded data removed]",
      "text/plain": [
       "<Figure size 576x360 with 1 Axes>"
      ]
     },
     "metadata": {},
     "output_type": "display_data"
    }
   ],
   "source": [
    "plt.rcParams[\"figure.figsize\"] = 8, 5\n",
    "\n",
    "plot_ks(df_agreement, agreement_probs_pca)"
   ]
  },
  {
   "cell_type": "markdown",
   "metadata": {},
   "source": [
    "### Effect on ROC"
   ]
  },
  {
   "cell_type": "code",
   "execution_count": 61,
   "metadata": {},
   "outputs": [
    {
     "data": {
      "image/png": "[encoded data removed]",
      "text/plain": [
       "<Figure size 432x432 with 1 Axes>"
      ]
     },
     "metadata": {},
     "output_type": "display_data"
    }
   ],
   "source": [
    "plt.rcParams[\"figure.figsize\"] = 6, 6\n",
    "\n",
    "y_pred = clf_1.predict_proba(obj_PCA.transform(obj_SC.transform(valid[variables])))[:, 1]\n",
    "\n",
    "assert valid.shape[0] == y_pred.shape[0]\n",
    "\n",
    "plot_metrics(valid['signal'], y_pred)"
   ]
  },
  {
   "cell_type": "markdown",
   "metadata": {},
   "source": [
    "# Neural Networks & Data Doping"
   ]
  },
  {
   "cell_type": "code",
   "execution_count": null,
   "metadata": {},
   "outputs": [],
   "source": []
  },
  {
   "cell_type": "code",
   "execution_count": null,
   "metadata": {},
   "outputs": [],
   "source": []
  }
 ],
 "metadata": {
  "@webio": {
   "lastCommId": null,
   "lastKernelId": null
  },
  "kernelspec": {
   "display_name": "Python 3",
   "language": "python",
   "name": "python3"
  },
  "language_info": {
   "codemirror_mode": {
    "name": "ipython",
    "version": 3
   },
   "file_extension": ".py",
   "mimetype": "text/x-python",
   "name": "python",
   "nbconvert_exporter": "python",
   "pygments_lexer": "ipython3",
   "version": "3.6.6"
  }
 },
 "nbformat": 4,
 "nbformat_minor": 1
}
