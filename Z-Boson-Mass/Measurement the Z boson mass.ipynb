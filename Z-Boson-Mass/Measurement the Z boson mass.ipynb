{
 "cells": [
  {
   "cell_type": "markdown",
   "metadata": {},
   "source": [
    "# Measuring the Z boson mass"
   ]
  },
  {
   "cell_type": "markdown",
   "metadata": {},
   "source": [
    "A sample of $Z$ boson candidates recorded by CMS in 2011 and published at CERN opendata portal. It comes from DoubleMuon dataset with the following selection applied:\n",
    "\n",
    "- Both muons are \"global\" muons\n",
    "- invariant mass sits in range: 60 GeV < $ M_{\\mu\\mu}$ < 120 GeV\n",
    "- |$\\eta$| < 2.1 for both muons\n",
    "- $p_{t}$ > 20 GeV\n",
    "\n",
    "The following columns presented in the CSV file:\n",
    "\n",
    "- `Run`, Event are the run and event numbers, respectively\n",
    "- `pt` is the transverse momentum $p_{t}$ of the muon\n",
    "- `eta` is the pseudorapidity of the muon: $\\eta$\n",
    "- `phi` is the $\\phi$ angle of the muon direction\n",
    "- `Q` is the charge of the muon\n",
    "- `dxy` is the impact parameter in the transverse plane: $d_{xy}$ - how distant is the track from the collision point\n",
    "- `iso` is the track isolation: $I_{track}$ - how many other tracks are there around given track"
   ]
  },
  {
   "cell_type": "code",
   "execution_count": 12,
   "metadata": {},
   "outputs": [],
   "source": [
    "import numpy as np\n",
    "import pandas as pd\n",
    "import seaborn as sns\n",
    "import matplotlib.pyplot as plt\n",
    "from skopt import gp_minimize\n",
    "%matplotlib inline"
   ]
  },
  {
   "cell_type": "markdown",
   "metadata": {},
   "source": [
    "## Read Data"
   ]
  },
  {
   "cell_type": "code",
   "execution_count": 2,
   "metadata": {},
   "outputs": [
    {
     "data": {
      "text/plain": [
       "(10000, 14)"
      ]
     },
     "execution_count": 2,
     "metadata": {},
     "output_type": "execute_result"
    }
   ],
   "source": [
    "df = pd.read_csv('Data/Zmumu.csv')\n",
    "df.shape"
   ]
  },
  {
   "cell_type": "code",
   "execution_count": 3,
   "metadata": {},
   "outputs": [
    {
     "data": {
      "text/html": [
       "<div>\n",
       "<style scoped>\n",
       "    .dataframe tbody tr th:only-of-type {\n",
       "        vertical-align: middle;\n",
       "    }\n",
       "\n",
       "    .dataframe tbody tr th {\n",
       "        vertical-align: top;\n",
       "    }\n",
       "\n",
       "    .dataframe thead th {\n",
       "        text-align: right;\n",
       "    }\n",
       "</style>\n",
       "<table border=\"1\" class=\"dataframe\">\n",
       "  <thead>\n",
       "    <tr style=\"text-align: right;\">\n",
       "      <th></th>\n",
       "      <th>Run</th>\n",
       "      <th>Event</th>\n",
       "      <th>pt1</th>\n",
       "      <th>eta1</th>\n",
       "      <th>phi1</th>\n",
       "      <th>Q1</th>\n",
       "      <th>dxy1</th>\n",
       "      <th>iso1</th>\n",
       "      <th>pt2</th>\n",
       "      <th>eta2</th>\n",
       "      <th>phi2</th>\n",
       "      <th>Q2</th>\n",
       "      <th>dxy2</th>\n",
       "      <th>iso2</th>\n",
       "    </tr>\n",
       "  </thead>\n",
       "  <tbody>\n",
       "    <tr>\n",
       "      <th>0</th>\n",
       "      <td>165617</td>\n",
       "      <td>74969122</td>\n",
       "      <td>54.7055</td>\n",
       "      <td>-0.4324</td>\n",
       "      <td>2.5742</td>\n",
       "      <td>1</td>\n",
       "      <td>-0.0745</td>\n",
       "      <td>0.4999</td>\n",
       "      <td>34.2464</td>\n",
       "      <td>-0.9885</td>\n",
       "      <td>-0.4987</td>\n",
       "      <td>-1</td>\n",
       "      <td>0.0712</td>\n",
       "      <td>3.4221</td>\n",
       "    </tr>\n",
       "    <tr>\n",
       "      <th>1</th>\n",
       "      <td>165617</td>\n",
       "      <td>75138253</td>\n",
       "      <td>24.5872</td>\n",
       "      <td>-2.0522</td>\n",
       "      <td>2.8666</td>\n",
       "      <td>-1</td>\n",
       "      <td>-0.0554</td>\n",
       "      <td>0.0000</td>\n",
       "      <td>28.5389</td>\n",
       "      <td>0.3852</td>\n",
       "      <td>-1.9912</td>\n",
       "      <td>1</td>\n",
       "      <td>0.0515</td>\n",
       "      <td>0.0000</td>\n",
       "    </tr>\n",
       "    <tr>\n",
       "      <th>2</th>\n",
       "      <td>165617</td>\n",
       "      <td>75887636</td>\n",
       "      <td>31.7386</td>\n",
       "      <td>-2.2595</td>\n",
       "      <td>-1.3323</td>\n",
       "      <td>-1</td>\n",
       "      <td>0.0879</td>\n",
       "      <td>0.0000</td>\n",
       "      <td>30.2344</td>\n",
       "      <td>-0.4684</td>\n",
       "      <td>1.8833</td>\n",
       "      <td>1</td>\n",
       "      <td>-0.0876</td>\n",
       "      <td>0.0000</td>\n",
       "    </tr>\n",
       "    <tr>\n",
       "      <th>3</th>\n",
       "      <td>165617</td>\n",
       "      <td>75779415</td>\n",
       "      <td>39.7394</td>\n",
       "      <td>-0.7123</td>\n",
       "      <td>-0.3123</td>\n",
       "      <td>1</td>\n",
       "      <td>0.0585</td>\n",
       "      <td>0.0000</td>\n",
       "      <td>48.2790</td>\n",
       "      <td>-0.1956</td>\n",
       "      <td>2.9703</td>\n",
       "      <td>-1</td>\n",
       "      <td>-0.0492</td>\n",
       "      <td>0.0000</td>\n",
       "    </tr>\n",
       "    <tr>\n",
       "      <th>4</th>\n",
       "      <td>165617</td>\n",
       "      <td>75098104</td>\n",
       "      <td>41.2998</td>\n",
       "      <td>-0.1571</td>\n",
       "      <td>-3.0408</td>\n",
       "      <td>1</td>\n",
       "      <td>-0.0305</td>\n",
       "      <td>1.2280</td>\n",
       "      <td>43.4508</td>\n",
       "      <td>0.5910</td>\n",
       "      <td>-0.0428</td>\n",
       "      <td>-1</td>\n",
       "      <td>0.0442</td>\n",
       "      <td>0.0000</td>\n",
       "    </tr>\n",
       "  </tbody>\n",
       "</table>\n",
       "</div>"
      ],
      "text/plain": [
       "      Run     Event      pt1    eta1    phi1  Q1    dxy1    iso1      pt2  \\\n",
       "0  165617  74969122  54.7055 -0.4324  2.5742   1 -0.0745  0.4999  34.2464   \n",
       "1  165617  75138253  24.5872 -2.0522  2.8666  -1 -0.0554  0.0000  28.5389   \n",
       "2  165617  75887636  31.7386 -2.2595 -1.3323  -1  0.0879  0.0000  30.2344   \n",
       "3  165617  75779415  39.7394 -0.7123 -0.3123   1  0.0585  0.0000  48.2790   \n",
       "4  165617  75098104  41.2998 -0.1571 -3.0408   1 -0.0305  1.2280  43.4508   \n",
       "\n",
       "     eta2    phi2  Q2    dxy2    iso2  \n",
       "0 -0.9885 -0.4987  -1  0.0712  3.4221  \n",
       "1  0.3852 -1.9912   1  0.0515  0.0000  \n",
       "2 -0.4684  1.8833   1 -0.0876  0.0000  \n",
       "3 -0.1956  2.9703  -1 -0.0492  0.0000  \n",
       "4  0.5910 -0.0428  -1  0.0442  0.0000  "
      ]
     },
     "execution_count": 3,
     "metadata": {},
     "output_type": "execute_result"
    }
   ],
   "source": [
    "df.head()"
   ]
  },
  {
   "cell_type": "markdown",
   "metadata": {},
   "source": [
    "Invariant mass $M$ of the two muons can be calcualted using this formula.\n",
    "\n",
    "$M = \\sqrt{2p_{t}^{1}p_{t}^{2}(\\cosh(\\eta_{1}-\\eta_{2}) - \\cos(\\phi_{1}-\\phi_{2}))}$"
   ]
  },
  {
   "cell_type": "code",
   "execution_count": 4,
   "metadata": {},
   "outputs": [],
   "source": [
    "df['M'] = np.sqrt(2 * df['pt1'] * df['pt2'] * (np.cosh(df['eta1'] - df['eta2']) - np.cos(df['phi1'] - df['phi2'])))"
   ]
  },
  {
   "cell_type": "code",
   "execution_count": 5,
   "metadata": {},
   "outputs": [
    {
     "data": {
      "text/html": [
       "<div>\n",
       "<style scoped>\n",
       "    .dataframe tbody tr th:only-of-type {\n",
       "        vertical-align: middle;\n",
       "    }\n",
       "\n",
       "    .dataframe tbody tr th {\n",
       "        vertical-align: top;\n",
       "    }\n",
       "\n",
       "    .dataframe thead th {\n",
       "        text-align: right;\n",
       "    }\n",
       "</style>\n",
       "<table border=\"1\" class=\"dataframe\">\n",
       "  <thead>\n",
       "    <tr style=\"text-align: right;\">\n",
       "      <th></th>\n",
       "      <th>Run</th>\n",
       "      <th>Event</th>\n",
       "      <th>pt1</th>\n",
       "      <th>eta1</th>\n",
       "      <th>phi1</th>\n",
       "      <th>Q1</th>\n",
       "      <th>dxy1</th>\n",
       "      <th>iso1</th>\n",
       "      <th>pt2</th>\n",
       "      <th>eta2</th>\n",
       "      <th>phi2</th>\n",
       "      <th>Q2</th>\n",
       "      <th>dxy2</th>\n",
       "      <th>iso2</th>\n",
       "      <th>M</th>\n",
       "    </tr>\n",
       "  </thead>\n",
       "  <tbody>\n",
       "    <tr>\n",
       "      <th>0</th>\n",
       "      <td>165617</td>\n",
       "      <td>74969122</td>\n",
       "      <td>54.7055</td>\n",
       "      <td>-0.4324</td>\n",
       "      <td>2.5742</td>\n",
       "      <td>1</td>\n",
       "      <td>-0.0745</td>\n",
       "      <td>0.4999</td>\n",
       "      <td>34.2464</td>\n",
       "      <td>-0.9885</td>\n",
       "      <td>-0.4987</td>\n",
       "      <td>-1</td>\n",
       "      <td>0.0712</td>\n",
       "      <td>3.4221</td>\n",
       "      <td>89.885919</td>\n",
       "    </tr>\n",
       "    <tr>\n",
       "      <th>1</th>\n",
       "      <td>165617</td>\n",
       "      <td>75138253</td>\n",
       "      <td>24.5872</td>\n",
       "      <td>-2.0522</td>\n",
       "      <td>2.8666</td>\n",
       "      <td>-1</td>\n",
       "      <td>-0.0554</td>\n",
       "      <td>0.0000</td>\n",
       "      <td>28.5389</td>\n",
       "      <td>0.3852</td>\n",
       "      <td>-1.9912</td>\n",
       "      <td>1</td>\n",
       "      <td>0.0515</td>\n",
       "      <td>0.0000</td>\n",
       "      <td>88.812177</td>\n",
       "    </tr>\n",
       "    <tr>\n",
       "      <th>2</th>\n",
       "      <td>165617</td>\n",
       "      <td>75887636</td>\n",
       "      <td>31.7386</td>\n",
       "      <td>-2.2595</td>\n",
       "      <td>-1.3323</td>\n",
       "      <td>-1</td>\n",
       "      <td>0.0879</td>\n",
       "      <td>0.0000</td>\n",
       "      <td>30.2344</td>\n",
       "      <td>-0.4684</td>\n",
       "      <td>1.8833</td>\n",
       "      <td>1</td>\n",
       "      <td>-0.0876</td>\n",
       "      <td>0.0000</td>\n",
       "      <td>88.474683</td>\n",
       "    </tr>\n",
       "    <tr>\n",
       "      <th>3</th>\n",
       "      <td>165617</td>\n",
       "      <td>75779415</td>\n",
       "      <td>39.7394</td>\n",
       "      <td>-0.7123</td>\n",
       "      <td>-0.3123</td>\n",
       "      <td>1</td>\n",
       "      <td>0.0585</td>\n",
       "      <td>0.0000</td>\n",
       "      <td>48.2790</td>\n",
       "      <td>-0.1956</td>\n",
       "      <td>2.9703</td>\n",
       "      <td>-1</td>\n",
       "      <td>-0.0492</td>\n",
       "      <td>0.0000</td>\n",
       "      <td>90.332429</td>\n",
       "    </tr>\n",
       "    <tr>\n",
       "      <th>4</th>\n",
       "      <td>165617</td>\n",
       "      <td>75098104</td>\n",
       "      <td>41.2998</td>\n",
       "      <td>-0.1571</td>\n",
       "      <td>-3.0408</td>\n",
       "      <td>1</td>\n",
       "      <td>-0.0305</td>\n",
       "      <td>1.2280</td>\n",
       "      <td>43.4508</td>\n",
       "      <td>0.5910</td>\n",
       "      <td>-0.0428</td>\n",
       "      <td>-1</td>\n",
       "      <td>0.0442</td>\n",
       "      <td>0.0000</td>\n",
       "      <td>90.515882</td>\n",
       "    </tr>\n",
       "  </tbody>\n",
       "</table>\n",
       "</div>"
      ],
      "text/plain": [
       "      Run     Event      pt1    eta1    phi1  Q1    dxy1    iso1      pt2  \\\n",
       "0  165617  74969122  54.7055 -0.4324  2.5742   1 -0.0745  0.4999  34.2464   \n",
       "1  165617  75138253  24.5872 -2.0522  2.8666  -1 -0.0554  0.0000  28.5389   \n",
       "2  165617  75887636  31.7386 -2.2595 -1.3323  -1  0.0879  0.0000  30.2344   \n",
       "3  165617  75779415  39.7394 -0.7123 -0.3123   1  0.0585  0.0000  48.2790   \n",
       "4  165617  75098104  41.2998 -0.1571 -3.0408   1 -0.0305  1.2280  43.4508   \n",
       "\n",
       "     eta2    phi2  Q2    dxy2    iso2          M  \n",
       "0 -0.9885 -0.4987  -1  0.0712  3.4221  89.885919  \n",
       "1  0.3852 -1.9912   1  0.0515  0.0000  88.812177  \n",
       "2 -0.4684  1.8833   1 -0.0876  0.0000  88.474683  \n",
       "3 -0.1956  2.9703  -1 -0.0492  0.0000  90.332429  \n",
       "4  0.5910 -0.0428  -1  0.0442  0.0000  90.515882  "
      ]
     },
     "execution_count": 5,
     "metadata": {},
     "output_type": "execute_result"
    }
   ],
   "source": [
    "df.head()"
   ]
  },
  {
   "cell_type": "markdown",
   "metadata": {},
   "source": [
    "## Modelling\n",
    "\n",
    "The distribution of the $Z$ boson mass has the form of a normal distribution, in addition there is a noise. The distribution of the noise has an exponential form. Thus, the resulting model, it is a result of a superposition of two distributions - normal and polynomial"
   ]
  },
  {
   "cell_type": "code",
   "execution_count": 6,
   "metadata": {},
   "outputs": [],
   "source": [
    "def plot_mass(mass, bins_count=100):\n",
    "    y, x = np.histogram(mass, bins=bins_count, density=False)\n",
    "    err = np.sqrt(y)\n",
    "\n",
    "    fig = plt.figure(figsize=(15,7))\n",
    "    plt.title('Z mass', fontsize=20)\n",
    "    plt.xlabel(\"$m_{\\mu\\mu}$ [GeV]\", fontsize=20)\n",
    "    plt.ylabel(\"Number of events\", fontsize=20)\n",
    "    plt.errorbar(x[:-1], y, yerr=err, fmt='o', color='red', ecolor='blue', capthick=0.5, zorder=1, label=\"data\")\n",
    "    return y, x"
   ]
  },
  {
   "cell_type": "code",
   "execution_count": 8,
   "metadata": {},
   "outputs": [
    {
     "data": {
      "image/png": "[encoded data removed]",
      "text/plain": [
       "<Figure size 1080x504 with 1 Axes>"
      ]
     },
     "metadata": {},
     "output_type": "display_data"
    }
   ],
   "source": [
    "plot_mass(df.M)\n",
    "plt.show()"
   ]
  },
  {
   "cell_type": "markdown",
   "metadata": {},
   "source": [
    "## Parametric Modelling\n",
    "\n",
    "Model should represent mixture of 1) Gaussian signal and 2) background that for the simplicity we consider to be flat over mass. So it gives the following set of parameters:\n",
    "\n",
    "- m0 - center of the Gaussian\n",
    "- sigma - standard deviation of the Gaussian\n",
    "- ampl - height of the peak\n",
    "- bck - height of the background "
   ]
  },
  {
   "cell_type": "code",
   "execution_count": 27,
   "metadata": {},
   "outputs": [],
   "source": [
    "def model_predict(params, X):\n",
    "    m0, sigma, ampl, bck = params\n",
    "    return bck + ampl / (sigma * np.sqrt(2 * np.pi)) * np.exp((-1) * (X - m0)**2 / (2 * sigma**2))"
   ]
  },
  {
   "cell_type": "code",
   "execution_count": 28,
   "metadata": {},
   "outputs": [],
   "source": [
    "def model_loss(params, X, y):\n",
    "    residuals = y - model_predict(params, X)\n",
    "    return np.sum(residuals**2) / len(residuals)"
   ]
  },
  {
   "cell_type": "code",
   "execution_count": 30,
   "metadata": {},
   "outputs": [],
   "source": [
    "def plot_mass_with_model(params, mass, bins_count=100):\n",
    "    y, X = plot_mass(mass, bins_count=bins_count)\n",
    "    X = (X[1:] + X[:-1]) / 2\n",
    "    error = model_loss(params, X, y)\n",
    "    plt.plot(X, model_predict(params, X), color='blue', linewidth=3.0, zorder=2, label=\"fit, loss=%.6f\" % error)\n",
    "    plt.legend(fontsize='x-large')"
   ]
  },
  {
   "cell_type": "markdown",
   "metadata": {},
   "source": [
    "### Best Parameters Manual Search"
   ]
  },
  {
   "cell_type": "code",
   "execution_count": 31,
   "metadata": {},
   "outputs": [
    {
     "data": {
      "image/png": "[encoded data removed]",
      "text/plain": [
       "<Figure size 1080x504 with 1 Axes>"
      ]
     },
     "metadata": {},
     "output_type": "display_data"
    }
   ],
   "source": [
    "plot_mass_with_model((90, 2, 4400, 26.8), df.M)"
   ]
  },
  {
   "cell_type": "markdown",
   "metadata": {},
   "source": [
    "### Parameter Search"
   ]
  },
  {
   "cell_type": "code",
   "execution_count": 32,
   "metadata": {},
   "outputs": [],
   "source": [
    "from tqdm import tqdm_notebook\n",
    "from skopt import Optimizer"
   ]
  },
  {
   "cell_type": "code",
   "execution_count": 38,
   "metadata": {},
   "outputs": [],
   "source": [
    "search_space = [(80.0, 100.0), # m0 range\n",
    "                (1.0, 2.0), # sigma range\n",
    "                (4000, 5000), # amplitude range\n",
    "                (20, 30) # bck range\n",
    "                ]"
   ]
  },
  {
   "cell_type": "code",
   "execution_count": 39,
   "metadata": {},
   "outputs": [],
   "source": [
    "# Utilizing Symmetry of Data\n",
    "\n",
    "y, X = np.histogram(df.M, bins=120, density=False)\n",
    "X = (X[1:] + X[:-1]) / 2"
   ]
  },
  {
   "cell_type": "code",
   "execution_count": null,
   "metadata": {},
   "outputs": [],
   "source": [
    "opt = Optimizer(search_space, base_estimator=\"GP\", acq_func=\"EI\", acq_optimizer=\"lbfgs\")"
   ]
  }
 ],
 "metadata": {
  "kernelspec": {
   "display_name": "Python 3",
   "language": "python",
   "name": "python3"
  },
  "language_info": {
   "codemirror_mode": {
    "name": "ipython",
    "version": 3
   },
   "file_extension": ".py",
   "mimetype": "text/x-python",
   "name": "python",
   "nbconvert_exporter": "python",
   "pygments_lexer": "ipython3",
   "version": "3.6.6"
  }
 },
 "nbformat": 4,
 "nbformat_minor": 2
}
